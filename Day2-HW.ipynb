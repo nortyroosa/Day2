{
 "cells": [
  {
   "cell_type": "markdown",
   "id": "1cc1bdae-fb8c-4df5-bceb-e966ef5872c5",
   "metadata": {},
   "source": [
    "## Introduction to Data Science\n",
    "\n",
    "#### University of Redlands - DATA 101\n",
    "#### Prof: Joanna Bieri [joanna_bieri@redlands.edu](mailto:joanna_bieri@redlands.edu)\n",
    "#### [Class Website: data101.joannabieri.com](https://joannabieri.com/data101.html)\n",
    "\n",
    "---------------------------------------\n",
    "# Homework Day 2\n",
    "---------------------------------------\n",
    "\n",
    "GOALS:\n",
    "\n",
    "1. Start using Python\n",
    "2. Start looking at Data!\n",
    "\n",
    "----------------------------------------------------------\n",
    "\n",
    "This homework has **TWO** warm-up problems and **FOUR** problems."
   ]
  },
  {
   "cell_type": "markdown",
   "id": "b2c39d80-a1fd-479b-910c-6ad341ad5310",
   "metadata": {},
   "source": [
    "\n",
    "## Hello World!\n",
    "\n",
    "### Warm up Problem 1\n",
    "\n",
    "Write python code that will print your name and run the cell."
   ]
  },
  {
   "cell_type": "code",
   "execution_count": 3,
   "id": "0a219b6a-b87f-456d-b991-c392fe5cc5b6",
   "metadata": {},
   "outputs": [
    {
     "name": "stdout",
     "output_type": "stream",
     "text": [
      "Norty Roosa\n"
     ]
    }
   ],
   "source": [
    "# Your code here\n",
    "print('Norty Roosa')\n"
   ]
  },
  {
   "cell_type": "markdown",
   "id": "e2b797c2-cfcd-4a3f-acf2-3ad6f0183192",
   "metadata": {},
   "source": [
    "## Installing Modules\n",
    "\n",
    "### Warm up Problem 2\n",
    "\n",
    "Install the modules that you will need to run the rest of the code. You can copy and paste the commands from the class notes. This might take a minute or two to run... go get a cup of coffee :)"
   ]
  },
  {
   "cell_type": "code",
   "execution_count": 5,
   "id": "7d0b61b4-204e-4c77-be7d-a318cd32e40a",
   "metadata": {},
   "outputs": [
    {
     "name": "stdout",
     "output_type": "stream",
     "text": [
      "Channels:\n",
      " - conda-forge\n",
      " - defaults\n",
      "Platform: osx-arm64\n",
      "Collecting package metadata (repodata.json): done\n",
      "Solving environment: done\n",
      "\n",
      "# All requested packages already installed.\n",
      "\n",
      "Channels:\n",
      " - conda-forge\n",
      " - defaults\n",
      "Platform: osx-arm64\n",
      "Collecting package metadata (repodata.json): done\n",
      "Solving environment: done\n",
      "\n",
      "## Package Plan ##\n",
      "\n",
      "  environment location: /opt/anaconda3\n",
      "\n",
      "  added / updated specs:\n",
      "    - pandas\n",
      "\n",
      "\n",
      "The following packages will be downloaded:\n",
      "\n",
      "    package                    |            build\n",
      "    ---------------------------|-----------------\n",
      "    libcxx-18.1.8              |       h3ed4263_7         427 KB  conda-forge\n",
      "    pandas-2.2.2               |  py312h8ae5369_1        13.8 MB  conda-forge\n",
      "    ------------------------------------------------------------\n",
      "                                           Total:        14.2 MB\n",
      "\n",
      "The following packages will be UPDATED:\n",
      "\n",
      "  libcxx                pkgs/main::libcxx-14.0.6-h848a8c0_0 --> conda-forge::libcxx-18.1.8-h3ed4263_7 \n",
      "  pandas             pkgs/main::pandas-2.2.2-py312hd77ebd4~ --> conda-forge::pandas-2.2.2-py312h8ae5369_1 \n",
      "\n",
      "\n",
      "\n",
      "Downloading and Extracting Packages:\n",
      "pandas-2.2.2         | 13.8 MB   |                                       |   0% \n",
      "libcxx-18.1.8        | 427 KB    |                                       |   0% \u001b[A\n",
      "pandas-2.2.2         | 13.8 MB   |                                       |   0% \u001b[A\n",
      "                                                                                \u001b[A\n",
      "                                                                                \u001b[A\n",
      "Preparing transaction: done\n",
      "Verifying transaction: done\n",
      "Executing transaction: done\n",
      "Channels:\n",
      " - conda-forge\n",
      " - defaults\n",
      "Platform: osx-arm64\n",
      "Collecting package metadata (repodata.json): done\n",
      "Solving environment: done\n",
      "\n",
      "## Package Plan ##\n",
      "\n",
      "  environment location: /opt/anaconda3\n",
      "\n",
      "  added / updated specs:\n",
      "    - matplotlib\n",
      "\n",
      "\n",
      "The following packages will be downloaded:\n",
      "\n",
      "    package                    |            build\n",
      "    ---------------------------|-----------------\n",
      "    matplotlib-3.9.2           |  py312h1f38498_0           9 KB  conda-forge\n",
      "    matplotlib-base-3.9.2      |  py312h32d6e5a_0         7.5 MB  conda-forge\n",
      "    qhull-2020.2               |       h420ef59_5         504 KB  conda-forge\n",
      "    ------------------------------------------------------------\n",
      "                                           Total:         8.0 MB\n",
      "\n",
      "The following NEW packages will be INSTALLED:\n",
      "\n",
      "  qhull              conda-forge/osx-arm64::qhull-2020.2-h420ef59_5 \n",
      "\n",
      "The following packages will be UPDATED:\n",
      "\n",
      "  matplotlib         pkgs/main::matplotlib-3.8.4-py312hca0~ --> conda-forge::matplotlib-3.9.2-py312h1f38498_0 \n",
      "  matplotlib-base    pkgs/main::matplotlib-base-3.8.4-py31~ --> conda-forge::matplotlib-base-3.9.2-py312h32d6e5a_0 \n",
      "\n",
      "\n",
      "\n",
      "Downloading and Extracting Packages:\n",
      "matplotlib-base-3.9. | 7.5 MB    |                                       |   0% \n",
      "qhull-2020.2         | 504 KB    |                                       |   0% \u001b[A\n",
      "\n",
      "matplotlib-3.9.2     | 9 KB      |                                       |   0% \u001b[A\u001b[A\n",
      "\n",
      "matplotlib-base-3.9. | 7.5 MB    |                                       |   0% \u001b[A\u001b[A\n",
      "qhull-2020.2         | 504 KB    | #1                                    |   3% \u001b[A\n",
      "                                                                                \u001b[A\n",
      "                                                                                \u001b[A\n",
      "\n",
      "                                                                                \u001b[A\u001b[A\n",
      "Preparing transaction: done\n",
      "Verifying transaction: done\n",
      "Executing transaction: done\n",
      "Channels:\n",
      " - conda-forge\n",
      " - defaults\n",
      "Platform: osx-arm64\n",
      "Collecting package metadata (repodata.json): done\n",
      "Solving environment: done\n",
      "\n",
      "## Package Plan ##\n",
      "\n",
      "  environment location: /opt/anaconda3\n",
      "\n",
      "  added / updated specs:\n",
      "    - plotly\n",
      "\n",
      "\n",
      "The following packages will be downloaded:\n",
      "\n",
      "    package                    |            build\n",
      "    ---------------------------|-----------------\n",
      "    plotly-5.24.0              |     pyhd8ed1ab_0         5.7 MB  conda-forge\n",
      "    ------------------------------------------------------------\n",
      "                                           Total:         5.7 MB\n",
      "\n",
      "The following packages will be UPDATED:\n",
      "\n",
      "  plotly             pkgs/main/osx-arm64::plotly-5.22.0-py~ --> conda-forge/noarch::plotly-5.24.0-pyhd8ed1ab_0 \n",
      "\n",
      "\n",
      "\n",
      "Downloading and Extracting Packages:\n",
      "                                                                                \n",
      "Preparing transaction: done\n",
      "Verifying transaction: done\n",
      "Executing transaction: done\n",
      "Channels:\n",
      " - conda-forge\n",
      " - defaults\n",
      "Platform: osx-arm64\n",
      "Collecting package metadata (repodata.json): done\n",
      "Solving environment: done\n",
      "\n",
      "## Package Plan ##\n",
      "\n",
      "  environment location: /opt/anaconda3\n",
      "\n",
      "  added / updated specs:\n",
      "    - itables\n",
      "\n",
      "\n",
      "The following packages will be downloaded:\n",
      "\n",
      "    package                    |            build\n",
      "    ---------------------------|-----------------\n",
      "    itables-2.1.4              |     pyh80e38bb_0         917 KB  conda-forge\n",
      "    ------------------------------------------------------------\n",
      "                                           Total:         917 KB\n",
      "\n",
      "The following NEW packages will be INSTALLED:\n",
      "\n",
      "  itables            conda-forge/noarch::itables-2.1.4-pyh80e38bb_0 \n",
      "\n",
      "\n",
      "\n",
      "Downloading and Extracting Packages:\n",
      "                                                                                \n",
      "Preparing transaction: done\n",
      "Verifying transaction: done\n",
      "Executing transaction: done\n",
      "Channels:\n",
      " - conda-forge\n",
      " - defaults\n",
      "Platform: osx-arm64\n",
      "Collecting package metadata (repodata.json): done\n",
      "Solving environment: done\n",
      "\n",
      "## Package Plan ##\n",
      "\n",
      "  environment location: /opt/anaconda3\n",
      "\n",
      "  added / updated specs:\n",
      "    - statsmodels\n",
      "\n",
      "\n",
      "The following packages will be downloaded:\n",
      "\n",
      "    package                    |            build\n",
      "    ---------------------------|-----------------\n",
      "    statsmodels-0.14.2         |  py312hbebd99a_0        11.3 MB  conda-forge\n",
      "    ------------------------------------------------------------\n",
      "                                           Total:        11.3 MB\n",
      "\n",
      "The following packages will be SUPERSEDED by a higher-priority channel:\n",
      "\n",
      "  statsmodels        pkgs/main::statsmodels-0.14.2-py312ha~ --> conda-forge::statsmodels-0.14.2-py312hbebd99a_0 \n",
      "\n",
      "\n",
      "\n",
      "Downloading and Extracting Packages:\n",
      "                                                                                \n",
      "Preparing transaction: done\n",
      "Verifying transaction: done\n",
      "Executing transaction: done\n",
      "Channels:\n",
      " - conda-forge\n",
      " - defaults\n",
      "Platform: osx-arm64\n",
      "Collecting package metadata (repodata.json): done\n",
      "Solving environment: done\n",
      "\n",
      "## Package Plan ##\n",
      "\n",
      "  environment location: /opt/anaconda3\n",
      "\n",
      "  added / updated specs:\n",
      "    - python-kaleido\n",
      "\n",
      "\n",
      "The following packages will be downloaded:\n",
      "\n",
      "    package                    |            build\n",
      "    ---------------------------|-----------------\n",
      "    kaleido-core-0.2.1         |       h27ca646_0        73.4 MB  conda-forge\n",
      "    mathjax-2.7.7              |       hce30654_3        21.2 MB  conda-forge\n",
      "    python-kaleido-0.2.1       |     pyhd8ed1ab_0          18 KB  conda-forge\n",
      "    ------------------------------------------------------------\n",
      "                                           Total:        94.6 MB\n",
      "\n",
      "The following NEW packages will be INSTALLED:\n",
      "\n",
      "  kaleido-core       conda-forge/osx-arm64::kaleido-core-0.2.1-h27ca646_0 \n",
      "  mathjax            conda-forge/osx-arm64::mathjax-2.7.7-hce30654_3 \n",
      "  python-kaleido     conda-forge/noarch::python-kaleido-0.2.1-pyhd8ed1ab_0 \n",
      "\n",
      "\n",
      "\n",
      "Downloading and Extracting Packages:\n",
      "kaleido-core-0.2.1   | 73.4 MB   |                                       |   0% \n",
      "mathjax-2.7.7        | 21.2 MB   |                                       |   0% \u001b[A\n",
      "\n",
      "python-kaleido-0.2.1 | 18 KB     |                                       |   0% \u001b[A\u001b[A\n",
      "mathjax-2.7.7        | 21.2 MB   |                                       |   0% \u001b[A\n",
      "\n",
      "python-kaleido-0.2.1 | 18 KB     | #################################     |  89% \u001b[A\u001b[A\n",
      "\n",
      "kaleido-core-0.2.1   | 73.4 MB   | #                                     |   3% \u001b[A\u001b[A\n",
      "mathjax-2.7.7        | 21.2 MB   | #5                                    |   4% \u001b[A\n",
      "kaleido-core-0.2.1   | 73.4 MB   | #7                                    |   5% \u001b[A\n",
      "kaleido-core-0.2.1   | 73.4 MB   | ###4                                  |   9% \u001b[A\n",
      "kaleido-core-0.2.1   | 73.4 MB   | #####6                                |  15% \u001b[A\n",
      "kaleido-core-0.2.1   | 73.4 MB   | ######8                               |  18% \u001b[A\n",
      "kaleido-core-0.2.1   | 73.4 MB   | #######9                              |  21% \u001b[A\n",
      "kaleido-core-0.2.1   | 73.4 MB   | #########2                            |  25% \u001b[A\n",
      "kaleido-core-0.2.1   | 73.4 MB   | ##########6                           |  29% \u001b[A\n",
      "kaleido-core-0.2.1   | 73.4 MB   | ###########8                          |  32% \u001b[A\n",
      "kaleido-core-0.2.1   | 73.4 MB   | #############1                        |  35% \u001b[A\n",
      "kaleido-core-0.2.1   | 73.4 MB   | ##############3                       |  39% \u001b[A\n",
      "kaleido-core-0.2.1   | 73.4 MB   | ###############4                      |  42% \u001b[A\n",
      "kaleido-core-0.2.1   | 73.4 MB   | ################6                     |  45% \u001b[A\n",
      "kaleido-core-0.2.1   | 73.4 MB   | ##################1                   |  49% \u001b[A\n",
      "kaleido-core-0.2.1   | 73.4 MB   | ###################4                  |  53% \u001b[A\n",
      "kaleido-core-0.2.1   | 73.4 MB   | ##################################### | 100% \u001b[A\n",
      "                                                                                \u001b[A\n",
      "                                                                                \u001b[A\n",
      "\n",
      "                                                                                \u001b[A\u001b[A\n",
      "Preparing transaction: done\n",
      "Verifying transaction: done\n",
      "Executing transaction: done\n"
     ]
    }
   ],
   "source": [
    "# Copy and paste the code here:\n",
    "### This will take a while to run - just let it go.\n",
    "!conda install -y numpy\n",
    "!conda install -y pandas\n",
    "!conda install -y matplotlib\n",
    "!conda install -y plotly\n",
    "!conda install -y itables\n",
    "!conda install -y statsmodels\n",
    "!conda install -y -c conda-forge python-kaleido"
   ]
  },
  {
   "cell_type": "markdown",
   "id": "56b03eae-6df6-424b-8325-0f40ca79e8c1",
   "metadata": {},
   "source": [
    "## Let's do some Data Science.\n",
    "\n",
    "We will explore some data about how countries vote at the United Nations General Assembly. You should follow along with the notes and/or class video.\n",
    "\n",
    "I am breaking this into parts and having you copy and paste the code so you can start to identify what the different parts of the code do."
   ]
  },
  {
   "cell_type": "markdown",
   "id": "b375e170-9404-4a45-b5ac-9896c009fdff",
   "metadata": {},
   "source": [
    "-------------------------------\n",
    "### Importing Packages:\n",
    "-------------------------------\n",
    "\n",
    "Every time we start a new project we will import the packages that will help us do the analysis. Copy and paste all of the imports in the cell below.\n",
    "\n",
    "* numpy = mathematical and number packages for python\n",
    "* pandas = pretty tables, dataframes, and data analysis packages\n",
    "* matplotlib.pyplot = nice looking graphs\n",
    "* plotly = nice looking graphs.\n",
    "* itables = pretty looking tables that have a search bar"
   ]
  },
  {
   "cell_type": "code",
   "execution_count": 6,
   "id": "d377d0c6-d6b9-4bbf-9561-02402781a58d",
   "metadata": {},
   "outputs": [],
   "source": [
    "# Copy and paste the code here:\n",
    "import numpy as np\n",
    "import pandas as pd\n",
    "\n",
    "import matplotlib.pyplot as plt\n",
    "import plotly.express as px\n",
    "from plotly.subplots import make_subplots\n",
    "\n",
    "from itables import show"
   ]
  },
  {
   "cell_type": "markdown",
   "id": "2d0f1b4e-0edd-4c16-a40b-fe13d095e15c",
   "metadata": {},
   "source": [
    "-------------------------------\n",
    "### Get the Data:\n",
    "-------------------------------\n",
    "\n",
    "We will practice all sorts of ways to get data into our notebooks. When you use Pandas (pd) to read a csv:\n",
    "\n",
    "    DF = pd.read_csv(file_location)\n",
    "\n",
    "you are basically reading in a spreadsheet (Excel). The data for today is stored on my website.\n",
    "\n",
    "It might take a minute for the data to load."
   ]
  },
  {
   "cell_type": "code",
   "execution_count": 9,
   "id": "1253d511-c553-454f-a94b-2d0a6f97bd1f",
   "metadata": {},
   "outputs": [],
   "source": [
    "# Copy and paste the code here:\n",
    "# Note this takes about a minute to run\n",
    "file_location = 'https://joannabieri.com/introdatascience/data/unvotes.csv'\n",
    "DF = pd.read_csv(file_location)\n",
    "years = [int(d.split('-')[0]) for d in DF['date']]\n",
    "DF['year'] = years\n",
    "DF = DF.drop('Unnamed: 0',axis=1)"
   ]
  },
  {
   "cell_type": "markdown",
   "id": "4775aa78-8ca3-4d32-bf28-ea0f2eff5650",
   "metadata": {},
   "source": [
    "\n",
    "-------------------------------\n",
    "### Initial Data Exploration:\n",
    "-------------------------------\n",
    "-------------------------------\n",
    "### Show the Data:\n",
    "-------------------------------\n",
    "\n",
    "We want to look at what we have. The data is now represented by the variable DF."
   ]
  },
  {
   "cell_type": "code",
   "execution_count": 11,
   "id": "da556aed-fa86-4049-bc8b-9cfc8c3666b3",
   "metadata": {},
   "outputs": [
    {
     "data": {
      "text/html": [
       "<table id=\"itables_931c58d4_e942_477f_a86c_41e9f4148de0\" class=\"display nowrap\" data-quarto-disable-processing=\"true\" style=\"table-layout:auto;width:auto;margin:auto;caption-side:bottom\">\n",
       "<thead>\n",
       "    <tr style=\"text-align: right;\">\n",
       "      \n",
       "      <th>rcid</th>\n",
       "      <th>country</th>\n",
       "      <th>country_code</th>\n",
       "      <th>vote</th>\n",
       "      <th>session</th>\n",
       "      <th>importantvote</th>\n",
       "      <th>date</th>\n",
       "      <th>unres</th>\n",
       "      <th>amend</th>\n",
       "      <th>para</th>\n",
       "      <th>short</th>\n",
       "      <th>descr</th>\n",
       "      <th>short_name</th>\n",
       "      <th>issue</th>\n",
       "      <th>year</th>\n",
       "    </tr>\n",
       "  </thead><tbody><tr>\n",
       "<td style=\"vertical-align:middle; text-align:left\">\n",
       "<div style=\"float:left; margin-right: 10px;\">\n",
       "<a href=https://mwouts.github.io/itables/><svg class=\"main-svg\" xmlns=\"http://www.w3.org/2000/svg\" xmlns:xlink=\"http://www.w3.org/1999/xlink\"\n",
       "width=\"64\" viewBox=\"0 0 500 400\" style=\"font-family: 'Droid Sans', sans-serif;\">\n",
       "    <g style=\"fill:#d9d7fc\">\n",
       "        <path d=\"M100,400H500V357H100Z\" />\n",
       "        <path d=\"M100,300H400V257H100Z\" />\n",
       "        <path d=\"M0,200H400V157H0Z\" />\n",
       "        <path d=\"M100,100H500V57H100Z\" />\n",
       "        <path d=\"M100,350H500V307H100Z\" />\n",
       "        <path d=\"M100,250H400V207H100Z\" />\n",
       "        <path d=\"M0,150H400V107H0Z\" />\n",
       "        <path d=\"M100,50H500V7H100Z\" />\n",
       "    </g>\n",
       "    <g style=\"fill:#1a1366;stroke:#1a1366;\">\n",
       "   <rect x=\"100\" y=\"7\" width=\"400\" height=\"43\">\n",
       "    <animate\n",
       "      attributeName=\"width\"\n",
       "      values=\"0;400;0\"\n",
       "      dur=\"5s\"\n",
       "      repeatCount=\"indefinite\" />\n",
       "      <animate\n",
       "      attributeName=\"x\"\n",
       "      values=\"100;100;500\"\n",
       "      dur=\"5s\"\n",
       "      repeatCount=\"indefinite\" />\n",
       "  </rect>\n",
       "        <rect x=\"0\" y=\"107\" width=\"400\" height=\"43\">\n",
       "    <animate\n",
       "      attributeName=\"width\"\n",
       "      values=\"0;400;0\"\n",
       "      dur=\"3.5s\"\n",
       "      repeatCount=\"indefinite\" />\n",
       "    <animate\n",
       "      attributeName=\"x\"\n",
       "      values=\"0;0;400\"\n",
       "      dur=\"3.5s\"\n",
       "      repeatCount=\"indefinite\" />\n",
       "  </rect>\n",
       "        <rect x=\"100\" y=\"207\" width=\"300\" height=\"43\">\n",
       "    <animate\n",
       "      attributeName=\"width\"\n",
       "      values=\"0;300;0\"\n",
       "      dur=\"3s\"\n",
       "      repeatCount=\"indefinite\" />\n",
       "    <animate\n",
       "      attributeName=\"x\"\n",
       "      values=\"100;100;400\"\n",
       "      dur=\"3s\"\n",
       "      repeatCount=\"indefinite\" />\n",
       "  </rect>\n",
       "        <rect x=\"100\" y=\"307\" width=\"400\" height=\"43\">\n",
       "    <animate\n",
       "      attributeName=\"width\"\n",
       "      values=\"0;400;0\"\n",
       "      dur=\"4s\"\n",
       "      repeatCount=\"indefinite\" />\n",
       "      <animate\n",
       "      attributeName=\"x\"\n",
       "      values=\"100;100;500\"\n",
       "      dur=\"4s\"\n",
       "      repeatCount=\"indefinite\" />\n",
       "  </rect>\n",
       "        <g style=\"fill:transparent;stroke-width:8; stroke-linejoin:round\" rx=\"5\">\n",
       "            <g transform=\"translate(45 50) rotate(-45)\">\n",
       "                <circle r=\"33\" cx=\"0\" cy=\"0\" />\n",
       "                <rect x=\"-8\" y=\"32\" width=\"16\" height=\"30\" />\n",
       "            </g>\n",
       "\n",
       "            <g transform=\"translate(450 152)\">\n",
       "                <polyline points=\"-15,-20 -35,-20 -35,40 25,40 25,20\" />\n",
       "                <rect x=\"-15\" y=\"-40\" width=\"60\" height=\"60\" />\n",
       "            </g>\n",
       "\n",
       "            <g transform=\"translate(50 352)\">\n",
       "                <polygon points=\"-35,-5 0,-40 35,-5\" />\n",
       "                <polygon points=\"-35,10 0,45 35,10\" />\n",
       "            </g>\n",
       "\n",
       "            <g transform=\"translate(75 250)\">\n",
       "                <polyline points=\"-30,30 -60,0 -30,-30\" />\n",
       "                <polyline points=\"0,30 -30,0 0,-30\" />\n",
       "            </g>\n",
       "\n",
       "            <g transform=\"translate(425 250) rotate(180)\">\n",
       "                <polyline points=\"-30,30 -60,0 -30,-30\" />\n",
       "                <polyline points=\"0,30 -30,0 0,-30\" />\n",
       "            </g>\n",
       "        </g>\n",
       "    </g>\n",
       "</svg>\n",
       "</a>\n",
       "</div>\n",
       "<div>\n",
       "Loading ITables v2.1.4 from the internet...\n",
       "(need <a href=https://mwouts.github.io/itables/troubleshooting.html>help</a>?)</td>\n",
       "</div>\n",
       "</tr></tbody>\n",
       "\n",
       "</table>\n",
       "<link href=\"https://www.unpkg.com/dt_for_itables@2.0.11/dt_bundle.css\" rel=\"stylesheet\">\n",
       "<script type=\"module\">\n",
       "    import {DataTable, jQuery as $} from 'https://www.unpkg.com/dt_for_itables@2.0.11/dt_bundle.js';\n",
       "\n",
       "    document.querySelectorAll(\"#itables_931c58d4_e942_477f_a86c_41e9f4148de0:not(.dataTable)\").forEach(table => {\n",
       "        // Define the table data\n",
       "        const data = [[6, \"United States\", \"US\", \"no\", 1, 0.0, \"1946-01-04\", \"R/1/107\", 0.0, 0.0, \"DECLARATION OF HUMAN RIGHTS\", \"TO ADOPT A CUBAN PROPOSAL (A/3-C) THAT AN ITEM ON A DECLARATION OF THE RIGHTS AND DUTIES OF MAN BE TABLED.\", \"hr\", \"Human rights\", 1946], [6, \"Canada\", \"CA\", \"no\", 1, 0.0, \"1946-01-04\", \"R/1/107\", 0.0, 0.0, \"DECLARATION OF HUMAN RIGHTS\", \"TO ADOPT A CUBAN PROPOSAL (A/3-C) THAT AN ITEM ON A DECLARATION OF THE RIGHTS AND DUTIES OF MAN BE TABLED.\", \"hr\", \"Human rights\", 1946], [6, \"Cuba\", \"CU\", \"yes\", 1, 0.0, \"1946-01-04\", \"R/1/107\", 0.0, 0.0, \"DECLARATION OF HUMAN RIGHTS\", \"TO ADOPT A CUBAN PROPOSAL (A/3-C) THAT AN ITEM ON A DECLARATION OF THE RIGHTS AND DUTIES OF MAN BE TABLED.\", \"hr\", \"Human rights\", 1946], [6, \"Dominican Republic\", \"DO\", \"abstain\", 1, 0.0, \"1946-01-04\", \"R/1/107\", 0.0, 0.0, \"DECLARATION OF HUMAN RIGHTS\", \"TO ADOPT A CUBAN PROPOSAL (A/3-C) THAT AN ITEM ON A DECLARATION OF THE RIGHTS AND DUTIES OF MAN BE TABLED.\", \"hr\", \"Human rights\", 1946], [6, \"Mexico\", \"MX\", \"yes\", 1, 0.0, \"1946-01-04\", \"R/1/107\", 0.0, 0.0, \"DECLARATION OF HUMAN RIGHTS\", \"TO ADOPT A CUBAN PROPOSAL (A/3-C) THAT AN ITEM ON A DECLARATION OF THE RIGHTS AND DUTIES OF MAN BE TABLED.\", \"hr\", \"Human rights\", 1946], [6, \"Guatemala\", \"GT\", \"no\", 1, 0.0, \"1946-01-04\", \"R/1/107\", 0.0, 0.0, \"DECLARATION OF HUMAN RIGHTS\", \"TO ADOPT A CUBAN PROPOSAL (A/3-C) THAT AN ITEM ON A DECLARATION OF THE RIGHTS AND DUTIES OF MAN BE TABLED.\", \"hr\", \"Human rights\", 1946], [6, \"Honduras\", \"HN\", \"yes\", 1, 0.0, \"1946-01-04\", \"R/1/107\", 0.0, 0.0, \"DECLARATION OF HUMAN RIGHTS\", \"TO ADOPT A CUBAN PROPOSAL (A/3-C) THAT AN ITEM ON A DECLARATION OF THE RIGHTS AND DUTIES OF MAN BE TABLED.\", \"hr\", \"Human rights\", 1946], [6, \"El Salvador\", \"SV\", \"abstain\", 1, 0.0, \"1946-01-04\", \"R/1/107\", 0.0, 0.0, \"DECLARATION OF HUMAN RIGHTS\", \"TO ADOPT A CUBAN PROPOSAL (A/3-C) THAT AN ITEM ON A DECLARATION OF THE RIGHTS AND DUTIES OF MAN BE TABLED.\", \"hr\", \"Human rights\", 1946], [6, \"Nicaragua\", \"NI\", \"yes\", 1, 0.0, \"1946-01-04\", \"R/1/107\", 0.0, 0.0, \"DECLARATION OF HUMAN RIGHTS\", \"TO ADOPT A CUBAN PROPOSAL (A/3-C) THAT AN ITEM ON A DECLARATION OF THE RIGHTS AND DUTIES OF MAN BE TABLED.\", \"hr\", \"Human rights\", 1946], [6, \"Panama\", \"PA\", \"abstain\", 1, 0.0, \"1946-01-04\", \"R/1/107\", 0.0, 0.0, \"DECLARATION OF HUMAN RIGHTS\", \"TO ADOPT A CUBAN PROPOSAL (A/3-C) THAT AN ITEM ON A DECLARATION OF THE RIGHTS AND DUTIES OF MAN BE TABLED.\", \"hr\", \"Human rights\", 1946], [6, \"Colombia\", \"CO\", \"abstain\", 1, 0.0, \"1946-01-04\", \"R/1/107\", 0.0, 0.0, \"DECLARATION OF HUMAN RIGHTS\", \"TO ADOPT A CUBAN PROPOSAL (A/3-C) THAT AN ITEM ON A DECLARATION OF THE RIGHTS AND DUTIES OF MAN BE TABLED.\", \"hr\", \"Human rights\", 1946], [6, \"Venezuela\", \"VE\", \"no\", 1, 0.0, \"1946-01-04\", \"R/1/107\", 0.0, 0.0, \"DECLARATION OF HUMAN RIGHTS\", \"TO ADOPT A CUBAN PROPOSAL (A/3-C) THAT AN ITEM ON A DECLARATION OF THE RIGHTS AND DUTIES OF MAN BE TABLED.\", \"hr\", \"Human rights\", 1946], [6, \"Ecuador\", \"EC\", \"yes\", 1, 0.0, \"1946-01-04\", \"R/1/107\", 0.0, 0.0, \"DECLARATION OF HUMAN RIGHTS\", \"TO ADOPT A CUBAN PROPOSAL (A/3-C) THAT AN ITEM ON A DECLARATION OF THE RIGHTS AND DUTIES OF MAN BE TABLED.\", \"hr\", \"Human rights\", 1946], [6, \"Peru\", \"PE\", \"yes\", 1, 0.0, \"1946-01-04\", \"R/1/107\", 0.0, 0.0, \"DECLARATION OF HUMAN RIGHTS\", \"TO ADOPT A CUBAN PROPOSAL (A/3-C) THAT AN ITEM ON A DECLARATION OF THE RIGHTS AND DUTIES OF MAN BE TABLED.\", \"hr\", \"Human rights\", 1946], [6, \"Brazil\", \"BR\", \"no\", 1, 0.0, \"1946-01-04\", \"R/1/107\", 0.0, 0.0, \"DECLARATION OF HUMAN RIGHTS\", \"TO ADOPT A CUBAN PROPOSAL (A/3-C) THAT AN ITEM ON A DECLARATION OF THE RIGHTS AND DUTIES OF MAN BE TABLED.\", \"hr\", \"Human rights\", 1946], [6, \"Bolivia\", \"BO\", \"no\", 1, 0.0, \"1946-01-04\", \"R/1/107\", 0.0, 0.0, \"DECLARATION OF HUMAN RIGHTS\", \"TO ADOPT A CUBAN PROPOSAL (A/3-C) THAT AN ITEM ON A DECLARATION OF THE RIGHTS AND DUTIES OF MAN BE TABLED.\", \"hr\", \"Human rights\", 1946], [6, \"Paraguay\", \"PY\", \"abstain\", 1, 0.0, \"1946-01-04\", \"R/1/107\", 0.0, 0.0, \"DECLARATION OF HUMAN RIGHTS\", \"TO ADOPT A CUBAN PROPOSAL (A/3-C) THAT AN ITEM ON A DECLARATION OF THE RIGHTS AND DUTIES OF MAN BE TABLED.\", \"hr\", \"Human rights\", 1946], [6, \"Chile\", \"CL\", \"yes\", 1, 0.0, \"1946-01-04\", \"R/1/107\", 0.0, 0.0, \"DECLARATION OF HUMAN RIGHTS\", \"TO ADOPT A CUBAN PROPOSAL (A/3-C) THAT AN ITEM ON A DECLARATION OF THE RIGHTS AND DUTIES OF MAN BE TABLED.\", \"hr\", \"Human rights\", 1946], [6, \"Argentina\", \"AR\", \"abstain\", 1, 0.0, \"1946-01-04\", \"R/1/107\", 0.0, 0.0, \"DECLARATION OF HUMAN RIGHTS\", \"TO ADOPT A CUBAN PROPOSAL (A/3-C) THAT AN ITEM ON A DECLARATION OF THE RIGHTS AND DUTIES OF MAN BE TABLED.\", \"hr\", \"Human rights\", 1946], [6, \"Uruguay\", \"UY\", \"yes\", 1, 0.0, \"1946-01-04\", \"R/1/107\", 0.0, 0.0, \"DECLARATION OF HUMAN RIGHTS\", \"TO ADOPT A CUBAN PROPOSAL (A/3-C) THAT AN ITEM ON A DECLARATION OF THE RIGHTS AND DUTIES OF MAN BE TABLED.\", \"hr\", \"Human rights\", 1946], [6, \"United Kingdom\", \"GB\", \"no\", 1, 0.0, \"1946-01-04\", \"R/1/107\", 0.0, 0.0, \"DECLARATION OF HUMAN RIGHTS\", \"TO ADOPT A CUBAN PROPOSAL (A/3-C) THAT AN ITEM ON A DECLARATION OF THE RIGHTS AND DUTIES OF MAN BE TABLED.\", \"hr\", \"Human rights\", 1946], [6, \"Netherlands\", \"NL\", \"no\", 1, 0.0, \"1946-01-04\", \"R/1/107\", 0.0, 0.0, \"DECLARATION OF HUMAN RIGHTS\", \"TO ADOPT A CUBAN PROPOSAL (A/3-C) THAT AN ITEM ON A DECLARATION OF THE RIGHTS AND DUTIES OF MAN BE TABLED.\", \"hr\", \"Human rights\", 1946], [6, \"Belgium\", \"BE\", \"no\", 1, 0.0, \"1946-01-04\", \"R/1/107\", 0.0, 0.0, \"DECLARATION OF HUMAN RIGHTS\", \"TO ADOPT A CUBAN PROPOSAL (A/3-C) THAT AN ITEM ON A DECLARATION OF THE RIGHTS AND DUTIES OF MAN BE TABLED.\", \"hr\", \"Human rights\", 1946], [6, \"Luxembourg\", \"LU\", \"no\", 1, 0.0, \"1946-01-04\", \"R/1/107\", 0.0, 0.0, \"DECLARATION OF HUMAN RIGHTS\", \"TO ADOPT A CUBAN PROPOSAL (A/3-C) THAT AN ITEM ON A DECLARATION OF THE RIGHTS AND DUTIES OF MAN BE TABLED.\", \"hr\", \"Human rights\", 1946], [6, \"France\", \"FR\", \"no\", 1, 0.0, \"1946-01-04\", \"R/1/107\", 0.0, 0.0, \"DECLARATION OF HUMAN RIGHTS\", \"TO ADOPT A CUBAN PROPOSAL (A/3-C) THAT AN ITEM ON A DECLARATION OF THE RIGHTS AND DUTIES OF MAN BE TABLED.\", \"hr\", \"Human rights\", 1946], [6, \"Poland\", \"PL\", \"no\", 1, 0.0, \"1946-01-04\", \"R/1/107\", 0.0, 0.0, \"DECLARATION OF HUMAN RIGHTS\", \"TO ADOPT A CUBAN PROPOSAL (A/3-C) THAT AN ITEM ON A DECLARATION OF THE RIGHTS AND DUTIES OF MAN BE TABLED.\", \"hr\", \"Human rights\", 1946], [6, \"Czechoslovakia\", \"CS\", \"no\", 1, 0.0, \"1946-01-04\", \"R/1/107\", 0.0, 0.0, \"DECLARATION OF HUMAN RIGHTS\", \"TO ADOPT A CUBAN PROPOSAL (A/3-C) THAT AN ITEM ON A DECLARATION OF THE RIGHTS AND DUTIES OF MAN BE TABLED.\", \"hr\", \"Human rights\", 1946], [6, \"Yugoslavia\", \"YU\", \"no\", 1, 0.0, \"1946-01-04\", \"R/1/107\", 0.0, 0.0, \"DECLARATION OF HUMAN RIGHTS\", \"TO ADOPT A CUBAN PROPOSAL (A/3-C) THAT AN ITEM ON A DECLARATION OF THE RIGHTS AND DUTIES OF MAN BE TABLED.\", \"hr\", \"Human rights\", 1946], [6, \"Greece\", \"GR\", \"no\", 1, 0.0, \"1946-01-04\", \"R/1/107\", 0.0, 0.0, \"DECLARATION OF HUMAN RIGHTS\", \"TO ADOPT A CUBAN PROPOSAL (A/3-C) THAT AN ITEM ON A DECLARATION OF THE RIGHTS AND DUTIES OF MAN BE TABLED.\", \"hr\", \"Human rights\", 1946], [6, \"Russia\", \"RU\", \"no\", 1, 0.0, \"1946-01-04\", \"R/1/107\", 0.0, 0.0, \"DECLARATION OF HUMAN RIGHTS\", \"TO ADOPT A CUBAN PROPOSAL (A/3-C) THAT AN ITEM ON A DECLARATION OF THE RIGHTS AND DUTIES OF MAN BE TABLED.\", \"hr\", \"Human rights\", 1946], [6, \"Ukraine\", \"UA\", \"no\", 1, 0.0, \"1946-01-04\", \"R/1/107\", 0.0, 0.0, \"DECLARATION OF HUMAN RIGHTS\", \"TO ADOPT A CUBAN PROPOSAL (A/3-C) THAT AN ITEM ON A DECLARATION OF THE RIGHTS AND DUTIES OF MAN BE TABLED.\", \"hr\", \"Human rights\", 1946], [6, \"Belarus\", \"BY\", \"no\", 1, 0.0, \"1946-01-04\", \"R/1/107\", 0.0, 0.0, \"DECLARATION OF HUMAN RIGHTS\", \"TO ADOPT A CUBAN PROPOSAL (A/3-C) THAT AN ITEM ON A DECLARATION OF THE RIGHTS AND DUTIES OF MAN BE TABLED.\", \"hr\", \"Human rights\", 1946], [6, \"Norway\", \"NO\", \"no\", 1, 0.0, \"1946-01-04\", \"R/1/107\", 0.0, 0.0, \"DECLARATION OF HUMAN RIGHTS\", \"TO ADOPT A CUBAN PROPOSAL (A/3-C) THAT AN ITEM ON A DECLARATION OF THE RIGHTS AND DUTIES OF MAN BE TABLED.\", \"hr\", \"Human rights\", 1946], [6, \"Denmark\", \"DK\", \"no\", 1, 0.0, \"1946-01-04\", \"R/1/107\", 0.0, 0.0, \"DECLARATION OF HUMAN RIGHTS\", \"TO ADOPT A CUBAN PROPOSAL (A/3-C) THAT AN ITEM ON A DECLARATION OF THE RIGHTS AND DUTIES OF MAN BE TABLED.\", \"hr\", \"Human rights\", 1946], [6, \"Liberia\", \"LR\", \"no\", 1, 0.0, \"1946-01-04\", \"R/1/107\", 0.0, 0.0, \"DECLARATION OF HUMAN RIGHTS\", \"TO ADOPT A CUBAN PROPOSAL (A/3-C) THAT AN ITEM ON A DECLARATION OF THE RIGHTS AND DUTIES OF MAN BE TABLED.\", \"hr\", \"Human rights\", 1946], [6, \"Ethiopia\", \"ET\", \"abstain\", 1, 0.0, \"1946-01-04\", \"R/1/107\", 0.0, 0.0, \"DECLARATION OF HUMAN RIGHTS\", \"TO ADOPT A CUBAN PROPOSAL (A/3-C) THAT AN ITEM ON A DECLARATION OF THE RIGHTS AND DUTIES OF MAN BE TABLED.\", \"hr\", \"Human rights\", 1946], [6, \"South Africa\", \"ZA\", \"no\", 1, 0.0, \"1946-01-04\", \"R/1/107\", 0.0, 0.0, \"DECLARATION OF HUMAN RIGHTS\", \"TO ADOPT A CUBAN PROPOSAL (A/3-C) THAT AN ITEM ON A DECLARATION OF THE RIGHTS AND DUTIES OF MAN BE TABLED.\", \"hr\", \"Human rights\", 1946], [6, \"Iran\", \"IR\", \"yes\", 1, 0.0, \"1946-01-04\", \"R/1/107\", 0.0, 0.0, \"DECLARATION OF HUMAN RIGHTS\", \"TO ADOPT A CUBAN PROPOSAL (A/3-C) THAT AN ITEM ON A DECLARATION OF THE RIGHTS AND DUTIES OF MAN BE TABLED.\", \"hr\", \"Human rights\", 1946], [6, \"Turkey\", \"TR\", \"no\", 1, 0.0, \"1946-01-04\", \"R/1/107\", 0.0, 0.0, \"DECLARATION OF HUMAN RIGHTS\", \"TO ADOPT A CUBAN PROPOSAL (A/3-C) THAT AN ITEM ON A DECLARATION OF THE RIGHTS AND DUTIES OF MAN BE TABLED.\", \"hr\", \"Human rights\", 1946], [6, \"Iraq\", \"IQ\", \"abstain\", 1, 0.0, \"1946-01-04\", \"R/1/107\", 0.0, 0.0, \"DECLARATION OF HUMAN RIGHTS\", \"TO ADOPT A CUBAN PROPOSAL (A/3-C) THAT AN ITEM ON A DECLARATION OF THE RIGHTS AND DUTIES OF MAN BE TABLED.\", \"hr\", \"Human rights\", 1946], [6, \"Egypt\", \"EG\", \"abstain\", 1, 0.0, \"1946-01-04\", \"R/1/107\", 0.0, 0.0, \"DECLARATION OF HUMAN RIGHTS\", \"TO ADOPT A CUBAN PROPOSAL (A/3-C) THAT AN ITEM ON A DECLARATION OF THE RIGHTS AND DUTIES OF MAN BE TABLED.\", \"hr\", \"Human rights\", 1946], [6, \"Syria\", \"SY\", \"no\", 1, 0.0, \"1946-01-04\", \"R/1/107\", 0.0, 0.0, \"DECLARATION OF HUMAN RIGHTS\", \"TO ADOPT A CUBAN PROPOSAL (A/3-C) THAT AN ITEM ON A DECLARATION OF THE RIGHTS AND DUTIES OF MAN BE TABLED.\", \"hr\", \"Human rights\", 1946], [6, \"Lebanon\", \"LB\", \"yes\", 1, 0.0, \"1946-01-04\", \"R/1/107\", 0.0, 0.0, \"DECLARATION OF HUMAN RIGHTS\", \"TO ADOPT A CUBAN PROPOSAL (A/3-C) THAT AN ITEM ON A DECLARATION OF THE RIGHTS AND DUTIES OF MAN BE TABLED.\", \"hr\", \"Human rights\", 1946], [6, \"Saudi Arabia\", \"SA\", \"abstain\", 1, 0.0, \"1946-01-04\", \"R/1/107\", 0.0, 0.0, \"DECLARATION OF HUMAN RIGHTS\", \"TO ADOPT A CUBAN PROPOSAL (A/3-C) THAT AN ITEM ON A DECLARATION OF THE RIGHTS AND DUTIES OF MAN BE TABLED.\", \"hr\", \"Human rights\", 1946], [6, \"Taiwan\", \"TW\", \"no\", 1, 0.0, \"1946-01-04\", \"R/1/107\", 0.0, 0.0, \"DECLARATION OF HUMAN RIGHTS\", \"TO ADOPT A CUBAN PROPOSAL (A/3-C) THAT AN ITEM ON A DECLARATION OF THE RIGHTS AND DUTIES OF MAN BE TABLED.\", \"hr\", \"Human rights\", 1946], [6, \"India\", \"IN\", \"no\", 1, 0.0, \"1946-01-04\", \"R/1/107\", 0.0, 0.0, \"DECLARATION OF HUMAN RIGHTS\", \"TO ADOPT A CUBAN PROPOSAL (A/3-C) THAT AN ITEM ON A DECLARATION OF THE RIGHTS AND DUTIES OF MAN BE TABLED.\", \"hr\", \"Human rights\", 1946], [6, \"Philippines\", \"PH\", \"yes\", 1, 0.0, \"1946-01-04\", \"R/1/107\", 0.0, 0.0, \"DECLARATION OF HUMAN RIGHTS\", \"TO ADOPT A CUBAN PROPOSAL (A/3-C) THAT AN ITEM ON A DECLARATION OF THE RIGHTS AND DUTIES OF MAN BE TABLED.\", \"hr\", \"Human rights\", 1946], [6, \"Australia\", \"AU\", \"yes\", 1, 0.0, \"1946-01-04\", \"R/1/107\", 0.0, 0.0, \"DECLARATION OF HUMAN RIGHTS\", \"TO ADOPT A CUBAN PROPOSAL (A/3-C) THAT AN ITEM ON A DECLARATION OF THE RIGHTS AND DUTIES OF MAN BE TABLED.\", \"hr\", \"Human rights\", 1946], [6, \"New Zealand\", \"NZ\", \"no\", 1, 0.0, \"1946-01-04\", \"R/1/107\", 0.0, 0.0, \"DECLARATION OF HUMAN RIGHTS\", \"TO ADOPT A CUBAN PROPOSAL (A/3-C) THAT AN ITEM ON A DECLARATION OF THE RIGHTS AND DUTIES OF MAN BE TABLED.\", \"hr\", \"Human rights\", 1946], [8, \"United States\", \"US\", \"no\", 1, 0.0, \"1946-01-05\", \"R/1/297\", 1.0, 0.0, \"ECOSOC POWERS\", \"TO ADOPT A SECOND 6TH COMM. AMENDMENT (A/14) TO THE PROVISIONAL RULES OF PROCEDURE, WHICH AMENDMENT EPLACES PROVISIONAL RULE T WITH A NEW TEXT AUTHORIZING THE ECONOMIC & SOC. COUNCIL TO CALL INTERNATIONAL CONFERENCES ON ANY MATTER WITHIN ITS CO\", \"ec\", \"Economic development\", 1946], [8, \"Canada\", \"CA\", \"yes\", 1, 0.0, \"1946-01-05\", \"R/1/297\", 1.0, 0.0, \"ECOSOC POWERS\", \"TO ADOPT A SECOND 6TH COMM. AMENDMENT (A/14) TO THE PROVISIONAL RULES OF PROCEDURE, WHICH AMENDMENT EPLACES PROVISIONAL RULE T WITH A NEW TEXT AUTHORIZING THE ECONOMIC & SOC. COUNCIL TO CALL INTERNATIONAL CONFERENCES ON ANY MATTER WITHIN ITS CO\", \"ec\", \"Economic development\", 1946], [8, \"Cuba\", \"CU\", \"yes\", 1, 0.0, \"1946-01-05\", \"R/1/297\", 1.0, 0.0, \"ECOSOC POWERS\", \"TO ADOPT A SECOND 6TH COMM. AMENDMENT (A/14) TO THE PROVISIONAL RULES OF PROCEDURE, WHICH AMENDMENT EPLACES PROVISIONAL RULE T WITH A NEW TEXT AUTHORIZING THE ECONOMIC & SOC. COUNCIL TO CALL INTERNATIONAL CONFERENCES ON ANY MATTER WITHIN ITS CO\", \"ec\", \"Economic development\", 1946], [8, \"Dominican Republic\", \"DO\", \"yes\", 1, 0.0, \"1946-01-05\", \"R/1/297\", 1.0, 0.0, \"ECOSOC POWERS\", \"TO ADOPT A SECOND 6TH COMM. AMENDMENT (A/14) TO THE PROVISIONAL RULES OF PROCEDURE, WHICH AMENDMENT EPLACES PROVISIONAL RULE T WITH A NEW TEXT AUTHORIZING THE ECONOMIC & SOC. COUNCIL TO CALL INTERNATIONAL CONFERENCES ON ANY MATTER WITHIN ITS CO\", \"ec\", \"Economic development\", 1946], [8, \"Mexico\", \"MX\", \"yes\", 1, 0.0, \"1946-01-05\", \"R/1/297\", 1.0, 0.0, \"ECOSOC POWERS\", \"TO ADOPT A SECOND 6TH COMM. AMENDMENT (A/14) TO THE PROVISIONAL RULES OF PROCEDURE, WHICH AMENDMENT EPLACES PROVISIONAL RULE T WITH A NEW TEXT AUTHORIZING THE ECONOMIC & SOC. COUNCIL TO CALL INTERNATIONAL CONFERENCES ON ANY MATTER WITHIN ITS CO\", \"ec\", \"Economic development\", 1946], [8, \"Guatemala\", \"GT\", \"yes\", 1, 0.0, \"1946-01-05\", \"R/1/297\", 1.0, 0.0, \"ECOSOC POWERS\", \"TO ADOPT A SECOND 6TH COMM. AMENDMENT (A/14) TO THE PROVISIONAL RULES OF PROCEDURE, WHICH AMENDMENT EPLACES PROVISIONAL RULE T WITH A NEW TEXT AUTHORIZING THE ECONOMIC & SOC. COUNCIL TO CALL INTERNATIONAL CONFERENCES ON ANY MATTER WITHIN ITS CO\", \"ec\", \"Economic development\", 1946], [8, \"Costa Rica\", \"CR\", \"yes\", 1, 0.0, \"1946-01-05\", \"R/1/297\", 1.0, 0.0, \"ECOSOC POWERS\", \"TO ADOPT A SECOND 6TH COMM. AMENDMENT (A/14) TO THE PROVISIONAL RULES OF PROCEDURE, WHICH AMENDMENT EPLACES PROVISIONAL RULE T WITH A NEW TEXT AUTHORIZING THE ECONOMIC & SOC. COUNCIL TO CALL INTERNATIONAL CONFERENCES ON ANY MATTER WITHIN ITS CO\", \"ec\", \"Economic development\", 1946], [8, \"Colombia\", \"CO\", \"yes\", 1, 0.0, \"1946-01-05\", \"R/1/297\", 1.0, 0.0, \"ECOSOC POWERS\", \"TO ADOPT A SECOND 6TH COMM. AMENDMENT (A/14) TO THE PROVISIONAL RULES OF PROCEDURE, WHICH AMENDMENT EPLACES PROVISIONAL RULE T WITH A NEW TEXT AUTHORIZING THE ECONOMIC & SOC. COUNCIL TO CALL INTERNATIONAL CONFERENCES ON ANY MATTER WITHIN ITS CO\", \"ec\", \"Economic development\", 1946], [8, \"Ecuador\", \"EC\", \"yes\", 1, 0.0, \"1946-01-05\", \"R/1/297\", 1.0, 0.0, \"ECOSOC POWERS\", \"TO ADOPT A SECOND 6TH COMM. AMENDMENT (A/14) TO THE PROVISIONAL RULES OF PROCEDURE, WHICH AMENDMENT EPLACES PROVISIONAL RULE T WITH A NEW TEXT AUTHORIZING THE ECONOMIC & SOC. COUNCIL TO CALL INTERNATIONAL CONFERENCES ON ANY MATTER WITHIN ITS CO\", \"ec\", \"Economic development\", 1946], [8, \"Peru\", \"PE\", \"yes\", 1, 0.0, \"1946-01-05\", \"R/1/297\", 1.0, 0.0, \"ECOSOC POWERS\", \"TO ADOPT A SECOND 6TH COMM. AMENDMENT (A/14) TO THE PROVISIONAL RULES OF PROCEDURE, WHICH AMENDMENT EPLACES PROVISIONAL RULE T WITH A NEW TEXT AUTHORIZING THE ECONOMIC & SOC. COUNCIL TO CALL INTERNATIONAL CONFERENCES ON ANY MATTER WITHIN ITS CO\", \"ec\", \"Economic development\", 1946], [8, \"Brazil\", \"BR\", \"yes\", 1, 0.0, \"1946-01-05\", \"R/1/297\", 1.0, 0.0, \"ECOSOC POWERS\", \"TO ADOPT A SECOND 6TH COMM. AMENDMENT (A/14) TO THE PROVISIONAL RULES OF PROCEDURE, WHICH AMENDMENT EPLACES PROVISIONAL RULE T WITH A NEW TEXT AUTHORIZING THE ECONOMIC & SOC. COUNCIL TO CALL INTERNATIONAL CONFERENCES ON ANY MATTER WITHIN ITS CO\", \"ec\", \"Economic development\", 1946], [8, \"Bolivia\", \"BO\", \"yes\", 1, 0.0, \"1946-01-05\", \"R/1/297\", 1.0, 0.0, \"ECOSOC POWERS\", \"TO ADOPT A SECOND 6TH COMM. AMENDMENT (A/14) TO THE PROVISIONAL RULES OF PROCEDURE, WHICH AMENDMENT EPLACES PROVISIONAL RULE T WITH A NEW TEXT AUTHORIZING THE ECONOMIC & SOC. COUNCIL TO CALL INTERNATIONAL CONFERENCES ON ANY MATTER WITHIN ITS CO\", \"ec\", \"Economic development\", 1946], [8, \"Chile\", \"CL\", \"yes\", 1, 0.0, \"1946-01-05\", \"R/1/297\", 1.0, 0.0, \"ECOSOC POWERS\", \"TO ADOPT A SECOND 6TH COMM. AMENDMENT (A/14) TO THE PROVISIONAL RULES OF PROCEDURE, WHICH AMENDMENT EPLACES PROVISIONAL RULE T WITH A NEW TEXT AUTHORIZING THE ECONOMIC & SOC. COUNCIL TO CALL INTERNATIONAL CONFERENCES ON ANY MATTER WITHIN ITS CO\", \"ec\", \"Economic development\", 1946], [8, \"Argentina\", \"AR\", \"yes\", 1, 0.0, \"1946-01-05\", \"R/1/297\", 1.0, 0.0, \"ECOSOC POWERS\", \"TO ADOPT A SECOND 6TH COMM. AMENDMENT (A/14) TO THE PROVISIONAL RULES OF PROCEDURE, WHICH AMENDMENT EPLACES PROVISIONAL RULE T WITH A NEW TEXT AUTHORIZING THE ECONOMIC & SOC. COUNCIL TO CALL INTERNATIONAL CONFERENCES ON ANY MATTER WITHIN ITS CO\", \"ec\", \"Economic development\", 1946], [8, \"Uruguay\", \"UY\", \"yes\", 1, 0.0, \"1946-01-05\", \"R/1/297\", 1.0, 0.0, \"ECOSOC POWERS\", \"TO ADOPT A SECOND 6TH COMM. AMENDMENT (A/14) TO THE PROVISIONAL RULES OF PROCEDURE, WHICH AMENDMENT EPLACES PROVISIONAL RULE T WITH A NEW TEXT AUTHORIZING THE ECONOMIC & SOC. COUNCIL TO CALL INTERNATIONAL CONFERENCES ON ANY MATTER WITHIN ITS CO\", \"ec\", \"Economic development\", 1946], [8, \"United Kingdom\", \"GB\", \"yes\", 1, 0.0, \"1946-01-05\", \"R/1/297\", 1.0, 0.0, \"ECOSOC POWERS\", \"TO ADOPT A SECOND 6TH COMM. AMENDMENT (A/14) TO THE PROVISIONAL RULES OF PROCEDURE, WHICH AMENDMENT EPLACES PROVISIONAL RULE T WITH A NEW TEXT AUTHORIZING THE ECONOMIC & SOC. COUNCIL TO CALL INTERNATIONAL CONFERENCES ON ANY MATTER WITHIN ITS CO\", \"ec\", \"Economic development\", 1946], [8, \"Netherlands\", \"NL\", \"yes\", 1, 0.0, \"1946-01-05\", \"R/1/297\", 1.0, 0.0, \"ECOSOC POWERS\", \"TO ADOPT A SECOND 6TH COMM. AMENDMENT (A/14) TO THE PROVISIONAL RULES OF PROCEDURE, WHICH AMENDMENT EPLACES PROVISIONAL RULE T WITH A NEW TEXT AUTHORIZING THE ECONOMIC & SOC. COUNCIL TO CALL INTERNATIONAL CONFERENCES ON ANY MATTER WITHIN ITS CO\", \"ec\", \"Economic development\", 1946], [8, \"Belgium\", \"BE\", \"yes\", 1, 0.0, \"1946-01-05\", \"R/1/297\", 1.0, 0.0, \"ECOSOC POWERS\", \"TO ADOPT A SECOND 6TH COMM. AMENDMENT (A/14) TO THE PROVISIONAL RULES OF PROCEDURE, WHICH AMENDMENT EPLACES PROVISIONAL RULE T WITH A NEW TEXT AUTHORIZING THE ECONOMIC & SOC. COUNCIL TO CALL INTERNATIONAL CONFERENCES ON ANY MATTER WITHIN ITS CO\", \"ec\", \"Economic development\", 1946], [8, \"Luxembourg\", \"LU\", \"yes\", 1, 0.0, \"1946-01-05\", \"R/1/297\", 1.0, 0.0, \"ECOSOC POWERS\", \"TO ADOPT A SECOND 6TH COMM. AMENDMENT (A/14) TO THE PROVISIONAL RULES OF PROCEDURE, WHICH AMENDMENT EPLACES PROVISIONAL RULE T WITH A NEW TEXT AUTHORIZING THE ECONOMIC & SOC. COUNCIL TO CALL INTERNATIONAL CONFERENCES ON ANY MATTER WITHIN ITS CO\", \"ec\", \"Economic development\", 1946], [8, \"France\", \"FR\", \"yes\", 1, 0.0, \"1946-01-05\", \"R/1/297\", 1.0, 0.0, \"ECOSOC POWERS\", \"TO ADOPT A SECOND 6TH COMM. AMENDMENT (A/14) TO THE PROVISIONAL RULES OF PROCEDURE, WHICH AMENDMENT EPLACES PROVISIONAL RULE T WITH A NEW TEXT AUTHORIZING THE ECONOMIC & SOC. COUNCIL TO CALL INTERNATIONAL CONFERENCES ON ANY MATTER WITHIN ITS CO\", \"ec\", \"Economic development\", 1946], [8, \"Poland\", \"PL\", \"yes\", 1, 0.0, \"1946-01-05\", \"R/1/297\", 1.0, 0.0, \"ECOSOC POWERS\", \"TO ADOPT A SECOND 6TH COMM. AMENDMENT (A/14) TO THE PROVISIONAL RULES OF PROCEDURE, WHICH AMENDMENT EPLACES PROVISIONAL RULE T WITH A NEW TEXT AUTHORIZING THE ECONOMIC & SOC. COUNCIL TO CALL INTERNATIONAL CONFERENCES ON ANY MATTER WITHIN ITS CO\", \"ec\", \"Economic development\", 1946], [8, \"Czechoslovakia\", \"CS\", \"yes\", 1, 0.0, \"1946-01-05\", \"R/1/297\", 1.0, 0.0, \"ECOSOC POWERS\", \"TO ADOPT A SECOND 6TH COMM. AMENDMENT (A/14) TO THE PROVISIONAL RULES OF PROCEDURE, WHICH AMENDMENT EPLACES PROVISIONAL RULE T WITH A NEW TEXT AUTHORIZING THE ECONOMIC & SOC. COUNCIL TO CALL INTERNATIONAL CONFERENCES ON ANY MATTER WITHIN ITS CO\", \"ec\", \"Economic development\", 1946], [8, \"Yugoslavia\", \"YU\", \"yes\", 1, 0.0, \"1946-01-05\", \"R/1/297\", 1.0, 0.0, \"ECOSOC POWERS\", \"TO ADOPT A SECOND 6TH COMM. AMENDMENT (A/14) TO THE PROVISIONAL RULES OF PROCEDURE, WHICH AMENDMENT EPLACES PROVISIONAL RULE T WITH A NEW TEXT AUTHORIZING THE ECONOMIC & SOC. COUNCIL TO CALL INTERNATIONAL CONFERENCES ON ANY MATTER WITHIN ITS CO\", \"ec\", \"Economic development\", 1946], [8, \"Greece\", \"GR\", \"yes\", 1, 0.0, \"1946-01-05\", \"R/1/297\", 1.0, 0.0, \"ECOSOC POWERS\", \"TO ADOPT A SECOND 6TH COMM. AMENDMENT (A/14) TO THE PROVISIONAL RULES OF PROCEDURE, WHICH AMENDMENT EPLACES PROVISIONAL RULE T WITH A NEW TEXT AUTHORIZING THE ECONOMIC & SOC. COUNCIL TO CALL INTERNATIONAL CONFERENCES ON ANY MATTER WITHIN ITS CO\", \"ec\", \"Economic development\", 1946], [8, \"Russia\", \"RU\", \"yes\", 1, 0.0, \"1946-01-05\", \"R/1/297\", 1.0, 0.0, \"ECOSOC POWERS\", \"TO ADOPT A SECOND 6TH COMM. AMENDMENT (A/14) TO THE PROVISIONAL RULES OF PROCEDURE, WHICH AMENDMENT EPLACES PROVISIONAL RULE T WITH A NEW TEXT AUTHORIZING THE ECONOMIC & SOC. COUNCIL TO CALL INTERNATIONAL CONFERENCES ON ANY MATTER WITHIN ITS CO\", \"ec\", \"Economic development\", 1946], [8, \"Ukraine\", \"UA\", \"yes\", 1, 0.0, \"1946-01-05\", \"R/1/297\", 1.0, 0.0, \"ECOSOC POWERS\", \"TO ADOPT A SECOND 6TH COMM. AMENDMENT (A/14) TO THE PROVISIONAL RULES OF PROCEDURE, WHICH AMENDMENT EPLACES PROVISIONAL RULE T WITH A NEW TEXT AUTHORIZING THE ECONOMIC & SOC. COUNCIL TO CALL INTERNATIONAL CONFERENCES ON ANY MATTER WITHIN ITS CO\", \"ec\", \"Economic development\", 1946], [8, \"Belarus\", \"BY\", \"yes\", 1, 0.0, \"1946-01-05\", \"R/1/297\", 1.0, 0.0, \"ECOSOC POWERS\", \"TO ADOPT A SECOND 6TH COMM. AMENDMENT (A/14) TO THE PROVISIONAL RULES OF PROCEDURE, WHICH AMENDMENT EPLACES PROVISIONAL RULE T WITH A NEW TEXT AUTHORIZING THE ECONOMIC & SOC. COUNCIL TO CALL INTERNATIONAL CONFERENCES ON ANY MATTER WITHIN ITS CO\", \"ec\", \"Economic development\", 1946], [8, \"Norway\", \"NO\", \"abstain\", 1, 0.0, \"1946-01-05\", \"R/1/297\", 1.0, 0.0, \"ECOSOC POWERS\", \"TO ADOPT A SECOND 6TH COMM. AMENDMENT (A/14) TO THE PROVISIONAL RULES OF PROCEDURE, WHICH AMENDMENT EPLACES PROVISIONAL RULE T WITH A NEW TEXT AUTHORIZING THE ECONOMIC & SOC. COUNCIL TO CALL INTERNATIONAL CONFERENCES ON ANY MATTER WITHIN ITS CO\", \"ec\", \"Economic development\", 1946], [8, \"Denmark\", \"DK\", \"abstain\", 1, 0.0, \"1946-01-05\", \"R/1/297\", 1.0, 0.0, \"ECOSOC POWERS\", \"TO ADOPT A SECOND 6TH COMM. AMENDMENT (A/14) TO THE PROVISIONAL RULES OF PROCEDURE, WHICH AMENDMENT EPLACES PROVISIONAL RULE T WITH A NEW TEXT AUTHORIZING THE ECONOMIC & SOC. COUNCIL TO CALL INTERNATIONAL CONFERENCES ON ANY MATTER WITHIN ITS CO\", \"ec\", \"Economic development\", 1946], [8, \"Liberia\", \"LR\", \"yes\", 1, 0.0, \"1946-01-05\", \"R/1/297\", 1.0, 0.0, \"ECOSOC POWERS\", \"TO ADOPT A SECOND 6TH COMM. AMENDMENT (A/14) TO THE PROVISIONAL RULES OF PROCEDURE, WHICH AMENDMENT EPLACES PROVISIONAL RULE T WITH A NEW TEXT AUTHORIZING THE ECONOMIC & SOC. COUNCIL TO CALL INTERNATIONAL CONFERENCES ON ANY MATTER WITHIN ITS CO\", \"ec\", \"Economic development\", 1946], [8, \"South Africa\", \"ZA\", \"yes\", 1, 0.0, \"1946-01-05\", \"R/1/297\", 1.0, 0.0, \"ECOSOC POWERS\", \"TO ADOPT A SECOND 6TH COMM. AMENDMENT (A/14) TO THE PROVISIONAL RULES OF PROCEDURE, WHICH AMENDMENT EPLACES PROVISIONAL RULE T WITH A NEW TEXT AUTHORIZING THE ECONOMIC & SOC. COUNCIL TO CALL INTERNATIONAL CONFERENCES ON ANY MATTER WITHIN ITS CO\", \"ec\", \"Economic development\", 1946], [8, \"Turkey\", \"TR\", \"yes\", 1, 0.0, \"1946-01-05\", \"R/1/297\", 1.0, 0.0, \"ECOSOC POWERS\", \"TO ADOPT A SECOND 6TH COMM. AMENDMENT (A/14) TO THE PROVISIONAL RULES OF PROCEDURE, WHICH AMENDMENT EPLACES PROVISIONAL RULE T WITH A NEW TEXT AUTHORIZING THE ECONOMIC & SOC. COUNCIL TO CALL INTERNATIONAL CONFERENCES ON ANY MATTER WITHIN ITS CO\", \"ec\", \"Economic development\", 1946], [8, \"Iraq\", \"IQ\", \"yes\", 1, 0.0, \"1946-01-05\", \"R/1/297\", 1.0, 0.0, \"ECOSOC POWERS\", \"TO ADOPT A SECOND 6TH COMM. AMENDMENT (A/14) TO THE PROVISIONAL RULES OF PROCEDURE, WHICH AMENDMENT EPLACES PROVISIONAL RULE T WITH A NEW TEXT AUTHORIZING THE ECONOMIC & SOC. COUNCIL TO CALL INTERNATIONAL CONFERENCES ON ANY MATTER WITHIN ITS CO\", \"ec\", \"Economic development\", 1946], [8, \"Egypt\", \"EG\", \"yes\", 1, 0.0, \"1946-01-05\", \"R/1/297\", 1.0, 0.0, \"ECOSOC POWERS\", \"TO ADOPT A SECOND 6TH COMM. AMENDMENT (A/14) TO THE PROVISIONAL RULES OF PROCEDURE, WHICH AMENDMENT EPLACES PROVISIONAL RULE T WITH A NEW TEXT AUTHORIZING THE ECONOMIC & SOC. COUNCIL TO CALL INTERNATIONAL CONFERENCES ON ANY MATTER WITHIN ITS CO\", \"ec\", \"Economic development\", 1946], [8, \"Syria\", \"SY\", \"yes\", 1, 0.0, \"1946-01-05\", \"R/1/297\", 1.0, 0.0, \"ECOSOC POWERS\", \"TO ADOPT A SECOND 6TH COMM. AMENDMENT (A/14) TO THE PROVISIONAL RULES OF PROCEDURE, WHICH AMENDMENT EPLACES PROVISIONAL RULE T WITH A NEW TEXT AUTHORIZING THE ECONOMIC & SOC. COUNCIL TO CALL INTERNATIONAL CONFERENCES ON ANY MATTER WITHIN ITS CO\", \"ec\", \"Economic development\", 1946], [8, \"Lebanon\", \"LB\", \"yes\", 1, 0.0, \"1946-01-05\", \"R/1/297\", 1.0, 0.0, \"ECOSOC POWERS\", \"TO ADOPT A SECOND 6TH COMM. AMENDMENT (A/14) TO THE PROVISIONAL RULES OF PROCEDURE, WHICH AMENDMENT EPLACES PROVISIONAL RULE T WITH A NEW TEXT AUTHORIZING THE ECONOMIC & SOC. COUNCIL TO CALL INTERNATIONAL CONFERENCES ON ANY MATTER WITHIN ITS CO\", \"ec\", \"Economic development\", 1946], [8, \"Taiwan\", \"TW\", \"yes\", 1, 0.0, \"1946-01-05\", \"R/1/297\", 1.0, 0.0, \"ECOSOC POWERS\", \"TO ADOPT A SECOND 6TH COMM. AMENDMENT (A/14) TO THE PROVISIONAL RULES OF PROCEDURE, WHICH AMENDMENT EPLACES PROVISIONAL RULE T WITH A NEW TEXT AUTHORIZING THE ECONOMIC & SOC. COUNCIL TO CALL INTERNATIONAL CONFERENCES ON ANY MATTER WITHIN ITS CO\", \"ec\", \"Economic development\", 1946], [8, \"India\", \"IN\", \"yes\", 1, 0.0, \"1946-01-05\", \"R/1/297\", 1.0, 0.0, \"ECOSOC POWERS\", \"TO ADOPT A SECOND 6TH COMM. AMENDMENT (A/14) TO THE PROVISIONAL RULES OF PROCEDURE, WHICH AMENDMENT EPLACES PROVISIONAL RULE T WITH A NEW TEXT AUTHORIZING THE ECONOMIC & SOC. COUNCIL TO CALL INTERNATIONAL CONFERENCES ON ANY MATTER WITHIN ITS CO\", \"ec\", \"Economic development\", 1946], [8, \"Philippines\", \"PH\", \"yes\", 1, 0.0, \"1946-01-05\", \"R/1/297\", 1.0, 0.0, \"ECOSOC POWERS\", \"TO ADOPT A SECOND 6TH COMM. AMENDMENT (A/14) TO THE PROVISIONAL RULES OF PROCEDURE, WHICH AMENDMENT EPLACES PROVISIONAL RULE T WITH A NEW TEXT AUTHORIZING THE ECONOMIC & SOC. COUNCIL TO CALL INTERNATIONAL CONFERENCES ON ANY MATTER WITHIN ITS CO\", \"ec\", \"Economic development\", 1946], [8, \"Australia\", \"AU\", \"yes\", 1, 0.0, \"1946-01-05\", \"R/1/297\", 1.0, 0.0, \"ECOSOC POWERS\", \"TO ADOPT A SECOND 6TH COMM. AMENDMENT (A/14) TO THE PROVISIONAL RULES OF PROCEDURE, WHICH AMENDMENT EPLACES PROVISIONAL RULE T WITH A NEW TEXT AUTHORIZING THE ECONOMIC & SOC. COUNCIL TO CALL INTERNATIONAL CONFERENCES ON ANY MATTER WITHIN ITS CO\", \"ec\", \"Economic development\", 1946], [8, \"New Zealand\", \"NZ\", \"yes\", 1, 0.0, \"1946-01-05\", \"R/1/297\", 1.0, 0.0, \"ECOSOC POWERS\", \"TO ADOPT A SECOND 6TH COMM. AMENDMENT (A/14) TO THE PROVISIONAL RULES OF PROCEDURE, WHICH AMENDMENT EPLACES PROVISIONAL RULE T WITH A NEW TEXT AUTHORIZING THE ECONOMIC & SOC. COUNCIL TO CALL INTERNATIONAL CONFERENCES ON ANY MATTER WITHIN ITS CO\", \"ec\", \"Economic development\", 1946], [11, \"United States\", \"US\", \"yes\", 1, 0.0, \"1946-02-05\", \"R/1/376\", 0.0, 0.0, \"TRUSTEESHIP AMENDMENTS\", \"TO ADOPT DRAFT RESOLUTIONS I AND II AS A WHOLE, OF THE 4TH COMM. REPORT (A/34) ON NON-SELF-GOVERNING TERRITORIES. RESOLUTION I PROVIDES TO PROMOTE THE POLITICAL, SOCIAL, ECONOMIC, AND EDUCATIONAL ASPIRATIONS OF NON-SELF-GOVERNING PEOPLES THROUG\", \"co\", \"Colonialism\", 1946], [11, \"United States\", \"US\", \"yes\", 1, 0.0, \"1946-02-05\", \"R/1/376\", 0.0, 0.0, \"TRUSTEESHIP AMENDMENTS\", \"TO ADOPT DRAFT RESOLUTIONS I AND II AS A WHOLE, OF THE 4TH COMM. REPORT (A/34) ON NON-SELF-GOVERNING TERRITORIES. RESOLUTION I PROVIDES TO PROMOTE THE POLITICAL, SOCIAL, ECONOMIC, AND EDUCATIONAL ASPIRATIONS OF NON-SELF-GOVERNING PEOPLES THROUG\", \"ec\", \"Economic development\", 1946], [11, \"Canada\", \"CA\", \"yes\", 1, 0.0, \"1946-02-05\", \"R/1/376\", 0.0, 0.0, \"TRUSTEESHIP AMENDMENTS\", \"TO ADOPT DRAFT RESOLUTIONS I AND II AS A WHOLE, OF THE 4TH COMM. REPORT (A/34) ON NON-SELF-GOVERNING TERRITORIES. RESOLUTION I PROVIDES TO PROMOTE THE POLITICAL, SOCIAL, ECONOMIC, AND EDUCATIONAL ASPIRATIONS OF NON-SELF-GOVERNING PEOPLES THROUG\", \"co\", \"Colonialism\", 1946], [11, \"Canada\", \"CA\", \"yes\", 1, 0.0, \"1946-02-05\", \"R/1/376\", 0.0, 0.0, \"TRUSTEESHIP AMENDMENTS\", \"TO ADOPT DRAFT RESOLUTIONS I AND II AS A WHOLE, OF THE 4TH COMM. REPORT (A/34) ON NON-SELF-GOVERNING TERRITORIES. RESOLUTION I PROVIDES TO PROMOTE THE POLITICAL, SOCIAL, ECONOMIC, AND EDUCATIONAL ASPIRATIONS OF NON-SELF-GOVERNING PEOPLES THROUG\", \"ec\", \"Economic development\", 1946], [11, \"Cuba\", \"CU\", \"yes\", 1, 0.0, \"1946-02-05\", \"R/1/376\", 0.0, 0.0, \"TRUSTEESHIP AMENDMENTS\", \"TO ADOPT DRAFT RESOLUTIONS I AND II AS A WHOLE, OF THE 4TH COMM. REPORT (A/34) ON NON-SELF-GOVERNING TERRITORIES. RESOLUTION I PROVIDES TO PROMOTE THE POLITICAL, SOCIAL, ECONOMIC, AND EDUCATIONAL ASPIRATIONS OF NON-SELF-GOVERNING PEOPLES THROUG\", \"co\", \"Colonialism\", 1946], [11, \"Cuba\", \"CU\", \"yes\", 1, 0.0, \"1946-02-05\", \"R/1/376\", 0.0, 0.0, \"TRUSTEESHIP AMENDMENTS\", \"TO ADOPT DRAFT RESOLUTIONS I AND II AS A WHOLE, OF THE 4TH COMM. REPORT (A/34) ON NON-SELF-GOVERNING TERRITORIES. RESOLUTION I PROVIDES TO PROMOTE THE POLITICAL, SOCIAL, ECONOMIC, AND EDUCATIONAL ASPIRATIONS OF NON-SELF-GOVERNING PEOPLES THROUG\", \"ec\", \"Economic development\", 1946], [11, \"Dominican Republic\", \"DO\", \"yes\", 1, 0.0, \"1946-02-05\", \"R/1/376\", 0.0, 0.0, \"TRUSTEESHIP AMENDMENTS\", \"TO ADOPT DRAFT RESOLUTIONS I AND II AS A WHOLE, OF THE 4TH COMM. REPORT (A/34) ON NON-SELF-GOVERNING TERRITORIES. RESOLUTION I PROVIDES TO PROMOTE THE POLITICAL, SOCIAL, ECONOMIC, AND EDUCATIONAL ASPIRATIONS OF NON-SELF-GOVERNING PEOPLES THROUG\", \"co\", \"Colonialism\", 1946], [11, \"Dominican Republic\", \"DO\", \"yes\", 1, 0.0, \"1946-02-05\", \"R/1/376\", 0.0, 0.0, \"TRUSTEESHIP AMENDMENTS\", \"TO ADOPT DRAFT RESOLUTIONS I AND II AS A WHOLE, OF THE 4TH COMM. REPORT (A/34) ON NON-SELF-GOVERNING TERRITORIES. RESOLUTION I PROVIDES TO PROMOTE THE POLITICAL, SOCIAL, ECONOMIC, AND EDUCATIONAL ASPIRATIONS OF NON-SELF-GOVERNING PEOPLES THROUG\", \"ec\", \"Economic development\", 1946], [11, \"Honduras\", \"HN\", \"yes\", 1, 0.0, \"1946-02-05\", \"R/1/376\", 0.0, 0.0, \"TRUSTEESHIP AMENDMENTS\", \"TO ADOPT DRAFT RESOLUTIONS I AND II AS A WHOLE, OF THE 4TH COMM. REPORT (A/34) ON NON-SELF-GOVERNING TERRITORIES. RESOLUTION I PROVIDES TO PROMOTE THE POLITICAL, SOCIAL, ECONOMIC, AND EDUCATIONAL ASPIRATIONS OF NON-SELF-GOVERNING PEOPLES THROUG\", \"co\", \"Colonialism\", 1946], [11, \"Honduras\", \"HN\", \"yes\", 1, 0.0, \"1946-02-05\", \"R/1/376\", 0.0, 0.0, \"TRUSTEESHIP AMENDMENTS\", \"TO ADOPT DRAFT RESOLUTIONS I AND II AS A WHOLE, OF THE 4TH COMM. REPORT (A/34) ON NON-SELF-GOVERNING TERRITORIES. RESOLUTION I PROVIDES TO PROMOTE THE POLITICAL, SOCIAL, ECONOMIC, AND EDUCATIONAL ASPIRATIONS OF NON-SELF-GOVERNING PEOPLES THROUG\", \"ec\", \"Economic development\", 1946], [11, \"Venezuela\", \"VE\", \"yes\", 1, 0.0, \"1946-02-05\", \"R/1/376\", 0.0, 0.0, \"TRUSTEESHIP AMENDMENTS\", \"TO ADOPT DRAFT RESOLUTIONS I AND II AS A WHOLE, OF THE 4TH COMM. REPORT (A/34) ON NON-SELF-GOVERNING TERRITORIES. RESOLUTION I PROVIDES TO PROMOTE THE POLITICAL, SOCIAL, ECONOMIC, AND EDUCATIONAL ASPIRATIONS OF NON-SELF-GOVERNING PEOPLES THROUG\", \"co\", \"Colonialism\", 1946], [11, \"Venezuela\", \"VE\", \"yes\", 1, 0.0, \"1946-02-05\", \"R/1/376\", 0.0, 0.0, \"TRUSTEESHIP AMENDMENTS\", \"TO ADOPT DRAFT RESOLUTIONS I AND II AS A WHOLE, OF THE 4TH COMM. REPORT (A/34) ON NON-SELF-GOVERNING TERRITORIES. RESOLUTION I PROVIDES TO PROMOTE THE POLITICAL, SOCIAL, ECONOMIC, AND EDUCATIONAL ASPIRATIONS OF NON-SELF-GOVERNING PEOPLES THROUG\", \"ec\", \"Economic development\", 1946], [11, \"Ecuador\", \"EC\", \"yes\", 1, 0.0, \"1946-02-05\", \"R/1/376\", 0.0, 0.0, \"TRUSTEESHIP AMENDMENTS\", \"TO ADOPT DRAFT RESOLUTIONS I AND II AS A WHOLE, OF THE 4TH COMM. REPORT (A/34) ON NON-SELF-GOVERNING TERRITORIES. RESOLUTION I PROVIDES TO PROMOTE THE POLITICAL, SOCIAL, ECONOMIC, AND EDUCATIONAL ASPIRATIONS OF NON-SELF-GOVERNING PEOPLES THROUG\", \"co\", \"Colonialism\", 1946], [11, \"Ecuador\", \"EC\", \"yes\", 1, 0.0, \"1946-02-05\", \"R/1/376\", 0.0, 0.0, \"TRUSTEESHIP AMENDMENTS\", \"TO ADOPT DRAFT RESOLUTIONS I AND II AS A WHOLE, OF THE 4TH COMM. REPORT (A/34) ON NON-SELF-GOVERNING TERRITORIES. RESOLUTION I PROVIDES TO PROMOTE THE POLITICAL, SOCIAL, ECONOMIC, AND EDUCATIONAL ASPIRATIONS OF NON-SELF-GOVERNING PEOPLES THROUG\", \"ec\", \"Economic development\", 1946], [11, \"Peru\", \"PE\", \"yes\", 1, 0.0, \"1946-02-05\", \"R/1/376\", 0.0, 0.0, \"TRUSTEESHIP AMENDMENTS\", \"TO ADOPT DRAFT RESOLUTIONS I AND II AS A WHOLE, OF THE 4TH COMM. REPORT (A/34) ON NON-SELF-GOVERNING TERRITORIES. RESOLUTION I PROVIDES TO PROMOTE THE POLITICAL, SOCIAL, ECONOMIC, AND EDUCATIONAL ASPIRATIONS OF NON-SELF-GOVERNING PEOPLES THROUG\", \"co\", \"Colonialism\", 1946], [11, \"Peru\", \"PE\", \"yes\", 1, 0.0, \"1946-02-05\", \"R/1/376\", 0.0, 0.0, \"TRUSTEESHIP AMENDMENTS\", \"TO ADOPT DRAFT RESOLUTIONS I AND II AS A WHOLE, OF THE 4TH COMM. REPORT (A/34) ON NON-SELF-GOVERNING TERRITORIES. RESOLUTION I PROVIDES TO PROMOTE THE POLITICAL, SOCIAL, ECONOMIC, AND EDUCATIONAL ASPIRATIONS OF NON-SELF-GOVERNING PEOPLES THROUG\", \"ec\", \"Economic development\", 1946], [11, \"Brazil\", \"BR\", \"yes\", 1, 0.0, \"1946-02-05\", \"R/1/376\", 0.0, 0.0, \"TRUSTEESHIP AMENDMENTS\", \"TO ADOPT DRAFT RESOLUTIONS I AND II AS A WHOLE, OF THE 4TH COMM. REPORT (A/34) ON NON-SELF-GOVERNING TERRITORIES. RESOLUTION I PROVIDES TO PROMOTE THE POLITICAL, SOCIAL, ECONOMIC, AND EDUCATIONAL ASPIRATIONS OF NON-SELF-GOVERNING PEOPLES THROUG\", \"co\", \"Colonialism\", 1946], [11, \"Brazil\", \"BR\", \"yes\", 1, 0.0, \"1946-02-05\", \"R/1/376\", 0.0, 0.0, \"TRUSTEESHIP AMENDMENTS\", \"TO ADOPT DRAFT RESOLUTIONS I AND II AS A WHOLE, OF THE 4TH COMM. REPORT (A/34) ON NON-SELF-GOVERNING TERRITORIES. RESOLUTION I PROVIDES TO PROMOTE THE POLITICAL, SOCIAL, ECONOMIC, AND EDUCATIONAL ASPIRATIONS OF NON-SELF-GOVERNING PEOPLES THROUG\", \"ec\", \"Economic development\", 1946], [11, \"Bolivia\", \"BO\", \"yes\", 1, 0.0, \"1946-02-05\", \"R/1/376\", 0.0, 0.0, \"TRUSTEESHIP AMENDMENTS\", \"TO ADOPT DRAFT RESOLUTIONS I AND II AS A WHOLE, OF THE 4TH COMM. REPORT (A/34) ON NON-SELF-GOVERNING TERRITORIES. RESOLUTION I PROVIDES TO PROMOTE THE POLITICAL, SOCIAL, ECONOMIC, AND EDUCATIONAL ASPIRATIONS OF NON-SELF-GOVERNING PEOPLES THROUG\", \"co\", \"Colonialism\", 1946], [11, \"Bolivia\", \"BO\", \"yes\", 1, 0.0, \"1946-02-05\", \"R/1/376\", 0.0, 0.0, \"TRUSTEESHIP AMENDMENTS\", \"TO ADOPT DRAFT RESOLUTIONS I AND II AS A WHOLE, OF THE 4TH COMM. REPORT (A/34) ON NON-SELF-GOVERNING TERRITORIES. RESOLUTION I PROVIDES TO PROMOTE THE POLITICAL, SOCIAL, ECONOMIC, AND EDUCATIONAL ASPIRATIONS OF NON-SELF-GOVERNING PEOPLES THROUG\", \"ec\", \"Economic development\", 1946], [11, \"Paraguay\", \"PY\", \"yes\", 1, 0.0, \"1946-02-05\", \"R/1/376\", 0.0, 0.0, \"TRUSTEESHIP AMENDMENTS\", \"TO ADOPT DRAFT RESOLUTIONS I AND II AS A WHOLE, OF THE 4TH COMM. REPORT (A/34) ON NON-SELF-GOVERNING TERRITORIES. RESOLUTION I PROVIDES TO PROMOTE THE POLITICAL, SOCIAL, ECONOMIC, AND EDUCATIONAL ASPIRATIONS OF NON-SELF-GOVERNING PEOPLES THROUG\", \"co\", \"Colonialism\", 1946], [11, \"Paraguay\", \"PY\", \"yes\", 1, 0.0, \"1946-02-05\", \"R/1/376\", 0.0, 0.0, \"TRUSTEESHIP AMENDMENTS\", \"TO ADOPT DRAFT RESOLUTIONS I AND II AS A WHOLE, OF THE 4TH COMM. REPORT (A/34) ON NON-SELF-GOVERNING TERRITORIES. RESOLUTION I PROVIDES TO PROMOTE THE POLITICAL, SOCIAL, ECONOMIC, AND EDUCATIONAL ASPIRATIONS OF NON-SELF-GOVERNING PEOPLES THROUG\", \"ec\", \"Economic development\", 1946], [11, \"Chile\", \"CL\", \"yes\", 1, 0.0, \"1946-02-05\", \"R/1/376\", 0.0, 0.0, \"TRUSTEESHIP AMENDMENTS\", \"TO ADOPT DRAFT RESOLUTIONS I AND II AS A WHOLE, OF THE 4TH COMM. REPORT (A/34) ON NON-SELF-GOVERNING TERRITORIES. RESOLUTION I PROVIDES TO PROMOTE THE POLITICAL, SOCIAL, ECONOMIC, AND EDUCATIONAL ASPIRATIONS OF NON-SELF-GOVERNING PEOPLES THROUG\", \"co\", \"Colonialism\", 1946], [11, \"Chile\", \"CL\", \"yes\", 1, 0.0, \"1946-02-05\", \"R/1/376\", 0.0, 0.0, \"TRUSTEESHIP AMENDMENTS\", \"TO ADOPT DRAFT RESOLUTIONS I AND II AS A WHOLE, OF THE 4TH COMM. REPORT (A/34) ON NON-SELF-GOVERNING TERRITORIES. RESOLUTION I PROVIDES TO PROMOTE THE POLITICAL, SOCIAL, ECONOMIC, AND EDUCATIONAL ASPIRATIONS OF NON-SELF-GOVERNING PEOPLES THROUG\", \"ec\", \"Economic development\", 1946], [11, \"Argentina\", \"AR\", \"yes\", 1, 0.0, \"1946-02-05\", \"R/1/376\", 0.0, 0.0, \"TRUSTEESHIP AMENDMENTS\", \"TO ADOPT DRAFT RESOLUTIONS I AND II AS A WHOLE, OF THE 4TH COMM. REPORT (A/34) ON NON-SELF-GOVERNING TERRITORIES. RESOLUTION I PROVIDES TO PROMOTE THE POLITICAL, SOCIAL, ECONOMIC, AND EDUCATIONAL ASPIRATIONS OF NON-SELF-GOVERNING PEOPLES THROUG\", \"co\", \"Colonialism\", 1946], [11, \"Argentina\", \"AR\", \"yes\", 1, 0.0, \"1946-02-05\", \"R/1/376\", 0.0, 0.0, \"TRUSTEESHIP AMENDMENTS\", \"TO ADOPT DRAFT RESOLUTIONS I AND II AS A WHOLE, OF THE 4TH COMM. REPORT (A/34) ON NON-SELF-GOVERNING TERRITORIES. RESOLUTION I PROVIDES TO PROMOTE THE POLITICAL, SOCIAL, ECONOMIC, AND EDUCATIONAL ASPIRATIONS OF NON-SELF-GOVERNING PEOPLES THROUG\", \"ec\", \"Economic development\", 1946], [11, \"Uruguay\", \"UY\", \"yes\", 1, 0.0, \"1946-02-05\", \"R/1/376\", 0.0, 0.0, \"TRUSTEESHIP AMENDMENTS\", \"TO ADOPT DRAFT RESOLUTIONS I AND II AS A WHOLE, OF THE 4TH COMM. REPORT (A/34) ON NON-SELF-GOVERNING TERRITORIES. RESOLUTION I PROVIDES TO PROMOTE THE POLITICAL, SOCIAL, ECONOMIC, AND EDUCATIONAL ASPIRATIONS OF NON-SELF-GOVERNING PEOPLES THROUG\", \"co\", \"Colonialism\", 1946], [11, \"Uruguay\", \"UY\", \"yes\", 1, 0.0, \"1946-02-05\", \"R/1/376\", 0.0, 0.0, \"TRUSTEESHIP AMENDMENTS\", \"TO ADOPT DRAFT RESOLUTIONS I AND II AS A WHOLE, OF THE 4TH COMM. REPORT (A/34) ON NON-SELF-GOVERNING TERRITORIES. RESOLUTION I PROVIDES TO PROMOTE THE POLITICAL, SOCIAL, ECONOMIC, AND EDUCATIONAL ASPIRATIONS OF NON-SELF-GOVERNING PEOPLES THROUG\", \"ec\", \"Economic development\", 1946], [11, \"United Kingdom\", \"GB\", \"yes\", 1, 0.0, \"1946-02-05\", \"R/1/376\", 0.0, 0.0, \"TRUSTEESHIP AMENDMENTS\", \"TO ADOPT DRAFT RESOLUTIONS I AND II AS A WHOLE, OF THE 4TH COMM. REPORT (A/34) ON NON-SELF-GOVERNING TERRITORIES. RESOLUTION I PROVIDES TO PROMOTE THE POLITICAL, SOCIAL, ECONOMIC, AND EDUCATIONAL ASPIRATIONS OF NON-SELF-GOVERNING PEOPLES THROUG\", \"co\", \"Colonialism\", 1946], [11, \"United Kingdom\", \"GB\", \"yes\", 1, 0.0, \"1946-02-05\", \"R/1/376\", 0.0, 0.0, \"TRUSTEESHIP AMENDMENTS\", \"TO ADOPT DRAFT RESOLUTIONS I AND II AS A WHOLE, OF THE 4TH COMM. REPORT (A/34) ON NON-SELF-GOVERNING TERRITORIES. RESOLUTION I PROVIDES TO PROMOTE THE POLITICAL, SOCIAL, ECONOMIC, AND EDUCATIONAL ASPIRATIONS OF NON-SELF-GOVERNING PEOPLES THROUG\", \"ec\", \"Economic development\", 1946], [11, \"Belgium\", \"BE\", \"yes\", 1, 0.0, \"1946-02-05\", \"R/1/376\", 0.0, 0.0, \"TRUSTEESHIP AMENDMENTS\", \"TO ADOPT DRAFT RESOLUTIONS I AND II AS A WHOLE, OF THE 4TH COMM. REPORT (A/34) ON NON-SELF-GOVERNING TERRITORIES. RESOLUTION I PROVIDES TO PROMOTE THE POLITICAL, SOCIAL, ECONOMIC, AND EDUCATIONAL ASPIRATIONS OF NON-SELF-GOVERNING PEOPLES THROUG\", \"co\", \"Colonialism\", 1946], [11, \"Belgium\", \"BE\", \"yes\", 1, 0.0, \"1946-02-05\", \"R/1/376\", 0.0, 0.0, \"TRUSTEESHIP AMENDMENTS\", \"TO ADOPT DRAFT RESOLUTIONS I AND II AS A WHOLE, OF THE 4TH COMM. REPORT (A/34) ON NON-SELF-GOVERNING TERRITORIES. RESOLUTION I PROVIDES TO PROMOTE THE POLITICAL, SOCIAL, ECONOMIC, AND EDUCATIONAL ASPIRATIONS OF NON-SELF-GOVERNING PEOPLES THROUG\", \"ec\", \"Economic development\", 1946], [11, \"France\", \"FR\", \"yes\", 1, 0.0, \"1946-02-05\", \"R/1/376\", 0.0, 0.0, \"TRUSTEESHIP AMENDMENTS\", \"TO ADOPT DRAFT RESOLUTIONS I AND II AS A WHOLE, OF THE 4TH COMM. REPORT (A/34) ON NON-SELF-GOVERNING TERRITORIES. RESOLUTION I PROVIDES TO PROMOTE THE POLITICAL, SOCIAL, ECONOMIC, AND EDUCATIONAL ASPIRATIONS OF NON-SELF-GOVERNING PEOPLES THROUG\", \"co\", \"Colonialism\", 1946], [11, \"France\", \"FR\", \"yes\", 1, 0.0, \"1946-02-05\", \"R/1/376\", 0.0, 0.0, \"TRUSTEESHIP AMENDMENTS\", \"TO ADOPT DRAFT RESOLUTIONS I AND II AS A WHOLE, OF THE 4TH COMM. REPORT (A/34) ON NON-SELF-GOVERNING TERRITORIES. RESOLUTION I PROVIDES TO PROMOTE THE POLITICAL, SOCIAL, ECONOMIC, AND EDUCATIONAL ASPIRATIONS OF NON-SELF-GOVERNING PEOPLES THROUG\", \"ec\", \"Economic development\", 1946], [11, \"Poland\", \"PL\", \"yes\", 1, 0.0, \"1946-02-05\", \"R/1/376\", 0.0, 0.0, \"TRUSTEESHIP AMENDMENTS\", \"TO ADOPT DRAFT RESOLUTIONS I AND II AS A WHOLE, OF THE 4TH COMM. REPORT (A/34) ON NON-SELF-GOVERNING TERRITORIES. RESOLUTION I PROVIDES TO PROMOTE THE POLITICAL, SOCIAL, ECONOMIC, AND EDUCATIONAL ASPIRATIONS OF NON-SELF-GOVERNING PEOPLES THROUG\", \"co\", \"Colonialism\", 1946], [11, \"Poland\", \"PL\", \"yes\", 1, 0.0, \"1946-02-05\", \"R/1/376\", 0.0, 0.0, \"TRUSTEESHIP AMENDMENTS\", \"TO ADOPT DRAFT RESOLUTIONS I AND II AS A WHOLE, OF THE 4TH COMM. REPORT (A/34) ON NON-SELF-GOVERNING TERRITORIES. RESOLUTION I PROVIDES TO PROMOTE THE POLITICAL, SOCIAL, ECONOMIC, AND EDUCATIONAL ASPIRATIONS OF NON-SELF-GOVERNING PEOPLES THROUG\", \"ec\", \"Economic development\", 1946], [11, \"Czechoslovakia\", \"CS\", \"yes\", 1, 0.0, \"1946-02-05\", \"R/1/376\", 0.0, 0.0, \"TRUSTEESHIP AMENDMENTS\", \"TO ADOPT DRAFT RESOLUTIONS I AND II AS A WHOLE, OF THE 4TH COMM. REPORT (A/34) ON NON-SELF-GOVERNING TERRITORIES. RESOLUTION I PROVIDES TO PROMOTE THE POLITICAL, SOCIAL, ECONOMIC, AND EDUCATIONAL ASPIRATIONS OF NON-SELF-GOVERNING PEOPLES THROUG\", \"co\", \"Colonialism\", 1946], [11, \"Czechoslovakia\", \"CS\", \"yes\", 1, 0.0, \"1946-02-05\", \"R/1/376\", 0.0, 0.0, \"TRUSTEESHIP AMENDMENTS\", \"TO ADOPT DRAFT RESOLUTIONS I AND II AS A WHOLE, OF THE 4TH COMM. REPORT (A/34) ON NON-SELF-GOVERNING TERRITORIES. RESOLUTION I PROVIDES TO PROMOTE THE POLITICAL, SOCIAL, ECONOMIC, AND EDUCATIONAL ASPIRATIONS OF NON-SELF-GOVERNING PEOPLES THROUG\", \"ec\", \"Economic development\", 1946], [11, \"Yugoslavia\", \"YU\", \"yes\", 1, 0.0, \"1946-02-05\", \"R/1/376\", 0.0, 0.0, \"TRUSTEESHIP AMENDMENTS\", \"TO ADOPT DRAFT RESOLUTIONS I AND II AS A WHOLE, OF THE 4TH COMM. REPORT (A/34) ON NON-SELF-GOVERNING TERRITORIES. RESOLUTION I PROVIDES TO PROMOTE THE POLITICAL, SOCIAL, ECONOMIC, AND EDUCATIONAL ASPIRATIONS OF NON-SELF-GOVERNING PEOPLES THROUG\", \"co\", \"Colonialism\", 1946], [11, \"Yugoslavia\", \"YU\", \"yes\", 1, 0.0, \"1946-02-05\", \"R/1/376\", 0.0, 0.0, \"TRUSTEESHIP AMENDMENTS\", \"TO ADOPT DRAFT RESOLUTIONS I AND II AS A WHOLE, OF THE 4TH COMM. REPORT (A/34) ON NON-SELF-GOVERNING TERRITORIES. RESOLUTION I PROVIDES TO PROMOTE THE POLITICAL, SOCIAL, ECONOMIC, AND EDUCATIONAL ASPIRATIONS OF NON-SELF-GOVERNING PEOPLES THROUG\", \"ec\", \"Economic development\", 1946], [11, \"Greece\", \"GR\", \"yes\", 1, 0.0, \"1946-02-05\", \"R/1/376\", 0.0, 0.0, \"TRUSTEESHIP AMENDMENTS\", \"TO ADOPT DRAFT RESOLUTIONS I AND II AS A WHOLE, OF THE 4TH COMM. REPORT (A/34) ON NON-SELF-GOVERNING TERRITORIES. RESOLUTION I PROVIDES TO PROMOTE THE POLITICAL, SOCIAL, ECONOMIC, AND EDUCATIONAL ASPIRATIONS OF NON-SELF-GOVERNING PEOPLES THROUG\", \"co\", \"Colonialism\", 1946], [11, \"Greece\", \"GR\", \"yes\", 1, 0.0, \"1946-02-05\", \"R/1/376\", 0.0, 0.0, \"TRUSTEESHIP AMENDMENTS\", \"TO ADOPT DRAFT RESOLUTIONS I AND II AS A WHOLE, OF THE 4TH COMM. REPORT (A/34) ON NON-SELF-GOVERNING TERRITORIES. RESOLUTION I PROVIDES TO PROMOTE THE POLITICAL, SOCIAL, ECONOMIC, AND EDUCATIONAL ASPIRATIONS OF NON-SELF-GOVERNING PEOPLES THROUG\", \"ec\", \"Economic development\", 1946], [11, \"Russia\", \"RU\", \"yes\", 1, 0.0, \"1946-02-05\", \"R/1/376\", 0.0, 0.0, \"TRUSTEESHIP AMENDMENTS\", \"TO ADOPT DRAFT RESOLUTIONS I AND II AS A WHOLE, OF THE 4TH COMM. REPORT (A/34) ON NON-SELF-GOVERNING TERRITORIES. RESOLUTION I PROVIDES TO PROMOTE THE POLITICAL, SOCIAL, ECONOMIC, AND EDUCATIONAL ASPIRATIONS OF NON-SELF-GOVERNING PEOPLES THROUG\", \"co\", \"Colonialism\", 1946], [11, \"Russia\", \"RU\", \"yes\", 1, 0.0, \"1946-02-05\", \"R/1/376\", 0.0, 0.0, \"TRUSTEESHIP AMENDMENTS\", \"TO ADOPT DRAFT RESOLUTIONS I AND II AS A WHOLE, OF THE 4TH COMM. REPORT (A/34) ON NON-SELF-GOVERNING TERRITORIES. RESOLUTION I PROVIDES TO PROMOTE THE POLITICAL, SOCIAL, ECONOMIC, AND EDUCATIONAL ASPIRATIONS OF NON-SELF-GOVERNING PEOPLES THROUG\", \"ec\", \"Economic development\", 1946], [11, \"Ukraine\", \"UA\", \"yes\", 1, 0.0, \"1946-02-05\", \"R/1/376\", 0.0, 0.0, \"TRUSTEESHIP AMENDMENTS\", \"TO ADOPT DRAFT RESOLUTIONS I AND II AS A WHOLE, OF THE 4TH COMM. REPORT (A/34) ON NON-SELF-GOVERNING TERRITORIES. RESOLUTION I PROVIDES TO PROMOTE THE POLITICAL, SOCIAL, ECONOMIC, AND EDUCATIONAL ASPIRATIONS OF NON-SELF-GOVERNING PEOPLES THROUG\", \"co\", \"Colonialism\", 1946], [11, \"Ukraine\", \"UA\", \"yes\", 1, 0.0, \"1946-02-05\", \"R/1/376\", 0.0, 0.0, \"TRUSTEESHIP AMENDMENTS\", \"TO ADOPT DRAFT RESOLUTIONS I AND II AS A WHOLE, OF THE 4TH COMM. REPORT (A/34) ON NON-SELF-GOVERNING TERRITORIES. RESOLUTION I PROVIDES TO PROMOTE THE POLITICAL, SOCIAL, ECONOMIC, AND EDUCATIONAL ASPIRATIONS OF NON-SELF-GOVERNING PEOPLES THROUG\", \"ec\", \"Economic development\", 1946], [11, \"Belarus\", \"BY\", \"yes\", 1, 0.0, \"1946-02-05\", \"R/1/376\", 0.0, 0.0, \"TRUSTEESHIP AMENDMENTS\", \"TO ADOPT DRAFT RESOLUTIONS I AND II AS A WHOLE, OF THE 4TH COMM. REPORT (A/34) ON NON-SELF-GOVERNING TERRITORIES. RESOLUTION I PROVIDES TO PROMOTE THE POLITICAL, SOCIAL, ECONOMIC, AND EDUCATIONAL ASPIRATIONS OF NON-SELF-GOVERNING PEOPLES THROUG\", \"co\", \"Colonialism\", 1946], [11, \"Belarus\", \"BY\", \"yes\", 1, 0.0, \"1946-02-05\", \"R/1/376\", 0.0, 0.0, \"TRUSTEESHIP AMENDMENTS\", \"TO ADOPT DRAFT RESOLUTIONS I AND II AS A WHOLE, OF THE 4TH COMM. REPORT (A/34) ON NON-SELF-GOVERNING TERRITORIES. RESOLUTION I PROVIDES TO PROMOTE THE POLITICAL, SOCIAL, ECONOMIC, AND EDUCATIONAL ASPIRATIONS OF NON-SELF-GOVERNING PEOPLES THROUG\", \"ec\", \"Economic development\", 1946], [11, \"Norway\", \"NO\", \"yes\", 1, 0.0, \"1946-02-05\", \"R/1/376\", 0.0, 0.0, \"TRUSTEESHIP AMENDMENTS\", \"TO ADOPT DRAFT RESOLUTIONS I AND II AS A WHOLE, OF THE 4TH COMM. REPORT (A/34) ON NON-SELF-GOVERNING TERRITORIES. RESOLUTION I PROVIDES TO PROMOTE THE POLITICAL, SOCIAL, ECONOMIC, AND EDUCATIONAL ASPIRATIONS OF NON-SELF-GOVERNING PEOPLES THROUG\", \"co\", \"Colonialism\", 1946], [11, \"Norway\", \"NO\", \"yes\", 1, 0.0, \"1946-02-05\", \"R/1/376\", 0.0, 0.0, \"TRUSTEESHIP AMENDMENTS\", \"TO ADOPT DRAFT RESOLUTIONS I AND II AS A WHOLE, OF THE 4TH COMM. REPORT (A/34) ON NON-SELF-GOVERNING TERRITORIES. RESOLUTION I PROVIDES TO PROMOTE THE POLITICAL, SOCIAL, ECONOMIC, AND EDUCATIONAL ASPIRATIONS OF NON-SELF-GOVERNING PEOPLES THROUG\", \"ec\", \"Economic development\", 1946], [11, \"Denmark\", \"DK\", \"yes\", 1, 0.0, \"1946-02-05\", \"R/1/376\", 0.0, 0.0, \"TRUSTEESHIP AMENDMENTS\", \"TO ADOPT DRAFT RESOLUTIONS I AND II AS A WHOLE, OF THE 4TH COMM. REPORT (A/34) ON NON-SELF-GOVERNING TERRITORIES. RESOLUTION I PROVIDES TO PROMOTE THE POLITICAL, SOCIAL, ECONOMIC, AND EDUCATIONAL ASPIRATIONS OF NON-SELF-GOVERNING PEOPLES THROUG\", \"co\", \"Colonialism\", 1946], [11, \"Denmark\", \"DK\", \"yes\", 1, 0.0, \"1946-02-05\", \"R/1/376\", 0.0, 0.0, \"TRUSTEESHIP AMENDMENTS\", \"TO ADOPT DRAFT RESOLUTIONS I AND II AS A WHOLE, OF THE 4TH COMM. REPORT (A/34) ON NON-SELF-GOVERNING TERRITORIES. RESOLUTION I PROVIDES TO PROMOTE THE POLITICAL, SOCIAL, ECONOMIC, AND EDUCATIONAL ASPIRATIONS OF NON-SELF-GOVERNING PEOPLES THROUG\", \"ec\", \"Economic development\", 1946], [11, \"Liberia\", \"LR\", \"yes\", 1, 0.0, \"1946-02-05\", \"R/1/376\", 0.0, 0.0, \"TRUSTEESHIP AMENDMENTS\", \"TO ADOPT DRAFT RESOLUTIONS I AND II AS A WHOLE, OF THE 4TH COMM. REPORT (A/34) ON NON-SELF-GOVERNING TERRITORIES. RESOLUTION I PROVIDES TO PROMOTE THE POLITICAL, SOCIAL, ECONOMIC, AND EDUCATIONAL ASPIRATIONS OF NON-SELF-GOVERNING PEOPLES THROUG\", \"co\", \"Colonialism\", 1946], [11, \"Liberia\", \"LR\", \"yes\", 1, 0.0, \"1946-02-05\", \"R/1/376\", 0.0, 0.0, \"TRUSTEESHIP AMENDMENTS\", \"TO ADOPT DRAFT RESOLUTIONS I AND II AS A WHOLE, OF THE 4TH COMM. REPORT (A/34) ON NON-SELF-GOVERNING TERRITORIES. RESOLUTION I PROVIDES TO PROMOTE THE POLITICAL, SOCIAL, ECONOMIC, AND EDUCATIONAL ASPIRATIONS OF NON-SELF-GOVERNING PEOPLES THROUG\", \"ec\", \"Economic development\", 1946], [11, \"Ethiopia\", \"ET\", \"yes\", 1, 0.0, \"1946-02-05\", \"R/1/376\", 0.0, 0.0, \"TRUSTEESHIP AMENDMENTS\", \"TO ADOPT DRAFT RESOLUTIONS I AND II AS A WHOLE, OF THE 4TH COMM. REPORT (A/34) ON NON-SELF-GOVERNING TERRITORIES. RESOLUTION I PROVIDES TO PROMOTE THE POLITICAL, SOCIAL, ECONOMIC, AND EDUCATIONAL ASPIRATIONS OF NON-SELF-GOVERNING PEOPLES THROUG\", \"co\", \"Colonialism\", 1946], [11, \"Ethiopia\", \"ET\", \"yes\", 1, 0.0, \"1946-02-05\", \"R/1/376\", 0.0, 0.0, \"TRUSTEESHIP AMENDMENTS\", \"TO ADOPT DRAFT RESOLUTIONS I AND II AS A WHOLE, OF THE 4TH COMM. REPORT (A/34) ON NON-SELF-GOVERNING TERRITORIES. RESOLUTION I PROVIDES TO PROMOTE THE POLITICAL, SOCIAL, ECONOMIC, AND EDUCATIONAL ASPIRATIONS OF NON-SELF-GOVERNING PEOPLES THROUG\", \"ec\", \"Economic development\", 1946], [11, \"South Africa\", \"ZA\", \"yes\", 1, 0.0, \"1946-02-05\", \"R/1/376\", 0.0, 0.0, \"TRUSTEESHIP AMENDMENTS\", \"TO ADOPT DRAFT RESOLUTIONS I AND II AS A WHOLE, OF THE 4TH COMM. REPORT (A/34) ON NON-SELF-GOVERNING TERRITORIES. RESOLUTION I PROVIDES TO PROMOTE THE POLITICAL, SOCIAL, ECONOMIC, AND EDUCATIONAL ASPIRATIONS OF NON-SELF-GOVERNING PEOPLES THROUG\", \"co\", \"Colonialism\", 1946], [11, \"South Africa\", \"ZA\", \"yes\", 1, 0.0, \"1946-02-05\", \"R/1/376\", 0.0, 0.0, \"TRUSTEESHIP AMENDMENTS\", \"TO ADOPT DRAFT RESOLUTIONS I AND II AS A WHOLE, OF THE 4TH COMM. REPORT (A/34) ON NON-SELF-GOVERNING TERRITORIES. RESOLUTION I PROVIDES TO PROMOTE THE POLITICAL, SOCIAL, ECONOMIC, AND EDUCATIONAL ASPIRATIONS OF NON-SELF-GOVERNING PEOPLES THROUG\", \"ec\", \"Economic development\", 1946], [11, \"Iran\", \"IR\", \"yes\", 1, 0.0, \"1946-02-05\", \"R/1/376\", 0.0, 0.0, \"TRUSTEESHIP AMENDMENTS\", \"TO ADOPT DRAFT RESOLUTIONS I AND II AS A WHOLE, OF THE 4TH COMM. REPORT (A/34) ON NON-SELF-GOVERNING TERRITORIES. RESOLUTION I PROVIDES TO PROMOTE THE POLITICAL, SOCIAL, ECONOMIC, AND EDUCATIONAL ASPIRATIONS OF NON-SELF-GOVERNING PEOPLES THROUG\", \"co\", \"Colonialism\", 1946], [11, \"Iran\", \"IR\", \"yes\", 1, 0.0, \"1946-02-05\", \"R/1/376\", 0.0, 0.0, \"TRUSTEESHIP AMENDMENTS\", \"TO ADOPT DRAFT RESOLUTIONS I AND II AS A WHOLE, OF THE 4TH COMM. REPORT (A/34) ON NON-SELF-GOVERNING TERRITORIES. RESOLUTION I PROVIDES TO PROMOTE THE POLITICAL, SOCIAL, ECONOMIC, AND EDUCATIONAL ASPIRATIONS OF NON-SELF-GOVERNING PEOPLES THROUG\", \"ec\", \"Economic development\", 1946], [11, \"Turkey\", \"TR\", \"yes\", 1, 0.0, \"1946-02-05\", \"R/1/376\", 0.0, 0.0, \"TRUSTEESHIP AMENDMENTS\", \"TO ADOPT DRAFT RESOLUTIONS I AND II AS A WHOLE, OF THE 4TH COMM. REPORT (A/34) ON NON-SELF-GOVERNING TERRITORIES. RESOLUTION I PROVIDES TO PROMOTE THE POLITICAL, SOCIAL, ECONOMIC, AND EDUCATIONAL ASPIRATIONS OF NON-SELF-GOVERNING PEOPLES THROUG\", \"co\", \"Colonialism\", 1946], [11, \"Turkey\", \"TR\", \"yes\", 1, 0.0, \"1946-02-05\", \"R/1/376\", 0.0, 0.0, \"TRUSTEESHIP AMENDMENTS\", \"TO ADOPT DRAFT RESOLUTIONS I AND II AS A WHOLE, OF THE 4TH COMM. REPORT (A/34) ON NON-SELF-GOVERNING TERRITORIES. RESOLUTION I PROVIDES TO PROMOTE THE POLITICAL, SOCIAL, ECONOMIC, AND EDUCATIONAL ASPIRATIONS OF NON-SELF-GOVERNING PEOPLES THROUG\", \"ec\", \"Economic development\", 1946], [11, \"Iraq\", \"IQ\", \"yes\", 1, 0.0, \"1946-02-05\", \"R/1/376\", 0.0, 0.0, \"TRUSTEESHIP AMENDMENTS\", \"TO ADOPT DRAFT RESOLUTIONS I AND II AS A WHOLE, OF THE 4TH COMM. REPORT (A/34) ON NON-SELF-GOVERNING TERRITORIES. RESOLUTION I PROVIDES TO PROMOTE THE POLITICAL, SOCIAL, ECONOMIC, AND EDUCATIONAL ASPIRATIONS OF NON-SELF-GOVERNING PEOPLES THROUG\", \"co\", \"Colonialism\", 1946], [11, \"Iraq\", \"IQ\", \"yes\", 1, 0.0, \"1946-02-05\", \"R/1/376\", 0.0, 0.0, \"TRUSTEESHIP AMENDMENTS\", \"TO ADOPT DRAFT RESOLUTIONS I AND II AS A WHOLE, OF THE 4TH COMM. REPORT (A/34) ON NON-SELF-GOVERNING TERRITORIES. RESOLUTION I PROVIDES TO PROMOTE THE POLITICAL, SOCIAL, ECONOMIC, AND EDUCATIONAL ASPIRATIONS OF NON-SELF-GOVERNING PEOPLES THROUG\", \"ec\", \"Economic development\", 1946], [11, \"Egypt\", \"EG\", \"yes\", 1, 0.0, \"1946-02-05\", \"R/1/376\", 0.0, 0.0, \"TRUSTEESHIP AMENDMENTS\", \"TO ADOPT DRAFT RESOLUTIONS I AND II AS A WHOLE, OF THE 4TH COMM. REPORT (A/34) ON NON-SELF-GOVERNING TERRITORIES. RESOLUTION I PROVIDES TO PROMOTE THE POLITICAL, SOCIAL, ECONOMIC, AND EDUCATIONAL ASPIRATIONS OF NON-SELF-GOVERNING PEOPLES THROUG\", \"co\", \"Colonialism\", 1946], [11, \"Egypt\", \"EG\", \"yes\", 1, 0.0, \"1946-02-05\", \"R/1/376\", 0.0, 0.0, \"TRUSTEESHIP AMENDMENTS\", \"TO ADOPT DRAFT RESOLUTIONS I AND II AS A WHOLE, OF THE 4TH COMM. REPORT (A/34) ON NON-SELF-GOVERNING TERRITORIES. RESOLUTION I PROVIDES TO PROMOTE THE POLITICAL, SOCIAL, ECONOMIC, AND EDUCATIONAL ASPIRATIONS OF NON-SELF-GOVERNING PEOPLES THROUG\", \"ec\", \"Economic development\", 1946], [11, \"Syria\", \"SY\", \"yes\", 1, 0.0, \"1946-02-05\", \"R/1/376\", 0.0, 0.0, \"TRUSTEESHIP AMENDMENTS\", \"TO ADOPT DRAFT RESOLUTIONS I AND II AS A WHOLE, OF THE 4TH COMM. REPORT (A/34) ON NON-SELF-GOVERNING TERRITORIES. RESOLUTION I PROVIDES TO PROMOTE THE POLITICAL, SOCIAL, ECONOMIC, AND EDUCATIONAL ASPIRATIONS OF NON-SELF-GOVERNING PEOPLES THROUG\", \"co\", \"Colonialism\", 1946], [11, \"Syria\", \"SY\", \"yes\", 1, 0.0, \"1946-02-05\", \"R/1/376\", 0.0, 0.0, \"TRUSTEESHIP AMENDMENTS\", \"TO ADOPT DRAFT RESOLUTIONS I AND II AS A WHOLE, OF THE 4TH COMM. REPORT (A/34) ON NON-SELF-GOVERNING TERRITORIES. RESOLUTION I PROVIDES TO PROMOTE THE POLITICAL, SOCIAL, ECONOMIC, AND EDUCATIONAL ASPIRATIONS OF NON-SELF-GOVERNING PEOPLES THROUG\", \"ec\", \"Economic development\", 1946], [11, \"Lebanon\", \"LB\", \"yes\", 1, 0.0, \"1946-02-05\", \"R/1/376\", 0.0, 0.0, \"TRUSTEESHIP AMENDMENTS\", \"TO ADOPT DRAFT RESOLUTIONS I AND II AS A WHOLE, OF THE 4TH COMM. REPORT (A/34) ON NON-SELF-GOVERNING TERRITORIES. RESOLUTION I PROVIDES TO PROMOTE THE POLITICAL, SOCIAL, ECONOMIC, AND EDUCATIONAL ASPIRATIONS OF NON-SELF-GOVERNING PEOPLES THROUG\", \"co\", \"Colonialism\", 1946], [11, \"Lebanon\", \"LB\", \"yes\", 1, 0.0, \"1946-02-05\", \"R/1/376\", 0.0, 0.0, \"TRUSTEESHIP AMENDMENTS\", \"TO ADOPT DRAFT RESOLUTIONS I AND II AS A WHOLE, OF THE 4TH COMM. REPORT (A/34) ON NON-SELF-GOVERNING TERRITORIES. RESOLUTION I PROVIDES TO PROMOTE THE POLITICAL, SOCIAL, ECONOMIC, AND EDUCATIONAL ASPIRATIONS OF NON-SELF-GOVERNING PEOPLES THROUG\", \"ec\", \"Economic development\", 1946], [11, \"Saudi Arabia\", \"SA\", \"yes\", 1, 0.0, \"1946-02-05\", \"R/1/376\", 0.0, 0.0, \"TRUSTEESHIP AMENDMENTS\", \"TO ADOPT DRAFT RESOLUTIONS I AND II AS A WHOLE, OF THE 4TH COMM. REPORT (A/34) ON NON-SELF-GOVERNING TERRITORIES. RESOLUTION I PROVIDES TO PROMOTE THE POLITICAL, SOCIAL, ECONOMIC, AND EDUCATIONAL ASPIRATIONS OF NON-SELF-GOVERNING PEOPLES THROUG\", \"co\", \"Colonialism\", 1946], [11, \"Saudi Arabia\", \"SA\", \"yes\", 1, 0.0, \"1946-02-05\", \"R/1/376\", 0.0, 0.0, \"TRUSTEESHIP AMENDMENTS\", \"TO ADOPT DRAFT RESOLUTIONS I AND II AS A WHOLE, OF THE 4TH COMM. REPORT (A/34) ON NON-SELF-GOVERNING TERRITORIES. RESOLUTION I PROVIDES TO PROMOTE THE POLITICAL, SOCIAL, ECONOMIC, AND EDUCATIONAL ASPIRATIONS OF NON-SELF-GOVERNING PEOPLES THROUG\", \"ec\", \"Economic development\", 1946], [11, \"Taiwan\", \"TW\", \"yes\", 1, 0.0, \"1946-02-05\", \"R/1/376\", 0.0, 0.0, \"TRUSTEESHIP AMENDMENTS\", \"TO ADOPT DRAFT RESOLUTIONS I AND II AS A WHOLE, OF THE 4TH COMM. REPORT (A/34) ON NON-SELF-GOVERNING TERRITORIES. RESOLUTION I PROVIDES TO PROMOTE THE POLITICAL, SOCIAL, ECONOMIC, AND EDUCATIONAL ASPIRATIONS OF NON-SELF-GOVERNING PEOPLES THROUG\", \"co\", \"Colonialism\", 1946], [11, \"Taiwan\", \"TW\", \"yes\", 1, 0.0, \"1946-02-05\", \"R/1/376\", 0.0, 0.0, \"TRUSTEESHIP AMENDMENTS\", \"TO ADOPT DRAFT RESOLUTIONS I AND II AS A WHOLE, OF THE 4TH COMM. REPORT (A/34) ON NON-SELF-GOVERNING TERRITORIES. RESOLUTION I PROVIDES TO PROMOTE THE POLITICAL, SOCIAL, ECONOMIC, AND EDUCATIONAL ASPIRATIONS OF NON-SELF-GOVERNING PEOPLES THROUG\", \"ec\", \"Economic development\", 1946], [11, \"India\", \"IN\", \"yes\", 1, 0.0, \"1946-02-05\", \"R/1/376\", 0.0, 0.0, \"TRUSTEESHIP AMENDMENTS\", \"TO ADOPT DRAFT RESOLUTIONS I AND II AS A WHOLE, OF THE 4TH COMM. REPORT (A/34) ON NON-SELF-GOVERNING TERRITORIES. RESOLUTION I PROVIDES TO PROMOTE THE POLITICAL, SOCIAL, ECONOMIC, AND EDUCATIONAL ASPIRATIONS OF NON-SELF-GOVERNING PEOPLES THROUG\", \"co\", \"Colonialism\", 1946], [11, \"India\", \"IN\", \"yes\", 1, 0.0, \"1946-02-05\", \"R/1/376\", 0.0, 0.0, \"TRUSTEESHIP AMENDMENTS\", \"TO ADOPT DRAFT RESOLUTIONS I AND II AS A WHOLE, OF THE 4TH COMM. REPORT (A/34) ON NON-SELF-GOVERNING TERRITORIES. RESOLUTION I PROVIDES TO PROMOTE THE POLITICAL, SOCIAL, ECONOMIC, AND EDUCATIONAL ASPIRATIONS OF NON-SELF-GOVERNING PEOPLES THROUG\", \"ec\", \"Economic development\", 1946], [11, \"Philippines\", \"PH\", \"yes\", 1, 0.0, \"1946-02-05\", \"R/1/376\", 0.0, 0.0, \"TRUSTEESHIP AMENDMENTS\", \"TO ADOPT DRAFT RESOLUTIONS I AND II AS A WHOLE, OF THE 4TH COMM. REPORT (A/34) ON NON-SELF-GOVERNING TERRITORIES. RESOLUTION I PROVIDES TO PROMOTE THE POLITICAL, SOCIAL, ECONOMIC, AND EDUCATIONAL ASPIRATIONS OF NON-SELF-GOVERNING PEOPLES THROUG\", \"co\", \"Colonialism\", 1946], [11, \"Philippines\", \"PH\", \"yes\", 1, 0.0, \"1946-02-05\", \"R/1/376\", 0.0, 0.0, \"TRUSTEESHIP AMENDMENTS\", \"TO ADOPT DRAFT RESOLUTIONS I AND II AS A WHOLE, OF THE 4TH COMM. REPORT (A/34) ON NON-SELF-GOVERNING TERRITORIES. RESOLUTION I PROVIDES TO PROMOTE THE POLITICAL, SOCIAL, ECONOMIC, AND EDUCATIONAL ASPIRATIONS OF NON-SELF-GOVERNING PEOPLES THROUG\", \"ec\", \"Economic development\", 1946], [11, \"Australia\", \"AU\", \"yes\", 1, 0.0, \"1946-02-05\", \"R/1/376\", 0.0, 0.0, \"TRUSTEESHIP AMENDMENTS\", \"TO ADOPT DRAFT RESOLUTIONS I AND II AS A WHOLE, OF THE 4TH COMM. REPORT (A/34) ON NON-SELF-GOVERNING TERRITORIES. RESOLUTION I PROVIDES TO PROMOTE THE POLITICAL, SOCIAL, ECONOMIC, AND EDUCATIONAL ASPIRATIONS OF NON-SELF-GOVERNING PEOPLES THROUG\", \"co\", \"Colonialism\", 1946], [11, \"Australia\", \"AU\", \"yes\", 1, 0.0, \"1946-02-05\", \"R/1/376\", 0.0, 0.0, \"TRUSTEESHIP AMENDMENTS\", \"TO ADOPT DRAFT RESOLUTIONS I AND II AS A WHOLE, OF THE 4TH COMM. REPORT (A/34) ON NON-SELF-GOVERNING TERRITORIES. RESOLUTION I PROVIDES TO PROMOTE THE POLITICAL, SOCIAL, ECONOMIC, AND EDUCATIONAL ASPIRATIONS OF NON-SELF-GOVERNING PEOPLES THROUG\", \"ec\", \"Economic development\", 1946], [11, \"New Zealand\", \"NZ\", \"yes\", 1, 0.0, \"1946-02-05\", \"R/1/376\", 0.0, 0.0, \"TRUSTEESHIP AMENDMENTS\", \"TO ADOPT DRAFT RESOLUTIONS I AND II AS A WHOLE, OF THE 4TH COMM. REPORT (A/34) ON NON-SELF-GOVERNING TERRITORIES. RESOLUTION I PROVIDES TO PROMOTE THE POLITICAL, SOCIAL, ECONOMIC, AND EDUCATIONAL ASPIRATIONS OF NON-SELF-GOVERNING PEOPLES THROUG\", \"co\", \"Colonialism\", 1946], [11, \"New Zealand\", \"NZ\", \"yes\", 1, 0.0, \"1946-02-05\", \"R/1/376\", 0.0, 0.0, \"TRUSTEESHIP AMENDMENTS\", \"TO ADOPT DRAFT RESOLUTIONS I AND II AS A WHOLE, OF THE 4TH COMM. REPORT (A/34) ON NON-SELF-GOVERNING TERRITORIES. RESOLUTION I PROVIDES TO PROMOTE THE POLITICAL, SOCIAL, ECONOMIC, AND EDUCATIONAL ASPIRATIONS OF NON-SELF-GOVERNING PEOPLES THROUG\", \"ec\", \"Economic development\", 1946], [18, \"United States\", \"US\", \"no\", 1, 0.0, \"1946-02-03\", \"R/1/532\", 1.0, 0.0, \"ECOSOC CONSULTANTS\", \"TO ADOPT USSR (ORAL) AMENDMENT REPLACING THE 1ST COMM. DRAFT RESOLUTION (A/54/REV.1) WITH THE FOLLOWING:  \\\\TAKING INTO CONSIDERATION THE QUESTION RAISED BY THE WORLD FEDERATION OF TRADE UNIONS CONCERNING ITS PARTICIPATION IN THE WORK OF THE ECO\", \"ec\", \"Economic development\", 1946], [18, \"Canada\", \"CA\", \"no\", 1, 0.0, \"1946-02-03\", \"R/1/532\", 1.0, 0.0, \"ECOSOC CONSULTANTS\", \"TO ADOPT USSR (ORAL) AMENDMENT REPLACING THE 1ST COMM. DRAFT RESOLUTION (A/54/REV.1) WITH THE FOLLOWING:  \\\\TAKING INTO CONSIDERATION THE QUESTION RAISED BY THE WORLD FEDERATION OF TRADE UNIONS CONCERNING ITS PARTICIPATION IN THE WORK OF THE ECO\", \"ec\", \"Economic development\", 1946], [18, \"Cuba\", \"CU\", \"no\", 1, 0.0, \"1946-02-03\", \"R/1/532\", 1.0, 0.0, \"ECOSOC CONSULTANTS\", \"TO ADOPT USSR (ORAL) AMENDMENT REPLACING THE 1ST COMM. DRAFT RESOLUTION (A/54/REV.1) WITH THE FOLLOWING:  \\\\TAKING INTO CONSIDERATION THE QUESTION RAISED BY THE WORLD FEDERATION OF TRADE UNIONS CONCERNING ITS PARTICIPATION IN THE WORK OF THE ECO\", \"ec\", \"Economic development\", 1946], [18, \"Haiti\", \"HT\", \"no\", 1, 0.0, \"1946-02-03\", \"R/1/532\", 1.0, 0.0, \"ECOSOC CONSULTANTS\", \"TO ADOPT USSR (ORAL) AMENDMENT REPLACING THE 1ST COMM. DRAFT RESOLUTION (A/54/REV.1) WITH THE FOLLOWING:  \\\\TAKING INTO CONSIDERATION THE QUESTION RAISED BY THE WORLD FEDERATION OF TRADE UNIONS CONCERNING ITS PARTICIPATION IN THE WORK OF THE ECO\", \"ec\", \"Economic development\", 1946], [18, \"Dominican Republic\", \"DO\", \"no\", 1, 0.0, \"1946-02-03\", \"R/1/532\", 1.0, 0.0, \"ECOSOC CONSULTANTS\", \"TO ADOPT USSR (ORAL) AMENDMENT REPLACING THE 1ST COMM. DRAFT RESOLUTION (A/54/REV.1) WITH THE FOLLOWING:  \\\\TAKING INTO CONSIDERATION THE QUESTION RAISED BY THE WORLD FEDERATION OF TRADE UNIONS CONCERNING ITS PARTICIPATION IN THE WORK OF THE ECO\", \"ec\", \"Economic development\", 1946], [18, \"Mexico\", \"MX\", \"abstain\", 1, 0.0, \"1946-02-03\", \"R/1/532\", 1.0, 0.0, \"ECOSOC CONSULTANTS\", \"TO ADOPT USSR (ORAL) AMENDMENT REPLACING THE 1ST COMM. DRAFT RESOLUTION (A/54/REV.1) WITH THE FOLLOWING:  \\\\TAKING INTO CONSIDERATION THE QUESTION RAISED BY THE WORLD FEDERATION OF TRADE UNIONS CONCERNING ITS PARTICIPATION IN THE WORK OF THE ECO\", \"ec\", \"Economic development\", 1946], [18, \"Guatemala\", \"GT\", \"yes\", 1, 0.0, \"1946-02-03\", \"R/1/532\", 1.0, 0.0, \"ECOSOC CONSULTANTS\", \"TO ADOPT USSR (ORAL) AMENDMENT REPLACING THE 1ST COMM. DRAFT RESOLUTION (A/54/REV.1) WITH THE FOLLOWING:  \\\\TAKING INTO CONSIDERATION THE QUESTION RAISED BY THE WORLD FEDERATION OF TRADE UNIONS CONCERNING ITS PARTICIPATION IN THE WORK OF THE ECO\", \"ec\", \"Economic development\", 1946], [18, \"Nicaragua\", \"NI\", \"abstain\", 1, 0.0, \"1946-02-03\", \"R/1/532\", 1.0, 0.0, \"ECOSOC CONSULTANTS\", \"TO ADOPT USSR (ORAL) AMENDMENT REPLACING THE 1ST COMM. DRAFT RESOLUTION (A/54/REV.1) WITH THE FOLLOWING:  \\\\TAKING INTO CONSIDERATION THE QUESTION RAISED BY THE WORLD FEDERATION OF TRADE UNIONS CONCERNING ITS PARTICIPATION IN THE WORK OF THE ECO\", \"ec\", \"Economic development\", 1946], [18, \"Panama\", \"PA\", \"abstain\", 1, 0.0, \"1946-02-03\", \"R/1/532\", 1.0, 0.0, \"ECOSOC CONSULTANTS\", \"TO ADOPT USSR (ORAL) AMENDMENT REPLACING THE 1ST COMM. DRAFT RESOLUTION (A/54/REV.1) WITH THE FOLLOWING:  \\\\TAKING INTO CONSIDERATION THE QUESTION RAISED BY THE WORLD FEDERATION OF TRADE UNIONS CONCERNING ITS PARTICIPATION IN THE WORK OF THE ECO\", \"ec\", \"Economic development\", 1946], [18, \"Colombia\", \"CO\", \"yes\", 1, 0.0, \"1946-02-03\", \"R/1/532\", 1.0, 0.0, \"ECOSOC CONSULTANTS\", \"TO ADOPT USSR (ORAL) AMENDMENT REPLACING THE 1ST COMM. DRAFT RESOLUTION (A/54/REV.1) WITH THE FOLLOWING:  \\\\TAKING INTO CONSIDERATION THE QUESTION RAISED BY THE WORLD FEDERATION OF TRADE UNIONS CONCERNING ITS PARTICIPATION IN THE WORK OF THE ECO\", \"ec\", \"Economic development\", 1946], [18, \"Venezuela\", \"VE\", \"no\", 1, 0.0, \"1946-02-03\", \"R/1/532\", 1.0, 0.0, \"ECOSOC CONSULTANTS\", \"TO ADOPT USSR (ORAL) AMENDMENT REPLACING THE 1ST COMM. DRAFT RESOLUTION (A/54/REV.1) WITH THE FOLLOWING:  \\\\TAKING INTO CONSIDERATION THE QUESTION RAISED BY THE WORLD FEDERATION OF TRADE UNIONS CONCERNING ITS PARTICIPATION IN THE WORK OF THE ECO\", \"ec\", \"Economic development\", 1946], [18, \"Ecuador\", \"EC\", \"no\", 1, 0.0, \"1946-02-03\", \"R/1/532\", 1.0, 0.0, \"ECOSOC CONSULTANTS\", \"TO ADOPT USSR (ORAL) AMENDMENT REPLACING THE 1ST COMM. DRAFT RESOLUTION (A/54/REV.1) WITH THE FOLLOWING:  \\\\TAKING INTO CONSIDERATION THE QUESTION RAISED BY THE WORLD FEDERATION OF TRADE UNIONS CONCERNING ITS PARTICIPATION IN THE WORK OF THE ECO\", \"ec\", \"Economic development\", 1946], [18, \"Peru\", \"PE\", \"no\", 1, 0.0, \"1946-02-03\", \"R/1/532\", 1.0, 0.0, \"ECOSOC CONSULTANTS\", \"TO ADOPT USSR (ORAL) AMENDMENT REPLACING THE 1ST COMM. DRAFT RESOLUTION (A/54/REV.1) WITH THE FOLLOWING:  \\\\TAKING INTO CONSIDERATION THE QUESTION RAISED BY THE WORLD FEDERATION OF TRADE UNIONS CONCERNING ITS PARTICIPATION IN THE WORK OF THE ECO\", \"ec\", \"Economic development\", 1946], [18, \"Brazil\", \"BR\", \"no\", 1, 0.0, \"1946-02-03\", \"R/1/532\", 1.0, 0.0, \"ECOSOC CONSULTANTS\", \"TO ADOPT USSR (ORAL) AMENDMENT REPLACING THE 1ST COMM. DRAFT RESOLUTION (A/54/REV.1) WITH THE FOLLOWING:  \\\\TAKING INTO CONSIDERATION THE QUESTION RAISED BY THE WORLD FEDERATION OF TRADE UNIONS CONCERNING ITS PARTICIPATION IN THE WORK OF THE ECO\", \"ec\", \"Economic development\", 1946], [18, \"Bolivia\", \"BO\", \"yes\", 1, 0.0, \"1946-02-03\", \"R/1/532\", 1.0, 0.0, \"ECOSOC CONSULTANTS\", \"TO ADOPT USSR (ORAL) AMENDMENT REPLACING THE 1ST COMM. DRAFT RESOLUTION (A/54/REV.1) WITH THE FOLLOWING:  \\\\TAKING INTO CONSIDERATION THE QUESTION RAISED BY THE WORLD FEDERATION OF TRADE UNIONS CONCERNING ITS PARTICIPATION IN THE WORK OF THE ECO\", \"ec\", \"Economic development\", 1946], [18, \"Chile\", \"CL\", \"yes\", 1, 0.0, \"1946-02-03\", \"R/1/532\", 1.0, 0.0, \"ECOSOC CONSULTANTS\", \"TO ADOPT USSR (ORAL) AMENDMENT REPLACING THE 1ST COMM. DRAFT RESOLUTION (A/54/REV.1) WITH THE FOLLOWING:  \\\\TAKING INTO CONSIDERATION THE QUESTION RAISED BY THE WORLD FEDERATION OF TRADE UNIONS CONCERNING ITS PARTICIPATION IN THE WORK OF THE ECO\", \"ec\", \"Economic development\", 1946], [18, \"Argentina\", \"AR\", \"no\", 1, 0.0, \"1946-02-03\", \"R/1/532\", 1.0, 0.0, \"ECOSOC CONSULTANTS\", \"TO ADOPT USSR (ORAL) AMENDMENT REPLACING THE 1ST COMM. DRAFT RESOLUTION (A/54/REV.1) WITH THE FOLLOWING:  \\\\TAKING INTO CONSIDERATION THE QUESTION RAISED BY THE WORLD FEDERATION OF TRADE UNIONS CONCERNING ITS PARTICIPATION IN THE WORK OF THE ECO\", \"ec\", \"Economic development\", 1946], [18, \"Uruguay\", \"UY\", \"no\", 1, 0.0, \"1946-02-03\", \"R/1/532\", 1.0, 0.0, \"ECOSOC CONSULTANTS\", \"TO ADOPT USSR (ORAL) AMENDMENT REPLACING THE 1ST COMM. DRAFT RESOLUTION (A/54/REV.1) WITH THE FOLLOWING:  \\\\TAKING INTO CONSIDERATION THE QUESTION RAISED BY THE WORLD FEDERATION OF TRADE UNIONS CONCERNING ITS PARTICIPATION IN THE WORK OF THE ECO\", \"ec\", \"Economic development\", 1946], [18, \"United Kingdom\", \"GB\", \"no\", 1, 0.0, \"1946-02-03\", \"R/1/532\", 1.0, 0.0, \"ECOSOC CONSULTANTS\", \"TO ADOPT USSR (ORAL) AMENDMENT REPLACING THE 1ST COMM. DRAFT RESOLUTION (A/54/REV.1) WITH THE FOLLOWING:  \\\\TAKING INTO CONSIDERATION THE QUESTION RAISED BY THE WORLD FEDERATION OF TRADE UNIONS CONCERNING ITS PARTICIPATION IN THE WORK OF THE ECO\", \"ec\", \"Economic development\", 1946], [18, \"Netherlands\", \"NL\", \"no\", 1, 0.0, \"1946-02-03\", \"R/1/532\", 1.0, 0.0, \"ECOSOC CONSULTANTS\", \"TO ADOPT USSR (ORAL) AMENDMENT REPLACING THE 1ST COMM. DRAFT RESOLUTION (A/54/REV.1) WITH THE FOLLOWING:  \\\\TAKING INTO CONSIDERATION THE QUESTION RAISED BY THE WORLD FEDERATION OF TRADE UNIONS CONCERNING ITS PARTICIPATION IN THE WORK OF THE ECO\", \"ec\", \"Economic development\", 1946], [18, \"Belgium\", \"BE\", \"abstain\", 1, 0.0, \"1946-02-03\", \"R/1/532\", 1.0, 0.0, \"ECOSOC CONSULTANTS\", \"TO ADOPT USSR (ORAL) AMENDMENT REPLACING THE 1ST COMM. DRAFT RESOLUTION (A/54/REV.1) WITH THE FOLLOWING:  \\\\TAKING INTO CONSIDERATION THE QUESTION RAISED BY THE WORLD FEDERATION OF TRADE UNIONS CONCERNING ITS PARTICIPATION IN THE WORK OF THE ECO\", \"ec\", \"Economic development\", 1946], [18, \"Luxembourg\", \"LU\", \"no\", 1, 0.0, \"1946-02-03\", \"R/1/532\", 1.0, 0.0, \"ECOSOC CONSULTANTS\", \"TO ADOPT USSR (ORAL) AMENDMENT REPLACING THE 1ST COMM. DRAFT RESOLUTION (A/54/REV.1) WITH THE FOLLOWING:  \\\\TAKING INTO CONSIDERATION THE QUESTION RAISED BY THE WORLD FEDERATION OF TRADE UNIONS CONCERNING ITS PARTICIPATION IN THE WORK OF THE ECO\", \"ec\", \"Economic development\", 1946], [18, \"France\", \"FR\", \"yes\", 1, 0.0, \"1946-02-03\", \"R/1/532\", 1.0, 0.0, \"ECOSOC CONSULTANTS\", \"TO ADOPT USSR (ORAL) AMENDMENT REPLACING THE 1ST COMM. DRAFT RESOLUTION (A/54/REV.1) WITH THE FOLLOWING:  \\\\TAKING INTO CONSIDERATION THE QUESTION RAISED BY THE WORLD FEDERATION OF TRADE UNIONS CONCERNING ITS PARTICIPATION IN THE WORK OF THE ECO\", \"ec\", \"Economic development\", 1946], [18, \"Poland\", \"PL\", \"yes\", 1, 0.0, \"1946-02-03\", \"R/1/532\", 1.0, 0.0, \"ECOSOC CONSULTANTS\", \"TO ADOPT USSR (ORAL) AMENDMENT REPLACING THE 1ST COMM. DRAFT RESOLUTION (A/54/REV.1) WITH THE FOLLOWING:  \\\\TAKING INTO CONSIDERATION THE QUESTION RAISED BY THE WORLD FEDERATION OF TRADE UNIONS CONCERNING ITS PARTICIPATION IN THE WORK OF THE ECO\", \"ec\", \"Economic development\", 1946], [18, \"Czechoslovakia\", \"CS\", \"yes\", 1, 0.0, \"1946-02-03\", \"R/1/532\", 1.0, 0.0, \"ECOSOC CONSULTANTS\", \"TO ADOPT USSR (ORAL) AMENDMENT REPLACING THE 1ST COMM. DRAFT RESOLUTION (A/54/REV.1) WITH THE FOLLOWING:  \\\\TAKING INTO CONSIDERATION THE QUESTION RAISED BY THE WORLD FEDERATION OF TRADE UNIONS CONCERNING ITS PARTICIPATION IN THE WORK OF THE ECO\", \"ec\", \"Economic development\", 1946], [18, \"Yugoslavia\", \"YU\", \"yes\", 1, 0.0, \"1946-02-03\", \"R/1/532\", 1.0, 0.0, \"ECOSOC CONSULTANTS\", \"TO ADOPT USSR (ORAL) AMENDMENT REPLACING THE 1ST COMM. DRAFT RESOLUTION (A/54/REV.1) WITH THE FOLLOWING:  \\\\TAKING INTO CONSIDERATION THE QUESTION RAISED BY THE WORLD FEDERATION OF TRADE UNIONS CONCERNING ITS PARTICIPATION IN THE WORK OF THE ECO\", \"ec\", \"Economic development\", 1946], [18, \"Greece\", \"GR\", \"no\", 1, 0.0, \"1946-02-03\", \"R/1/532\", 1.0, 0.0, \"ECOSOC CONSULTANTS\", \"TO ADOPT USSR (ORAL) AMENDMENT REPLACING THE 1ST COMM. DRAFT RESOLUTION (A/54/REV.1) WITH THE FOLLOWING:  \\\\TAKING INTO CONSIDERATION THE QUESTION RAISED BY THE WORLD FEDERATION OF TRADE UNIONS CONCERNING ITS PARTICIPATION IN THE WORK OF THE ECO\", \"ec\", \"Economic development\", 1946], [18, \"Russia\", \"RU\", \"yes\", 1, 0.0, \"1946-02-03\", \"R/1/532\", 1.0, 0.0, \"ECOSOC CONSULTANTS\", \"TO ADOPT USSR (ORAL) AMENDMENT REPLACING THE 1ST COMM. DRAFT RESOLUTION (A/54/REV.1) WITH THE FOLLOWING:  \\\\TAKING INTO CONSIDERATION THE QUESTION RAISED BY THE WORLD FEDERATION OF TRADE UNIONS CONCERNING ITS PARTICIPATION IN THE WORK OF THE ECO\", \"ec\", \"Economic development\", 1946], [18, \"Ukraine\", \"UA\", \"yes\", 1, 0.0, \"1946-02-03\", \"R/1/532\", 1.0, 0.0, \"ECOSOC CONSULTANTS\", \"TO ADOPT USSR (ORAL) AMENDMENT REPLACING THE 1ST COMM. DRAFT RESOLUTION (A/54/REV.1) WITH THE FOLLOWING:  \\\\TAKING INTO CONSIDERATION THE QUESTION RAISED BY THE WORLD FEDERATION OF TRADE UNIONS CONCERNING ITS PARTICIPATION IN THE WORK OF THE ECO\", \"ec\", \"Economic development\", 1946], [18, \"Belarus\", \"BY\", \"yes\", 1, 0.0, \"1946-02-03\", \"R/1/532\", 1.0, 0.0, \"ECOSOC CONSULTANTS\", \"TO ADOPT USSR (ORAL) AMENDMENT REPLACING THE 1ST COMM. DRAFT RESOLUTION (A/54/REV.1) WITH THE FOLLOWING:  \\\\TAKING INTO CONSIDERATION THE QUESTION RAISED BY THE WORLD FEDERATION OF TRADE UNIONS CONCERNING ITS PARTICIPATION IN THE WORK OF THE ECO\", \"ec\", \"Economic development\", 1946], [18, \"Norway\", \"NO\", \"no\", 1, 0.0, \"1946-02-03\", \"R/1/532\", 1.0, 0.0, \"ECOSOC CONSULTANTS\", \"TO ADOPT USSR (ORAL) AMENDMENT REPLACING THE 1ST COMM. DRAFT RESOLUTION (A/54/REV.1) WITH THE FOLLOWING:  \\\\TAKING INTO CONSIDERATION THE QUESTION RAISED BY THE WORLD FEDERATION OF TRADE UNIONS CONCERNING ITS PARTICIPATION IN THE WORK OF THE ECO\", \"ec\", \"Economic development\", 1946], [18, \"Denmark\", \"DK\", \"no\", 1, 0.0, \"1946-02-03\", \"R/1/532\", 1.0, 0.0, \"ECOSOC CONSULTANTS\", \"TO ADOPT USSR (ORAL) AMENDMENT REPLACING THE 1ST COMM. DRAFT RESOLUTION (A/54/REV.1) WITH THE FOLLOWING:  \\\\TAKING INTO CONSIDERATION THE QUESTION RAISED BY THE WORLD FEDERATION OF TRADE UNIONS CONCERNING ITS PARTICIPATION IN THE WORK OF THE ECO\", \"ec\", \"Economic development\", 1946], [18, \"Liberia\", \"LR\", \"no\", 1, 0.0, \"1946-02-03\", \"R/1/532\", 1.0, 0.0, \"ECOSOC CONSULTANTS\", \"TO ADOPT USSR (ORAL) AMENDMENT REPLACING THE 1ST COMM. DRAFT RESOLUTION (A/54/REV.1) WITH THE FOLLOWING:  \\\\TAKING INTO CONSIDERATION THE QUESTION RAISED BY THE WORLD FEDERATION OF TRADE UNIONS CONCERNING ITS PARTICIPATION IN THE WORK OF THE ECO\", \"ec\", \"Economic development\", 1946], [18, \"Ethiopia\", \"ET\", \"no\", 1, 0.0, \"1946-02-03\", \"R/1/532\", 1.0, 0.0, \"ECOSOC CONSULTANTS\", \"TO ADOPT USSR (ORAL) AMENDMENT REPLACING THE 1ST COMM. DRAFT RESOLUTION (A/54/REV.1) WITH THE FOLLOWING:  \\\\TAKING INTO CONSIDERATION THE QUESTION RAISED BY THE WORLD FEDERATION OF TRADE UNIONS CONCERNING ITS PARTICIPATION IN THE WORK OF THE ECO\", \"ec\", \"Economic development\", 1946], [18, \"South Africa\", \"ZA\", \"no\", 1, 0.0, \"1946-02-03\", \"R/1/532\", 1.0, 0.0, \"ECOSOC CONSULTANTS\", \"TO ADOPT USSR (ORAL) AMENDMENT REPLACING THE 1ST COMM. DRAFT RESOLUTION (A/54/REV.1) WITH THE FOLLOWING:  \\\\TAKING INTO CONSIDERATION THE QUESTION RAISED BY THE WORLD FEDERATION OF TRADE UNIONS CONCERNING ITS PARTICIPATION IN THE WORK OF THE ECO\", \"ec\", \"Economic development\", 1946], [18, \"Iran\", \"IR\", \"abstain\", 1, 0.0, \"1946-02-03\", \"R/1/532\", 1.0, 0.0, \"ECOSOC CONSULTANTS\", \"TO ADOPT USSR (ORAL) AMENDMENT REPLACING THE 1ST COMM. DRAFT RESOLUTION (A/54/REV.1) WITH THE FOLLOWING:  \\\\TAKING INTO CONSIDERATION THE QUESTION RAISED BY THE WORLD FEDERATION OF TRADE UNIONS CONCERNING ITS PARTICIPATION IN THE WORK OF THE ECO\", \"ec\", \"Economic development\", 1946], [18, \"Turkey\", \"TR\", \"no\", 1, 0.0, \"1946-02-03\", \"R/1/532\", 1.0, 0.0, \"ECOSOC CONSULTANTS\", \"TO ADOPT USSR (ORAL) AMENDMENT REPLACING THE 1ST COMM. DRAFT RESOLUTION (A/54/REV.1) WITH THE FOLLOWING:  \\\\TAKING INTO CONSIDERATION THE QUESTION RAISED BY THE WORLD FEDERATION OF TRADE UNIONS CONCERNING ITS PARTICIPATION IN THE WORK OF THE ECO\", \"ec\", \"Economic development\", 1946], [18, \"Iraq\", \"IQ\", \"yes\", 1, 0.0, \"1946-02-03\", \"R/1/532\", 1.0, 0.0, \"ECOSOC CONSULTANTS\", \"TO ADOPT USSR (ORAL) AMENDMENT REPLACING THE 1ST COMM. DRAFT RESOLUTION (A/54/REV.1) WITH THE FOLLOWING:  \\\\TAKING INTO CONSIDERATION THE QUESTION RAISED BY THE WORLD FEDERATION OF TRADE UNIONS CONCERNING ITS PARTICIPATION IN THE WORK OF THE ECO\", \"ec\", \"Economic development\", 1946], [18, \"Egypt\", \"EG\", \"abstain\", 1, 0.0, \"1946-02-03\", \"R/1/532\", 1.0, 0.0, \"ECOSOC CONSULTANTS\", \"TO ADOPT USSR (ORAL) AMENDMENT REPLACING THE 1ST COMM. DRAFT RESOLUTION (A/54/REV.1) WITH THE FOLLOWING:  \\\\TAKING INTO CONSIDERATION THE QUESTION RAISED BY THE WORLD FEDERATION OF TRADE UNIONS CONCERNING ITS PARTICIPATION IN THE WORK OF THE ECO\", \"ec\", \"Economic development\", 1946], [18, \"Syria\", \"SY\", \"abstain\", 1, 0.0, \"1946-02-03\", \"R/1/532\", 1.0, 0.0, \"ECOSOC CONSULTANTS\", \"TO ADOPT USSR (ORAL) AMENDMENT REPLACING THE 1ST COMM. DRAFT RESOLUTION (A/54/REV.1) WITH THE FOLLOWING:  \\\\TAKING INTO CONSIDERATION THE QUESTION RAISED BY THE WORLD FEDERATION OF TRADE UNIONS CONCERNING ITS PARTICIPATION IN THE WORK OF THE ECO\", \"ec\", \"Economic development\", 1946], [18, \"Lebanon\", \"LB\", \"abstain\", 1, 0.0, \"1946-02-03\", \"R/1/532\", 1.0, 0.0, \"ECOSOC CONSULTANTS\", \"TO ADOPT USSR (ORAL) AMENDMENT REPLACING THE 1ST COMM. DRAFT RESOLUTION (A/54/REV.1) WITH THE FOLLOWING:  \\\\TAKING INTO CONSIDERATION THE QUESTION RAISED BY THE WORLD FEDERATION OF TRADE UNIONS CONCERNING ITS PARTICIPATION IN THE WORK OF THE ECO\", \"ec\", \"Economic development\", 1946], [18, \"Saudi Arabia\", \"SA\", \"abstain\", 1, 0.0, \"1946-02-03\", \"R/1/532\", 1.0, 0.0, \"ECOSOC CONSULTANTS\", \"TO ADOPT USSR (ORAL) AMENDMENT REPLACING THE 1ST COMM. DRAFT RESOLUTION (A/54/REV.1) WITH THE FOLLOWING:  \\\\TAKING INTO CONSIDERATION THE QUESTION RAISED BY THE WORLD FEDERATION OF TRADE UNIONS CONCERNING ITS PARTICIPATION IN THE WORK OF THE ECO\", \"ec\", \"Economic development\", 1946], [18, \"Taiwan\", \"TW\", \"no\", 1, 0.0, \"1946-02-03\", \"R/1/532\", 1.0, 0.0, \"ECOSOC CONSULTANTS\", \"TO ADOPT USSR (ORAL) AMENDMENT REPLACING THE 1ST COMM. DRAFT RESOLUTION (A/54/REV.1) WITH THE FOLLOWING:  \\\\TAKING INTO CONSIDERATION THE QUESTION RAISED BY THE WORLD FEDERATION OF TRADE UNIONS CONCERNING ITS PARTICIPATION IN THE WORK OF THE ECO\", \"ec\", \"Economic development\", 1946], [18, \"India\", \"IN\", \"no\", 1, 0.0, \"1946-02-03\", \"R/1/532\", 1.0, 0.0, \"ECOSOC CONSULTANTS\", \"TO ADOPT USSR (ORAL) AMENDMENT REPLACING THE 1ST COMM. DRAFT RESOLUTION (A/54/REV.1) WITH THE FOLLOWING:  \\\\TAKING INTO CONSIDERATION THE QUESTION RAISED BY THE WORLD FEDERATION OF TRADE UNIONS CONCERNING ITS PARTICIPATION IN THE WORK OF THE ECO\", \"ec\", \"Economic development\", 1946], [18, \"Philippines\", \"PH\", \"no\", 1, 0.0, \"1946-02-03\", \"R/1/532\", 1.0, 0.0, \"ECOSOC CONSULTANTS\", \"TO ADOPT USSR (ORAL) AMENDMENT REPLACING THE 1ST COMM. DRAFT RESOLUTION (A/54/REV.1) WITH THE FOLLOWING:  \\\\TAKING INTO CONSIDERATION THE QUESTION RAISED BY THE WORLD FEDERATION OF TRADE UNIONS CONCERNING ITS PARTICIPATION IN THE WORK OF THE ECO\", \"ec\", \"Economic development\", 1946], [18, \"Australia\", \"AU\", \"no\", 1, 0.0, \"1946-02-03\", \"R/1/532\", 1.0, 0.0, \"ECOSOC CONSULTANTS\", \"TO ADOPT USSR (ORAL) AMENDMENT REPLACING THE 1ST COMM. DRAFT RESOLUTION (A/54/REV.1) WITH THE FOLLOWING:  \\\\TAKING INTO CONSIDERATION THE QUESTION RAISED BY THE WORLD FEDERATION OF TRADE UNIONS CONCERNING ITS PARTICIPATION IN THE WORK OF THE ECO\", \"ec\", \"Economic development\", 1946], [18, \"New Zealand\", \"NZ\", \"no\", 1, 0.0, \"1946-02-03\", \"R/1/532\", 1.0, 0.0, \"ECOSOC CONSULTANTS\", \"TO ADOPT USSR (ORAL) AMENDMENT REPLACING THE 1ST COMM. DRAFT RESOLUTION (A/54/REV.1) WITH THE FOLLOWING:  \\\\TAKING INTO CONSIDERATION THE QUESTION RAISED BY THE WORLD FEDERATION OF TRADE UNIONS CONCERNING ITS PARTICIPATION IN THE WORK OF THE ECO\", \"ec\", \"Economic development\", 1946], [19, \"United States\", \"US\", \"yes\", 1, 0.0, \"1946-02-03\", \"R/1/534\", 0.0, 0.0, \"ECOSOC CONSULTANTS\", \"TO ADOPT THE 1ST COMM. DRAFT RESOLUTION (A/54/REV.1) PROVIDING THAT THE E.S.C. ARRANGE FOR CONSULTATIVE COLLABORATION WITH NON-GOVERNMENTAL ORGANIZATIONS, INTERNATIONAL, NATIONAL OR REGIONAL.\", \"ec\", \"Economic development\", 1946], [19, \"Canada\", \"CA\", \"yes\", 1, 0.0, \"1946-02-03\", \"R/1/534\", 0.0, 0.0, \"ECOSOC CONSULTANTS\", \"TO ADOPT THE 1ST COMM. DRAFT RESOLUTION (A/54/REV.1) PROVIDING THAT THE E.S.C. ARRANGE FOR CONSULTATIVE COLLABORATION WITH NON-GOVERNMENTAL ORGANIZATIONS, INTERNATIONAL, NATIONAL OR REGIONAL.\", \"ec\", \"Economic development\", 1946], [19, \"Cuba\", \"CU\", \"yes\", 1, 0.0, \"1946-02-03\", \"R/1/534\", 0.0, 0.0, \"ECOSOC CONSULTANTS\", \"TO ADOPT THE 1ST COMM. DRAFT RESOLUTION (A/54/REV.1) PROVIDING THAT THE E.S.C. ARRANGE FOR CONSULTATIVE COLLABORATION WITH NON-GOVERNMENTAL ORGANIZATIONS, INTERNATIONAL, NATIONAL OR REGIONAL.\", \"ec\", \"Economic development\", 1946], [19, \"Haiti\", \"HT\", \"yes\", 1, 0.0, \"1946-02-03\", \"R/1/534\", 0.0, 0.0, \"ECOSOC CONSULTANTS\", \"TO ADOPT THE 1ST COMM. DRAFT RESOLUTION (A/54/REV.1) PROVIDING THAT THE E.S.C. ARRANGE FOR CONSULTATIVE COLLABORATION WITH NON-GOVERNMENTAL ORGANIZATIONS, INTERNATIONAL, NATIONAL OR REGIONAL.\", \"ec\", \"Economic development\", 1946], [19, \"Dominican Republic\", \"DO\", \"yes\", 1, 0.0, \"1946-02-03\", \"R/1/534\", 0.0, 0.0, \"ECOSOC CONSULTANTS\", \"TO ADOPT THE 1ST COMM. DRAFT RESOLUTION (A/54/REV.1) PROVIDING THAT THE E.S.C. ARRANGE FOR CONSULTATIVE COLLABORATION WITH NON-GOVERNMENTAL ORGANIZATIONS, INTERNATIONAL, NATIONAL OR REGIONAL.\", \"ec\", \"Economic development\", 1946], [19, \"Mexico\", \"MX\", \"abstain\", 1, 0.0, \"1946-02-03\", \"R/1/534\", 0.0, 0.0, \"ECOSOC CONSULTANTS\", \"TO ADOPT THE 1ST COMM. DRAFT RESOLUTION (A/54/REV.1) PROVIDING THAT THE E.S.C. ARRANGE FOR CONSULTATIVE COLLABORATION WITH NON-GOVERNMENTAL ORGANIZATIONS, INTERNATIONAL, NATIONAL OR REGIONAL.\", \"ec\", \"Economic development\", 1946], [19, \"Honduras\", \"HN\", \"yes\", 1, 0.0, \"1946-02-03\", \"R/1/534\", 0.0, 0.0, \"ECOSOC CONSULTANTS\", \"TO ADOPT THE 1ST COMM. DRAFT RESOLUTION (A/54/REV.1) PROVIDING THAT THE E.S.C. ARRANGE FOR CONSULTATIVE COLLABORATION WITH NON-GOVERNMENTAL ORGANIZATIONS, INTERNATIONAL, NATIONAL OR REGIONAL.\", \"ec\", \"Economic development\", 1946], [19, \"El Salvador\", \"SV\", \"yes\", 1, 0.0, \"1946-02-03\", \"R/1/534\", 0.0, 0.0, \"ECOSOC CONSULTANTS\", \"TO ADOPT THE 1ST COMM. DRAFT RESOLUTION (A/54/REV.1) PROVIDING THAT THE E.S.C. ARRANGE FOR CONSULTATIVE COLLABORATION WITH NON-GOVERNMENTAL ORGANIZATIONS, INTERNATIONAL, NATIONAL OR REGIONAL.\", \"ec\", \"Economic development\", 1946], [19, \"Nicaragua\", \"NI\", \"yes\", 1, 0.0, \"1946-02-03\", \"R/1/534\", 0.0, 0.0, \"ECOSOC CONSULTANTS\", \"TO ADOPT THE 1ST COMM. DRAFT RESOLUTION (A/54/REV.1) PROVIDING THAT THE E.S.C. ARRANGE FOR CONSULTATIVE COLLABORATION WITH NON-GOVERNMENTAL ORGANIZATIONS, INTERNATIONAL, NATIONAL OR REGIONAL.\", \"ec\", \"Economic development\", 1946], [19, \"Panama\", \"PA\", \"yes\", 1, 0.0, \"1946-02-03\", \"R/1/534\", 0.0, 0.0, \"ECOSOC CONSULTANTS\", \"TO ADOPT THE 1ST COMM. DRAFT RESOLUTION (A/54/REV.1) PROVIDING THAT THE E.S.C. ARRANGE FOR CONSULTATIVE COLLABORATION WITH NON-GOVERNMENTAL ORGANIZATIONS, INTERNATIONAL, NATIONAL OR REGIONAL.\", \"ec\", \"Economic development\", 1946], [19, \"Colombia\", \"CO\", \"abstain\", 1, 0.0, \"1946-02-03\", \"R/1/534\", 0.0, 0.0, \"ECOSOC CONSULTANTS\", \"TO ADOPT THE 1ST COMM. DRAFT RESOLUTION (A/54/REV.1) PROVIDING THAT THE E.S.C. ARRANGE FOR CONSULTATIVE COLLABORATION WITH NON-GOVERNMENTAL ORGANIZATIONS, INTERNATIONAL, NATIONAL OR REGIONAL.\", \"ec\", \"Economic development\", 1946], [19, \"Venezuela\", \"VE\", \"yes\", 1, 0.0, \"1946-02-03\", \"R/1/534\", 0.0, 0.0, \"ECOSOC CONSULTANTS\", \"TO ADOPT THE 1ST COMM. DRAFT RESOLUTION (A/54/REV.1) PROVIDING THAT THE E.S.C. ARRANGE FOR CONSULTATIVE COLLABORATION WITH NON-GOVERNMENTAL ORGANIZATIONS, INTERNATIONAL, NATIONAL OR REGIONAL.\", \"ec\", \"Economic development\", 1946], [19, \"Ecuador\", \"EC\", \"yes\", 1, 0.0, \"1946-02-03\", \"R/1/534\", 0.0, 0.0, \"ECOSOC CONSULTANTS\", \"TO ADOPT THE 1ST COMM. DRAFT RESOLUTION (A/54/REV.1) PROVIDING THAT THE E.S.C. ARRANGE FOR CONSULTATIVE COLLABORATION WITH NON-GOVERNMENTAL ORGANIZATIONS, INTERNATIONAL, NATIONAL OR REGIONAL.\", \"ec\", \"Economic development\", 1946], [19, \"Peru\", \"PE\", \"yes\", 1, 0.0, \"1946-02-03\", \"R/1/534\", 0.0, 0.0, \"ECOSOC CONSULTANTS\", \"TO ADOPT THE 1ST COMM. DRAFT RESOLUTION (A/54/REV.1) PROVIDING THAT THE E.S.C. ARRANGE FOR CONSULTATIVE COLLABORATION WITH NON-GOVERNMENTAL ORGANIZATIONS, INTERNATIONAL, NATIONAL OR REGIONAL.\", \"ec\", \"Economic development\", 1946], [19, \"Brazil\", \"BR\", \"yes\", 1, 0.0, \"1946-02-03\", \"R/1/534\", 0.0, 0.0, \"ECOSOC CONSULTANTS\", \"TO ADOPT THE 1ST COMM. DRAFT RESOLUTION (A/54/REV.1) PROVIDING THAT THE E.S.C. ARRANGE FOR CONSULTATIVE COLLABORATION WITH NON-GOVERNMENTAL ORGANIZATIONS, INTERNATIONAL, NATIONAL OR REGIONAL.\", \"ec\", \"Economic development\", 1946], [19, \"Bolivia\", \"BO\", \"yes\", 1, 0.0, \"1946-02-03\", \"R/1/534\", 0.0, 0.0, \"ECOSOC CONSULTANTS\", \"TO ADOPT THE 1ST COMM. DRAFT RESOLUTION (A/54/REV.1) PROVIDING THAT THE E.S.C. ARRANGE FOR CONSULTATIVE COLLABORATION WITH NON-GOVERNMENTAL ORGANIZATIONS, INTERNATIONAL, NATIONAL OR REGIONAL.\", \"ec\", \"Economic development\", 1946], [19, \"Paraguay\", \"PY\", \"yes\", 1, 0.0, \"1946-02-03\", \"R/1/534\", 0.0, 0.0, \"ECOSOC CONSULTANTS\", \"TO ADOPT THE 1ST COMM. DRAFT RESOLUTION (A/54/REV.1) PROVIDING THAT THE E.S.C. ARRANGE FOR CONSULTATIVE COLLABORATION WITH NON-GOVERNMENTAL ORGANIZATIONS, INTERNATIONAL, NATIONAL OR REGIONAL.\", \"ec\", \"Economic development\", 1946], [19, \"Chile\", \"CL\", \"abstain\", 1, 0.0, \"1946-02-03\", \"R/1/534\", 0.0, 0.0, \"ECOSOC CONSULTANTS\", \"TO ADOPT THE 1ST COMM. DRAFT RESOLUTION (A/54/REV.1) PROVIDING THAT THE E.S.C. ARRANGE FOR CONSULTATIVE COLLABORATION WITH NON-GOVERNMENTAL ORGANIZATIONS, INTERNATIONAL, NATIONAL OR REGIONAL.\", \"ec\", \"Economic development\", 1946], [19, \"Argentina\", \"AR\", \"yes\", 1, 0.0, \"1946-02-03\", \"R/1/534\", 0.0, 0.0, \"ECOSOC CONSULTANTS\", \"TO ADOPT THE 1ST COMM. DRAFT RESOLUTION (A/54/REV.1) PROVIDING THAT THE E.S.C. ARRANGE FOR CONSULTATIVE COLLABORATION WITH NON-GOVERNMENTAL ORGANIZATIONS, INTERNATIONAL, NATIONAL OR REGIONAL.\", \"ec\", \"Economic development\", 1946], [19, \"Uruguay\", \"UY\", \"yes\", 1, 0.0, \"1946-02-03\", \"R/1/534\", 0.0, 0.0, \"ECOSOC CONSULTANTS\", \"TO ADOPT THE 1ST COMM. DRAFT RESOLUTION (A/54/REV.1) PROVIDING THAT THE E.S.C. ARRANGE FOR CONSULTATIVE COLLABORATION WITH NON-GOVERNMENTAL ORGANIZATIONS, INTERNATIONAL, NATIONAL OR REGIONAL.\", \"ec\", \"Economic development\", 1946], [19, \"United Kingdom\", \"GB\", \"yes\", 1, 0.0, \"1946-02-03\", \"R/1/534\", 0.0, 0.0, \"ECOSOC CONSULTANTS\", \"TO ADOPT THE 1ST COMM. DRAFT RESOLUTION (A/54/REV.1) PROVIDING THAT THE E.S.C. ARRANGE FOR CONSULTATIVE COLLABORATION WITH NON-GOVERNMENTAL ORGANIZATIONS, INTERNATIONAL, NATIONAL OR REGIONAL.\", \"ec\", \"Economic development\", 1946], [19, \"Netherlands\", \"NL\", \"yes\", 1, 0.0, \"1946-02-03\", \"R/1/534\", 0.0, 0.0, \"ECOSOC CONSULTANTS\", \"TO ADOPT THE 1ST COMM. DRAFT RESOLUTION (A/54/REV.1) PROVIDING THAT THE E.S.C. ARRANGE FOR CONSULTATIVE COLLABORATION WITH NON-GOVERNMENTAL ORGANIZATIONS, INTERNATIONAL, NATIONAL OR REGIONAL.\", \"ec\", \"Economic development\", 1946], [19, \"Belgium\", \"BE\", \"abstain\", 1, 0.0, \"1946-02-03\", \"R/1/534\", 0.0, 0.0, \"ECOSOC CONSULTANTS\", \"TO ADOPT THE 1ST COMM. DRAFT RESOLUTION (A/54/REV.1) PROVIDING THAT THE E.S.C. ARRANGE FOR CONSULTATIVE COLLABORATION WITH NON-GOVERNMENTAL ORGANIZATIONS, INTERNATIONAL, NATIONAL OR REGIONAL.\", \"ec\", \"Economic development\", 1946], [19, \"Luxembourg\", \"LU\", \"yes\", 1, 0.0, \"1946-02-03\", \"R/1/534\", 0.0, 0.0, \"ECOSOC CONSULTANTS\", \"TO ADOPT THE 1ST COMM. DRAFT RESOLUTION (A/54/REV.1) PROVIDING THAT THE E.S.C. ARRANGE FOR CONSULTATIVE COLLABORATION WITH NON-GOVERNMENTAL ORGANIZATIONS, INTERNATIONAL, NATIONAL OR REGIONAL.\", \"ec\", \"Economic development\", 1946], [19, \"France\", \"FR\", \"abstain\", 1, 0.0, \"1946-02-03\", \"R/1/534\", 0.0, 0.0, \"ECOSOC CONSULTANTS\", \"TO ADOPT THE 1ST COMM. DRAFT RESOLUTION (A/54/REV.1) PROVIDING THAT THE E.S.C. ARRANGE FOR CONSULTATIVE COLLABORATION WITH NON-GOVERNMENTAL ORGANIZATIONS, INTERNATIONAL, NATIONAL OR REGIONAL.\", \"ec\", \"Economic development\", 1946], [19, \"Poland\", \"PL\", \"no\", 1, 0.0, \"1946-02-03\", \"R/1/534\", 0.0, 0.0, \"ECOSOC CONSULTANTS\", \"TO ADOPT THE 1ST COMM. DRAFT RESOLUTION (A/54/REV.1) PROVIDING THAT THE E.S.C. ARRANGE FOR CONSULTATIVE COLLABORATION WITH NON-GOVERNMENTAL ORGANIZATIONS, INTERNATIONAL, NATIONAL OR REGIONAL.\", \"ec\", \"Economic development\", 1946], [19, \"Czechoslovakia\", \"CS\", \"no\", 1, 0.0, \"1946-02-03\", \"R/1/534\", 0.0, 0.0, \"ECOSOC CONSULTANTS\", \"TO ADOPT THE 1ST COMM. DRAFT RESOLUTION (A/54/REV.1) PROVIDING THAT THE E.S.C. ARRANGE FOR CONSULTATIVE COLLABORATION WITH NON-GOVERNMENTAL ORGANIZATIONS, INTERNATIONAL, NATIONAL OR REGIONAL.\", \"ec\", \"Economic development\", 1946], [19, \"Yugoslavia\", \"YU\", \"no\", 1, 0.0, \"1946-02-03\", \"R/1/534\", 0.0, 0.0, \"ECOSOC CONSULTANTS\", \"TO ADOPT THE 1ST COMM. DRAFT RESOLUTION (A/54/REV.1) PROVIDING THAT THE E.S.C. ARRANGE FOR CONSULTATIVE COLLABORATION WITH NON-GOVERNMENTAL ORGANIZATIONS, INTERNATIONAL, NATIONAL OR REGIONAL.\", \"ec\", \"Economic development\", 1946], [19, \"Greece\", \"GR\", \"yes\", 1, 0.0, \"1946-02-03\", \"R/1/534\", 0.0, 0.0, \"ECOSOC CONSULTANTS\", \"TO ADOPT THE 1ST COMM. DRAFT RESOLUTION (A/54/REV.1) PROVIDING THAT THE E.S.C. ARRANGE FOR CONSULTATIVE COLLABORATION WITH NON-GOVERNMENTAL ORGANIZATIONS, INTERNATIONAL, NATIONAL OR REGIONAL.\", \"ec\", \"Economic development\", 1946], [19, \"Russia\", \"RU\", \"no\", 1, 0.0, \"1946-02-03\", \"R/1/534\", 0.0, 0.0, \"ECOSOC CONSULTANTS\", \"TO ADOPT THE 1ST COMM. DRAFT RESOLUTION (A/54/REV.1) PROVIDING THAT THE E.S.C. ARRANGE FOR CONSULTATIVE COLLABORATION WITH NON-GOVERNMENTAL ORGANIZATIONS, INTERNATIONAL, NATIONAL OR REGIONAL.\", \"ec\", \"Economic development\", 1946], [19, \"Ukraine\", \"UA\", \"no\", 1, 0.0, \"1946-02-03\", \"R/1/534\", 0.0, 0.0, \"ECOSOC CONSULTANTS\", \"TO ADOPT THE 1ST COMM. DRAFT RESOLUTION (A/54/REV.1) PROVIDING THAT THE E.S.C. ARRANGE FOR CONSULTATIVE COLLABORATION WITH NON-GOVERNMENTAL ORGANIZATIONS, INTERNATIONAL, NATIONAL OR REGIONAL.\", \"ec\", \"Economic development\", 1946], [19, \"Belarus\", \"BY\", \"no\", 1, 0.0, \"1946-02-03\", \"R/1/534\", 0.0, 0.0, \"ECOSOC CONSULTANTS\", \"TO ADOPT THE 1ST COMM. DRAFT RESOLUTION (A/54/REV.1) PROVIDING THAT THE E.S.C. ARRANGE FOR CONSULTATIVE COLLABORATION WITH NON-GOVERNMENTAL ORGANIZATIONS, INTERNATIONAL, NATIONAL OR REGIONAL.\", \"ec\", \"Economic development\", 1946], [19, \"Norway\", \"NO\", \"yes\", 1, 0.0, \"1946-02-03\", \"R/1/534\", 0.0, 0.0, \"ECOSOC CONSULTANTS\", \"TO ADOPT THE 1ST COMM. DRAFT RESOLUTION (A/54/REV.1) PROVIDING THAT THE E.S.C. ARRANGE FOR CONSULTATIVE COLLABORATION WITH NON-GOVERNMENTAL ORGANIZATIONS, INTERNATIONAL, NATIONAL OR REGIONAL.\", \"ec\", \"Economic development\", 1946], [19, \"Denmark\", \"DK\", \"yes\", 1, 0.0, \"1946-02-03\", \"R/1/534\", 0.0, 0.0, \"ECOSOC CONSULTANTS\", \"TO ADOPT THE 1ST COMM. DRAFT RESOLUTION (A/54/REV.1) PROVIDING THAT THE E.S.C. ARRANGE FOR CONSULTATIVE COLLABORATION WITH NON-GOVERNMENTAL ORGANIZATIONS, INTERNATIONAL, NATIONAL OR REGIONAL.\", \"ec\", \"Economic development\", 1946], [19, \"Liberia\", \"LR\", \"yes\", 1, 0.0, \"1946-02-03\", \"R/1/534\", 0.0, 0.0, \"ECOSOC CONSULTANTS\", \"TO ADOPT THE 1ST COMM. DRAFT RESOLUTION (A/54/REV.1) PROVIDING THAT THE E.S.C. ARRANGE FOR CONSULTATIVE COLLABORATION WITH NON-GOVERNMENTAL ORGANIZATIONS, INTERNATIONAL, NATIONAL OR REGIONAL.\", \"ec\", \"Economic development\", 1946], [19, \"Ethiopia\", \"ET\", \"yes\", 1, 0.0, \"1946-02-03\", \"R/1/534\", 0.0, 0.0, \"ECOSOC CONSULTANTS\", \"TO ADOPT THE 1ST COMM. DRAFT RESOLUTION (A/54/REV.1) PROVIDING THAT THE E.S.C. ARRANGE FOR CONSULTATIVE COLLABORATION WITH NON-GOVERNMENTAL ORGANIZATIONS, INTERNATIONAL, NATIONAL OR REGIONAL.\", \"ec\", \"Economic development\", 1946], [19, \"South Africa\", \"ZA\", \"yes\", 1, 0.0, \"1946-02-03\", \"R/1/534\", 0.0, 0.0, \"ECOSOC CONSULTANTS\", \"TO ADOPT THE 1ST COMM. DRAFT RESOLUTION (A/54/REV.1) PROVIDING THAT THE E.S.C. ARRANGE FOR CONSULTATIVE COLLABORATION WITH NON-GOVERNMENTAL ORGANIZATIONS, INTERNATIONAL, NATIONAL OR REGIONAL.\", \"ec\", \"Economic development\", 1946], [19, \"Iran\", \"IR\", \"abstain\", 1, 0.0, \"1946-02-03\", \"R/1/534\", 0.0, 0.0, \"ECOSOC CONSULTANTS\", \"TO ADOPT THE 1ST COMM. DRAFT RESOLUTION (A/54/REV.1) PROVIDING THAT THE E.S.C. ARRANGE FOR CONSULTATIVE COLLABORATION WITH NON-GOVERNMENTAL ORGANIZATIONS, INTERNATIONAL, NATIONAL OR REGIONAL.\", \"ec\", \"Economic development\", 1946], [19, \"Turkey\", \"TR\", \"yes\", 1, 0.0, \"1946-02-03\", \"R/1/534\", 0.0, 0.0, \"ECOSOC CONSULTANTS\", \"TO ADOPT THE 1ST COMM. DRAFT RESOLUTION (A/54/REV.1) PROVIDING THAT THE E.S.C. ARRANGE FOR CONSULTATIVE COLLABORATION WITH NON-GOVERNMENTAL ORGANIZATIONS, INTERNATIONAL, NATIONAL OR REGIONAL.\", \"ec\", \"Economic development\", 1946], [19, \"Iraq\", \"IQ\", \"abstain\", 1, 0.0, \"1946-02-03\", \"R/1/534\", 0.0, 0.0, \"ECOSOC CONSULTANTS\", \"TO ADOPT THE 1ST COMM. DRAFT RESOLUTION (A/54/REV.1) PROVIDING THAT THE E.S.C. ARRANGE FOR CONSULTATIVE COLLABORATION WITH NON-GOVERNMENTAL ORGANIZATIONS, INTERNATIONAL, NATIONAL OR REGIONAL.\", \"ec\", \"Economic development\", 1946], [19, \"Egypt\", \"EG\", \"abstain\", 1, 0.0, \"1946-02-03\", \"R/1/534\", 0.0, 0.0, \"ECOSOC CONSULTANTS\", \"TO ADOPT THE 1ST COMM. DRAFT RESOLUTION (A/54/REV.1) PROVIDING THAT THE E.S.C. ARRANGE FOR CONSULTATIVE COLLABORATION WITH NON-GOVERNMENTAL ORGANIZATIONS, INTERNATIONAL, NATIONAL OR REGIONAL.\", \"ec\", \"Economic development\", 1946], [19, \"Syria\", \"SY\", \"abstain\", 1, 0.0, \"1946-02-03\", \"R/1/534\", 0.0, 0.0, \"ECOSOC CONSULTANTS\", \"TO ADOPT THE 1ST COMM. DRAFT RESOLUTION (A/54/REV.1) PROVIDING THAT THE E.S.C. ARRANGE FOR CONSULTATIVE COLLABORATION WITH NON-GOVERNMENTAL ORGANIZATIONS, INTERNATIONAL, NATIONAL OR REGIONAL.\", \"ec\", \"Economic development\", 1946], [19, \"Lebanon\", \"LB\", \"abstain\", 1, 0.0, \"1946-02-03\", \"R/1/534\", 0.0, 0.0, \"ECOSOC CONSULTANTS\", \"TO ADOPT THE 1ST COMM. DRAFT RESOLUTION (A/54/REV.1) PROVIDING THAT THE E.S.C. ARRANGE FOR CONSULTATIVE COLLABORATION WITH NON-GOVERNMENTAL ORGANIZATIONS, INTERNATIONAL, NATIONAL OR REGIONAL.\", \"ec\", \"Economic development\", 1946], [19, \"Saudi Arabia\", \"SA\", \"abstain\", 1, 0.0, \"1946-02-03\", \"R/1/534\", 0.0, 0.0, \"ECOSOC CONSULTANTS\", \"TO ADOPT THE 1ST COMM. DRAFT RESOLUTION (A/54/REV.1) PROVIDING THAT THE E.S.C. ARRANGE FOR CONSULTATIVE COLLABORATION WITH NON-GOVERNMENTAL ORGANIZATIONS, INTERNATIONAL, NATIONAL OR REGIONAL.\", \"ec\", \"Economic development\", 1946], [19, \"Taiwan\", \"TW\", \"yes\", 1, 0.0, \"1946-02-03\", \"R/1/534\", 0.0, 0.0, \"ECOSOC CONSULTANTS\", \"TO ADOPT THE 1ST COMM. DRAFT RESOLUTION (A/54/REV.1) PROVIDING THAT THE E.S.C. ARRANGE FOR CONSULTATIVE COLLABORATION WITH NON-GOVERNMENTAL ORGANIZATIONS, INTERNATIONAL, NATIONAL OR REGIONAL.\", \"ec\", \"Economic development\", 1946], [19, \"India\", \"IN\", \"yes\", 1, 0.0, \"1946-02-03\", \"R/1/534\", 0.0, 0.0, \"ECOSOC CONSULTANTS\", \"TO ADOPT THE 1ST COMM. DRAFT RESOLUTION (A/54/REV.1) PROVIDING THAT THE E.S.C. ARRANGE FOR CONSULTATIVE COLLABORATION WITH NON-GOVERNMENTAL ORGANIZATIONS, INTERNATIONAL, NATIONAL OR REGIONAL.\", \"ec\", \"Economic development\", 1946], [19, \"Philippines\", \"PH\", \"yes\", 1, 0.0, \"1946-02-03\", \"R/1/534\", 0.0, 0.0, \"ECOSOC CONSULTANTS\", \"TO ADOPT THE 1ST COMM. DRAFT RESOLUTION (A/54/REV.1) PROVIDING THAT THE E.S.C. ARRANGE FOR CONSULTATIVE COLLABORATION WITH NON-GOVERNMENTAL ORGANIZATIONS, INTERNATIONAL, NATIONAL OR REGIONAL.\", \"ec\", \"Economic development\", 1946], [19, \"Australia\", \"AU\", \"yes\", 1, 0.0, \"1946-02-03\", \"R/1/534\", 0.0, 0.0, \"ECOSOC CONSULTANTS\", \"TO ADOPT THE 1ST COMM. DRAFT RESOLUTION (A/54/REV.1) PROVIDING THAT THE E.S.C. ARRANGE FOR CONSULTATIVE COLLABORATION WITH NON-GOVERNMENTAL ORGANIZATIONS, INTERNATIONAL, NATIONAL OR REGIONAL.\", \"ec\", \"Economic development\", 1946], [19, \"New Zealand\", \"NZ\", \"yes\", 1, 0.0, \"1946-02-03\", \"R/1/534\", 0.0, 0.0, \"ECOSOC CONSULTANTS\", \"TO ADOPT THE 1ST COMM. DRAFT RESOLUTION (A/54/REV.1) PROVIDING THAT THE E.S.C. ARRANGE FOR CONSULTATIVE COLLABORATION WITH NON-GOVERNMENTAL ORGANIZATIONS, INTERNATIONAL, NATIONAL OR REGIONAL.\", \"ec\", \"Economic development\", 1946], [24, \"United States\", \"US\", \"yes\", 1, 0.0, \"1946-12-05\", \"R/1/1229\", 0.0, 0.0, \"ECOSOC ELECTIONS\", \"TO ADOPT BELGIAN ORAL PROPOSAL TO SURRENDER BELGIUM'S SEAT IN THE E.S.C., PROVIDING THAT THE NETHERLANDS AND TURKEY BE THEREBY ELECTED TO THE 2 REMAINING VACANCIES.\", \"ec\", \"Economic development\", 1946], [24, \"Canada\", \"CA\", \"yes\", 1, 0.0, \"1946-12-05\", \"R/1/1229\", 0.0, 0.0, \"ECOSOC ELECTIONS\", \"TO ADOPT BELGIAN ORAL PROPOSAL TO SURRENDER BELGIUM'S SEAT IN THE E.S.C., PROVIDING THAT THE NETHERLANDS AND TURKEY BE THEREBY ELECTED TO THE 2 REMAINING VACANCIES.\", \"ec\", \"Economic development\", 1946], [24, \"Cuba\", \"CU\", \"yes\", 1, 0.0, \"1946-12-05\", \"R/1/1229\", 0.0, 0.0, \"ECOSOC ELECTIONS\", \"TO ADOPT BELGIAN ORAL PROPOSAL TO SURRENDER BELGIUM'S SEAT IN THE E.S.C., PROVIDING THAT THE NETHERLANDS AND TURKEY BE THEREBY ELECTED TO THE 2 REMAINING VACANCIES.\", \"ec\", \"Economic development\", 1946], [24, \"Haiti\", \"HT\", \"abstain\", 1, 0.0, \"1946-12-05\", \"R/1/1229\", 0.0, 0.0, \"ECOSOC ELECTIONS\", \"TO ADOPT BELGIAN ORAL PROPOSAL TO SURRENDER BELGIUM'S SEAT IN THE E.S.C., PROVIDING THAT THE NETHERLANDS AND TURKEY BE THEREBY ELECTED TO THE 2 REMAINING VACANCIES.\", \"ec\", \"Economic development\", 1946], [24, \"Dominican Republic\", \"DO\", \"yes\", 1, 0.0, \"1946-12-05\", \"R/1/1229\", 0.0, 0.0, \"ECOSOC ELECTIONS\", \"TO ADOPT BELGIAN ORAL PROPOSAL TO SURRENDER BELGIUM'S SEAT IN THE E.S.C., PROVIDING THAT THE NETHERLANDS AND TURKEY BE THEREBY ELECTED TO THE 2 REMAINING VACANCIES.\", \"ec\", \"Economic development\", 1946], [9092, \"Sierra Leone\", \"SL\", \"yes\", 74, NaN, \"2019-12-12\", \"A/RES/74/34\", NaN, NaN, \"Further practical measures for the prevention of an arms race in outer space \", \"Further practical measures for the prevention of an arms race in outer space \", \"ec\", \"Economic development\", 2019], [9092, \"Singapore\", \"SG\", \"yes\", 74, NaN, \"2019-12-12\", \"A/RES/74/34\", NaN, NaN, \"Further practical measures for the prevention of an arms race in outer space \", \"Further practical measures for the prevention of an arms race in outer space \", \"di\", \"Arms control and disarmament\", 2019], [9092, \"Singapore\", \"SG\", \"yes\", 74, NaN, \"2019-12-12\", \"A/RES/74/34\", NaN, NaN, \"Further practical measures for the prevention of an arms race in outer space \", \"Further practical measures for the prevention of an arms race in outer space \", \"co\", \"Colonialism\", 2019], [9092, \"Singapore\", \"SG\", \"yes\", 74, NaN, \"2019-12-12\", \"A/RES/74/34\", NaN, NaN, \"Further practical measures for the prevention of an arms race in outer space \", \"Further practical measures for the prevention of an arms race in outer space \", \"ec\", \"Economic development\", 2019], [9092, \"Slovakia\", \"SK\", \"abstain\", 74, NaN, \"2019-12-12\", \"A/RES/74/34\", NaN, NaN, \"Further practical measures for the prevention of an arms race in outer space \", \"Further practical measures for the prevention of an arms race in outer space \", \"di\", \"Arms control and disarmament\", 2019], [9092, \"Slovakia\", \"SK\", \"abstain\", 74, NaN, \"2019-12-12\", \"A/RES/74/34\", NaN, NaN, \"Further practical measures for the prevention of an arms race in outer space \", \"Further practical measures for the prevention of an arms race in outer space \", \"co\", \"Colonialism\", 2019], [9092, \"Slovakia\", \"SK\", \"abstain\", 74, NaN, \"2019-12-12\", \"A/RES/74/34\", NaN, NaN, \"Further practical measures for the prevention of an arms race in outer space \", \"Further practical measures for the prevention of an arms race in outer space \", \"ec\", \"Economic development\", 2019], [9092, \"Slovenia\", \"SI\", \"abstain\", 74, NaN, \"2019-12-12\", \"A/RES/74/34\", NaN, NaN, \"Further practical measures for the prevention of an arms race in outer space \", \"Further practical measures for the prevention of an arms race in outer space \", \"di\", \"Arms control and disarmament\", 2019], [9092, \"Slovenia\", \"SI\", \"abstain\", 74, NaN, \"2019-12-12\", \"A/RES/74/34\", NaN, NaN, \"Further practical measures for the prevention of an arms race in outer space \", \"Further practical measures for the prevention of an arms race in outer space \", \"co\", \"Colonialism\", 2019], [9092, \"Slovenia\", \"SI\", \"abstain\", 74, NaN, \"2019-12-12\", \"A/RES/74/34\", NaN, NaN, \"Further practical measures for the prevention of an arms race in outer space \", \"Further practical measures for the prevention of an arms race in outer space \", \"ec\", \"Economic development\", 2019], [9092, \"Solomon Islands\", \"SB\", \"yes\", 74, NaN, \"2019-12-12\", \"A/RES/74/34\", NaN, NaN, \"Further practical measures for the prevention of an arms race in outer space \", \"Further practical measures for the prevention of an arms race in outer space \", \"di\", \"Arms control and disarmament\", 2019], [9092, \"Solomon Islands\", \"SB\", \"yes\", 74, NaN, \"2019-12-12\", \"A/RES/74/34\", NaN, NaN, \"Further practical measures for the prevention of an arms race in outer space \", \"Further practical measures for the prevention of an arms race in outer space \", \"co\", \"Colonialism\", 2019], [9092, \"Solomon Islands\", \"SB\", \"yes\", 74, NaN, \"2019-12-12\", \"A/RES/74/34\", NaN, NaN, \"Further practical measures for the prevention of an arms race in outer space \", \"Further practical measures for the prevention of an arms race in outer space \", \"ec\", \"Economic development\", 2019], [9092, \"South Africa\", \"ZA\", \"yes\", 74, NaN, \"2019-12-12\", \"A/RES/74/34\", NaN, NaN, \"Further practical measures for the prevention of an arms race in outer space \", \"Further practical measures for the prevention of an arms race in outer space \", \"di\", \"Arms control and disarmament\", 2019], [9092, \"South Africa\", \"ZA\", \"yes\", 74, NaN, \"2019-12-12\", \"A/RES/74/34\", NaN, NaN, \"Further practical measures for the prevention of an arms race in outer space \", \"Further practical measures for the prevention of an arms race in outer space \", \"co\", \"Colonialism\", 2019], [9092, \"South Africa\", \"ZA\", \"yes\", 74, NaN, \"2019-12-12\", \"A/RES/74/34\", NaN, NaN, \"Further practical measures for the prevention of an arms race in outer space \", \"Further practical measures for the prevention of an arms race in outer space \", \"ec\", \"Economic development\", 2019], [9092, \"South Sudan\", \"SS\", \"yes\", 74, NaN, \"2019-12-12\", \"A/RES/74/34\", NaN, NaN, \"Further practical measures for the prevention of an arms race in outer space \", \"Further practical measures for the prevention of an arms race in outer space \", \"di\", \"Arms control and disarmament\", 2019], [9092, \"South Sudan\", \"SS\", \"yes\", 74, NaN, \"2019-12-12\", \"A/RES/74/34\", NaN, NaN, \"Further practical measures for the prevention of an arms race in outer space \", \"Further practical measures for the prevention of an arms race in outer space \", \"co\", \"Colonialism\", 2019], [9092, \"South Sudan\", \"SS\", \"yes\", 74, NaN, \"2019-12-12\", \"A/RES/74/34\", NaN, NaN, \"Further practical measures for the prevention of an arms race in outer space \", \"Further practical measures for the prevention of an arms race in outer space \", \"ec\", \"Economic development\", 2019], [9092, \"Spain\", \"ES\", \"abstain\", 74, NaN, \"2019-12-12\", \"A/RES/74/34\", NaN, NaN, \"Further practical measures for the prevention of an arms race in outer space \", \"Further practical measures for the prevention of an arms race in outer space \", \"di\", \"Arms control and disarmament\", 2019], [9092, \"Spain\", \"ES\", \"abstain\", 74, NaN, \"2019-12-12\", \"A/RES/74/34\", NaN, NaN, \"Further practical measures for the prevention of an arms race in outer space \", \"Further practical measures for the prevention of an arms race in outer space \", \"co\", \"Colonialism\", 2019], [9092, \"Spain\", \"ES\", \"abstain\", 74, NaN, \"2019-12-12\", \"A/RES/74/34\", NaN, NaN, \"Further practical measures for the prevention of an arms race in outer space \", \"Further practical measures for the prevention of an arms race in outer space \", \"ec\", \"Economic development\", 2019], [9092, \"Sri Lanka\", \"LK\", \"yes\", 74, NaN, \"2019-12-12\", \"A/RES/74/34\", NaN, NaN, \"Further practical measures for the prevention of an arms race in outer space \", \"Further practical measures for the prevention of an arms race in outer space \", \"di\", \"Arms control and disarmament\", 2019], [9092, \"Sri Lanka\", \"LK\", \"yes\", 74, NaN, \"2019-12-12\", \"A/RES/74/34\", NaN, NaN, \"Further practical measures for the prevention of an arms race in outer space \", \"Further practical measures for the prevention of an arms race in outer space \", \"co\", \"Colonialism\", 2019], [9092, \"Sri Lanka\", \"LK\", \"yes\", 74, NaN, \"2019-12-12\", \"A/RES/74/34\", NaN, NaN, \"Further practical measures for the prevention of an arms race in outer space \", \"Further practical measures for the prevention of an arms race in outer space \", \"ec\", \"Economic development\", 2019], [9092, \"Sudan\", \"SD\", \"yes\", 74, NaN, \"2019-12-12\", \"A/RES/74/34\", NaN, NaN, \"Further practical measures for the prevention of an arms race in outer space \", \"Further practical measures for the prevention of an arms race in outer space \", \"di\", \"Arms control and disarmament\", 2019], [9092, \"Sudan\", \"SD\", \"yes\", 74, NaN, \"2019-12-12\", \"A/RES/74/34\", NaN, NaN, \"Further practical measures for the prevention of an arms race in outer space \", \"Further practical measures for the prevention of an arms race in outer space \", \"co\", \"Colonialism\", 2019], [9092, \"Sudan\", \"SD\", \"yes\", 74, NaN, \"2019-12-12\", \"A/RES/74/34\", NaN, NaN, \"Further practical measures for the prevention of an arms race in outer space \", \"Further practical measures for the prevention of an arms race in outer space \", \"ec\", \"Economic development\", 2019], [9092, \"Suriname\", \"SR\", \"yes\", 74, NaN, \"2019-12-12\", \"A/RES/74/34\", NaN, NaN, \"Further practical measures for the prevention of an arms race in outer space \", \"Further practical measures for the prevention of an arms race in outer space \", \"di\", \"Arms control and disarmament\", 2019], [9092, \"Suriname\", \"SR\", \"yes\", 74, NaN, \"2019-12-12\", \"A/RES/74/34\", NaN, NaN, \"Further practical measures for the prevention of an arms race in outer space \", \"Further practical measures for the prevention of an arms race in outer space \", \"co\", \"Colonialism\", 2019], [9092, \"Suriname\", \"SR\", \"yes\", 74, NaN, \"2019-12-12\", \"A/RES/74/34\", NaN, NaN, \"Further practical measures for the prevention of an arms race in outer space \", \"Further practical measures for the prevention of an arms race in outer space \", \"ec\", \"Economic development\", 2019], [9092, \"Sweden\", \"SE\", \"abstain\", 74, NaN, \"2019-12-12\", \"A/RES/74/34\", NaN, NaN, \"Further practical measures for the prevention of an arms race in outer space \", \"Further practical measures for the prevention of an arms race in outer space \", \"di\", \"Arms control and disarmament\", 2019], [9092, \"Sweden\", \"SE\", \"abstain\", 74, NaN, \"2019-12-12\", \"A/RES/74/34\", NaN, NaN, \"Further practical measures for the prevention of an arms race in outer space \", \"Further practical measures for the prevention of an arms race in outer space \", \"co\", \"Colonialism\", 2019], [9092, \"Sweden\", \"SE\", \"abstain\", 74, NaN, \"2019-12-12\", \"A/RES/74/34\", NaN, NaN, \"Further practical measures for the prevention of an arms race in outer space \", \"Further practical measures for the prevention of an arms race in outer space \", \"ec\", \"Economic development\", 2019], [9092, \"Switzerland\", \"CH\", \"abstain\", 74, NaN, \"2019-12-12\", \"A/RES/74/34\", NaN, NaN, \"Further practical measures for the prevention of an arms race in outer space \", \"Further practical measures for the prevention of an arms race in outer space \", \"di\", \"Arms control and disarmament\", 2019], [9092, \"Switzerland\", \"CH\", \"abstain\", 74, NaN, \"2019-12-12\", \"A/RES/74/34\", NaN, NaN, \"Further practical measures for the prevention of an arms race in outer space \", \"Further practical measures for the prevention of an arms race in outer space \", \"co\", \"Colonialism\", 2019], [9092, \"Switzerland\", \"CH\", \"abstain\", 74, NaN, \"2019-12-12\", \"A/RES/74/34\", NaN, NaN, \"Further practical measures for the prevention of an arms race in outer space \", \"Further practical measures for the prevention of an arms race in outer space \", \"ec\", \"Economic development\", 2019], [9092, \"Syria\", \"SY\", \"yes\", 74, NaN, \"2019-12-12\", \"A/RES/74/34\", NaN, NaN, \"Further practical measures for the prevention of an arms race in outer space \", \"Further practical measures for the prevention of an arms race in outer space \", \"di\", \"Arms control and disarmament\", 2019], [9092, \"Syria\", \"SY\", \"yes\", 74, NaN, \"2019-12-12\", \"A/RES/74/34\", NaN, NaN, \"Further practical measures for the prevention of an arms race in outer space \", \"Further practical measures for the prevention of an arms race in outer space \", \"co\", \"Colonialism\", 2019], [9092, \"Syria\", \"SY\", \"yes\", 74, NaN, \"2019-12-12\", \"A/RES/74/34\", NaN, NaN, \"Further practical measures for the prevention of an arms race in outer space \", \"Further practical measures for the prevention of an arms race in outer space \", \"ec\", \"Economic development\", 2019], [9092, \"Tajikistan\", \"TJ\", \"yes\", 74, NaN, \"2019-12-12\", \"A/RES/74/34\", NaN, NaN, \"Further practical measures for the prevention of an arms race in outer space \", \"Further practical measures for the prevention of an arms race in outer space \", \"di\", \"Arms control and disarmament\", 2019], [9092, \"Tajikistan\", \"TJ\", \"yes\", 74, NaN, \"2019-12-12\", \"A/RES/74/34\", NaN, NaN, \"Further practical measures for the prevention of an arms race in outer space \", \"Further practical measures for the prevention of an arms race in outer space \", \"co\", \"Colonialism\", 2019], [9092, \"Tajikistan\", \"TJ\", \"yes\", 74, NaN, \"2019-12-12\", \"A/RES/74/34\", NaN, NaN, \"Further practical measures for the prevention of an arms race in outer space \", \"Further practical measures for the prevention of an arms race in outer space \", \"ec\", \"Economic development\", 2019], [9092, \"Thailand\", \"TH\", \"yes\", 74, NaN, \"2019-12-12\", \"A/RES/74/34\", NaN, NaN, \"Further practical measures for the prevention of an arms race in outer space \", \"Further practical measures for the prevention of an arms race in outer space \", \"di\", \"Arms control and disarmament\", 2019], [9092, \"Thailand\", \"TH\", \"yes\", 74, NaN, \"2019-12-12\", \"A/RES/74/34\", NaN, NaN, \"Further practical measures for the prevention of an arms race in outer space \", \"Further practical measures for the prevention of an arms race in outer space \", \"co\", \"Colonialism\", 2019], [9092, \"Thailand\", \"TH\", \"yes\", 74, NaN, \"2019-12-12\", \"A/RES/74/34\", NaN, NaN, \"Further practical measures for the prevention of an arms race in outer space \", \"Further practical measures for the prevention of an arms race in outer space \", \"ec\", \"Economic development\", 2019], [9092, \"Timor-Leste\", \"TL\", \"yes\", 74, NaN, \"2019-12-12\", \"A/RES/74/34\", NaN, NaN, \"Further practical measures for the prevention of an arms race in outer space \", \"Further practical measures for the prevention of an arms race in outer space \", \"di\", \"Arms control and disarmament\", 2019], [9092, \"Timor-Leste\", \"TL\", \"yes\", 74, NaN, \"2019-12-12\", \"A/RES/74/34\", NaN, NaN, \"Further practical measures for the prevention of an arms race in outer space \", \"Further practical measures for the prevention of an arms race in outer space \", \"co\", \"Colonialism\", 2019], [9092, \"Timor-Leste\", \"TL\", \"yes\", 74, NaN, \"2019-12-12\", \"A/RES/74/34\", NaN, NaN, \"Further practical measures for the prevention of an arms race in outer space \", \"Further practical measures for the prevention of an arms race in outer space \", \"ec\", \"Economic development\", 2019], [9092, \"Togo\", \"TG\", \"yes\", 74, NaN, \"2019-12-12\", \"A/RES/74/34\", NaN, NaN, \"Further practical measures for the prevention of an arms race in outer space \", \"Further practical measures for the prevention of an arms race in outer space \", \"di\", \"Arms control and disarmament\", 2019], [9092, \"Togo\", \"TG\", \"yes\", 74, NaN, \"2019-12-12\", \"A/RES/74/34\", NaN, NaN, \"Further practical measures for the prevention of an arms race in outer space \", \"Further practical measures for the prevention of an arms race in outer space \", \"co\", \"Colonialism\", 2019], [9092, \"Togo\", \"TG\", \"yes\", 74, NaN, \"2019-12-12\", \"A/RES/74/34\", NaN, NaN, \"Further practical measures for the prevention of an arms race in outer space \", \"Further practical measures for the prevention of an arms race in outer space \", \"ec\", \"Economic development\", 2019], [9092, \"Trinidad & Tobago\", \"TT\", \"yes\", 74, NaN, \"2019-12-12\", \"A/RES/74/34\", NaN, NaN, \"Further practical measures for the prevention of an arms race in outer space \", \"Further practical measures for the prevention of an arms race in outer space \", \"di\", \"Arms control and disarmament\", 2019], [9092, \"Trinidad & Tobago\", \"TT\", \"yes\", 74, NaN, \"2019-12-12\", \"A/RES/74/34\", NaN, NaN, \"Further practical measures for the prevention of an arms race in outer space \", \"Further practical measures for the prevention of an arms race in outer space \", \"co\", \"Colonialism\", 2019], [9092, \"Trinidad & Tobago\", \"TT\", \"yes\", 74, NaN, \"2019-12-12\", \"A/RES/74/34\", NaN, NaN, \"Further practical measures for the prevention of an arms race in outer space \", \"Further practical measures for the prevention of an arms race in outer space \", \"ec\", \"Economic development\", 2019], [9092, \"Tunisia\", \"TN\", \"yes\", 74, NaN, \"2019-12-12\", \"A/RES/74/34\", NaN, NaN, \"Further practical measures for the prevention of an arms race in outer space \", \"Further practical measures for the prevention of an arms race in outer space \", \"di\", \"Arms control and disarmament\", 2019], [9092, \"Tunisia\", \"TN\", \"yes\", 74, NaN, \"2019-12-12\", \"A/RES/74/34\", NaN, NaN, \"Further practical measures for the prevention of an arms race in outer space \", \"Further practical measures for the prevention of an arms race in outer space \", \"co\", \"Colonialism\", 2019], [9092, \"Tunisia\", \"TN\", \"yes\", 74, NaN, \"2019-12-12\", \"A/RES/74/34\", NaN, NaN, \"Further practical measures for the prevention of an arms race in outer space \", \"Further practical measures for the prevention of an arms race in outer space \", \"ec\", \"Economic development\", 2019], [9092, \"Turkey\", \"TR\", \"abstain\", 74, NaN, \"2019-12-12\", \"A/RES/74/34\", NaN, NaN, \"Further practical measures for the prevention of an arms race in outer space \", \"Further practical measures for the prevention of an arms race in outer space \", \"di\", \"Arms control and disarmament\", 2019], [9092, \"Turkey\", \"TR\", \"abstain\", 74, NaN, \"2019-12-12\", \"A/RES/74/34\", NaN, NaN, \"Further practical measures for the prevention of an arms race in outer space \", \"Further practical measures for the prevention of an arms race in outer space \", \"co\", \"Colonialism\", 2019], [9092, \"Turkey\", \"TR\", \"abstain\", 74, NaN, \"2019-12-12\", \"A/RES/74/34\", NaN, NaN, \"Further practical measures for the prevention of an arms race in outer space \", \"Further practical measures for the prevention of an arms race in outer space \", \"ec\", \"Economic development\", 2019], [9092, \"Turkmenistan\", \"TM\", \"yes\", 74, NaN, \"2019-12-12\", \"A/RES/74/34\", NaN, NaN, \"Further practical measures for the prevention of an arms race in outer space \", \"Further practical measures for the prevention of an arms race in outer space \", \"di\", \"Arms control and disarmament\", 2019], [9092, \"Turkmenistan\", \"TM\", \"yes\", 74, NaN, \"2019-12-12\", \"A/RES/74/34\", NaN, NaN, \"Further practical measures for the prevention of an arms race in outer space \", \"Further practical measures for the prevention of an arms race in outer space \", \"co\", \"Colonialism\", 2019], [9092, \"Turkmenistan\", \"TM\", \"yes\", 74, NaN, \"2019-12-12\", \"A/RES/74/34\", NaN, NaN, \"Further practical measures for the prevention of an arms race in outer space \", \"Further practical measures for the prevention of an arms race in outer space \", \"ec\", \"Economic development\", 2019], [9092, \"Tuvalu\", \"TV\", \"yes\", 74, NaN, \"2019-12-12\", \"A/RES/74/34\", NaN, NaN, \"Further practical measures for the prevention of an arms race in outer space \", \"Further practical measures for the prevention of an arms race in outer space \", \"di\", \"Arms control and disarmament\", 2019], [9092, \"Tuvalu\", \"TV\", \"yes\", 74, NaN, \"2019-12-12\", \"A/RES/74/34\", NaN, NaN, \"Further practical measures for the prevention of an arms race in outer space \", \"Further practical measures for the prevention of an arms race in outer space \", \"co\", \"Colonialism\", 2019], [9092, \"Tuvalu\", \"TV\", \"yes\", 74, NaN, \"2019-12-12\", \"A/RES/74/34\", NaN, NaN, \"Further practical measures for the prevention of an arms race in outer space \", \"Further practical measures for the prevention of an arms race in outer space \", \"ec\", \"Economic development\", 2019], [9092, \"Uganda\", \"UG\", \"yes\", 74, NaN, \"2019-12-12\", \"A/RES/74/34\", NaN, NaN, \"Further practical measures for the prevention of an arms race in outer space \", \"Further practical measures for the prevention of an arms race in outer space \", \"di\", \"Arms control and disarmament\", 2019], [9092, \"Uganda\", \"UG\", \"yes\", 74, NaN, \"2019-12-12\", \"A/RES/74/34\", NaN, NaN, \"Further practical measures for the prevention of an arms race in outer space \", \"Further practical measures for the prevention of an arms race in outer space \", \"co\", \"Colonialism\", 2019], [9092, \"Uganda\", \"UG\", \"yes\", 74, NaN, \"2019-12-12\", \"A/RES/74/34\", NaN, NaN, \"Further practical measures for the prevention of an arms race in outer space \", \"Further practical measures for the prevention of an arms race in outer space \", \"ec\", \"Economic development\", 2019], [9092, \"Ukraine\", \"UA\", \"no\", 74, NaN, \"2019-12-12\", \"A/RES/74/34\", NaN, NaN, \"Further practical measures for the prevention of an arms race in outer space \", \"Further practical measures for the prevention of an arms race in outer space \", \"di\", \"Arms control and disarmament\", 2019], [9092, \"Ukraine\", \"UA\", \"no\", 74, NaN, \"2019-12-12\", \"A/RES/74/34\", NaN, NaN, \"Further practical measures for the prevention of an arms race in outer space \", \"Further practical measures for the prevention of an arms race in outer space \", \"co\", \"Colonialism\", 2019], [9092, \"Ukraine\", \"UA\", \"no\", 74, NaN, \"2019-12-12\", \"A/RES/74/34\", NaN, NaN, \"Further practical measures for the prevention of an arms race in outer space \", \"Further practical measures for the prevention of an arms race in outer space \", \"ec\", \"Economic development\", 2019], [9092, \"United Arab Emirates\", \"AE\", \"yes\", 74, NaN, \"2019-12-12\", \"A/RES/74/34\", NaN, NaN, \"Further practical measures for the prevention of an arms race in outer space \", \"Further practical measures for the prevention of an arms race in outer space \", \"di\", \"Arms control and disarmament\", 2019], [9092, \"United Arab Emirates\", \"AE\", \"yes\", 74, NaN, \"2019-12-12\", \"A/RES/74/34\", NaN, NaN, \"Further practical measures for the prevention of an arms race in outer space \", \"Further practical measures for the prevention of an arms race in outer space \", \"co\", \"Colonialism\", 2019], [9092, \"United Arab Emirates\", \"AE\", \"yes\", 74, NaN, \"2019-12-12\", \"A/RES/74/34\", NaN, NaN, \"Further practical measures for the prevention of an arms race in outer space \", \"Further practical measures for the prevention of an arms race in outer space \", \"ec\", \"Economic development\", 2019], [9092, \"United Kingdom\", \"GB\", \"no\", 74, NaN, \"2019-12-12\", \"A/RES/74/34\", NaN, NaN, \"Further practical measures for the prevention of an arms race in outer space \", \"Further practical measures for the prevention of an arms race in outer space \", \"di\", \"Arms control and disarmament\", 2019], [9092, \"United Kingdom\", \"GB\", \"no\", 74, NaN, \"2019-12-12\", \"A/RES/74/34\", NaN, NaN, \"Further practical measures for the prevention of an arms race in outer space \", \"Further practical measures for the prevention of an arms race in outer space \", \"co\", \"Colonialism\", 2019], [9092, \"United Kingdom\", \"GB\", \"no\", 74, NaN, \"2019-12-12\", \"A/RES/74/34\", NaN, NaN, \"Further practical measures for the prevention of an arms race in outer space \", \"Further practical measures for the prevention of an arms race in outer space \", \"ec\", \"Economic development\", 2019], [9092, \"Tanzania\", \"TZ\", \"yes\", 74, NaN, \"2019-12-12\", \"A/RES/74/34\", NaN, NaN, \"Further practical measures for the prevention of an arms race in outer space \", \"Further practical measures for the prevention of an arms race in outer space \", \"di\", \"Arms control and disarmament\", 2019], [9092, \"Tanzania\", \"TZ\", \"yes\", 74, NaN, \"2019-12-12\", \"A/RES/74/34\", NaN, NaN, \"Further practical measures for the prevention of an arms race in outer space \", \"Further practical measures for the prevention of an arms race in outer space \", \"co\", \"Colonialism\", 2019], [9092, \"Tanzania\", \"TZ\", \"yes\", 74, NaN, \"2019-12-12\", \"A/RES/74/34\", NaN, NaN, \"Further practical measures for the prevention of an arms race in outer space \", \"Further practical measures for the prevention of an arms race in outer space \", \"ec\", \"Economic development\", 2019], [9092, \"United States\", \"US\", \"no\", 74, NaN, \"2019-12-12\", \"A/RES/74/34\", NaN, NaN, \"Further practical measures for the prevention of an arms race in outer space \", \"Further practical measures for the prevention of an arms race in outer space \", \"di\", \"Arms control and disarmament\", 2019], [9092, \"United States\", \"US\", \"no\", 74, NaN, \"2019-12-12\", \"A/RES/74/34\", NaN, NaN, \"Further practical measures for the prevention of an arms race in outer space \", \"Further practical measures for the prevention of an arms race in outer space \", \"co\", \"Colonialism\", 2019], [9092, \"United States\", \"US\", \"no\", 74, NaN, \"2019-12-12\", \"A/RES/74/34\", NaN, NaN, \"Further practical measures for the prevention of an arms race in outer space \", \"Further practical measures for the prevention of an arms race in outer space \", \"ec\", \"Economic development\", 2019], [9092, \"Uruguay\", \"UY\", \"yes\", 74, NaN, \"2019-12-12\", \"A/RES/74/34\", NaN, NaN, \"Further practical measures for the prevention of an arms race in outer space \", \"Further practical measures for the prevention of an arms race in outer space \", \"di\", \"Arms control and disarmament\", 2019], [9092, \"Uruguay\", \"UY\", \"yes\", 74, NaN, \"2019-12-12\", \"A/RES/74/34\", NaN, NaN, \"Further practical measures for the prevention of an arms race in outer space \", \"Further practical measures for the prevention of an arms race in outer space \", \"co\", \"Colonialism\", 2019], [9092, \"Uruguay\", \"UY\", \"yes\", 74, NaN, \"2019-12-12\", \"A/RES/74/34\", NaN, NaN, \"Further practical measures for the prevention of an arms race in outer space \", \"Further practical measures for the prevention of an arms race in outer space \", \"ec\", \"Economic development\", 2019], [9092, \"Uzbekistan\", \"UZ\", \"yes\", 74, NaN, \"2019-12-12\", \"A/RES/74/34\", NaN, NaN, \"Further practical measures for the prevention of an arms race in outer space \", \"Further practical measures for the prevention of an arms race in outer space \", \"di\", \"Arms control and disarmament\", 2019], [9092, \"Uzbekistan\", \"UZ\", \"yes\", 74, NaN, \"2019-12-12\", \"A/RES/74/34\", NaN, NaN, \"Further practical measures for the prevention of an arms race in outer space \", \"Further practical measures for the prevention of an arms race in outer space \", \"co\", \"Colonialism\", 2019], [9092, \"Uzbekistan\", \"UZ\", \"yes\", 74, NaN, \"2019-12-12\", \"A/RES/74/34\", NaN, NaN, \"Further practical measures for the prevention of an arms race in outer space \", \"Further practical measures for the prevention of an arms race in outer space \", \"ec\", \"Economic development\", 2019], [9092, \"Vanuatu\", \"VU\", \"yes\", 74, NaN, \"2019-12-12\", \"A/RES/74/34\", NaN, NaN, \"Further practical measures for the prevention of an arms race in outer space \", \"Further practical measures for the prevention of an arms race in outer space \", \"di\", \"Arms control and disarmament\", 2019], [9092, \"Vanuatu\", \"VU\", \"yes\", 74, NaN, \"2019-12-12\", \"A/RES/74/34\", NaN, NaN, \"Further practical measures for the prevention of an arms race in outer space \", \"Further practical measures for the prevention of an arms race in outer space \", \"co\", \"Colonialism\", 2019], [9092, \"Vanuatu\", \"VU\", \"yes\", 74, NaN, \"2019-12-12\", \"A/RES/74/34\", NaN, NaN, \"Further practical measures for the prevention of an arms race in outer space \", \"Further practical measures for the prevention of an arms race in outer space \", \"ec\", \"Economic development\", 2019], [9092, \"Venezuela\", \"VE\", \"yes\", 74, NaN, \"2019-12-12\", \"A/RES/74/34\", NaN, NaN, \"Further practical measures for the prevention of an arms race in outer space \", \"Further practical measures for the prevention of an arms race in outer space \", \"di\", \"Arms control and disarmament\", 2019], [9092, \"Venezuela\", \"VE\", \"yes\", 74, NaN, \"2019-12-12\", \"A/RES/74/34\", NaN, NaN, \"Further practical measures for the prevention of an arms race in outer space \", \"Further practical measures for the prevention of an arms race in outer space \", \"co\", \"Colonialism\", 2019], [9092, \"Venezuela\", \"VE\", \"yes\", 74, NaN, \"2019-12-12\", \"A/RES/74/34\", NaN, NaN, \"Further practical measures for the prevention of an arms race in outer space \", \"Further practical measures for the prevention of an arms race in outer space \", \"ec\", \"Economic development\", 2019], [9092, \"Vietnam\", \"VN\", \"yes\", 74, NaN, \"2019-12-12\", \"A/RES/74/34\", NaN, NaN, \"Further practical measures for the prevention of an arms race in outer space \", \"Further practical measures for the prevention of an arms race in outer space \", \"di\", \"Arms control and disarmament\", 2019], [9092, \"Vietnam\", \"VN\", \"yes\", 74, NaN, \"2019-12-12\", \"A/RES/74/34\", NaN, NaN, \"Further practical measures for the prevention of an arms race in outer space \", \"Further practical measures for the prevention of an arms race in outer space \", \"co\", \"Colonialism\", 2019], [9092, \"Vietnam\", \"VN\", \"yes\", 74, NaN, \"2019-12-12\", \"A/RES/74/34\", NaN, NaN, \"Further practical measures for the prevention of an arms race in outer space \", \"Further practical measures for the prevention of an arms race in outer space \", \"ec\", \"Economic development\", 2019], [9092, \"Yemen\", \"YE\", \"yes\", 74, NaN, \"2019-12-12\", \"A/RES/74/34\", NaN, NaN, \"Further practical measures for the prevention of an arms race in outer space \", \"Further practical measures for the prevention of an arms race in outer space \", \"di\", \"Arms control and disarmament\", 2019], [9092, \"Yemen\", \"YE\", \"yes\", 74, NaN, \"2019-12-12\", \"A/RES/74/34\", NaN, NaN, \"Further practical measures for the prevention of an arms race in outer space \", \"Further practical measures for the prevention of an arms race in outer space \", \"co\", \"Colonialism\", 2019], [9092, \"Yemen\", \"YE\", \"yes\", 74, NaN, \"2019-12-12\", \"A/RES/74/34\", NaN, NaN, \"Further practical measures for the prevention of an arms race in outer space \", \"Further practical measures for the prevention of an arms race in outer space \", \"ec\", \"Economic development\", 2019], [9092, \"Zambia\", \"ZM\", \"yes\", 74, NaN, \"2019-12-12\", \"A/RES/74/34\", NaN, NaN, \"Further practical measures for the prevention of an arms race in outer space \", \"Further practical measures for the prevention of an arms race in outer space \", \"di\", \"Arms control and disarmament\", 2019], [9092, \"Zambia\", \"ZM\", \"yes\", 74, NaN, \"2019-12-12\", \"A/RES/74/34\", NaN, NaN, \"Further practical measures for the prevention of an arms race in outer space \", \"Further practical measures for the prevention of an arms race in outer space \", \"co\", \"Colonialism\", 2019], [9092, \"Zambia\", \"ZM\", \"yes\", 74, NaN, \"2019-12-12\", \"A/RES/74/34\", NaN, NaN, \"Further practical measures for the prevention of an arms race in outer space \", \"Further practical measures for the prevention of an arms race in outer space \", \"ec\", \"Economic development\", 2019], [9092, \"Zimbabwe\", \"ZW\", \"yes\", 74, NaN, \"2019-12-12\", \"A/RES/74/34\", NaN, NaN, \"Further practical measures for the prevention of an arms race in outer space \", \"Further practical measures for the prevention of an arms race in outer space \", \"di\", \"Arms control and disarmament\", 2019], [9092, \"Zimbabwe\", \"ZW\", \"yes\", 74, NaN, \"2019-12-12\", \"A/RES/74/34\", NaN, NaN, \"Further practical measures for the prevention of an arms race in outer space \", \"Further practical measures for the prevention of an arms race in outer space \", \"co\", \"Colonialism\", 2019], [9092, \"Zimbabwe\", \"ZW\", \"yes\", 74, NaN, \"2019-12-12\", \"A/RES/74/34\", NaN, NaN, \"Further practical measures for the prevention of an arms race in outer space \", \"Further practical measures for the prevention of an arms race in outer space \", \"ec\", \"Economic development\", 2019], [9101, \"Afghanistan\", \"AF\", \"yes\", 74, NaN, \"2019-12-03\", \"A/RES/74/12\", NaN, NaN, \"Division for Palestinian Rights of the Secretariat \", \"Division for Palestinian Rights of the Secretariat \", \"me\", \"Palestinian conflict\", 2019], [9101, \"Albania\", \"AL\", \"abstain\", 74, NaN, \"2019-12-03\", \"A/RES/74/12\", NaN, NaN, \"Division for Palestinian Rights of the Secretariat \", \"Division for Palestinian Rights of the Secretariat \", \"me\", \"Palestinian conflict\", 2019], [9101, \"Algeria\", \"DZ\", \"yes\", 74, NaN, \"2019-12-03\", \"A/RES/74/12\", NaN, NaN, \"Division for Palestinian Rights of the Secretariat \", \"Division for Palestinian Rights of the Secretariat \", \"me\", \"Palestinian conflict\", 2019], [9101, \"Andorra\", \"AD\", \"abstain\", 74, NaN, \"2019-12-03\", \"A/RES/74/12\", NaN, NaN, \"Division for Palestinian Rights of the Secretariat \", \"Division for Palestinian Rights of the Secretariat \", \"me\", \"Palestinian conflict\", 2019], [9101, \"Angola\", \"AO\", \"yes\", 74, NaN, \"2019-12-03\", \"A/RES/74/12\", NaN, NaN, \"Division for Palestinian Rights of the Secretariat \", \"Division for Palestinian Rights of the Secretariat \", \"me\", \"Palestinian conflict\", 2019], [9101, \"Antigua & Barbuda\", \"AG\", \"yes\", 74, NaN, \"2019-12-03\", \"A/RES/74/12\", NaN, NaN, \"Division for Palestinian Rights of the Secretariat \", \"Division for Palestinian Rights of the Secretariat \", \"me\", \"Palestinian conflict\", 2019], [9101, \"Argentina\", \"AR\", \"abstain\", 74, NaN, \"2019-12-03\", \"A/RES/74/12\", NaN, NaN, \"Division for Palestinian Rights of the Secretariat \", \"Division for Palestinian Rights of the Secretariat \", \"me\", \"Palestinian conflict\", 2019], [9101, \"Armenia\", \"AM\", \"abstain\", 74, NaN, \"2019-12-03\", \"A/RES/74/12\", NaN, NaN, \"Division for Palestinian Rights of the Secretariat \", \"Division for Palestinian Rights of the Secretariat \", \"me\", \"Palestinian conflict\", 2019], [9101, \"Australia\", \"AU\", \"no\", 74, NaN, \"2019-12-03\", \"A/RES/74/12\", NaN, NaN, \"Division for Palestinian Rights of the Secretariat \", \"Division for Palestinian Rights of the Secretariat \", \"me\", \"Palestinian conflict\", 2019], [9101, \"Austria\", \"AT\", \"no\", 74, NaN, \"2019-12-03\", \"A/RES/74/12\", NaN, NaN, \"Division for Palestinian Rights of the Secretariat \", \"Division for Palestinian Rights of the Secretariat \", \"me\", \"Palestinian conflict\", 2019], [9101, \"Azerbaijan\", \"AZ\", \"yes\", 74, NaN, \"2019-12-03\", \"A/RES/74/12\", NaN, NaN, \"Division for Palestinian Rights of the Secretariat \", \"Division for Palestinian Rights of the Secretariat \", \"me\", \"Palestinian conflict\", 2019], [9101, \"Bahrain\", \"BH\", \"yes\", 74, NaN, \"2019-12-03\", \"A/RES/74/12\", NaN, NaN, \"Division for Palestinian Rights of the Secretariat \", \"Division for Palestinian Rights of the Secretariat \", \"me\", \"Palestinian conflict\", 2019], [9101, \"Bangladesh\", \"BD\", \"yes\", 74, NaN, \"2019-12-03\", \"A/RES/74/12\", NaN, NaN, \"Division for Palestinian Rights of the Secretariat \", \"Division for Palestinian Rights of the Secretariat \", \"me\", \"Palestinian conflict\", 2019], [9101, \"Belarus\", \"BY\", \"abstain\", 74, NaN, \"2019-12-03\", \"A/RES/74/12\", NaN, NaN, \"Division for Palestinian Rights of the Secretariat \", \"Division for Palestinian Rights of the Secretariat \", \"me\", \"Palestinian conflict\", 2019], [9101, \"Belgium\", \"BE\", \"abstain\", 74, NaN, \"2019-12-03\", \"A/RES/74/12\", NaN, NaN, \"Division for Palestinian Rights of the Secretariat \", \"Division for Palestinian Rights of the Secretariat \", \"me\", \"Palestinian conflict\", 2019], [9101, \"Belize\", \"BZ\", \"yes\", 74, NaN, \"2019-12-03\", \"A/RES/74/12\", NaN, NaN, \"Division for Palestinian Rights of the Secretariat \", \"Division for Palestinian Rights of the Secretariat \", \"me\", \"Palestinian conflict\", 2019], [9101, \"Bhutan\", \"BT\", \"yes\", 74, NaN, \"2019-12-03\", \"A/RES/74/12\", NaN, NaN, \"Division for Palestinian Rights of the Secretariat \", \"Division for Palestinian Rights of the Secretariat \", \"me\", \"Palestinian conflict\", 2019], [9101, \"Bolivia\", \"BO\", \"yes\", 74, NaN, \"2019-12-03\", \"A/RES/74/12\", NaN, NaN, \"Division for Palestinian Rights of the Secretariat \", \"Division for Palestinian Rights of the Secretariat \", \"me\", \"Palestinian conflict\", 2019], [9101, \"Bosnia & Herzegovina\", \"BA\", \"abstain\", 74, NaN, \"2019-12-03\", \"A/RES/74/12\", NaN, NaN, \"Division for Palestinian Rights of the Secretariat \", \"Division for Palestinian Rights of the Secretariat \", \"me\", \"Palestinian conflict\", 2019], [9101, \"Botswana\", \"BW\", \"yes\", 74, NaN, \"2019-12-03\", \"A/RES/74/12\", NaN, NaN, \"Division for Palestinian Rights of the Secretariat \", \"Division for Palestinian Rights of the Secretariat \", \"me\", \"Palestinian conflict\", 2019], [9101, \"Brazil\", \"BR\", \"no\", 74, NaN, \"2019-12-03\", \"A/RES/74/12\", NaN, NaN, \"Division for Palestinian Rights of the Secretariat \", \"Division for Palestinian Rights of the Secretariat \", \"me\", \"Palestinian conflict\", 2019], [9101, \"Brunei\", \"BN\", \"yes\", 74, NaN, \"2019-12-03\", \"A/RES/74/12\", NaN, NaN, \"Division for Palestinian Rights of the Secretariat \", \"Division for Palestinian Rights of the Secretariat \", \"me\", \"Palestinian conflict\", 2019], [9101, \"Bulgaria\", \"BG\", \"no\", 74, NaN, \"2019-12-03\", \"A/RES/74/12\", NaN, NaN, \"Division for Palestinian Rights of the Secretariat \", \"Division for Palestinian Rights of the Secretariat \", \"me\", \"Palestinian conflict\", 2019], [9101, \"Burundi\", \"BI\", \"yes\", 74, NaN, \"2019-12-03\", \"A/RES/74/12\", NaN, NaN, \"Division for Palestinian Rights of the Secretariat \", \"Division for Palestinian Rights of the Secretariat \", \"me\", \"Palestinian conflict\", 2019], [9101, \"Cape Verde\", \"CV\", \"abstain\", 74, NaN, \"2019-12-03\", \"A/RES/74/12\", NaN, NaN, \"Division for Palestinian Rights of the Secretariat \", \"Division for Palestinian Rights of the Secretariat \", \"me\", \"Palestinian conflict\", 2019], [9101, \"Cambodia\", \"KH\", \"yes\", 74, NaN, \"2019-12-03\", \"A/RES/74/12\", NaN, NaN, \"Division for Palestinian Rights of the Secretariat \", \"Division for Palestinian Rights of the Secretariat \", \"me\", \"Palestinian conflict\", 2019], [9101, \"Cameroon\", \"CM\", \"abstain\", 74, NaN, \"2019-12-03\", \"A/RES/74/12\", NaN, NaN, \"Division for Palestinian Rights of the Secretariat \", \"Division for Palestinian Rights of the Secretariat \", \"me\", \"Palestinian conflict\", 2019], [9101, \"Canada\", \"CA\", \"no\", 74, NaN, \"2019-12-03\", \"A/RES/74/12\", NaN, NaN, \"Division for Palestinian Rights of the Secretariat \", \"Division for Palestinian Rights of the Secretariat \", \"me\", \"Palestinian conflict\", 2019], [9101, \"Chile\", \"CL\", \"yes\", 74, NaN, \"2019-12-03\", \"A/RES/74/12\", NaN, NaN, \"Division for Palestinian Rights of the Secretariat \", \"Division for Palestinian Rights of the Secretariat \", \"me\", \"Palestinian conflict\", 2019], [9101, \"China\", \"CN\", \"yes\", 74, NaN, \"2019-12-03\", \"A/RES/74/12\", NaN, NaN, \"Division for Palestinian Rights of the Secretariat \", \"Division for Palestinian Rights of the Secretariat \", \"me\", \"Palestinian conflict\", 2019], [9101, \"Colombia\", \"CO\", \"no\", 74, NaN, \"2019-12-03\", \"A/RES/74/12\", NaN, NaN, \"Division for Palestinian Rights of the Secretariat \", \"Division for Palestinian Rights of the Secretariat \", \"me\", \"Palestinian conflict\", 2019], [9101, \"Costa Rica\", \"CR\", \"yes\", 74, NaN, \"2019-12-03\", \"A/RES/74/12\", NaN, NaN, \"Division for Palestinian Rights of the Secretariat \", \"Division for Palestinian Rights of the Secretariat \", \"me\", \"Palestinian conflict\", 2019], [9101, \"C\\u00f4te d\\u2019Ivoire\", \"CI\", \"abstain\", 74, NaN, \"2019-12-03\", \"A/RES/74/12\", NaN, NaN, \"Division for Palestinian Rights of the Secretariat \", \"Division for Palestinian Rights of the Secretariat \", \"me\", \"Palestinian conflict\", 2019], [9101, \"Croatia\", \"HR\", \"abstain\", 74, NaN, \"2019-12-03\", \"A/RES/74/12\", NaN, NaN, \"Division for Palestinian Rights of the Secretariat \", \"Division for Palestinian Rights of the Secretariat \", \"me\", \"Palestinian conflict\", 2019], [9101, \"Cuba\", \"CU\", \"yes\", 74, NaN, \"2019-12-03\", \"A/RES/74/12\", NaN, NaN, \"Division for Palestinian Rights of the Secretariat \", \"Division for Palestinian Rights of the Secretariat \", \"me\", \"Palestinian conflict\", 2019], [9101, \"Cyprus\", \"CY\", \"yes\", 74, NaN, \"2019-12-03\", \"A/RES/74/12\", NaN, NaN, \"Division for Palestinian Rights of the Secretariat \", \"Division for Palestinian Rights of the Secretariat \", \"me\", \"Palestinian conflict\", 2019], [9101, \"Czechia\", \"CZ\", \"no\", 74, NaN, \"2019-12-03\", \"A/RES/74/12\", NaN, NaN, \"Division for Palestinian Rights of the Secretariat \", \"Division for Palestinian Rights of the Secretariat \", \"me\", \"Palestinian conflict\", 2019], [9101, \"North Korea\", \"KP\", \"yes\", 74, NaN, \"2019-12-03\", \"A/RES/74/12\", NaN, NaN, \"Division for Palestinian Rights of the Secretariat \", \"Division for Palestinian Rights of the Secretariat \", \"me\", \"Palestinian conflict\", 2019], [9101, \"Denmark\", \"DK\", \"no\", 74, NaN, \"2019-12-03\", \"A/RES/74/12\", NaN, NaN, \"Division for Palestinian Rights of the Secretariat \", \"Division for Palestinian Rights of the Secretariat \", \"me\", \"Palestinian conflict\", 2019], [9101, \"Djibouti\", \"DJ\", \"yes\", 74, NaN, \"2019-12-03\", \"A/RES/74/12\", NaN, NaN, \"Division for Palestinian Rights of the Secretariat \", \"Division for Palestinian Rights of the Secretariat \", \"me\", \"Palestinian conflict\", 2019], [9101, \"Dominican Republic\", \"DO\", \"yes\", 74, NaN, \"2019-12-03\", \"A/RES/74/12\", NaN, NaN, \"Division for Palestinian Rights of the Secretariat \", \"Division for Palestinian Rights of the Secretariat \", \"me\", \"Palestinian conflict\", 2019], [9101, \"Ecuador\", \"EC\", \"yes\", 74, NaN, \"2019-12-03\", \"A/RES/74/12\", NaN, NaN, \"Division for Palestinian Rights of the Secretariat \", \"Division for Palestinian Rights of the Secretariat \", \"me\", \"Palestinian conflict\", 2019], [9101, \"Egypt\", \"EG\", \"yes\", 74, NaN, \"2019-12-03\", \"A/RES/74/12\", NaN, NaN, \"Division for Palestinian Rights of the Secretariat \", \"Division for Palestinian Rights of the Secretariat \", \"me\", \"Palestinian conflict\", 2019], [9101, \"El Salvador\", \"SV\", \"yes\", 74, NaN, \"2019-12-03\", \"A/RES/74/12\", NaN, NaN, \"Division for Palestinian Rights of the Secretariat \", \"Division for Palestinian Rights of the Secretariat \", \"me\", \"Palestinian conflict\", 2019], [9101, \"Eritrea\", \"ER\", \"yes\", 74, NaN, \"2019-12-03\", \"A/RES/74/12\", NaN, NaN, \"Division for Palestinian Rights of the Secretariat \", \"Division for Palestinian Rights of the Secretariat \", \"me\", \"Palestinian conflict\", 2019], [9101, \"Estonia\", \"EE\", \"no\", 74, NaN, \"2019-12-03\", \"A/RES/74/12\", NaN, NaN, \"Division for Palestinian Rights of the Secretariat \", \"Division for Palestinian Rights of the Secretariat \", \"me\", \"Palestinian conflict\", 2019], [9101, \"Ethiopia\", \"ET\", \"yes\", 74, NaN, \"2019-12-03\", \"A/RES/74/12\", NaN, NaN, \"Division for Palestinian Rights of the Secretariat \", \"Division for Palestinian Rights of the Secretariat \", \"me\", \"Palestinian conflict\", 2019], [9101, \"Fiji\", \"FJ\", \"abstain\", 74, NaN, \"2019-12-03\", \"A/RES/74/12\", NaN, NaN, \"Division for Palestinian Rights of the Secretariat \", \"Division for Palestinian Rights of the Secretariat \", \"me\", \"Palestinian conflict\", 2019], [9101, \"Finland\", \"FI\", \"abstain\", 74, NaN, \"2019-12-03\", \"A/RES/74/12\", NaN, NaN, \"Division for Palestinian Rights of the Secretariat \", \"Division for Palestinian Rights of the Secretariat \", \"me\", \"Palestinian conflict\", 2019], [9101, \"France\", \"FR\", \"abstain\", 74, NaN, \"2019-12-03\", \"A/RES/74/12\", NaN, NaN, \"Division for Palestinian Rights of the Secretariat \", \"Division for Palestinian Rights of the Secretariat \", \"me\", \"Palestinian conflict\", 2019], [9101, \"Gabon\", \"GA\", \"yes\", 74, NaN, \"2019-12-03\", \"A/RES/74/12\", NaN, NaN, \"Division for Palestinian Rights of the Secretariat \", \"Division for Palestinian Rights of the Secretariat \", \"me\", \"Palestinian conflict\", 2019], [9101, \"Gambia\", \"GM\", \"yes\", 74, NaN, \"2019-12-03\", \"A/RES/74/12\", NaN, NaN, \"Division for Palestinian Rights of the Secretariat \", \"Division for Palestinian Rights of the Secretariat \", \"me\", \"Palestinian conflict\", 2019], [9101, \"Georgia\", \"GE\", \"abstain\", 74, NaN, \"2019-12-03\", \"A/RES/74/12\", NaN, NaN, \"Division for Palestinian Rights of the Secretariat \", \"Division for Palestinian Rights of the Secretariat \", \"me\", \"Palestinian conflict\", 2019], [9101, \"Germany\", \"DE\", \"no\", 74, NaN, \"2019-12-03\", \"A/RES/74/12\", NaN, NaN, \"Division for Palestinian Rights of the Secretariat \", \"Division for Palestinian Rights of the Secretariat \", \"me\", \"Palestinian conflict\", 2019], [9101, \"Ghana\", \"GH\", \"abstain\", 74, NaN, \"2019-12-03\", \"A/RES/74/12\", NaN, NaN, \"Division for Palestinian Rights of the Secretariat \", \"Division for Palestinian Rights of the Secretariat \", \"me\", \"Palestinian conflict\", 2019], [9101, \"Greece\", \"GR\", \"no\", 74, NaN, \"2019-12-03\", \"A/RES/74/12\", NaN, NaN, \"Division for Palestinian Rights of the Secretariat \", \"Division for Palestinian Rights of the Secretariat \", \"me\", \"Palestinian conflict\", 2019], [9101, \"Guatemala\", \"GT\", \"no\", 74, NaN, \"2019-12-03\", \"A/RES/74/12\", NaN, NaN, \"Division for Palestinian Rights of the Secretariat \", \"Division for Palestinian Rights of the Secretariat \", \"me\", \"Palestinian conflict\", 2019], [9101, \"Guinea\", \"GN\", \"yes\", 74, NaN, \"2019-12-03\", \"A/RES/74/12\", NaN, NaN, \"Division for Palestinian Rights of the Secretariat \", \"Division for Palestinian Rights of the Secretariat \", \"me\", \"Palestinian conflict\", 2019], [9101, \"Guyana\", \"GY\", \"yes\", 74, NaN, \"2019-12-03\", \"A/RES/74/12\", NaN, NaN, \"Division for Palestinian Rights of the Secretariat \", \"Division for Palestinian Rights of the Secretariat \", \"me\", \"Palestinian conflict\", 2019], [9101, \"Honduras\", \"HN\", \"no\", 74, NaN, \"2019-12-03\", \"A/RES/74/12\", NaN, NaN, \"Division for Palestinian Rights of the Secretariat \", \"Division for Palestinian Rights of the Secretariat \", \"me\", \"Palestinian conflict\", 2019], [9101, \"Hungary\", \"HU\", \"no\", 74, NaN, \"2019-12-03\", \"A/RES/74/12\", NaN, NaN, \"Division for Palestinian Rights of the Secretariat \", \"Division for Palestinian Rights of the Secretariat \", \"me\", \"Palestinian conflict\", 2019], [9101, \"Iceland\", \"IS\", \"abstain\", 74, NaN, \"2019-12-03\", \"A/RES/74/12\", NaN, NaN, \"Division for Palestinian Rights of the Secretariat \", \"Division for Palestinian Rights of the Secretariat \", \"me\", \"Palestinian conflict\", 2019], [9101, \"India\", \"IN\", \"yes\", 74, NaN, \"2019-12-03\", \"A/RES/74/12\", NaN, NaN, \"Division for Palestinian Rights of the Secretariat \", \"Division for Palestinian Rights of the Secretariat \", \"me\", \"Palestinian conflict\", 2019], [9101, \"Indonesia\", \"ID\", \"yes\", 74, NaN, \"2019-12-03\", \"A/RES/74/12\", NaN, NaN, \"Division for Palestinian Rights of the Secretariat \", \"Division for Palestinian Rights of the Secretariat \", \"me\", \"Palestinian conflict\", 2019], [9101, \"Iran\", \"IR\", \"yes\", 74, NaN, \"2019-12-03\", \"A/RES/74/12\", NaN, NaN, \"Division for Palestinian Rights of the Secretariat \", \"Division for Palestinian Rights of the Secretariat \", \"me\", \"Palestinian conflict\", 2019], [9101, \"Iraq\", \"IQ\", \"yes\", 74, NaN, \"2019-12-03\", \"A/RES/74/12\", NaN, NaN, \"Division for Palestinian Rights of the Secretariat \", \"Division for Palestinian Rights of the Secretariat \", \"me\", \"Palestinian conflict\", 2019], [9101, \"Ireland\", \"IE\", \"abstain\", 74, NaN, \"2019-12-03\", \"A/RES/74/12\", NaN, NaN, \"Division for Palestinian Rights of the Secretariat \", \"Division for Palestinian Rights of the Secretariat \", \"me\", \"Palestinian conflict\", 2019], [9101, \"Israel\", \"IL\", \"no\", 74, NaN, \"2019-12-03\", \"A/RES/74/12\", NaN, NaN, \"Division for Palestinian Rights of the Secretariat \", \"Division for Palestinian Rights of the Secretariat \", \"me\", \"Palestinian conflict\", 2019], [9101, \"Italy\", \"IT\", \"abstain\", 74, NaN, \"2019-12-03\", \"A/RES/74/12\", NaN, NaN, \"Division for Palestinian Rights of the Secretariat \", \"Division for Palestinian Rights of the Secretariat \", \"me\", \"Palestinian conflict\", 2019], [9101, \"Jamaica\", \"JM\", \"yes\", 74, NaN, \"2019-12-03\", \"A/RES/74/12\", NaN, NaN, \"Division for Palestinian Rights of the Secretariat \", \"Division for Palestinian Rights of the Secretariat \", \"me\", \"Palestinian conflict\", 2019], [9101, \"Japan\", \"JP\", \"abstain\", 74, NaN, \"2019-12-03\", \"A/RES/74/12\", NaN, NaN, \"Division for Palestinian Rights of the Secretariat \", \"Division for Palestinian Rights of the Secretariat \", \"me\", \"Palestinian conflict\", 2019], [9101, \"Jordan\", \"JO\", \"yes\", 74, NaN, \"2019-12-03\", \"A/RES/74/12\", NaN, NaN, \"Division for Palestinian Rights of the Secretariat \", \"Division for Palestinian Rights of the Secretariat \", \"me\", \"Palestinian conflict\", 2019], [9101, \"Kazakhstan\", \"KZ\", \"yes\", 74, NaN, \"2019-12-03\", \"A/RES/74/12\", NaN, NaN, \"Division for Palestinian Rights of the Secretariat \", \"Division for Palestinian Rights of the Secretariat \", \"me\", \"Palestinian conflict\", 2019], [9101, \"Kenya\", \"KE\", \"yes\", 74, NaN, \"2019-12-03\", \"A/RES/74/12\", NaN, NaN, \"Division for Palestinian Rights of the Secretariat \", \"Division for Palestinian Rights of the Secretariat \", \"me\", \"Palestinian conflict\", 2019], [9101, \"Kuwait\", \"KW\", \"yes\", 74, NaN, \"2019-12-03\", \"A/RES/74/12\", NaN, NaN, \"Division for Palestinian Rights of the Secretariat \", \"Division for Palestinian Rights of the Secretariat \", \"me\", \"Palestinian conflict\", 2019], [9101, \"Kyrgyzstan\", \"KG\", \"yes\", 74, NaN, \"2019-12-03\", \"A/RES/74/12\", NaN, NaN, \"Division for Palestinian Rights of the Secretariat \", \"Division for Palestinian Rights of the Secretariat \", \"me\", \"Palestinian conflict\", 2019], [9101, \"Laos\", \"LA\", \"yes\", 74, NaN, \"2019-12-03\", \"A/RES/74/12\", NaN, NaN, \"Division for Palestinian Rights of the Secretariat \", \"Division for Palestinian Rights of the Secretariat \", \"me\", \"Palestinian conflict\", 2019], [9101, \"Latvia\", \"LV\", \"abstain\", 74, NaN, \"2019-12-03\", \"A/RES/74/12\", NaN, NaN, \"Division for Palestinian Rights of the Secretariat \", \"Division for Palestinian Rights of the Secretariat \", \"me\", \"Palestinian conflict\", 2019], [9101, \"Lebanon\", \"LB\", \"yes\", 74, NaN, \"2019-12-03\", \"A/RES/74/12\", NaN, NaN, \"Division for Palestinian Rights of the Secretariat \", \"Division for Palestinian Rights of the Secretariat \", \"me\", \"Palestinian conflict\", 2019], [9101, \"Lesotho\", \"LS\", \"yes\", 74, NaN, \"2019-12-03\", \"A/RES/74/12\", NaN, NaN, \"Division for Palestinian Rights of the Secretariat \", \"Division for Palestinian Rights of the Secretariat \", \"me\", \"Palestinian conflict\", 2019], [9101, \"Libya\", \"LY\", \"yes\", 74, NaN, \"2019-12-03\", \"A/RES/74/12\", NaN, NaN, \"Division for Palestinian Rights of the Secretariat \", \"Division for Palestinian Rights of the Secretariat \", \"me\", \"Palestinian conflict\", 2019], [9101, \"Liechtenstein\", \"LI\", \"abstain\", 74, NaN, \"2019-12-03\", \"A/RES/74/12\", NaN, NaN, \"Division for Palestinian Rights of the Secretariat \", \"Division for Palestinian Rights of the Secretariat \", \"me\", \"Palestinian conflict\", 2019], [9101, \"Lithuania\", \"LT\", \"no\", 74, NaN, \"2019-12-03\", \"A/RES/74/12\", NaN, NaN, \"Division for Palestinian Rights of the Secretariat \", \"Division for Palestinian Rights of the Secretariat \", \"me\", \"Palestinian conflict\", 2019], [9101, \"Luxembourg\", \"LU\", \"abstain\", 74, NaN, \"2019-12-03\", \"A/RES/74/12\", NaN, NaN, \"Division for Palestinian Rights of the Secretariat \", \"Division for Palestinian Rights of the Secretariat \", \"me\", \"Palestinian conflict\", 2019], [9101, \"Malaysia\", \"MY\", \"yes\", 74, NaN, \"2019-12-03\", \"A/RES/74/12\", NaN, NaN, \"Division for Palestinian Rights of the Secretariat \", \"Division for Palestinian Rights of the Secretariat \", \"me\", \"Palestinian conflict\", 2019], [9101, \"Maldives\", \"MV\", \"yes\", 74, NaN, \"2019-12-03\", \"A/RES/74/12\", NaN, NaN, \"Division for Palestinian Rights of the Secretariat \", \"Division for Palestinian Rights of the Secretariat \", \"me\", \"Palestinian conflict\", 2019], [9101, \"Mali\", \"ML\", \"yes\", 74, NaN, \"2019-12-03\", \"A/RES/74/12\", NaN, NaN, \"Division for Palestinian Rights of the Secretariat \", \"Division for Palestinian Rights of the Secretariat \", \"me\", \"Palestinian conflict\", 2019], [9101, \"Malta\", \"MT\", \"yes\", 74, NaN, \"2019-12-03\", \"A/RES/74/12\", NaN, NaN, \"Division for Palestinian Rights of the Secretariat \", \"Division for Palestinian Rights of the Secretariat \", \"me\", \"Palestinian conflict\", 2019], [9101, \"Marshall Islands\", \"MH\", \"no\", 74, NaN, \"2019-12-03\", \"A/RES/74/12\", NaN, NaN, \"Division for Palestinian Rights of the Secretariat \", \"Division for Palestinian Rights of the Secretariat \", \"me\", \"Palestinian conflict\", 2019], [9101, \"Mauritania\", \"MR\", \"yes\", 74, NaN, \"2019-12-03\", \"A/RES/74/12\", NaN, NaN, \"Division for Palestinian Rights of the Secretariat \", \"Division for Palestinian Rights of the Secretariat \", \"me\", \"Palestinian conflict\", 2019], [9101, \"Mauritius\", \"MU\", \"yes\", 74, NaN, \"2019-12-03\", \"A/RES/74/12\", NaN, NaN, \"Division for Palestinian Rights of the Secretariat \", \"Division for Palestinian Rights of the Secretariat \", \"me\", \"Palestinian conflict\", 2019], [9101, \"Mexico\", \"MX\", \"abstain\", 74, NaN, \"2019-12-03\", \"A/RES/74/12\", NaN, NaN, \"Division for Palestinian Rights of the Secretariat \", \"Division for Palestinian Rights of the Secretariat \", \"me\", \"Palestinian conflict\", 2019], [9101, \"Micronesia (Federated States of)\", \"FM\", \"no\", 74, NaN, \"2019-12-03\", \"A/RES/74/12\", NaN, NaN, \"Division for Palestinian Rights of the Secretariat \", \"Division for Palestinian Rights of the Secretariat \", \"me\", \"Palestinian conflict\", 2019], [9101, \"Monaco\", \"MC\", \"abstain\", 74, NaN, \"2019-12-03\", \"A/RES/74/12\", NaN, NaN, \"Division for Palestinian Rights of the Secretariat \", \"Division for Palestinian Rights of the Secretariat \", \"me\", \"Palestinian conflict\", 2019], [9101, \"Montenegro\", \"ME\", \"abstain\", 74, NaN, \"2019-12-03\", \"A/RES/74/12\", NaN, NaN, \"Division for Palestinian Rights of the Secretariat \", \"Division for Palestinian Rights of the Secretariat \", \"me\", \"Palestinian conflict\", 2019], [9101, \"Morocco\", \"MA\", \"yes\", 74, NaN, \"2019-12-03\", \"A/RES/74/12\", NaN, NaN, \"Division for Palestinian Rights of the Secretariat \", \"Division for Palestinian Rights of the Secretariat \", \"me\", \"Palestinian conflict\", 2019], [9101, \"Mozambique\", \"MZ\", \"yes\", 74, NaN, \"2019-12-03\", \"A/RES/74/12\", NaN, NaN, \"Division for Palestinian Rights of the Secretariat \", \"Division for Palestinian Rights of the Secretariat \", \"me\", \"Palestinian conflict\", 2019], [9101, \"Namibia\", \"NaN\", \"yes\", 74, NaN, \"2019-12-03\", \"A/RES/74/12\", NaN, NaN, \"Division for Palestinian Rights of the Secretariat \", \"Division for Palestinian Rights of the Secretariat \", \"me\", \"Palestinian conflict\", 2019], [9101, \"Nauru\", \"NR\", \"no\", 74, NaN, \"2019-12-03\", \"A/RES/74/12\", NaN, NaN, \"Division for Palestinian Rights of the Secretariat \", \"Division for Palestinian Rights of the Secretariat \", \"me\", \"Palestinian conflict\", 2019], [9101, \"Nepal\", \"NP\", \"yes\", 74, NaN, \"2019-12-03\", \"A/RES/74/12\", NaN, NaN, \"Division for Palestinian Rights of the Secretariat \", \"Division for Palestinian Rights of the Secretariat \", \"me\", \"Palestinian conflict\", 2019], [9101, \"Netherlands\", \"NL\", \"no\", 74, NaN, \"2019-12-03\", \"A/RES/74/12\", NaN, NaN, \"Division for Palestinian Rights of the Secretariat \", \"Division for Palestinian Rights of the Secretariat \", \"me\", \"Palestinian conflict\", 2019], [9101, \"New Zealand\", \"NZ\", \"abstain\", 74, NaN, \"2019-12-03\", \"A/RES/74/12\", NaN, NaN, \"Division for Palestinian Rights of the Secretariat \", \"Division for Palestinian Rights of the Secretariat \", \"me\", \"Palestinian conflict\", 2019], [9101, \"Nicaragua\", \"NI\", \"yes\", 74, NaN, \"2019-12-03\", \"A/RES/74/12\", NaN, NaN, \"Division for Palestinian Rights of the Secretariat \", \"Division for Palestinian Rights of the Secretariat \", \"me\", \"Palestinian conflict\", 2019], [9101, \"Nigeria\", \"NG\", \"yes\", 74, NaN, \"2019-12-03\", \"A/RES/74/12\", NaN, NaN, \"Division for Palestinian Rights of the Secretariat \", \"Division for Palestinian Rights of the Secretariat \", \"me\", \"Palestinian conflict\", 2019], [9101, \"North Macedonia\", \"MK\", \"abstain\", 74, NaN, \"2019-12-03\", \"A/RES/74/12\", NaN, NaN, \"Division for Palestinian Rights of the Secretariat \", \"Division for Palestinian Rights of the Secretariat \", \"me\", \"Palestinian conflict\", 2019], [9101, \"Norway\", \"NO\", \"abstain\", 74, NaN, \"2019-12-03\", \"A/RES/74/12\", NaN, NaN, \"Division for Palestinian Rights of the Secretariat \", \"Division for Palestinian Rights of the Secretariat \", \"me\", \"Palestinian conflict\", 2019], [9101, \"Oman\", \"OM\", \"yes\", 74, NaN, \"2019-12-03\", \"A/RES/74/12\", NaN, NaN, \"Division for Palestinian Rights of the Secretariat \", \"Division for Palestinian Rights of the Secretariat \", \"me\", \"Palestinian conflict\", 2019], [9101, \"Pakistan\", \"PK\", \"yes\", 74, NaN, \"2019-12-03\", \"A/RES/74/12\", NaN, NaN, \"Division for Palestinian Rights of the Secretariat \", \"Division for Palestinian Rights of the Secretariat \", \"me\", \"Palestinian conflict\", 2019], [9101, \"Palau\", \"PW\", \"abstain\", 74, NaN, \"2019-12-03\", \"A/RES/74/12\", NaN, NaN, \"Division for Palestinian Rights of the Secretariat \", \"Division for Palestinian Rights of the Secretariat \", \"me\", \"Palestinian conflict\", 2019], [9101, \"Panama\", \"PA\", \"abstain\", 74, NaN, \"2019-12-03\", \"A/RES/74/12\", NaN, NaN, \"Division for Palestinian Rights of the Secretariat \", \"Division for Palestinian Rights of the Secretariat \", \"me\", \"Palestinian conflict\", 2019], [9101, \"Papua New Guinea\", \"PG\", \"abstain\", 74, NaN, \"2019-12-03\", \"A/RES/74/12\", NaN, NaN, \"Division for Palestinian Rights of the Secretariat \", \"Division for Palestinian Rights of the Secretariat \", \"me\", \"Palestinian conflict\", 2019], [9101, \"Paraguay\", \"PY\", \"abstain\", 74, NaN, \"2019-12-03\", \"A/RES/74/12\", NaN, NaN, \"Division for Palestinian Rights of the Secretariat \", \"Division for Palestinian Rights of the Secretariat \", \"me\", \"Palestinian conflict\", 2019], [9101, \"Peru\", \"PE\", \"abstain\", 74, NaN, \"2019-12-03\", \"A/RES/74/12\", NaN, NaN, \"Division for Palestinian Rights of the Secretariat \", \"Division for Palestinian Rights of the Secretariat \", \"me\", \"Palestinian conflict\", 2019], [9101, \"Philippines\", \"PH\", \"yes\", 74, NaN, \"2019-12-03\", \"A/RES/74/12\", NaN, NaN, \"Division for Palestinian Rights of the Secretariat \", \"Division for Palestinian Rights of the Secretariat \", \"me\", \"Palestinian conflict\", 2019], [9101, \"Poland\", \"PL\", \"abstain\", 74, NaN, \"2019-12-03\", \"A/RES/74/12\", NaN, NaN, \"Division for Palestinian Rights of the Secretariat \", \"Division for Palestinian Rights of the Secretariat \", \"me\", \"Palestinian conflict\", 2019], [9101, \"Portugal\", \"PT\", \"abstain\", 74, NaN, \"2019-12-03\", \"A/RES/74/12\", NaN, NaN, \"Division for Palestinian Rights of the Secretariat \", \"Division for Palestinian Rights of the Secretariat \", \"me\", \"Palestinian conflict\", 2019], [9101, \"Qatar\", \"QA\", \"yes\", 74, NaN, \"2019-12-03\", \"A/RES/74/12\", NaN, NaN, \"Division for Palestinian Rights of the Secretariat \", \"Division for Palestinian Rights of the Secretariat \", \"me\", \"Palestinian conflict\", 2019], [9101, \"South Korea\", \"KR\", \"abstain\", 74, NaN, \"2019-12-03\", \"A/RES/74/12\", NaN, NaN, \"Division for Palestinian Rights of the Secretariat \", \"Division for Palestinian Rights of the Secretariat \", \"me\", \"Palestinian conflict\", 2019], [9101, \"Moldova\", \"MD\", \"abstain\", 74, NaN, \"2019-12-03\", \"A/RES/74/12\", NaN, NaN, \"Division for Palestinian Rights of the Secretariat \", \"Division for Palestinian Rights of the Secretariat \", \"me\", \"Palestinian conflict\", 2019], [9101, \"Romania\", \"RO\", \"no\", 74, NaN, \"2019-12-03\", \"A/RES/74/12\", NaN, NaN, \"Division for Palestinian Rights of the Secretariat \", \"Division for Palestinian Rights of the Secretariat \", \"me\", \"Palestinian conflict\", 2019], [9101, \"Russia\", \"RU\", \"abstain\", 74, NaN, \"2019-12-03\", \"A/RES/74/12\", NaN, NaN, \"Division for Palestinian Rights of the Secretariat \", \"Division for Palestinian Rights of the Secretariat \", \"me\", \"Palestinian conflict\", 2019], [9101, \"Rwanda\", \"RW\", \"abstain\", 74, NaN, \"2019-12-03\", \"A/RES/74/12\", NaN, NaN, \"Division for Palestinian Rights of the Secretariat \", \"Division for Palestinian Rights of the Secretariat \", \"me\", \"Palestinian conflict\", 2019], [9101, \"St. Lucia\", \"LC\", \"yes\", 74, NaN, \"2019-12-03\", \"A/RES/74/12\", NaN, NaN, \"Division for Palestinian Rights of the Secretariat \", \"Division for Palestinian Rights of the Secretariat \", \"me\", \"Palestinian conflict\", 2019], [9101, \"St. Vincent & Grenadines\", \"VC\", \"yes\", 74, NaN, \"2019-12-03\", \"A/RES/74/12\", NaN, NaN, \"Division for Palestinian Rights of the Secretariat \", \"Division for Palestinian Rights of the Secretariat \", \"me\", \"Palestinian conflict\", 2019], [9101, \"Samoa\", \"WS\", \"abstain\", 74, NaN, \"2019-12-03\", \"A/RES/74/12\", NaN, NaN, \"Division for Palestinian Rights of the Secretariat \", \"Division for Palestinian Rights of the Secretariat \", \"me\", \"Palestinian conflict\", 2019], [9101, \"San Marino\", \"SM\", \"abstain\", 74, NaN, \"2019-12-03\", \"A/RES/74/12\", NaN, NaN, \"Division for Palestinian Rights of the Secretariat \", \"Division for Palestinian Rights of the Secretariat \", \"me\", \"Palestinian conflict\", 2019], [9101, \"Saudi Arabia\", \"SA\", \"yes\", 74, NaN, \"2019-12-03\", \"A/RES/74/12\", NaN, NaN, \"Division for Palestinian Rights of the Secretariat \", \"Division for Palestinian Rights of the Secretariat \", \"me\", \"Palestinian conflict\", 2019], [9101, \"Senegal\", \"SN\", \"yes\", 74, NaN, \"2019-12-03\", \"A/RES/74/12\", NaN, NaN, \"Division for Palestinian Rights of the Secretariat \", \"Division for Palestinian Rights of the Secretariat \", \"me\", \"Palestinian conflict\", 2019], [9101, \"Yugoslavia\", \"YU\", \"abstain\", 74, NaN, \"2019-12-03\", \"A/RES/74/12\", NaN, NaN, \"Division for Palestinian Rights of the Secretariat \", \"Division for Palestinian Rights of the Secretariat \", \"me\", \"Palestinian conflict\", 2019], [9101, \"Sierra Leone\", \"SL\", \"yes\", 74, NaN, \"2019-12-03\", \"A/RES/74/12\", NaN, NaN, \"Division for Palestinian Rights of the Secretariat \", \"Division for Palestinian Rights of the Secretariat \", \"me\", \"Palestinian conflict\", 2019], [9101, \"Singapore\", \"SG\", \"yes\", 74, NaN, \"2019-12-03\", \"A/RES/74/12\", NaN, NaN, \"Division for Palestinian Rights of the Secretariat \", \"Division for Palestinian Rights of the Secretariat \", \"me\", \"Palestinian conflict\", 2019], [9101, \"Slovakia\", \"SK\", \"no\", 74, NaN, \"2019-12-03\", \"A/RES/74/12\", NaN, NaN, \"Division for Palestinian Rights of the Secretariat \", \"Division for Palestinian Rights of the Secretariat \", \"me\", \"Palestinian conflict\", 2019], [9101, \"Slovenia\", \"SI\", \"abstain\", 74, NaN, \"2019-12-03\", \"A/RES/74/12\", NaN, NaN, \"Division for Palestinian Rights of the Secretariat \", \"Division for Palestinian Rights of the Secretariat \", \"me\", \"Palestinian conflict\", 2019], [9101, \"Solomon Islands\", \"SB\", \"abstain\", 74, NaN, \"2019-12-03\", \"A/RES/74/12\", NaN, NaN, \"Division for Palestinian Rights of the Secretariat \", \"Division for Palestinian Rights of the Secretariat \", \"me\", \"Palestinian conflict\", 2019], [9101, \"Somalia\", \"SO\", \"yes\", 74, NaN, \"2019-12-03\", \"A/RES/74/12\", NaN, NaN, \"Division for Palestinian Rights of the Secretariat \", \"Division for Palestinian Rights of the Secretariat \", \"me\", \"Palestinian conflict\", 2019], [9101, \"South Africa\", \"ZA\", \"yes\", 74, NaN, \"2019-12-03\", \"A/RES/74/12\", NaN, NaN, \"Division for Palestinian Rights of the Secretariat \", \"Division for Palestinian Rights of the Secretariat \", \"me\", \"Palestinian conflict\", 2019], [9101, \"South Sudan\", \"SS\", \"abstain\", 74, NaN, \"2019-12-03\", \"A/RES/74/12\", NaN, NaN, \"Division for Palestinian Rights of the Secretariat \", \"Division for Palestinian Rights of the Secretariat \", \"me\", \"Palestinian conflict\", 2019], [9101, \"Spain\", \"ES\", \"abstain\", 74, NaN, \"2019-12-03\", \"A/RES/74/12\", NaN, NaN, \"Division for Palestinian Rights of the Secretariat \", \"Division for Palestinian Rights of the Secretariat \", \"me\", \"Palestinian conflict\", 2019], [9101, \"Sri Lanka\", \"LK\", \"yes\", 74, NaN, \"2019-12-03\", \"A/RES/74/12\", NaN, NaN, \"Division for Palestinian Rights of the Secretariat \", \"Division for Palestinian Rights of the Secretariat \", \"me\", \"Palestinian conflict\", 2019], [9101, \"Sudan\", \"SD\", \"yes\", 74, NaN, \"2019-12-03\", \"A/RES/74/12\", NaN, NaN, \"Division for Palestinian Rights of the Secretariat \", \"Division for Palestinian Rights of the Secretariat \", \"me\", \"Palestinian conflict\", 2019], [9101, \"Suriname\", \"SR\", \"yes\", 74, NaN, \"2019-12-03\", \"A/RES/74/12\", NaN, NaN, \"Division for Palestinian Rights of the Secretariat \", \"Division for Palestinian Rights of the Secretariat \", \"me\", \"Palestinian conflict\", 2019], [9101, \"Sweden\", \"SE\", \"abstain\", 74, NaN, \"2019-12-03\", \"A/RES/74/12\", NaN, NaN, \"Division for Palestinian Rights of the Secretariat \", \"Division for Palestinian Rights of the Secretariat \", \"me\", \"Palestinian conflict\", 2019], [9101, \"Switzerland\", \"CH\", \"abstain\", 74, NaN, \"2019-12-03\", \"A/RES/74/12\", NaN, NaN, \"Division for Palestinian Rights of the Secretariat \", \"Division for Palestinian Rights of the Secretariat \", \"me\", \"Palestinian conflict\", 2019], [9101, \"Syria\", \"SY\", \"yes\", 74, NaN, \"2019-12-03\", \"A/RES/74/12\", NaN, NaN, \"Division for Palestinian Rights of the Secretariat \", \"Division for Palestinian Rights of the Secretariat \", \"me\", \"Palestinian conflict\", 2019], [9101, \"Tajikistan\", \"TJ\", \"yes\", 74, NaN, \"2019-12-03\", \"A/RES/74/12\", NaN, NaN, \"Division for Palestinian Rights of the Secretariat \", \"Division for Palestinian Rights of the Secretariat \", \"me\", \"Palestinian conflict\", 2019], [9101, \"Thailand\", \"TH\", \"yes\", 74, NaN, \"2019-12-03\", \"A/RES/74/12\", NaN, NaN, \"Division for Palestinian Rights of the Secretariat \", \"Division for Palestinian Rights of the Secretariat \", \"me\", \"Palestinian conflict\", 2019], [9101, \"Togo\", \"TG\", \"abstain\", 74, NaN, \"2019-12-03\", \"A/RES/74/12\", NaN, NaN, \"Division for Palestinian Rights of the Secretariat \", \"Division for Palestinian Rights of the Secretariat \", \"me\", \"Palestinian conflict\", 2019], [9101, \"Tonga\", \"TO\", \"abstain\", 74, NaN, \"2019-12-03\", \"A/RES/74/12\", NaN, NaN, \"Division for Palestinian Rights of the Secretariat \", \"Division for Palestinian Rights of the Secretariat \", \"me\", \"Palestinian conflict\", 2019], [9101, \"Tunisia\", \"TN\", \"yes\", 74, NaN, \"2019-12-03\", \"A/RES/74/12\", NaN, NaN, \"Division for Palestinian Rights of the Secretariat \", \"Division for Palestinian Rights of the Secretariat \", \"me\", \"Palestinian conflict\", 2019], [9101, \"Turkey\", \"TR\", \"yes\", 74, NaN, \"2019-12-03\", \"A/RES/74/12\", NaN, NaN, \"Division for Palestinian Rights of the Secretariat \", \"Division for Palestinian Rights of the Secretariat \", \"me\", \"Palestinian conflict\", 2019], [9101, \"Turkmenistan\", \"TM\", \"yes\", 74, NaN, \"2019-12-03\", \"A/RES/74/12\", NaN, NaN, \"Division for Palestinian Rights of the Secretariat \", \"Division for Palestinian Rights of the Secretariat \", \"me\", \"Palestinian conflict\", 2019], [9101, \"Uganda\", \"UG\", \"yes\", 74, NaN, \"2019-12-03\", \"A/RES/74/12\", NaN, NaN, \"Division for Palestinian Rights of the Secretariat \", \"Division for Palestinian Rights of the Secretariat \", \"me\", \"Palestinian conflict\", 2019], [9101, \"Ukraine\", \"UA\", \"abstain\", 74, NaN, \"2019-12-03\", \"A/RES/74/12\", NaN, NaN, \"Division for Palestinian Rights of the Secretariat \", \"Division for Palestinian Rights of the Secretariat \", \"me\", \"Palestinian conflict\", 2019], [9101, \"United Arab Emirates\", \"AE\", \"yes\", 74, NaN, \"2019-12-03\", \"A/RES/74/12\", NaN, NaN, \"Division for Palestinian Rights of the Secretariat \", \"Division for Palestinian Rights of the Secretariat \", \"me\", \"Palestinian conflict\", 2019], [9101, \"United Kingdom\", \"GB\", \"abstain\", 74, NaN, \"2019-12-03\", \"A/RES/74/12\", NaN, NaN, \"Division for Palestinian Rights of the Secretariat \", \"Division for Palestinian Rights of the Secretariat \", \"me\", \"Palestinian conflict\", 2019], [9101, \"United States\", \"US\", \"no\", 74, NaN, \"2019-12-03\", \"A/RES/74/12\", NaN, NaN, \"Division for Palestinian Rights of the Secretariat \", \"Division for Palestinian Rights of the Secretariat \", \"me\", \"Palestinian conflict\", 2019], [9101, \"Uruguay\", \"UY\", \"yes\", 74, NaN, \"2019-12-03\", \"A/RES/74/12\", NaN, NaN, \"Division for Palestinian Rights of the Secretariat \", \"Division for Palestinian Rights of the Secretariat \", \"me\", \"Palestinian conflict\", 2019], [9101, \"Uzbekistan\", \"UZ\", \"yes\", 74, NaN, \"2019-12-03\", \"A/RES/74/12\", NaN, NaN, \"Division for Palestinian Rights of the Secretariat \", \"Division for Palestinian Rights of the Secretariat \", \"me\", \"Palestinian conflict\", 2019], [9101, \"Vanuatu\", \"VU\", \"abstain\", 74, NaN, \"2019-12-03\", \"A/RES/74/12\", NaN, NaN, \"Division for Palestinian Rights of the Secretariat \", \"Division for Palestinian Rights of the Secretariat \", \"me\", \"Palestinian conflict\", 2019], [9101, \"Venezuela\", \"VE\", \"yes\", 74, NaN, \"2019-12-03\", \"A/RES/74/12\", NaN, NaN, \"Division for Palestinian Rights of the Secretariat \", \"Division for Palestinian Rights of the Secretariat \", \"me\", \"Palestinian conflict\", 2019], [9101, \"Vietnam\", \"VN\", \"yes\", 74, NaN, \"2019-12-03\", \"A/RES/74/12\", NaN, NaN, \"Division for Palestinian Rights of the Secretariat \", \"Division for Palestinian Rights of the Secretariat \", \"me\", \"Palestinian conflict\", 2019], [9101, \"Yemen\", \"YE\", \"yes\", 74, NaN, \"2019-12-03\", \"A/RES/74/12\", NaN, NaN, \"Division for Palestinian Rights of the Secretariat \", \"Division for Palestinian Rights of the Secretariat \", \"me\", \"Palestinian conflict\", 2019], [9101, \"Zambia\", \"ZM\", \"yes\", 74, NaN, \"2019-12-03\", \"A/RES/74/12\", NaN, NaN, \"Division for Palestinian Rights of the Secretariat \", \"Division for Palestinian Rights of the Secretariat \", \"me\", \"Palestinian conflict\", 2019], [9101, \"Zimbabwe\", \"ZW\", \"yes\", 74, NaN, \"2019-12-03\", \"A/RES/74/12\", NaN, NaN, \"Division for Palestinian Rights of the Secretariat \", \"Division for Palestinian Rights of the Secretariat \", \"me\", \"Palestinian conflict\", 2019]];\n",
       "\n",
       "        // Define the dt_args\n",
       "        let dt_args = {\"layout\": {\"topStart\": \"pageLength\", \"topEnd\": \"search\", \"bottomStart\": \"info\", \"bottomEnd\": \"paging\"}, \"order\": [], \"fnInfoCallback\": function (oSettings, iStart, iEnd, iMax, iTotal, sPre) { return sPre + ' (<a href=\"https://mwouts.github.io/itables/downsampling.html\">downsampled</a> from 857,878x15 to 546x15 as maxBytes=64KB)'; }};\n",
       "        dt_args[\"data\"] = data;\n",
       "\n",
       "        \n",
       "        new DataTable(table, dt_args);\n",
       "    });\n",
       "</script>\n"
      ],
      "text/plain": [
       "<IPython.core.display.HTML object>"
      ]
     },
     "metadata": {},
     "output_type": "display_data"
    }
   ],
   "source": [
    "# Copy and paste the code here:\n",
    "show(DF)"
   ]
  },
  {
   "cell_type": "markdown",
   "id": "a3fac6d0-283f-45a8-8f04-824bce2bc030",
   "metadata": {},
   "source": [
    "### Problem 1\n",
    "\n",
    "Do some initial exploration of this data and write about it in the markdown cell below.\n",
    "\n",
    "* How man columns are there?\n",
    "* What do the columns represent?\n",
    "* What countries are there?\n",
    "* Can you search for a country you are interested in?\n",
    "* How many rows are there?\n",
    "* What other observations do you have?\n",
    "\n"
   ]
  },
  {
   "cell_type": "markdown",
   "id": "5d647175-19fd-404b-84e2-b92e627413a1",
   "metadata": {},
   "source": [
    "There are 546 Columns\n",
    "\n",
    "Each Column represents a vote from a member of the United Nations\n",
    "\n",
    "I am not 100% sure how to tell which countries are there besides counting them all by myself\n",
    "\n",
    "Yes, via the search bar in the top right\n",
    "\n",
    "There are 15 rows\n",
    "\n",
    "I am not completely sure what the rcid number means"
   ]
  },
  {
   "cell_type": "markdown",
   "id": "a5ec908c-b134-4b31-907d-93f4415315b4",
   "metadata": {},
   "source": [
    "-------------------------------\n",
    "### Make Python Explore the Data!:\n",
    "-------------------------------\n",
    "\n",
    "Copy and paste the command that will show you a list of the counties:"
   ]
  },
  {
   "cell_type": "code",
   "execution_count": 13,
   "id": "76ada79b-d012-48ff-bfe5-b110ce00ac4b",
   "metadata": {},
   "outputs": [
    {
     "data": {
      "text/html": [
       "<table id=\"itables_d34af69a_978a_4c52_aaae_f6e9d13af36e\" class=\"display nowrap\" data-quarto-disable-processing=\"true\" style=\"table-layout:auto;width:auto;margin:auto;caption-side:bottom\">\n",
       "<thead>\n",
       "    <tr style=\"text-align: right;\">\n",
       "      \n",
       "      <th>country</th>\n",
       "    </tr>\n",
       "  </thead><tbody><tr>\n",
       "<td style=\"vertical-align:middle; text-align:left\">\n",
       "<div style=\"float:left; margin-right: 10px;\">\n",
       "<a href=https://mwouts.github.io/itables/><svg class=\"main-svg\" xmlns=\"http://www.w3.org/2000/svg\" xmlns:xlink=\"http://www.w3.org/1999/xlink\"\n",
       "width=\"64\" viewBox=\"0 0 500 400\" style=\"font-family: 'Droid Sans', sans-serif;\">\n",
       "    <g style=\"fill:#d9d7fc\">\n",
       "        <path d=\"M100,400H500V357H100Z\" />\n",
       "        <path d=\"M100,300H400V257H100Z\" />\n",
       "        <path d=\"M0,200H400V157H0Z\" />\n",
       "        <path d=\"M100,100H500V57H100Z\" />\n",
       "        <path d=\"M100,350H500V307H100Z\" />\n",
       "        <path d=\"M100,250H400V207H100Z\" />\n",
       "        <path d=\"M0,150H400V107H0Z\" />\n",
       "        <path d=\"M100,50H500V7H100Z\" />\n",
       "    </g>\n",
       "    <g style=\"fill:#1a1366;stroke:#1a1366;\">\n",
       "   <rect x=\"100\" y=\"7\" width=\"400\" height=\"43\">\n",
       "    <animate\n",
       "      attributeName=\"width\"\n",
       "      values=\"0;400;0\"\n",
       "      dur=\"5s\"\n",
       "      repeatCount=\"indefinite\" />\n",
       "      <animate\n",
       "      attributeName=\"x\"\n",
       "      values=\"100;100;500\"\n",
       "      dur=\"5s\"\n",
       "      repeatCount=\"indefinite\" />\n",
       "  </rect>\n",
       "        <rect x=\"0\" y=\"107\" width=\"400\" height=\"43\">\n",
       "    <animate\n",
       "      attributeName=\"width\"\n",
       "      values=\"0;400;0\"\n",
       "      dur=\"3.5s\"\n",
       "      repeatCount=\"indefinite\" />\n",
       "    <animate\n",
       "      attributeName=\"x\"\n",
       "      values=\"0;0;400\"\n",
       "      dur=\"3.5s\"\n",
       "      repeatCount=\"indefinite\" />\n",
       "  </rect>\n",
       "        <rect x=\"100\" y=\"207\" width=\"300\" height=\"43\">\n",
       "    <animate\n",
       "      attributeName=\"width\"\n",
       "      values=\"0;300;0\"\n",
       "      dur=\"3s\"\n",
       "      repeatCount=\"indefinite\" />\n",
       "    <animate\n",
       "      attributeName=\"x\"\n",
       "      values=\"100;100;400\"\n",
       "      dur=\"3s\"\n",
       "      repeatCount=\"indefinite\" />\n",
       "  </rect>\n",
       "        <rect x=\"100\" y=\"307\" width=\"400\" height=\"43\">\n",
       "    <animate\n",
       "      attributeName=\"width\"\n",
       "      values=\"0;400;0\"\n",
       "      dur=\"4s\"\n",
       "      repeatCount=\"indefinite\" />\n",
       "      <animate\n",
       "      attributeName=\"x\"\n",
       "      values=\"100;100;500\"\n",
       "      dur=\"4s\"\n",
       "      repeatCount=\"indefinite\" />\n",
       "  </rect>\n",
       "        <g style=\"fill:transparent;stroke-width:8; stroke-linejoin:round\" rx=\"5\">\n",
       "            <g transform=\"translate(45 50) rotate(-45)\">\n",
       "                <circle r=\"33\" cx=\"0\" cy=\"0\" />\n",
       "                <rect x=\"-8\" y=\"32\" width=\"16\" height=\"30\" />\n",
       "            </g>\n",
       "\n",
       "            <g transform=\"translate(450 152)\">\n",
       "                <polyline points=\"-15,-20 -35,-20 -35,40 25,40 25,20\" />\n",
       "                <rect x=\"-15\" y=\"-40\" width=\"60\" height=\"60\" />\n",
       "            </g>\n",
       "\n",
       "            <g transform=\"translate(50 352)\">\n",
       "                <polygon points=\"-35,-5 0,-40 35,-5\" />\n",
       "                <polygon points=\"-35,10 0,45 35,10\" />\n",
       "            </g>\n",
       "\n",
       "            <g transform=\"translate(75 250)\">\n",
       "                <polyline points=\"-30,30 -60,0 -30,-30\" />\n",
       "                <polyline points=\"0,30 -30,0 0,-30\" />\n",
       "            </g>\n",
       "\n",
       "            <g transform=\"translate(425 250) rotate(180)\">\n",
       "                <polyline points=\"-30,30 -60,0 -30,-30\" />\n",
       "                <polyline points=\"0,30 -30,0 0,-30\" />\n",
       "            </g>\n",
       "        </g>\n",
       "    </g>\n",
       "</svg>\n",
       "</a>\n",
       "</div>\n",
       "<div>\n",
       "Loading ITables v2.1.4 from the internet...\n",
       "(need <a href=https://mwouts.github.io/itables/troubleshooting.html>help</a>?)</td>\n",
       "</div>\n",
       "</tr></tbody>\n",
       "\n",
       "</table>\n",
       "<link href=\"https://www.unpkg.com/dt_for_itables@2.0.11/dt_bundle.css\" rel=\"stylesheet\">\n",
       "<script type=\"module\">\n",
       "    import {DataTable, jQuery as $} from 'https://www.unpkg.com/dt_for_itables@2.0.11/dt_bundle.js';\n",
       "\n",
       "    document.querySelectorAll(\"#itables_d34af69a_978a_4c52_aaae_f6e9d13af36e:not(.dataTable)\").forEach(table => {\n",
       "        // Define the table data\n",
       "        const data = [[\"United States\"], [\"Canada\"], [\"Cuba\"], [\"Dominican Republic\"], [\"Mexico\"], [\"Guatemala\"], [\"Honduras\"], [\"El Salvador\"], [\"Nicaragua\"], [\"Panama\"], [\"Colombia\"], [\"Venezuela\"], [\"Ecuador\"], [\"Peru\"], [\"Brazil\"], [\"Bolivia\"], [\"Paraguay\"], [\"Chile\"], [\"Argentina\"], [\"Uruguay\"], [\"United Kingdom\"], [\"Netherlands\"], [\"Belgium\"], [\"Luxembourg\"], [\"France\"], [\"Poland\"], [\"Czechoslovakia\"], [\"Yugoslavia\"], [\"Greece\"], [\"Russia\"], [\"Ukraine\"], [\"Belarus\"], [\"Norway\"], [\"Denmark\"], [\"Liberia\"], [\"Ethiopia\"], [\"South Africa\"], [\"Iran\"], [\"Turkey\"], [\"Iraq\"], [\"Egypt\"], [\"Syria\"], [\"Lebanon\"], [\"Saudi Arabia\"], [\"Taiwan\"], [\"India\"], [\"Philippines\"], [\"Australia\"], [\"New Zealand\"], [\"Costa Rica\"], [\"Haiti\"], [\"Sweden\"], [\"Iceland\"], [\"Afghanistan\"], [\"Yemen Arab Republic\"], [\"Pakistan\"], [\"Thailand\"], [\"Myanmar (Burma)\"], [\"Israel\"], [\"Indonesia\"], [\"Hungary\"], [\"Jordan\"], [\"Sri Lanka\"], [\"Spain\"], [\"Romania\"], [\"Ireland\"], [\"Portugal\"], [\"Austria\"], [\"Italy\"], [\"Albania\"], [\"Bulgaria\"], [\"Finland\"], [\"Morocco\"], [\"Tunisia\"], [\"Libya\"], [\"Sudan\"], [\"Nepal\"], [\"Cambodia\"], [\"Laos\"], [\"Japan\"], [\"Ghana\"], [\"Malaysia\"], [\"Guinea\"], [\"Cyprus\"], [\"Mali\"], [\"Senegal\"], [\"Benin\"], [\"Niger\"], [\"C\\u00f4te d\\u2019Ivoire\"], [\"Burkina Faso\"], [\"Togo\"], [\"Cameroon\"], [\"Nigeria\"], [\"Gabon\"], [\"Central African Republic\"], [\"Chad\"], [\"Congo - Brazzaville\"], [\"Somalia\"], [\"Madagascar\"], [\"Congo - Kinshasa\"], [\"Mauritania\"], [\"Sierra Leone\"], [\"Mongolia\"], [\"Tanzania\"], [\"Jamaica\"], [\"Trinidad & Tobago\"], [\"Uganda\"], [\"Burundi\"], [\"Rwanda\"], [\"Algeria\"], [\"Kuwait\"], [\"Kenya\"], [\"Zanzibar\"], [\"Malta\"], [\"Zambia\"], [\"Maldives\"], [\"Malawi\"], [\"Singapore\"], [\"Guyana\"], [\"Gambia\"], [\"Lesotho\"], [\"Barbados\"], [\"Botswana\"], [\"Yemen People's Republic\"], [\"Mauritius\"], [\"Equatorial Guinea\"], [\"Eswatini\"], [\"Fiji\"], [\"Bahrain\"], [\"Qatar\"], [\"China\"], [\"Oman\"], [\"United Arab Emirates\"], [\"Bhutan\"], [\"Federal Republic of Germany\"], [\"German Democratic Republic\"], [\"Bahamas\"], [\"Bangladesh\"], [\"Grenada\"], [\"Guinea-Bissau\"], [\"Cape Verde\"], [\"S\\u00e3o Tom\\u00e9 & Pr\\u00edncipe\"], [\"Mozambique\"], [\"Comoros\"], [\"Papua New Guinea\"], [\"Suriname\"], [\"Angola\"], [\"Djibouti\"], [\"Vietnam\"], [\"Samoa\"], [\"Seychelles\"], [\"St. Lucia\"], [\"Solomon Islands\"], [\"Zimbabwe\"], [\"Vanuatu\"], [\"Antigua & Barbuda\"], [\"Belize\"], [\"St. Vincent & Grenadines\"], [\"Dominica\"], [\"St. Kitts & Nevis\"], [\"Brunei\"], [\"Liechtenstein\"], [\"Namibia\"], [\"Germany\"], [\"Estonia\"], [\"Latvia\"], [\"Lithuania\"], [\"Yemen\"], [\"North Korea\"], [\"South Korea\"], [\"Marshall Islands\"], [\"Micronesia (Federated States of)\"], [\"Croatia\"], [\"Slovenia\"], [\"Moldova\"], [\"San Marino\"], [\"Armenia\"], [\"Azerbaijan\"], [\"Bosnia & Herzegovina\"], [\"Kazakhstan\"], [\"Tajikistan\"], [\"Turkmenistan\"], [\"Kyrgyzstan\"], [\"Andorra\"], [\"Czechia\"], [\"Slovakia\"], [\"North Macedonia\"], [\"Monaco\"], [\"Georgia\"], [\"Eritrea\"], [\"Uzbekistan\"], [\"Palau\"], [\"Tonga\"], [\"Nauru\"], [\"Tuvalu\"], [\"Kiribati\"], [\"Switzerland\"], [\"Timor-Leste\"], [\"Montenegro\"], [\"South Sudan\"]];\n",
       "\n",
       "        // Define the dt_args\n",
       "        let dt_args = {\"layout\": {\"topStart\": \"pageLength\", \"topEnd\": \"search\", \"bottomStart\": \"info\", \"bottomEnd\": \"paging\"}, \"order\": []};\n",
       "        dt_args[\"data\"] = data;\n",
       "\n",
       "        \n",
       "        new DataTable(table, dt_args);\n",
       "    });\n",
       "</script>\n"
      ],
      "text/plain": [
       "<IPython.core.display.HTML object>"
      ]
     },
     "metadata": {},
     "output_type": "display_data"
    }
   ],
   "source": [
    "# Copy and paste the code here:\n",
    "# Python can list all the different countries:\n",
    "country_list = list(DF['country'].unique())\n",
    "\n",
    "# Show the data in a nice way\n",
    "show(pd.DataFrame(country_list,columns=['country']))"
   ]
  },
  {
   "cell_type": "markdown",
   "id": "e6869f91-d574-4e4f-8200-7f7ba12ef657",
   "metadata": {},
   "source": [
    "Copy and paste the command that will count up the number of countries:"
   ]
  },
  {
   "cell_type": "code",
   "execution_count": 15,
   "id": "fa93e932-08e9-46b8-ae03-1f6504a8d7b7",
   "metadata": {},
   "outputs": [
    {
     "name": "stdout",
     "output_type": "stream",
     "text": [
      "200\n"
     ]
    }
   ],
   "source": [
    "# Copy and paste the code here:\n",
    "# Python can count up the number of countries.\n",
    "# Find the length of the list\n",
    "print(len(country_list))"
   ]
  },
  {
   "cell_type": "markdown",
   "id": "8fc80b9c-3777-4ed3-903f-610f9a889561",
   "metadata": {},
   "source": [
    "### Problem 2\n",
    "\n",
    "Try writing some code for your self. Above we found a countries list by focusing on the column named 'country'. See if you can redo that same code but change it to focus on the column named 'issue'.\n",
    "\n",
    "What do I expect here:\n",
    "\n",
    "* First copy and past the code from above\n",
    "* Then change that code slightly\n",
    "* Run the cell to see if it worked"
   ]
  },
  {
   "cell_type": "code",
   "execution_count": 23,
   "id": "8322841e-daef-4ff3-a74b-20560af34c52",
   "metadata": {},
   "outputs": [
    {
     "data": {
      "text/plain": [
       "['Human rights',\n",
       " 'Economic development',\n",
       " 'Colonialism',\n",
       " 'Palestinian conflict',\n",
       " 'Arms control and disarmament',\n",
       " 'Nuclear weapons and nuclear material']"
      ]
     },
     "execution_count": 23,
     "metadata": {},
     "output_type": "execute_result"
    }
   ],
   "source": [
    "# Write your code here\n",
    "issues_list = list(DF['issue'].unique())\n",
    "issues_list"
   ]
  },
  {
   "cell_type": "markdown",
   "id": "7ebdffc3-dbc2-4100-83d6-ea94d27f9456",
   "metadata": {},
   "source": [
    "-------------------------------\n",
    "### Data Visualization:\n",
    "-------------------------------\n",
    "\n",
    "Now we will select three countries that we are interested in and see how their votes have changed over time. Below you should see code that selects: Turkey, United States, and United Kingdom.\n",
    "\n",
    "**IMPORTANT** These have to be spelled and capitalized exactly like they are in the data. Python is unforgiving of typos!\n",
    "\n",
    "You can just run the cell below - assuming you have done all the parts above!"
   ]
  },
  {
   "cell_type": "code",
   "execution_count": 36,
   "id": "cb0dfbd6-1959-4881-890a-aa184248699d",
   "metadata": {},
   "outputs": [
    {
     "name": "stdout",
     "output_type": "stream",
     "text": [
      "['Human rights', 'Economic development', 'Colonialism', 'Palestinian conflict', 'Arms control and disarmament', 'Nuclear weapons and nuclear material']\n"
     ]
    }
   ],
   "source": [
    "countries = ['Kazakhstan', 'Canada', 'China']\n",
    "issues = list(DF['issue'].unique())\n",
    "c_groups = DF.groupby(['country','issue'])\n",
    "print(issues)"
   ]
  },
  {
   "cell_type": "markdown",
   "id": "00a813fa-de2b-4c25-a96c-68234b9b9503",
   "metadata": {},
   "source": [
    "Now that we have our focus countries, we can make pretty pictures.\n",
    "\n",
    "You can just run the cell below - assuming you have done all the parts above!"
   ]
  },
  {
   "cell_type": "code",
   "execution_count": 38,
   "id": "0004cb71-264f-4580-b847-41f8b01fa300",
   "metadata": {},
   "outputs": [
    {
     "data": {
      "application/vnd.plotly.v1+json": {
       "config": {
        "plotlyServerURL": "https://plot.ly"
       },
       "data": [
        {
         "hovertemplate": "Country=Kazakhstan<br>x=%{x}<br>y=%{y}<extra></extra>",
         "legendgroup": "Kazakhstan",
         "marker": {
          "color": "#636efa",
          "symbol": "circle"
         },
         "mode": "markers",
         "name": "Kazakhstan",
         "orientation": "v",
         "showlegend": true,
         "type": "scatter",
         "x": [
          1992,
          1993,
          1994,
          1995,
          1996,
          1997,
          1998,
          1999,
          2000,
          2001,
          2002,
          2003,
          2004,
          2006,
          2005,
          2007,
          2008,
          2009,
          2010,
          2011,
          2012,
          2013,
          2014,
          2015,
          2016,
          2017,
          2018,
          2019
         ],
         "xaxis": "x",
         "y": [
          63.63636363636363,
          54.54545454545454,
          64.28571428571429,
          57.14285714285714,
          64.70588235294117,
          70,
          87.5,
          62.5,
          56.25,
          73.68421052631578,
          77.27272727272727,
          68,
          77.77777777777779,
          88.88888888888889,
          80.95238095238095,
          85.18518518518519,
          92.3076923076923,
          91.30434782608695,
          84,
          88,
          95.65217391304348,
          85.71428571428571,
          83.33333333333334,
          85,
          73.68421052631578,
          90,
          81.81818181818183,
          71.42857142857143
         ],
         "yaxis": "y"
        },
        {
         "hovertemplate": "<b>LOWESS trendline</b><br><br>Country=Kazakhstan<br>x=%{x}<br>y=%{y} <b>(trend)</b><extra></extra>",
         "legendgroup": "Kazakhstan",
         "marker": {
          "color": "#636efa",
          "symbol": "circle"
         },
         "mode": "lines",
         "name": "Kazakhstan",
         "showlegend": false,
         "type": "scatter",
         "x": [
          1992,
          1993,
          1994,
          1995,
          1996,
          1997,
          1998,
          1999,
          2000,
          2001,
          2002,
          2003,
          2004,
          2005,
          2006,
          2007,
          2008,
          2009,
          2010,
          2011,
          2012,
          2013,
          2014,
          2015,
          2016,
          2017,
          2018,
          2019
         ],
         "xaxis": "x",
         "y": [
          58.53168903661081,
          59.90799151996355,
          61.29883095647518,
          62.705220481472615,
          64.12865222484992,
          65.57828502975383,
          67.06795204142794,
          68.60678541994629,
          70.19936984783381,
          72.15777658679112,
          74.16650046712732,
          76.182748418084,
          78.18556845213467,
          80.23094834660036,
          82.19835650985104,
          83.88296254277374,
          85.14794836247968,
          85.98111511465233,
          86.4672897877895,
          86.5701888322808,
          85.8309320962581,
          85.00105368546984,
          84.11532743799984,
          83.17911792384601,
          82.19699888875898,
          81.17276982590333,
          80.11398391380632,
          79.01867368002358
         ],
         "yaxis": "y"
        },
        {
         "hovertemplate": "Country=Canada<br>x=%{x}<br>y=%{y}<extra></extra>",
         "legendgroup": "Canada",
         "marker": {
          "color": "#EF553B",
          "symbol": "circle"
         },
         "mode": "markers",
         "name": "Canada",
         "orientation": "v",
         "showlegend": true,
         "type": "scatter",
         "x": [
          1946,
          1948,
          1949,
          1950,
          1952,
          1953,
          1954,
          1955,
          1956,
          1958,
          1959,
          1961,
          1962,
          1965,
          1966,
          1967,
          1968,
          1969,
          1970,
          1971,
          1972,
          1973,
          1974,
          1975,
          1976,
          1977,
          1978,
          1979,
          1980,
          1981,
          1982,
          1983,
          1984,
          1985,
          1986,
          1987,
          1988,
          1989,
          1990,
          1991,
          1992,
          1993,
          1994,
          1995,
          1996,
          1997,
          1998,
          1999,
          2000,
          2001,
          2002,
          2003,
          2004,
          2006,
          2005,
          2007,
          2008,
          2009,
          2010,
          2011,
          2012,
          2013,
          2014,
          2015,
          2016,
          2017,
          2018,
          2019
         ],
         "xaxis": "x",
         "y": [
          0,
          16.666666666666664,
          100,
          0,
          25,
          50,
          100,
          33.33333333333333,
          100,
          100,
          33.33333333333333,
          25,
          0,
          50,
          88.88888888888889,
          20,
          0,
          60,
          57.14285714285714,
          44.44444444444444,
          47.05882352941176,
          41.66666666666667,
          40,
          33.33333333333333,
          35.294117647058826,
          36.84210526315789,
          50,
          31.25,
          33.33333333333333,
          38.46153846153847,
          19.047619047619047,
          21.052631578947366,
          26.666666666666668,
          31.25,
          37.5,
          31.57894736842105,
          17.647058823529413,
          35.714285714285715,
          20,
          36.36363636363637,
          45.45454545454545,
          54.54545454545454,
          64.28571428571429,
          71.42857142857143,
          64.70588235294117,
          60,
          64.70588235294117,
          50,
          47.05882352941176,
          45,
          43.47826086956522,
          48,
          35,
          42.857142857142854,
          47.61904761904761,
          40.74074074074074,
          38.46153846153847,
          30.434782608695656,
          36,
          20,
          22.727272727272727,
          14.285714285714285,
          27.77777777777778,
          26.31578947368421,
          31.57894736842105,
          36.666666666666664,
          36.36363636363637,
          35.714285714285715
         ],
         "yaxis": "y"
        },
        {
         "hovertemplate": "<b>LOWESS trendline</b><br><br>Country=Canada<br>x=%{x}<br>y=%{y} <b>(trend)</b><extra></extra>",
         "legendgroup": "Canada",
         "marker": {
          "color": "#EF553B",
          "symbol": "circle"
         },
         "mode": "lines",
         "name": "Canada",
         "showlegend": false,
         "type": "scatter",
         "x": [
          1946,
          1948,
          1949,
          1950,
          1952,
          1953,
          1954,
          1955,
          1956,
          1958,
          1959,
          1961,
          1962,
          1965,
          1966,
          1967,
          1968,
          1969,
          1970,
          1971,
          1972,
          1973,
          1974,
          1975,
          1976,
          1977,
          1978,
          1979,
          1980,
          1981,
          1982,
          1983,
          1984,
          1985,
          1986,
          1987,
          1988,
          1989,
          1990,
          1991,
          1992,
          1993,
          1994,
          1995,
          1996,
          1997,
          1998,
          1999,
          2000,
          2001,
          2002,
          2003,
          2004,
          2005,
          2006,
          2007,
          2008,
          2009,
          2010,
          2011,
          2012,
          2013,
          2014,
          2015,
          2016,
          2017,
          2018,
          2019
         ],
         "xaxis": "x",
         "y": [
          21.218111100291427,
          22.576448221756387,
          23.238332012558136,
          23.889055537950657,
          25.159874794822283,
          25.78251847347446,
          26.398476067762928,
          27.0085367323712,
          27.61333587117926,
          28.808990145369382,
          29.400860522826427,
          30.5755519938561,
          31.159513814153527,
          32.912239123778086,
          33.50239796014629,
          34.09533359308739,
          34.68419693792336,
          35.25020143910569,
          35.7529322432656,
          36.13770385731919,
          36.22417205017627,
          36.27695813415805,
          36.32098837415432,
          36.378977922512846,
          36.49400888596636,
          36.59865411047216,
          36.76400076500218,
          36.99398860820894,
          37.2853382897547,
          37.626999770556196,
          38.00207010877938,
          38.39218809324872,
          38.56148482541723,
          38.95966325398854,
          39.33842697621145,
          39.53375575841204,
          39.88499644426857,
          40.1955408702681,
          40.4737117654444,
          40.72607332536651,
          40.95254618307447,
          41.151660267025505,
          41.32225663646991,
          41.46187950128936,
          41.56958528227242,
          41.64707267184435,
          41.20289566282554,
          40.770218913926804,
          40.37041635942025,
          39.99521505698596,
          39.6306096386162,
          39.26492875287415,
          38.88973423556473,
          38.49910377728358,
          38.089145320902,
          37.65712020007645,
          37.201138907180635,
          36.71999697550403,
          36.21308890109081,
          35.68041008334735,
          35.122393134862584,
          34.54009561417421,
          33.93515530908946,
          33.30973474135635,
          32.66625254518173,
          32.007268045171294,
          31.33523480742481,
          30.652247980327118
         ],
         "yaxis": "y"
        },
        {
         "hovertemplate": "Country=China<br>x=%{x}<br>y=%{y}<extra></extra>",
         "legendgroup": "China",
         "marker": {
          "color": "#00cc96",
          "symbol": "circle"
         },
         "mode": "markers",
         "name": "China",
         "orientation": "v",
         "showlegend": true,
         "type": "scatter",
         "x": [
          1971,
          1972,
          1973,
          1974,
          1975,
          1976,
          1977,
          1978,
          1979,
          1980,
          1981,
          1982,
          1983,
          1984,
          1985,
          1986,
          1987,
          1988,
          1989,
          1990,
          1991,
          1992,
          1993,
          1994,
          1995,
          1996,
          1997,
          1998,
          1999,
          2000,
          2001,
          2002,
          2003,
          2004,
          2006,
          2005,
          2007,
          2008,
          2009,
          2010,
          2011,
          2012,
          2013,
          2014,
          2015,
          2016,
          2017,
          2018,
          2019
         ],
         "xaxis": "x",
         "y": [
          100,
          92.85714285714286,
          90.9090909090909,
          94.44444444444444,
          100,
          92.85714285714286,
          100,
          100,
          100,
          93.33333333333333,
          84.61538461538461,
          75,
          84.21052631578947,
          73.33333333333333,
          80,
          86.95652173913044,
          94.44444444444444,
          93.75,
          85.71428571428571,
          100,
          90,
          63.63636363636363,
          63.63636363636363,
          57.14285714285714,
          50,
          58.82352941176471,
          60,
          62.5,
          70,
          76.47058823529412,
          80,
          81.81818181818183,
          80,
          80,
          78.57142857142857,
          71.42857142857143,
          81.48148148148148,
          80.76923076923077,
          86.95652173913044,
          76,
          84,
          78.26086956521739,
          90.47619047619048,
          77.77777777777779,
          80,
          68.42105263157895,
          80,
          66.66666666666666,
          71.42857142857143
         ],
         "yaxis": "y"
        },
        {
         "hovertemplate": "<b>LOWESS trendline</b><br><br>Country=China<br>x=%{x}<br>y=%{y} <b>(trend)</b><extra></extra>",
         "legendgroup": "China",
         "marker": {
          "color": "#00cc96",
          "symbol": "circle"
         },
         "mode": "lines",
         "name": "China",
         "showlegend": false,
         "type": "scatter",
         "x": [
          1971,
          1972,
          1973,
          1974,
          1975,
          1976,
          1977,
          1978,
          1979,
          1980,
          1981,
          1982,
          1983,
          1984,
          1985,
          1986,
          1987,
          1988,
          1989,
          1990,
          1991,
          1992,
          1993,
          1994,
          1995,
          1996,
          1997,
          1998,
          1999,
          2000,
          2001,
          2002,
          2003,
          2004,
          2005,
          2006,
          2007,
          2008,
          2009,
          2010,
          2011,
          2012,
          2013,
          2014,
          2015,
          2016,
          2017,
          2018,
          2019
         ],
         "xaxis": "x",
         "y": [
          99.44680268495956,
          98.441469161809,
          97.42610190672917,
          96.40065436882038,
          95.36613812952662,
          94.32392397261174,
          93.27495584482497,
          92.2199722812479,
          91.15864673143955,
          90.08886326520908,
          89.00601902445588,
          87.90278863345472,
          86.7695314911251,
          85.59437742251058,
          84.35955504466793,
          83.03223737488064,
          81.55342910409844,
          80.22060990766354,
          79.08858801874864,
          78.17291585700835,
          77.45147810053714,
          76.89024592272975,
          76.45476882983772,
          76.10385842499277,
          75.79366185031948,
          75.48015112771395,
          75.14288920673533,
          74.7988531696437,
          74.50788487958681,
          74.3435404074787,
          74.38571305745104,
          74.6698738203624,
          75.17289873153871,
          75.82177487122195,
          76.28745712236207,
          76.62380814686756,
          76.89709692810041,
          77.13344020043911,
          77.34347133870727,
          77.5318415887609,
          77.7001217818135,
          77.8487845194323,
          77.97720731894681,
          78.08413087847765,
          78.1672754293286,
          78.22434222179038,
          78.25338175457512,
          78.25363351876645,
          78.22481588746297
         ],
         "yaxis": "y"
        }
       ],
       "layout": {
        "autosize": true,
        "legend": {
         "title": {
          "text": "Country"
         },
         "tracegroupgap": 0
        },
        "margin": {
         "t": 60
        },
        "template": {
         "data": {
          "bar": [
           {
            "error_x": {
             "color": "#2a3f5f"
            },
            "error_y": {
             "color": "#2a3f5f"
            },
            "marker": {
             "line": {
              "color": "#E5ECF6",
              "width": 0.5
             },
             "pattern": {
              "fillmode": "overlay",
              "size": 10,
              "solidity": 0.2
             }
            },
            "type": "bar"
           }
          ],
          "barpolar": [
           {
            "marker": {
             "line": {
              "color": "#E5ECF6",
              "width": 0.5
             },
             "pattern": {
              "fillmode": "overlay",
              "size": 10,
              "solidity": 0.2
             }
            },
            "type": "barpolar"
           }
          ],
          "carpet": [
           {
            "aaxis": {
             "endlinecolor": "#2a3f5f",
             "gridcolor": "white",
             "linecolor": "white",
             "minorgridcolor": "white",
             "startlinecolor": "#2a3f5f"
            },
            "baxis": {
             "endlinecolor": "#2a3f5f",
             "gridcolor": "white",
             "linecolor": "white",
             "minorgridcolor": "white",
             "startlinecolor": "#2a3f5f"
            },
            "type": "carpet"
           }
          ],
          "choropleth": [
           {
            "colorbar": {
             "outlinewidth": 0,
             "ticks": ""
            },
            "type": "choropleth"
           }
          ],
          "contour": [
           {
            "colorbar": {
             "outlinewidth": 0,
             "ticks": ""
            },
            "colorscale": [
             [
              0,
              "#0d0887"
             ],
             [
              0.1111111111111111,
              "#46039f"
             ],
             [
              0.2222222222222222,
              "#7201a8"
             ],
             [
              0.3333333333333333,
              "#9c179e"
             ],
             [
              0.4444444444444444,
              "#bd3786"
             ],
             [
              0.5555555555555556,
              "#d8576b"
             ],
             [
              0.6666666666666666,
              "#ed7953"
             ],
             [
              0.7777777777777778,
              "#fb9f3a"
             ],
             [
              0.8888888888888888,
              "#fdca26"
             ],
             [
              1,
              "#f0f921"
             ]
            ],
            "type": "contour"
           }
          ],
          "contourcarpet": [
           {
            "colorbar": {
             "outlinewidth": 0,
             "ticks": ""
            },
            "type": "contourcarpet"
           }
          ],
          "heatmap": [
           {
            "colorbar": {
             "outlinewidth": 0,
             "ticks": ""
            },
            "colorscale": [
             [
              0,
              "#0d0887"
             ],
             [
              0.1111111111111111,
              "#46039f"
             ],
             [
              0.2222222222222222,
              "#7201a8"
             ],
             [
              0.3333333333333333,
              "#9c179e"
             ],
             [
              0.4444444444444444,
              "#bd3786"
             ],
             [
              0.5555555555555556,
              "#d8576b"
             ],
             [
              0.6666666666666666,
              "#ed7953"
             ],
             [
              0.7777777777777778,
              "#fb9f3a"
             ],
             [
              0.8888888888888888,
              "#fdca26"
             ],
             [
              1,
              "#f0f921"
             ]
            ],
            "type": "heatmap"
           }
          ],
          "heatmapgl": [
           {
            "colorbar": {
             "outlinewidth": 0,
             "ticks": ""
            },
            "colorscale": [
             [
              0,
              "#0d0887"
             ],
             [
              0.1111111111111111,
              "#46039f"
             ],
             [
              0.2222222222222222,
              "#7201a8"
             ],
             [
              0.3333333333333333,
              "#9c179e"
             ],
             [
              0.4444444444444444,
              "#bd3786"
             ],
             [
              0.5555555555555556,
              "#d8576b"
             ],
             [
              0.6666666666666666,
              "#ed7953"
             ],
             [
              0.7777777777777778,
              "#fb9f3a"
             ],
             [
              0.8888888888888888,
              "#fdca26"
             ],
             [
              1,
              "#f0f921"
             ]
            ],
            "type": "heatmapgl"
           }
          ],
          "histogram": [
           {
            "marker": {
             "pattern": {
              "fillmode": "overlay",
              "size": 10,
              "solidity": 0.2
             }
            },
            "type": "histogram"
           }
          ],
          "histogram2d": [
           {
            "colorbar": {
             "outlinewidth": 0,
             "ticks": ""
            },
            "colorscale": [
             [
              0,
              "#0d0887"
             ],
             [
              0.1111111111111111,
              "#46039f"
             ],
             [
              0.2222222222222222,
              "#7201a8"
             ],
             [
              0.3333333333333333,
              "#9c179e"
             ],
             [
              0.4444444444444444,
              "#bd3786"
             ],
             [
              0.5555555555555556,
              "#d8576b"
             ],
             [
              0.6666666666666666,
              "#ed7953"
             ],
             [
              0.7777777777777778,
              "#fb9f3a"
             ],
             [
              0.8888888888888888,
              "#fdca26"
             ],
             [
              1,
              "#f0f921"
             ]
            ],
            "type": "histogram2d"
           }
          ],
          "histogram2dcontour": [
           {
            "colorbar": {
             "outlinewidth": 0,
             "ticks": ""
            },
            "colorscale": [
             [
              0,
              "#0d0887"
             ],
             [
              0.1111111111111111,
              "#46039f"
             ],
             [
              0.2222222222222222,
              "#7201a8"
             ],
             [
              0.3333333333333333,
              "#9c179e"
             ],
             [
              0.4444444444444444,
              "#bd3786"
             ],
             [
              0.5555555555555556,
              "#d8576b"
             ],
             [
              0.6666666666666666,
              "#ed7953"
             ],
             [
              0.7777777777777778,
              "#fb9f3a"
             ],
             [
              0.8888888888888888,
              "#fdca26"
             ],
             [
              1,
              "#f0f921"
             ]
            ],
            "type": "histogram2dcontour"
           }
          ],
          "mesh3d": [
           {
            "colorbar": {
             "outlinewidth": 0,
             "ticks": ""
            },
            "type": "mesh3d"
           }
          ],
          "parcoords": [
           {
            "line": {
             "colorbar": {
              "outlinewidth": 0,
              "ticks": ""
             }
            },
            "type": "parcoords"
           }
          ],
          "pie": [
           {
            "automargin": true,
            "type": "pie"
           }
          ],
          "scatter": [
           {
            "fillpattern": {
             "fillmode": "overlay",
             "size": 10,
             "solidity": 0.2
            },
            "type": "scatter"
           }
          ],
          "scatter3d": [
           {
            "line": {
             "colorbar": {
              "outlinewidth": 0,
              "ticks": ""
             }
            },
            "marker": {
             "colorbar": {
              "outlinewidth": 0,
              "ticks": ""
             }
            },
            "type": "scatter3d"
           }
          ],
          "scattercarpet": [
           {
            "marker": {
             "colorbar": {
              "outlinewidth": 0,
              "ticks": ""
             }
            },
            "type": "scattercarpet"
           }
          ],
          "scattergeo": [
           {
            "marker": {
             "colorbar": {
              "outlinewidth": 0,
              "ticks": ""
             }
            },
            "type": "scattergeo"
           }
          ],
          "scattergl": [
           {
            "marker": {
             "colorbar": {
              "outlinewidth": 0,
              "ticks": ""
             }
            },
            "type": "scattergl"
           }
          ],
          "scattermapbox": [
           {
            "marker": {
             "colorbar": {
              "outlinewidth": 0,
              "ticks": ""
             }
            },
            "type": "scattermapbox"
           }
          ],
          "scatterpolar": [
           {
            "marker": {
             "colorbar": {
              "outlinewidth": 0,
              "ticks": ""
             }
            },
            "type": "scatterpolar"
           }
          ],
          "scatterpolargl": [
           {
            "marker": {
             "colorbar": {
              "outlinewidth": 0,
              "ticks": ""
             }
            },
            "type": "scatterpolargl"
           }
          ],
          "scatterternary": [
           {
            "marker": {
             "colorbar": {
              "outlinewidth": 0,
              "ticks": ""
             }
            },
            "type": "scatterternary"
           }
          ],
          "surface": [
           {
            "colorbar": {
             "outlinewidth": 0,
             "ticks": ""
            },
            "colorscale": [
             [
              0,
              "#0d0887"
             ],
             [
              0.1111111111111111,
              "#46039f"
             ],
             [
              0.2222222222222222,
              "#7201a8"
             ],
             [
              0.3333333333333333,
              "#9c179e"
             ],
             [
              0.4444444444444444,
              "#bd3786"
             ],
             [
              0.5555555555555556,
              "#d8576b"
             ],
             [
              0.6666666666666666,
              "#ed7953"
             ],
             [
              0.7777777777777778,
              "#fb9f3a"
             ],
             [
              0.8888888888888888,
              "#fdca26"
             ],
             [
              1,
              "#f0f921"
             ]
            ],
            "type": "surface"
           }
          ],
          "table": [
           {
            "cells": {
             "fill": {
              "color": "#EBF0F8"
             },
             "line": {
              "color": "white"
             }
            },
            "header": {
             "fill": {
              "color": "#C8D4E3"
             },
             "line": {
              "color": "white"
             }
            },
            "type": "table"
           }
          ]
         },
         "layout": {
          "annotationdefaults": {
           "arrowcolor": "#2a3f5f",
           "arrowhead": 0,
           "arrowwidth": 1
          },
          "autotypenumbers": "strict",
          "coloraxis": {
           "colorbar": {
            "outlinewidth": 0,
            "ticks": ""
           }
          },
          "colorscale": {
           "diverging": [
            [
             0,
             "#8e0152"
            ],
            [
             0.1,
             "#c51b7d"
            ],
            [
             0.2,
             "#de77ae"
            ],
            [
             0.3,
             "#f1b6da"
            ],
            [
             0.4,
             "#fde0ef"
            ],
            [
             0.5,
             "#f7f7f7"
            ],
            [
             0.6,
             "#e6f5d0"
            ],
            [
             0.7,
             "#b8e186"
            ],
            [
             0.8,
             "#7fbc41"
            ],
            [
             0.9,
             "#4d9221"
            ],
            [
             1,
             "#276419"
            ]
           ],
           "sequential": [
            [
             0,
             "#0d0887"
            ],
            [
             0.1111111111111111,
             "#46039f"
            ],
            [
             0.2222222222222222,
             "#7201a8"
            ],
            [
             0.3333333333333333,
             "#9c179e"
            ],
            [
             0.4444444444444444,
             "#bd3786"
            ],
            [
             0.5555555555555556,
             "#d8576b"
            ],
            [
             0.6666666666666666,
             "#ed7953"
            ],
            [
             0.7777777777777778,
             "#fb9f3a"
            ],
            [
             0.8888888888888888,
             "#fdca26"
            ],
            [
             1,
             "#f0f921"
            ]
           ],
           "sequentialminus": [
            [
             0,
             "#0d0887"
            ],
            [
             0.1111111111111111,
             "#46039f"
            ],
            [
             0.2222222222222222,
             "#7201a8"
            ],
            [
             0.3333333333333333,
             "#9c179e"
            ],
            [
             0.4444444444444444,
             "#bd3786"
            ],
            [
             0.5555555555555556,
             "#d8576b"
            ],
            [
             0.6666666666666666,
             "#ed7953"
            ],
            [
             0.7777777777777778,
             "#fb9f3a"
            ],
            [
             0.8888888888888888,
             "#fdca26"
            ],
            [
             1,
             "#f0f921"
            ]
           ]
          },
          "colorway": [
           "#636efa",
           "#EF553B",
           "#00cc96",
           "#ab63fa",
           "#FFA15A",
           "#19d3f3",
           "#FF6692",
           "#B6E880",
           "#FF97FF",
           "#FECB52"
          ],
          "font": {
           "color": "#2a3f5f"
          },
          "geo": {
           "bgcolor": "white",
           "lakecolor": "white",
           "landcolor": "#E5ECF6",
           "showlakes": true,
           "showland": true,
           "subunitcolor": "white"
          },
          "hoverlabel": {
           "align": "left"
          },
          "hovermode": "closest",
          "mapbox": {
           "style": "light"
          },
          "paper_bgcolor": "white",
          "plot_bgcolor": "#E5ECF6",
          "polar": {
           "angularaxis": {
            "gridcolor": "white",
            "linecolor": "white",
            "ticks": ""
           },
           "bgcolor": "#E5ECF6",
           "radialaxis": {
            "gridcolor": "white",
            "linecolor": "white",
            "ticks": ""
           }
          },
          "scene": {
           "xaxis": {
            "backgroundcolor": "#E5ECF6",
            "gridcolor": "white",
            "gridwidth": 2,
            "linecolor": "white",
            "showbackground": true,
            "ticks": "",
            "zerolinecolor": "white"
           },
           "yaxis": {
            "backgroundcolor": "#E5ECF6",
            "gridcolor": "white",
            "gridwidth": 2,
            "linecolor": "white",
            "showbackground": true,
            "ticks": "",
            "zerolinecolor": "white"
           },
           "zaxis": {
            "backgroundcolor": "#E5ECF6",
            "gridcolor": "white",
            "gridwidth": 2,
            "linecolor": "white",
            "showbackground": true,
            "ticks": "",
            "zerolinecolor": "white"
           }
          },
          "shapedefaults": {
           "line": {
            "color": "#2a3f5f"
           }
          },
          "ternary": {
           "aaxis": {
            "gridcolor": "white",
            "linecolor": "white",
            "ticks": ""
           },
           "baxis": {
            "gridcolor": "white",
            "linecolor": "white",
            "ticks": ""
           },
           "bgcolor": "#E5ECF6",
           "caxis": {
            "gridcolor": "white",
            "linecolor": "white",
            "ticks": ""
           }
          },
          "title": {
           "x": 0.05
          },
          "xaxis": {
           "automargin": true,
           "gridcolor": "white",
           "linecolor": "white",
           "ticks": "",
           "title": {
            "standoff": 15
           },
           "zerolinecolor": "white",
           "zerolinewidth": 2
          },
          "yaxis": {
           "automargin": true,
           "gridcolor": "white",
           "linecolor": "white",
           "ticks": "",
           "title": {
            "standoff": 15
           },
           "zerolinecolor": "white",
           "zerolinewidth": 2
          }
         }
        },
        "title": {
         "text": "Human rights<br>",
         "x": 0.5,
         "xanchor": "center",
         "y": 0.9,
         "yanchor": "top"
        },
        "xaxis": {
         "anchor": "y",
         "autorange": true,
         "domain": [
          0,
          1
         ],
         "range": [
          1941.5457464936426,
          2023.4542535063574
         ],
         "title": {
          "text": "Year"
         },
         "type": "linear"
        },
        "yaxis": {
         "anchor": "x",
         "autorange": true,
         "domain": [
          0,
          1
         ],
         "range": [
          -7.742782152230971,
          107.74278215223097
         ],
         "title": {
          "text": "% Yes"
         },
         "type": "linear"
        }
       }
      },
      "image/png": "[encoded data removed]",
      "text/html": [
       "<div>                            <div id=\"27132d82-bf57-4e8d-bbff-a29e655f524d\" class=\"plotly-graph-div\" style=\"height:525px; width:100%;\"></div>            <script type=\"text/javascript\">                require([\"plotly\"], function(Plotly) {                    window.PLOTLYENV=window.PLOTLYENV || {};                                    if (document.getElementById(\"27132d82-bf57-4e8d-bbff-a29e655f524d\")) {                    Plotly.newPlot(                        \"27132d82-bf57-4e8d-bbff-a29e655f524d\",                        [{\"hovertemplate\":\"Country=Kazakhstan\\u003cbr\\u003ex=%{x}\\u003cbr\\u003ey=%{y}\\u003cextra\\u003e\\u003c\\u002fextra\\u003e\",\"legendgroup\":\"Kazakhstan\",\"marker\":{\"color\":\"#636efa\",\"symbol\":\"circle\"},\"mode\":\"markers\",\"name\":\"Kazakhstan\",\"orientation\":\"v\",\"showlegend\":true,\"x\":[1992,1993,1994,1995,1996,1997,1998,1999,2000,2001,2002,2003,2004,2006,2005,2007,2008,2009,2010,2011,2012,2013,2014,2015,2016,2017,2018,2019],\"xaxis\":\"x\",\"y\":[63.63636363636363,54.54545454545454,64.28571428571429,57.14285714285714,64.70588235294117,70.0,87.5,62.5,56.25,73.68421052631578,77.27272727272727,68.0,77.77777777777779,88.88888888888889,80.95238095238095,85.18518518518519,92.3076923076923,91.30434782608695,84.0,88.0,95.65217391304348,85.71428571428571,83.33333333333334,85.0,73.68421052631578,90.0,81.81818181818183,71.42857142857143],\"yaxis\":\"y\",\"type\":\"scatter\"},{\"hovertemplate\":\"\\u003cb\\u003eLOWESS trendline\\u003c\\u002fb\\u003e\\u003cbr\\u003e\\u003cbr\\u003eCountry=Kazakhstan\\u003cbr\\u003ex=%{x}\\u003cbr\\u003ey=%{y} \\u003cb\\u003e(trend)\\u003c\\u002fb\\u003e\\u003cextra\\u003e\\u003c\\u002fextra\\u003e\",\"legendgroup\":\"Kazakhstan\",\"marker\":{\"color\":\"#636efa\",\"symbol\":\"circle\"},\"mode\":\"lines\",\"name\":\"Kazakhstan\",\"showlegend\":false,\"x\":[1992,1993,1994,1995,1996,1997,1998,1999,2000,2001,2002,2003,2004,2005,2006,2007,2008,2009,2010,2011,2012,2013,2014,2015,2016,2017,2018,2019],\"xaxis\":\"x\",\"y\":[58.53168903661081,59.90799151996355,61.29883095647518,62.705220481472615,64.12865222484992,65.57828502975383,67.06795204142794,68.60678541994629,70.19936984783381,72.15777658679112,74.16650046712732,76.182748418084,78.18556845213467,80.23094834660036,82.19835650985104,83.88296254277374,85.14794836247968,85.98111511465233,86.4672897877895,86.5701888322808,85.8309320962581,85.00105368546984,84.11532743799984,83.17911792384601,82.19699888875898,81.17276982590333,80.11398391380632,79.01867368002358],\"yaxis\":\"y\",\"type\":\"scatter\"},{\"hovertemplate\":\"Country=Canada\\u003cbr\\u003ex=%{x}\\u003cbr\\u003ey=%{y}\\u003cextra\\u003e\\u003c\\u002fextra\\u003e\",\"legendgroup\":\"Canada\",\"marker\":{\"color\":\"#EF553B\",\"symbol\":\"circle\"},\"mode\":\"markers\",\"name\":\"Canada\",\"orientation\":\"v\",\"showlegend\":true,\"x\":[1946,1948,1949,1950,1952,1953,1954,1955,1956,1958,1959,1961,1962,1965,1966,1967,1968,1969,1970,1971,1972,1973,1974,1975,1976,1977,1978,1979,1980,1981,1982,1983,1984,1985,1986,1987,1988,1989,1990,1991,1992,1993,1994,1995,1996,1997,1998,1999,2000,2001,2002,2003,2004,2006,2005,2007,2008,2009,2010,2011,2012,2013,2014,2015,2016,2017,2018,2019],\"xaxis\":\"x\",\"y\":[0.0,16.666666666666664,100.0,0.0,25.0,50.0,100.0,33.33333333333333,100.0,100.0,33.33333333333333,25.0,0.0,50.0,88.88888888888889,20.0,0.0,60.0,57.14285714285714,44.44444444444444,47.05882352941176,41.66666666666667,40.0,33.33333333333333,35.294117647058826,36.84210526315789,50.0,31.25,33.33333333333333,38.46153846153847,19.047619047619047,21.052631578947366,26.666666666666668,31.25,37.5,31.57894736842105,17.647058823529413,35.714285714285715,20.0,36.36363636363637,45.45454545454545,54.54545454545454,64.28571428571429,71.42857142857143,64.70588235294117,60.0,64.70588235294117,50.0,47.05882352941176,45.0,43.47826086956522,48.0,35.0,42.857142857142854,47.61904761904761,40.74074074074074,38.46153846153847,30.434782608695656,36.0,20.0,22.727272727272727,14.285714285714285,27.77777777777778,26.31578947368421,31.57894736842105,36.666666666666664,36.36363636363637,35.714285714285715],\"yaxis\":\"y\",\"type\":\"scatter\"},{\"hovertemplate\":\"\\u003cb\\u003eLOWESS trendline\\u003c\\u002fb\\u003e\\u003cbr\\u003e\\u003cbr\\u003eCountry=Canada\\u003cbr\\u003ex=%{x}\\u003cbr\\u003ey=%{y} \\u003cb\\u003e(trend)\\u003c\\u002fb\\u003e\\u003cextra\\u003e\\u003c\\u002fextra\\u003e\",\"legendgroup\":\"Canada\",\"marker\":{\"color\":\"#EF553B\",\"symbol\":\"circle\"},\"mode\":\"lines\",\"name\":\"Canada\",\"showlegend\":false,\"x\":[1946,1948,1949,1950,1952,1953,1954,1955,1956,1958,1959,1961,1962,1965,1966,1967,1968,1969,1970,1971,1972,1973,1974,1975,1976,1977,1978,1979,1980,1981,1982,1983,1984,1985,1986,1987,1988,1989,1990,1991,1992,1993,1994,1995,1996,1997,1998,1999,2000,2001,2002,2003,2004,2005,2006,2007,2008,2009,2010,2011,2012,2013,2014,2015,2016,2017,2018,2019],\"xaxis\":\"x\",\"y\":[21.218111100291427,22.576448221756387,23.238332012558136,23.889055537950657,25.159874794822283,25.78251847347446,26.398476067762928,27.0085367323712,27.61333587117926,28.808990145369382,29.400860522826427,30.5755519938561,31.159513814153527,32.912239123778086,33.50239796014629,34.09533359308739,34.68419693792336,35.25020143910569,35.7529322432656,36.13770385731919,36.22417205017627,36.27695813415805,36.32098837415432,36.378977922512846,36.49400888596636,36.59865411047216,36.76400076500218,36.99398860820894,37.2853382897547,37.626999770556196,38.00207010877938,38.39218809324872,38.56148482541723,38.95966325398854,39.33842697621145,39.53375575841204,39.88499644426857,40.1955408702681,40.4737117654444,40.72607332536651,40.95254618307447,41.151660267025505,41.32225663646991,41.46187950128936,41.56958528227242,41.64707267184435,41.20289566282554,40.770218913926804,40.37041635942025,39.99521505698596,39.6306096386162,39.26492875287415,38.88973423556473,38.49910377728358,38.089145320902,37.65712020007645,37.201138907180635,36.71999697550403,36.21308890109081,35.68041008334735,35.122393134862584,34.54009561417421,33.93515530908946,33.30973474135635,32.66625254518173,32.007268045171294,31.33523480742481,30.652247980327118],\"yaxis\":\"y\",\"type\":\"scatter\"},{\"hovertemplate\":\"Country=China\\u003cbr\\u003ex=%{x}\\u003cbr\\u003ey=%{y}\\u003cextra\\u003e\\u003c\\u002fextra\\u003e\",\"legendgroup\":\"China\",\"marker\":{\"color\":\"#00cc96\",\"symbol\":\"circle\"},\"mode\":\"markers\",\"name\":\"China\",\"orientation\":\"v\",\"showlegend\":true,\"x\":[1971,1972,1973,1974,1975,1976,1977,1978,1979,1980,1981,1982,1983,1984,1985,1986,1987,1988,1989,1990,1991,1992,1993,1994,1995,1996,1997,1998,1999,2000,2001,2002,2003,2004,2006,2005,2007,2008,2009,2010,2011,2012,2013,2014,2015,2016,2017,2018,2019],\"xaxis\":\"x\",\"y\":[100.0,92.85714285714286,90.9090909090909,94.44444444444444,100.0,92.85714285714286,100.0,100.0,100.0,93.33333333333333,84.61538461538461,75.0,84.21052631578947,73.33333333333333,80.0,86.95652173913044,94.44444444444444,93.75,85.71428571428571,100.0,90.0,63.63636363636363,63.63636363636363,57.14285714285714,50.0,58.82352941176471,60.0,62.5,70.0,76.47058823529412,80.0,81.81818181818183,80.0,80.0,78.57142857142857,71.42857142857143,81.48148148148148,80.76923076923077,86.95652173913044,76.0,84.0,78.26086956521739,90.47619047619048,77.77777777777779,80.0,68.42105263157895,80.0,66.66666666666666,71.42857142857143],\"yaxis\":\"y\",\"type\":\"scatter\"},{\"hovertemplate\":\"\\u003cb\\u003eLOWESS trendline\\u003c\\u002fb\\u003e\\u003cbr\\u003e\\u003cbr\\u003eCountry=China\\u003cbr\\u003ex=%{x}\\u003cbr\\u003ey=%{y} \\u003cb\\u003e(trend)\\u003c\\u002fb\\u003e\\u003cextra\\u003e\\u003c\\u002fextra\\u003e\",\"legendgroup\":\"China\",\"marker\":{\"color\":\"#00cc96\",\"symbol\":\"circle\"},\"mode\":\"lines\",\"name\":\"China\",\"showlegend\":false,\"x\":[1971,1972,1973,1974,1975,1976,1977,1978,1979,1980,1981,1982,1983,1984,1985,1986,1987,1988,1989,1990,1991,1992,1993,1994,1995,1996,1997,1998,1999,2000,2001,2002,2003,2004,2005,2006,2007,2008,2009,2010,2011,2012,2013,2014,2015,2016,2017,2018,2019],\"xaxis\":\"x\",\"y\":[99.44680268495956,98.441469161809,97.42610190672917,96.40065436882038,95.36613812952662,94.32392397261174,93.27495584482497,92.2199722812479,91.15864673143955,90.08886326520908,89.00601902445588,87.90278863345472,86.7695314911251,85.59437742251058,84.35955504466793,83.03223737488064,81.55342910409844,80.22060990766354,79.08858801874864,78.17291585700835,77.45147810053714,76.89024592272975,76.45476882983772,76.10385842499277,75.79366185031948,75.48015112771395,75.14288920673533,74.7988531696437,74.50788487958681,74.3435404074787,74.38571305745104,74.6698738203624,75.17289873153871,75.82177487122195,76.28745712236207,76.62380814686756,76.89709692810041,77.13344020043911,77.34347133870727,77.5318415887609,77.7001217818135,77.8487845194323,77.97720731894681,78.08413087847765,78.1672754293286,78.22434222179038,78.25338175457512,78.25363351876645,78.22481588746297],\"yaxis\":\"y\",\"type\":\"scatter\"}],                        {\"template\":{\"data\":{\"histogram2dcontour\":[{\"type\":\"histogram2dcontour\",\"colorbar\":{\"outlinewidth\":0,\"ticks\":\"\"},\"colorscale\":[[0.0,\"#0d0887\"],[0.1111111111111111,\"#46039f\"],[0.2222222222222222,\"#7201a8\"],[0.3333333333333333,\"#9c179e\"],[0.4444444444444444,\"#bd3786\"],[0.5555555555555556,\"#d8576b\"],[0.6666666666666666,\"#ed7953\"],[0.7777777777777778,\"#fb9f3a\"],[0.8888888888888888,\"#fdca26\"],[1.0,\"#f0f921\"]]}],\"choropleth\":[{\"type\":\"choropleth\",\"colorbar\":{\"outlinewidth\":0,\"ticks\":\"\"}}],\"histogram2d\":[{\"type\":\"histogram2d\",\"colorbar\":{\"outlinewidth\":0,\"ticks\":\"\"},\"colorscale\":[[0.0,\"#0d0887\"],[0.1111111111111111,\"#46039f\"],[0.2222222222222222,\"#7201a8\"],[0.3333333333333333,\"#9c179e\"],[0.4444444444444444,\"#bd3786\"],[0.5555555555555556,\"#d8576b\"],[0.6666666666666666,\"#ed7953\"],[0.7777777777777778,\"#fb9f3a\"],[0.8888888888888888,\"#fdca26\"],[1.0,\"#f0f921\"]]}],\"heatmap\":[{\"type\":\"heatmap\",\"colorbar\":{\"outlinewidth\":0,\"ticks\":\"\"},\"colorscale\":[[0.0,\"#0d0887\"],[0.1111111111111111,\"#46039f\"],[0.2222222222222222,\"#7201a8\"],[0.3333333333333333,\"#9c179e\"],[0.4444444444444444,\"#bd3786\"],[0.5555555555555556,\"#d8576b\"],[0.6666666666666666,\"#ed7953\"],[0.7777777777777778,\"#fb9f3a\"],[0.8888888888888888,\"#fdca26\"],[1.0,\"#f0f921\"]]}],\"heatmapgl\":[{\"type\":\"heatmapgl\",\"colorbar\":{\"outlinewidth\":0,\"ticks\":\"\"},\"colorscale\":[[0.0,\"#0d0887\"],[0.1111111111111111,\"#46039f\"],[0.2222222222222222,\"#7201a8\"],[0.3333333333333333,\"#9c179e\"],[0.4444444444444444,\"#bd3786\"],[0.5555555555555556,\"#d8576b\"],[0.6666666666666666,\"#ed7953\"],[0.7777777777777778,\"#fb9f3a\"],[0.8888888888888888,\"#fdca26\"],[1.0,\"#f0f921\"]]}],\"contourcarpet\":[{\"type\":\"contourcarpet\",\"colorbar\":{\"outlinewidth\":0,\"ticks\":\"\"}}],\"contour\":[{\"type\":\"contour\",\"colorbar\":{\"outlinewidth\":0,\"ticks\":\"\"},\"colorscale\":[[0.0,\"#0d0887\"],[0.1111111111111111,\"#46039f\"],[0.2222222222222222,\"#7201a8\"],[0.3333333333333333,\"#9c179e\"],[0.4444444444444444,\"#bd3786\"],[0.5555555555555556,\"#d8576b\"],[0.6666666666666666,\"#ed7953\"],[0.7777777777777778,\"#fb9f3a\"],[0.8888888888888888,\"#fdca26\"],[1.0,\"#f0f921\"]]}],\"surface\":[{\"type\":\"surface\",\"colorbar\":{\"outlinewidth\":0,\"ticks\":\"\"},\"colorscale\":[[0.0,\"#0d0887\"],[0.1111111111111111,\"#46039f\"],[0.2222222222222222,\"#7201a8\"],[0.3333333333333333,\"#9c179e\"],[0.4444444444444444,\"#bd3786\"],[0.5555555555555556,\"#d8576b\"],[0.6666666666666666,\"#ed7953\"],[0.7777777777777778,\"#fb9f3a\"],[0.8888888888888888,\"#fdca26\"],[1.0,\"#f0f921\"]]}],\"mesh3d\":[{\"type\":\"mesh3d\",\"colorbar\":{\"outlinewidth\":0,\"ticks\":\"\"}}],\"scatter\":[{\"fillpattern\":{\"fillmode\":\"overlay\",\"size\":10,\"solidity\":0.2},\"type\":\"scatter\"}],\"parcoords\":[{\"type\":\"parcoords\",\"line\":{\"colorbar\":{\"outlinewidth\":0,\"ticks\":\"\"}}}],\"scatterpolargl\":[{\"type\":\"scatterpolargl\",\"marker\":{\"colorbar\":{\"outlinewidth\":0,\"ticks\":\"\"}}}],\"bar\":[{\"error_x\":{\"color\":\"#2a3f5f\"},\"error_y\":{\"color\":\"#2a3f5f\"},\"marker\":{\"line\":{\"color\":\"#E5ECF6\",\"width\":0.5},\"pattern\":{\"fillmode\":\"overlay\",\"size\":10,\"solidity\":0.2}},\"type\":\"bar\"}],\"scattergeo\":[{\"type\":\"scattergeo\",\"marker\":{\"colorbar\":{\"outlinewidth\":0,\"ticks\":\"\"}}}],\"scatterpolar\":[{\"type\":\"scatterpolar\",\"marker\":{\"colorbar\":{\"outlinewidth\":0,\"ticks\":\"\"}}}],\"histogram\":[{\"marker\":{\"pattern\":{\"fillmode\":\"overlay\",\"size\":10,\"solidity\":0.2}},\"type\":\"histogram\"}],\"scattergl\":[{\"type\":\"scattergl\",\"marker\":{\"colorbar\":{\"outlinewidth\":0,\"ticks\":\"\"}}}],\"scatter3d\":[{\"type\":\"scatter3d\",\"line\":{\"colorbar\":{\"outlinewidth\":0,\"ticks\":\"\"}},\"marker\":{\"colorbar\":{\"outlinewidth\":0,\"ticks\":\"\"}}}],\"scattermapbox\":[{\"type\":\"scattermapbox\",\"marker\":{\"colorbar\":{\"outlinewidth\":0,\"ticks\":\"\"}}}],\"scatterternary\":[{\"type\":\"scatterternary\",\"marker\":{\"colorbar\":{\"outlinewidth\":0,\"ticks\":\"\"}}}],\"scattercarpet\":[{\"type\":\"scattercarpet\",\"marker\":{\"colorbar\":{\"outlinewidth\":0,\"ticks\":\"\"}}}],\"carpet\":[{\"aaxis\":{\"endlinecolor\":\"#2a3f5f\",\"gridcolor\":\"white\",\"linecolor\":\"white\",\"minorgridcolor\":\"white\",\"startlinecolor\":\"#2a3f5f\"},\"baxis\":{\"endlinecolor\":\"#2a3f5f\",\"gridcolor\":\"white\",\"linecolor\":\"white\",\"minorgridcolor\":\"white\",\"startlinecolor\":\"#2a3f5f\"},\"type\":\"carpet\"}],\"table\":[{\"cells\":{\"fill\":{\"color\":\"#EBF0F8\"},\"line\":{\"color\":\"white\"}},\"header\":{\"fill\":{\"color\":\"#C8D4E3\"},\"line\":{\"color\":\"white\"}},\"type\":\"table\"}],\"barpolar\":[{\"marker\":{\"line\":{\"color\":\"#E5ECF6\",\"width\":0.5},\"pattern\":{\"fillmode\":\"overlay\",\"size\":10,\"solidity\":0.2}},\"type\":\"barpolar\"}],\"pie\":[{\"automargin\":true,\"type\":\"pie\"}]},\"layout\":{\"autotypenumbers\":\"strict\",\"colorway\":[\"#636efa\",\"#EF553B\",\"#00cc96\",\"#ab63fa\",\"#FFA15A\",\"#19d3f3\",\"#FF6692\",\"#B6E880\",\"#FF97FF\",\"#FECB52\"],\"font\":{\"color\":\"#2a3f5f\"},\"hovermode\":\"closest\",\"hoverlabel\":{\"align\":\"left\"},\"paper_bgcolor\":\"white\",\"plot_bgcolor\":\"#E5ECF6\",\"polar\":{\"bgcolor\":\"#E5ECF6\",\"angularaxis\":{\"gridcolor\":\"white\",\"linecolor\":\"white\",\"ticks\":\"\"},\"radialaxis\":{\"gridcolor\":\"white\",\"linecolor\":\"white\",\"ticks\":\"\"}},\"ternary\":{\"bgcolor\":\"#E5ECF6\",\"aaxis\":{\"gridcolor\":\"white\",\"linecolor\":\"white\",\"ticks\":\"\"},\"baxis\":{\"gridcolor\":\"white\",\"linecolor\":\"white\",\"ticks\":\"\"},\"caxis\":{\"gridcolor\":\"white\",\"linecolor\":\"white\",\"ticks\":\"\"}},\"coloraxis\":{\"colorbar\":{\"outlinewidth\":0,\"ticks\":\"\"}},\"colorscale\":{\"sequential\":[[0.0,\"#0d0887\"],[0.1111111111111111,\"#46039f\"],[0.2222222222222222,\"#7201a8\"],[0.3333333333333333,\"#9c179e\"],[0.4444444444444444,\"#bd3786\"],[0.5555555555555556,\"#d8576b\"],[0.6666666666666666,\"#ed7953\"],[0.7777777777777778,\"#fb9f3a\"],[0.8888888888888888,\"#fdca26\"],[1.0,\"#f0f921\"]],\"sequentialminus\":[[0.0,\"#0d0887\"],[0.1111111111111111,\"#46039f\"],[0.2222222222222222,\"#7201a8\"],[0.3333333333333333,\"#9c179e\"],[0.4444444444444444,\"#bd3786\"],[0.5555555555555556,\"#d8576b\"],[0.6666666666666666,\"#ed7953\"],[0.7777777777777778,\"#fb9f3a\"],[0.8888888888888888,\"#fdca26\"],[1.0,\"#f0f921\"]],\"diverging\":[[0,\"#8e0152\"],[0.1,\"#c51b7d\"],[0.2,\"#de77ae\"],[0.3,\"#f1b6da\"],[0.4,\"#fde0ef\"],[0.5,\"#f7f7f7\"],[0.6,\"#e6f5d0\"],[0.7,\"#b8e186\"],[0.8,\"#7fbc41\"],[0.9,\"#4d9221\"],[1,\"#276419\"]]},\"xaxis\":{\"gridcolor\":\"white\",\"linecolor\":\"white\",\"ticks\":\"\",\"title\":{\"standoff\":15},\"zerolinecolor\":\"white\",\"automargin\":true,\"zerolinewidth\":2},\"yaxis\":{\"gridcolor\":\"white\",\"linecolor\":\"white\",\"ticks\":\"\",\"title\":{\"standoff\":15},\"zerolinecolor\":\"white\",\"automargin\":true,\"zerolinewidth\":2},\"scene\":{\"xaxis\":{\"backgroundcolor\":\"#E5ECF6\",\"gridcolor\":\"white\",\"linecolor\":\"white\",\"showbackground\":true,\"ticks\":\"\",\"zerolinecolor\":\"white\",\"gridwidth\":2},\"yaxis\":{\"backgroundcolor\":\"#E5ECF6\",\"gridcolor\":\"white\",\"linecolor\":\"white\",\"showbackground\":true,\"ticks\":\"\",\"zerolinecolor\":\"white\",\"gridwidth\":2},\"zaxis\":{\"backgroundcolor\":\"#E5ECF6\",\"gridcolor\":\"white\",\"linecolor\":\"white\",\"showbackground\":true,\"ticks\":\"\",\"zerolinecolor\":\"white\",\"gridwidth\":2}},\"shapedefaults\":{\"line\":{\"color\":\"#2a3f5f\"}},\"annotationdefaults\":{\"arrowcolor\":\"#2a3f5f\",\"arrowhead\":0,\"arrowwidth\":1},\"geo\":{\"bgcolor\":\"white\",\"landcolor\":\"#E5ECF6\",\"subunitcolor\":\"white\",\"showland\":true,\"showlakes\":true,\"lakecolor\":\"white\"},\"title\":{\"x\":0.05},\"mapbox\":{\"style\":\"light\"}}},\"xaxis\":{\"anchor\":\"y\",\"domain\":[0.0,1.0],\"title\":{\"text\":\"Year\"}},\"yaxis\":{\"anchor\":\"x\",\"domain\":[0.0,1.0],\"title\":{\"text\":\"% Yes\"}},\"legend\":{\"title\":{\"text\":\"Country\"},\"tracegroupgap\":0},\"margin\":{\"t\":60},\"title\":{\"text\":\"Human rights\\u003cbr\\u003e\",\"y\":0.9,\"x\":0.5,\"xanchor\":\"center\",\"yanchor\":\"top\"}},                        {\"responsive\": true}                    ).then(function(){\n",
       "                            \n",
       "var gd = document.getElementById('27132d82-bf57-4e8d-bbff-a29e655f524d');\n",
       "var x = new MutationObserver(function (mutations, observer) {{\n",
       "        var display = window.getComputedStyle(gd).display;\n",
       "        if (!display || display === 'none') {{\n",
       "            console.log([gd, 'removed!']);\n",
       "            Plotly.purge(gd);\n",
       "            observer.disconnect();\n",
       "        }}\n",
       "}});\n",
       "\n",
       "// Listen for the removal of the full notebook cells\n",
       "var notebookContainer = gd.closest('#notebook-container');\n",
       "if (notebookContainer) {{\n",
       "    x.observe(notebookContainer, {childList: true});\n",
       "}}\n",
       "\n",
       "// Listen for the clearing of the current output cell\n",
       "var outputEl = gd.closest('.output');\n",
       "if (outputEl) {{\n",
       "    x.observe(outputEl, {childList: true});\n",
       "}}\n",
       "\n",
       "                        })                };                });            </script>        </div>"
      ]
     },
     "metadata": {},
     "output_type": "display_data"
    },
    {
     "data": {
      "application/vnd.plotly.v1+json": {
       "config": {
        "plotlyServerURL": "https://plot.ly"
       },
       "data": [
        {
         "hovertemplate": "Country=Kazakhstan<br>x=%{x}<br>y=%{y}<extra></extra>",
         "legendgroup": "Kazakhstan",
         "marker": {
          "color": "#636efa",
          "symbol": "circle"
         },
         "mode": "markers",
         "name": "Kazakhstan",
         "orientation": "v",
         "showlegend": true,
         "type": "scatter",
         "x": [
          1992,
          1993,
          1994,
          1995,
          1996,
          1997,
          1998,
          1999,
          2000,
          2001,
          2002,
          2003,
          2004,
          2005,
          2006,
          2007,
          2008,
          2009,
          2010,
          2011,
          2012,
          2013,
          2014,
          2015,
          2016,
          2017,
          2018,
          2019
         ],
         "xaxis": "x",
         "y": [
          75,
          50,
          50,
          50,
          33.33333333333333,
          75,
          83.33333333333334,
          100,
          100,
          100,
          83.33333333333334,
          100,
          100,
          100,
          100,
          100,
          91.66666666666666,
          100,
          83.33333333333334,
          88.88888888888889,
          90.9090909090909,
          100,
          90,
          100,
          92.3076923076923,
          94.44444444444444,
          94.44444444444444,
          93.75
         ],
         "yaxis": "y"
        },
        {
         "hovertemplate": "<b>LOWESS trendline</b><br><br>Country=Kazakhstan<br>x=%{x}<br>y=%{y} <b>(trend)</b><extra></extra>",
         "legendgroup": "Kazakhstan",
         "marker": {
          "color": "#636efa",
          "symbol": "circle"
         },
         "mode": "lines",
         "name": "Kazakhstan",
         "showlegend": false,
         "type": "scatter",
         "x": [
          1992,
          1993,
          1994,
          1995,
          1996,
          1997,
          1998,
          1999,
          2000,
          2001,
          2002,
          2003,
          2004,
          2005,
          2006,
          2007,
          2008,
          2009,
          2010,
          2011,
          2012,
          2013,
          2014,
          2015,
          2016,
          2017,
          2018,
          2019
         ],
         "xaxis": "x",
         "y": [
          44.9833954583533,
          50.435177389576424,
          55.77584300397972,
          60.980166065506516,
          66.0384205358674,
          70.9706521427102,
          75.8282691959465,
          80.7169030699988,
          85.87817440835745,
          89.891254289018,
          93.10816331010693,
          95.12598789785267,
          96.10160072288885,
          96.403398015751,
          96.19762514169513,
          95.7937216791184,
          95.46256885440215,
          95.18006019756348,
          94.8544928126181,
          94.44120667873433,
          94.28948736850525,
          94.13696662364057,
          94.01900376073054,
          93.9422000082688,
          93.9057589455876,
          93.90167445945855,
          93.92281969558069,
          93.96274159217884
         ],
         "yaxis": "y"
        },
        {
         "hovertemplate": "Country=Canada<br>x=%{x}<br>y=%{y}<extra></extra>",
         "legendgroup": "Canada",
         "marker": {
          "color": "#EF553B",
          "symbol": "circle"
         },
         "mode": "markers",
         "name": "Canada",
         "orientation": "v",
         "showlegend": true,
         "type": "scatter",
         "x": [
          1946,
          1947,
          1948,
          1949,
          1950,
          1952,
          1953,
          1954,
          1955,
          1956,
          1957,
          1958,
          1959,
          1961,
          1962,
          1963,
          1966,
          1967,
          1968,
          1969,
          1970,
          1971,
          1972,
          1973,
          1974,
          1975,
          1976,
          1977,
          1979,
          1978,
          1980,
          1981,
          1982,
          1983,
          1984,
          1985,
          1986,
          1987,
          1988,
          1989,
          1990,
          1991,
          1992,
          1993,
          1994,
          1995,
          1996,
          1997,
          1998,
          1999,
          2000,
          2001,
          2002,
          2003,
          2004,
          2005,
          2006,
          2007,
          2008,
          2009,
          2010,
          2011,
          2012,
          2013,
          2014,
          2015,
          2016,
          2017,
          2018,
          2019
         ],
         "xaxis": "x",
         "y": [
          70,
          100,
          37.5,
          37.5,
          0,
          33.33333333333333,
          100,
          100,
          0,
          100,
          100,
          60,
          50,
          45.45454545454545,
          50,
          100,
          83.33333333333334,
          16.666666666666664,
          33.33333333333333,
          0,
          44.44444444444444,
          74.07407407407408,
          65.51724137931035,
          65,
          71.42857142857143,
          54.54545454545454,
          55.55555555555556,
          63.63636363636363,
          28.000000000000004,
          56.52173913043478,
          50,
          52.38095238095239,
          46.42857142857143,
          52,
          20,
          40,
          35,
          30,
          27.77777777777778,
          36.84210526315789,
          33.33333333333333,
          37.5,
          50,
          33.33333333333333,
          50,
          60,
          33.33333333333333,
          50,
          50,
          57.14285714285714,
          66.66666666666666,
          50,
          66.66666666666666,
          71.42857142857143,
          71.42857142857143,
          66.66666666666666,
          77.77777777777779,
          58.333333333333336,
          61.53846153846154,
          58.333333333333336,
          57.14285714285714,
          66.66666666666666,
          50,
          57.14285714285714,
          63.63636363636363,
          62.5,
          71.42857142857143,
          70,
          66.66666666666666,
          31.25
         ],
         "yaxis": "y"
        },
        {
         "hovertemplate": "<b>LOWESS trendline</b><br><br>Country=Canada<br>x=%{x}<br>y=%{y} <b>(trend)</b><extra></extra>",
         "legendgroup": "Canada",
         "marker": {
          "color": "#EF553B",
          "symbol": "circle"
         },
         "mode": "lines",
         "name": "Canada",
         "showlegend": false,
         "type": "scatter",
         "x": [
          1946,
          1947,
          1948,
          1949,
          1950,
          1952,
          1953,
          1954,
          1955,
          1956,
          1957,
          1958,
          1959,
          1961,
          1962,
          1963,
          1966,
          1967,
          1968,
          1969,
          1970,
          1971,
          1972,
          1973,
          1974,
          1975,
          1976,
          1977,
          1978,
          1979,
          1980,
          1981,
          1982,
          1983,
          1984,
          1985,
          1986,
          1987,
          1988,
          1989,
          1990,
          1991,
          1992,
          1993,
          1994,
          1995,
          1996,
          1997,
          1998,
          1999,
          2000,
          2001,
          2002,
          2003,
          2004,
          2005,
          2006,
          2007,
          2008,
          2009,
          2010,
          2011,
          2012,
          2013,
          2014,
          2015,
          2016,
          2017,
          2018,
          2019
         ],
         "xaxis": "x",
         "y": [
          69.17888873239352,
          68.69425395504503,
          68.20428023223003,
          67.70783465672588,
          67.20455503327344,
          66.18039667713586,
          65.66171446219656,
          65.1410156131078,
          64.61988170071459,
          64.09929199812272,
          63.58009913507098,
          63.062515260939776,
          62.54600823721228,
          61.514193980598264,
          60.99860921281789,
          60.48388827411067,
          58.95502953980012,
          58.448709244511775,
          57.9318740094935,
          57.37715068672898,
          56.73000409509331,
          55.841730773462345,
          54.908591021864105,
          53.9560240159198,
          53.02205480648546,
          52.13808787622714,
          51.29473736079191,
          50.56031808216843,
          49.90567707111837,
          49.32193589490317,
          48.805559524127915,
          48.35560280552183,
          47.978883109561,
          47.68949186338621,
          47.499245189549896,
          47.410705140031645,
          47.41932520243592,
          47.51003387356822,
          47.172849782186496,
          47.36238641884328,
          47.60549386731605,
          47.90534383973922,
          48.26942599111965,
          48.706753595235355,
          49.22051871439502,
          49.809018300389724,
          50.469713232677336,
          51.19659150784902,
          52.01313233650008,
          52.80156213069276,
          53.58290905774695,
          54.36673736815063,
          55.15593328521778,
          55.95087374736975,
          56.75058788581892,
          57.55332055333856,
          58.35694447962034,
          59.15919530520402,
          59.95768001930013,
          60.75027048126849,
          61.535113590017986,
          62.31067667992341,
          63.07571765727407,
          63.82915619095813,
          64.57039133129548,
          65.29918184314245,
          66.01544338458913,
          66.71918665497347,
          67.41028793921699,
          68.0885129613008
         ],
         "yaxis": "y"
        },
        {
         "hovertemplate": "Country=China<br>x=%{x}<br>y=%{y}<extra></extra>",
         "legendgroup": "China",
         "marker": {
          "color": "#00cc96",
          "symbol": "circle"
         },
         "mode": "markers",
         "name": "China",
         "orientation": "v",
         "showlegend": true,
         "type": "scatter",
         "x": [
          1971,
          1972,
          1973,
          1974,
          1975,
          1976,
          1977,
          1979,
          1978,
          1980,
          1981,
          1982,
          1983,
          1984,
          1985,
          1986,
          1987,
          1988,
          1989,
          1990,
          1991,
          1992,
          1993,
          1994,
          1995,
          1996,
          1997,
          1998,
          1999,
          2000,
          2001,
          2002,
          2003,
          2004,
          2005,
          2006,
          2007,
          2008,
          2009,
          2010,
          2011,
          2012,
          2013,
          2014,
          2015,
          2016,
          2017,
          2018,
          2019
         ],
         "xaxis": "x",
         "y": [
          100,
          70.58823529411765,
          64.28571428571429,
          60,
          57.14285714285714,
          82.6086956521739,
          91.66666666666666,
          90,
          100,
          90.9090909090909,
          95,
          84.61538461538461,
          91.30434782608695,
          84.21052631578947,
          88,
          90,
          95,
          94.44444444444444,
          100,
          100,
          100,
          100,
          83.33333333333334,
          100,
          80,
          100,
          100,
          100,
          85.71428571428571,
          100,
          100,
          83.33333333333334,
          100,
          100,
          100,
          88.88888888888889,
          100,
          76.92307692307693,
          91.66666666666666,
          85.71428571428571,
          88.88888888888889,
          75,
          100,
          81.81818181818183,
          87.5,
          71.42857142857143,
          80,
          83.33333333333334,
          68.75
         ],
         "yaxis": "y"
        },
        {
         "hovertemplate": "<b>LOWESS trendline</b><br><br>Country=China<br>x=%{x}<br>y=%{y} <b>(trend)</b><extra></extra>",
         "legendgroup": "China",
         "marker": {
          "color": "#00cc96",
          "symbol": "circle"
         },
         "mode": "lines",
         "name": "China",
         "showlegend": false,
         "type": "scatter",
         "x": [
          1971,
          1972,
          1973,
          1974,
          1975,
          1976,
          1977,
          1978,
          1979,
          1980,
          1981,
          1982,
          1983,
          1984,
          1985,
          1986,
          1987,
          1988,
          1989,
          1990,
          1991,
          1992,
          1993,
          1994,
          1995,
          1996,
          1997,
          1998,
          1999,
          2000,
          2001,
          2002,
          2003,
          2004,
          2005,
          2006,
          2007,
          2008,
          2009,
          2010,
          2011,
          2012,
          2013,
          2014,
          2015,
          2016,
          2017,
          2018,
          2019
         ],
         "xaxis": "x",
         "y": [
          75.03076110754913,
          76.27780362862012,
          77.50215916769599,
          78.70161173550851,
          79.87648276500188,
          81.02985807044584,
          82.16706436645396,
          83.29406302599226,
          84.4160363935723,
          85.53685323777293,
          86.65936529025389,
          87.78498356697834,
          88.91241443844623,
          90.03608880721728,
          91.13655458786538,
          92.151206344961,
          92.7696103284354,
          93.24768224394316,
          93.62081630054044,
          93.93906813532244,
          94.24158178447868,
          94.54268752429756,
          94.83977151129393,
          95.10083244694229,
          95.29248032178121,
          95.3879492919823,
          95.36952864485038,
          95.22333525784711,
          94.96198515303777,
          94.59913916688531,
          94.158476330788,
          93.65235018505545,
          93.09005722733251,
          92.48118954712233,
          91.62000069597721,
          90.72226584273282,
          89.80684632197327,
          88.87720876780105,
          87.93294350130358,
          86.97467765359666,
          86.00297508392427,
          85.0184017335822,
          84.02146703788483,
          83.013155817824,
          81.99346262273694,
          80.96210683635744,
          79.91852503104442,
          78.86306506129092,
          77.79610999162189
         ],
         "yaxis": "y"
        }
       ],
       "layout": {
        "autosize": true,
        "legend": {
         "title": {
          "text": "Country"
         },
         "tracegroupgap": 0
        },
        "margin": {
         "t": 60
        },
        "template": {
         "data": {
          "bar": [
           {
            "error_x": {
             "color": "#2a3f5f"
            },
            "error_y": {
             "color": "#2a3f5f"
            },
            "marker": {
             "line": {
              "color": "#E5ECF6",
              "width": 0.5
             },
             "pattern": {
              "fillmode": "overlay",
              "size": 10,
              "solidity": 0.2
             }
            },
            "type": "bar"
           }
          ],
          "barpolar": [
           {
            "marker": {
             "line": {
              "color": "#E5ECF6",
              "width": 0.5
             },
             "pattern": {
              "fillmode": "overlay",
              "size": 10,
              "solidity": 0.2
             }
            },
            "type": "barpolar"
           }
          ],
          "carpet": [
           {
            "aaxis": {
             "endlinecolor": "#2a3f5f",
             "gridcolor": "white",
             "linecolor": "white",
             "minorgridcolor": "white",
             "startlinecolor": "#2a3f5f"
            },
            "baxis": {
             "endlinecolor": "#2a3f5f",
             "gridcolor": "white",
             "linecolor": "white",
             "minorgridcolor": "white",
             "startlinecolor": "#2a3f5f"
            },
            "type": "carpet"
           }
          ],
          "choropleth": [
           {
            "colorbar": {
             "outlinewidth": 0,
             "ticks": ""
            },
            "type": "choropleth"
           }
          ],
          "contour": [
           {
            "colorbar": {
             "outlinewidth": 0,
             "ticks": ""
            },
            "colorscale": [
             [
              0,
              "#0d0887"
             ],
             [
              0.1111111111111111,
              "#46039f"
             ],
             [
              0.2222222222222222,
              "#7201a8"
             ],
             [
              0.3333333333333333,
              "#9c179e"
             ],
             [
              0.4444444444444444,
              "#bd3786"
             ],
             [
              0.5555555555555556,
              "#d8576b"
             ],
             [
              0.6666666666666666,
              "#ed7953"
             ],
             [
              0.7777777777777778,
              "#fb9f3a"
             ],
             [
              0.8888888888888888,
              "#fdca26"
             ],
             [
              1,
              "#f0f921"
             ]
            ],
            "type": "contour"
           }
          ],
          "contourcarpet": [
           {
            "colorbar": {
             "outlinewidth": 0,
             "ticks": ""
            },
            "type": "contourcarpet"
           }
          ],
          "heatmap": [
           {
            "colorbar": {
             "outlinewidth": 0,
             "ticks": ""
            },
            "colorscale": [
             [
              0,
              "#0d0887"
             ],
             [
              0.1111111111111111,
              "#46039f"
             ],
             [
              0.2222222222222222,
              "#7201a8"
             ],
             [
              0.3333333333333333,
              "#9c179e"
             ],
             [
              0.4444444444444444,
              "#bd3786"
             ],
             [
              0.5555555555555556,
              "#d8576b"
             ],
             [
              0.6666666666666666,
              "#ed7953"
             ],
             [
              0.7777777777777778,
              "#fb9f3a"
             ],
             [
              0.8888888888888888,
              "#fdca26"
             ],
             [
              1,
              "#f0f921"
             ]
            ],
            "type": "heatmap"
           }
          ],
          "heatmapgl": [
           {
            "colorbar": {
             "outlinewidth": 0,
             "ticks": ""
            },
            "colorscale": [
             [
              0,
              "#0d0887"
             ],
             [
              0.1111111111111111,
              "#46039f"
             ],
             [
              0.2222222222222222,
              "#7201a8"
             ],
             [
              0.3333333333333333,
              "#9c179e"
             ],
             [
              0.4444444444444444,
              "#bd3786"
             ],
             [
              0.5555555555555556,
              "#d8576b"
             ],
             [
              0.6666666666666666,
              "#ed7953"
             ],
             [
              0.7777777777777778,
              "#fb9f3a"
             ],
             [
              0.8888888888888888,
              "#fdca26"
             ],
             [
              1,
              "#f0f921"
             ]
            ],
            "type": "heatmapgl"
           }
          ],
          "histogram": [
           {
            "marker": {
             "pattern": {
              "fillmode": "overlay",
              "size": 10,
              "solidity": 0.2
             }
            },
            "type": "histogram"
           }
          ],
          "histogram2d": [
           {
            "colorbar": {
             "outlinewidth": 0,
             "ticks": ""
            },
            "colorscale": [
             [
              0,
              "#0d0887"
             ],
             [
              0.1111111111111111,
              "#46039f"
             ],
             [
              0.2222222222222222,
              "#7201a8"
             ],
             [
              0.3333333333333333,
              "#9c179e"
             ],
             [
              0.4444444444444444,
              "#bd3786"
             ],
             [
              0.5555555555555556,
              "#d8576b"
             ],
             [
              0.6666666666666666,
              "#ed7953"
             ],
             [
              0.7777777777777778,
              "#fb9f3a"
             ],
             [
              0.8888888888888888,
              "#fdca26"
             ],
             [
              1,
              "#f0f921"
             ]
            ],
            "type": "histogram2d"
           }
          ],
          "histogram2dcontour": [
           {
            "colorbar": {
             "outlinewidth": 0,
             "ticks": ""
            },
            "colorscale": [
             [
              0,
              "#0d0887"
             ],
             [
              0.1111111111111111,
              "#46039f"
             ],
             [
              0.2222222222222222,
              "#7201a8"
             ],
             [
              0.3333333333333333,
              "#9c179e"
             ],
             [
              0.4444444444444444,
              "#bd3786"
             ],
             [
              0.5555555555555556,
              "#d8576b"
             ],
             [
              0.6666666666666666,
              "#ed7953"
             ],
             [
              0.7777777777777778,
              "#fb9f3a"
             ],
             [
              0.8888888888888888,
              "#fdca26"
             ],
             [
              1,
              "#f0f921"
             ]
            ],
            "type": "histogram2dcontour"
           }
          ],
          "mesh3d": [
           {
            "colorbar": {
             "outlinewidth": 0,
             "ticks": ""
            },
            "type": "mesh3d"
           }
          ],
          "parcoords": [
           {
            "line": {
             "colorbar": {
              "outlinewidth": 0,
              "ticks": ""
             }
            },
            "type": "parcoords"
           }
          ],
          "pie": [
           {
            "automargin": true,
            "type": "pie"
           }
          ],
          "scatter": [
           {
            "fillpattern": {
             "fillmode": "overlay",
             "size": 10,
             "solidity": 0.2
            },
            "type": "scatter"
           }
          ],
          "scatter3d": [
           {
            "line": {
             "colorbar": {
              "outlinewidth": 0,
              "ticks": ""
             }
            },
            "marker": {
             "colorbar": {
              "outlinewidth": 0,
              "ticks": ""
             }
            },
            "type": "scatter3d"
           }
          ],
          "scattercarpet": [
           {
            "marker": {
             "colorbar": {
              "outlinewidth": 0,
              "ticks": ""
             }
            },
            "type": "scattercarpet"
           }
          ],
          "scattergeo": [
           {
            "marker": {
             "colorbar": {
              "outlinewidth": 0,
              "ticks": ""
             }
            },
            "type": "scattergeo"
           }
          ],
          "scattergl": [
           {
            "marker": {
             "colorbar": {
              "outlinewidth": 0,
              "ticks": ""
             }
            },
            "type": "scattergl"
           }
          ],
          "scattermapbox": [
           {
            "marker": {
             "colorbar": {
              "outlinewidth": 0,
              "ticks": ""
             }
            },
            "type": "scattermapbox"
           }
          ],
          "scatterpolar": [
           {
            "marker": {
             "colorbar": {
              "outlinewidth": 0,
              "ticks": ""
             }
            },
            "type": "scatterpolar"
           }
          ],
          "scatterpolargl": [
           {
            "marker": {
             "colorbar": {
              "outlinewidth": 0,
              "ticks": ""
             }
            },
            "type": "scatterpolargl"
           }
          ],
          "scatterternary": [
           {
            "marker": {
             "colorbar": {
              "outlinewidth": 0,
              "ticks": ""
             }
            },
            "type": "scatterternary"
           }
          ],
          "surface": [
           {
            "colorbar": {
             "outlinewidth": 0,
             "ticks": ""
            },
            "colorscale": [
             [
              0,
              "#0d0887"
             ],
             [
              0.1111111111111111,
              "#46039f"
             ],
             [
              0.2222222222222222,
              "#7201a8"
             ],
             [
              0.3333333333333333,
              "#9c179e"
             ],
             [
              0.4444444444444444,
              "#bd3786"
             ],
             [
              0.5555555555555556,
              "#d8576b"
             ],
             [
              0.6666666666666666,
              "#ed7953"
             ],
             [
              0.7777777777777778,
              "#fb9f3a"
             ],
             [
              0.8888888888888888,
              "#fdca26"
             ],
             [
              1,
              "#f0f921"
             ]
            ],
            "type": "surface"
           }
          ],
          "table": [
           {
            "cells": {
             "fill": {
              "color": "#EBF0F8"
             },
             "line": {
              "color": "white"
             }
            },
            "header": {
             "fill": {
              "color": "#C8D4E3"
             },
             "line": {
              "color": "white"
             }
            },
            "type": "table"
           }
          ]
         },
         "layout": {
          "annotationdefaults": {
           "arrowcolor": "#2a3f5f",
           "arrowhead": 0,
           "arrowwidth": 1
          },
          "autotypenumbers": "strict",
          "coloraxis": {
           "colorbar": {
            "outlinewidth": 0,
            "ticks": ""
           }
          },
          "colorscale": {
           "diverging": [
            [
             0,
             "#8e0152"
            ],
            [
             0.1,
             "#c51b7d"
            ],
            [
             0.2,
             "#de77ae"
            ],
            [
             0.3,
             "#f1b6da"
            ],
            [
             0.4,
             "#fde0ef"
            ],
            [
             0.5,
             "#f7f7f7"
            ],
            [
             0.6,
             "#e6f5d0"
            ],
            [
             0.7,
             "#b8e186"
            ],
            [
             0.8,
             "#7fbc41"
            ],
            [
             0.9,
             "#4d9221"
            ],
            [
             1,
             "#276419"
            ]
           ],
           "sequential": [
            [
             0,
             "#0d0887"
            ],
            [
             0.1111111111111111,
             "#46039f"
            ],
            [
             0.2222222222222222,
             "#7201a8"
            ],
            [
             0.3333333333333333,
             "#9c179e"
            ],
            [
             0.4444444444444444,
             "#bd3786"
            ],
            [
             0.5555555555555556,
             "#d8576b"
            ],
            [
             0.6666666666666666,
             "#ed7953"
            ],
            [
             0.7777777777777778,
             "#fb9f3a"
            ],
            [
             0.8888888888888888,
             "#fdca26"
            ],
            [
             1,
             "#f0f921"
            ]
           ],
           "sequentialminus": [
            [
             0,
             "#0d0887"
            ],
            [
             0.1111111111111111,
             "#46039f"
            ],
            [
             0.2222222222222222,
             "#7201a8"
            ],
            [
             0.3333333333333333,
             "#9c179e"
            ],
            [
             0.4444444444444444,
             "#bd3786"
            ],
            [
             0.5555555555555556,
             "#d8576b"
            ],
            [
             0.6666666666666666,
             "#ed7953"
            ],
            [
             0.7777777777777778,
             "#fb9f3a"
            ],
            [
             0.8888888888888888,
             "#fdca26"
            ],
            [
             1,
             "#f0f921"
            ]
           ]
          },
          "colorway": [
           "#636efa",
           "#EF553B",
           "#00cc96",
           "#ab63fa",
           "#FFA15A",
           "#19d3f3",
           "#FF6692",
           "#B6E880",
           "#FF97FF",
           "#FECB52"
          ],
          "font": {
           "color": "#2a3f5f"
          },
          "geo": {
           "bgcolor": "white",
           "lakecolor": "white",
           "landcolor": "#E5ECF6",
           "showlakes": true,
           "showland": true,
           "subunitcolor": "white"
          },
          "hoverlabel": {
           "align": "left"
          },
          "hovermode": "closest",
          "mapbox": {
           "style": "light"
          },
          "paper_bgcolor": "white",
          "plot_bgcolor": "#E5ECF6",
          "polar": {
           "angularaxis": {
            "gridcolor": "white",
            "linecolor": "white",
            "ticks": ""
           },
           "bgcolor": "#E5ECF6",
           "radialaxis": {
            "gridcolor": "white",
            "linecolor": "white",
            "ticks": ""
           }
          },
          "scene": {
           "xaxis": {
            "backgroundcolor": "#E5ECF6",
            "gridcolor": "white",
            "gridwidth": 2,
            "linecolor": "white",
            "showbackground": true,
            "ticks": "",
            "zerolinecolor": "white"
           },
           "yaxis": {
            "backgroundcolor": "#E5ECF6",
            "gridcolor": "white",
            "gridwidth": 2,
            "linecolor": "white",
            "showbackground": true,
            "ticks": "",
            "zerolinecolor": "white"
           },
           "zaxis": {
            "backgroundcolor": "#E5ECF6",
            "gridcolor": "white",
            "gridwidth": 2,
            "linecolor": "white",
            "showbackground": true,
            "ticks": "",
            "zerolinecolor": "white"
           }
          },
          "shapedefaults": {
           "line": {
            "color": "#2a3f5f"
           }
          },
          "ternary": {
           "aaxis": {
            "gridcolor": "white",
            "linecolor": "white",
            "ticks": ""
           },
           "baxis": {
            "gridcolor": "white",
            "linecolor": "white",
            "ticks": ""
           },
           "bgcolor": "#E5ECF6",
           "caxis": {
            "gridcolor": "white",
            "linecolor": "white",
            "ticks": ""
           }
          },
          "title": {
           "x": 0.05
          },
          "xaxis": {
           "automargin": true,
           "gridcolor": "white",
           "linecolor": "white",
           "ticks": "",
           "title": {
            "standoff": 15
           },
           "zerolinecolor": "white",
           "zerolinewidth": 2
          },
          "yaxis": {
           "automargin": true,
           "gridcolor": "white",
           "linecolor": "white",
           "ticks": "",
           "title": {
            "standoff": 15
           },
           "zerolinecolor": "white",
           "zerolinewidth": 2
          }
         }
        },
        "title": {
         "text": "Economic development<br>",
         "x": 0.5,
         "xanchor": "center",
         "y": 0.9,
         "yanchor": "top"
        },
        "xaxis": {
         "anchor": "y",
         "autorange": true,
         "domain": [
          0,
          1
         ],
         "range": [
          1941.5457464936426,
          2023.4542535063574
         ],
         "title": {
          "text": "Year"
         },
         "type": "linear"
        },
        "yaxis": {
         "anchor": "x",
         "autorange": true,
         "domain": [
          0,
          1
         ],
         "range": [
          -7.742782152230971,
          107.74278215223097
         ],
         "title": {
          "text": "% Yes"
         },
         "type": "linear"
        }
       }
      },
      "image/png": "[encoded data removed]",
      "text/html": [
       "<div>                            <div id=\"5f20a67c-c8ff-48ad-8cd8-d431dbec95ec\" class=\"plotly-graph-div\" style=\"height:525px; width:100%;\"></div>            <script type=\"text/javascript\">                require([\"plotly\"], function(Plotly) {                    window.PLOTLYENV=window.PLOTLYENV || {};                                    if (document.getElementById(\"5f20a67c-c8ff-48ad-8cd8-d431dbec95ec\")) {                    Plotly.newPlot(                        \"5f20a67c-c8ff-48ad-8cd8-d431dbec95ec\",                        [{\"hovertemplate\":\"Country=Kazakhstan\\u003cbr\\u003ex=%{x}\\u003cbr\\u003ey=%{y}\\u003cextra\\u003e\\u003c\\u002fextra\\u003e\",\"legendgroup\":\"Kazakhstan\",\"marker\":{\"color\":\"#636efa\",\"symbol\":\"circle\"},\"mode\":\"markers\",\"name\":\"Kazakhstan\",\"orientation\":\"v\",\"showlegend\":true,\"x\":[1992,1993,1994,1995,1996,1997,1998,1999,2000,2001,2002,2003,2004,2005,2006,2007,2008,2009,2010,2011,2012,2013,2014,2015,2016,2017,2018,2019],\"xaxis\":\"x\",\"y\":[75.0,50.0,50.0,50.0,33.33333333333333,75.0,83.33333333333334,100.0,100.0,100.0,83.33333333333334,100.0,100.0,100.0,100.0,100.0,91.66666666666666,100.0,83.33333333333334,88.88888888888889,90.9090909090909,100.0,90.0,100.0,92.3076923076923,94.44444444444444,94.44444444444444,93.75],\"yaxis\":\"y\",\"type\":\"scatter\"},{\"hovertemplate\":\"\\u003cb\\u003eLOWESS trendline\\u003c\\u002fb\\u003e\\u003cbr\\u003e\\u003cbr\\u003eCountry=Kazakhstan\\u003cbr\\u003ex=%{x}\\u003cbr\\u003ey=%{y} \\u003cb\\u003e(trend)\\u003c\\u002fb\\u003e\\u003cextra\\u003e\\u003c\\u002fextra\\u003e\",\"legendgroup\":\"Kazakhstan\",\"marker\":{\"color\":\"#636efa\",\"symbol\":\"circle\"},\"mode\":\"lines\",\"name\":\"Kazakhstan\",\"showlegend\":false,\"x\":[1992,1993,1994,1995,1996,1997,1998,1999,2000,2001,2002,2003,2004,2005,2006,2007,2008,2009,2010,2011,2012,2013,2014,2015,2016,2017,2018,2019],\"xaxis\":\"x\",\"y\":[44.9833954583533,50.435177389576424,55.77584300397972,60.980166065506516,66.0384205358674,70.9706521427102,75.8282691959465,80.7169030699988,85.87817440835745,89.891254289018,93.10816331010693,95.12598789785267,96.10160072288885,96.403398015751,96.19762514169513,95.7937216791184,95.46256885440215,95.18006019756348,94.8544928126181,94.44120667873433,94.28948736850525,94.13696662364057,94.01900376073054,93.9422000082688,93.9057589455876,93.90167445945855,93.92281969558069,93.96274159217884],\"yaxis\":\"y\",\"type\":\"scatter\"},{\"hovertemplate\":\"Country=Canada\\u003cbr\\u003ex=%{x}\\u003cbr\\u003ey=%{y}\\u003cextra\\u003e\\u003c\\u002fextra\\u003e\",\"legendgroup\":\"Canada\",\"marker\":{\"color\":\"#EF553B\",\"symbol\":\"circle\"},\"mode\":\"markers\",\"name\":\"Canada\",\"orientation\":\"v\",\"showlegend\":true,\"x\":[1946,1947,1948,1949,1950,1952,1953,1954,1955,1956,1957,1958,1959,1961,1962,1963,1966,1967,1968,1969,1970,1971,1972,1973,1974,1975,1976,1977,1979,1978,1980,1981,1982,1983,1984,1985,1986,1987,1988,1989,1990,1991,1992,1993,1994,1995,1996,1997,1998,1999,2000,2001,2002,2003,2004,2005,2006,2007,2008,2009,2010,2011,2012,2013,2014,2015,2016,2017,2018,2019],\"xaxis\":\"x\",\"y\":[70.0,100.0,37.5,37.5,0.0,33.33333333333333,100.0,100.0,0.0,100.0,100.0,60.0,50.0,45.45454545454545,50.0,100.0,83.33333333333334,16.666666666666664,33.33333333333333,0.0,44.44444444444444,74.07407407407408,65.51724137931035,65.0,71.42857142857143,54.54545454545454,55.55555555555556,63.63636363636363,28.000000000000004,56.52173913043478,50.0,52.38095238095239,46.42857142857143,52.0,20.0,40.0,35.0,30.0,27.77777777777778,36.84210526315789,33.33333333333333,37.5,50.0,33.33333333333333,50.0,60.0,33.33333333333333,50.0,50.0,57.14285714285714,66.66666666666666,50.0,66.66666666666666,71.42857142857143,71.42857142857143,66.66666666666666,77.77777777777779,58.333333333333336,61.53846153846154,58.333333333333336,57.14285714285714,66.66666666666666,50.0,57.14285714285714,63.63636363636363,62.5,71.42857142857143,70.0,66.66666666666666,31.25],\"yaxis\":\"y\",\"type\":\"scatter\"},{\"hovertemplate\":\"\\u003cb\\u003eLOWESS trendline\\u003c\\u002fb\\u003e\\u003cbr\\u003e\\u003cbr\\u003eCountry=Canada\\u003cbr\\u003ex=%{x}\\u003cbr\\u003ey=%{y} \\u003cb\\u003e(trend)\\u003c\\u002fb\\u003e\\u003cextra\\u003e\\u003c\\u002fextra\\u003e\",\"legendgroup\":\"Canada\",\"marker\":{\"color\":\"#EF553B\",\"symbol\":\"circle\"},\"mode\":\"lines\",\"name\":\"Canada\",\"showlegend\":false,\"x\":[1946,1947,1948,1949,1950,1952,1953,1954,1955,1956,1957,1958,1959,1961,1962,1963,1966,1967,1968,1969,1970,1971,1972,1973,1974,1975,1976,1977,1978,1979,1980,1981,1982,1983,1984,1985,1986,1987,1988,1989,1990,1991,1992,1993,1994,1995,1996,1997,1998,1999,2000,2001,2002,2003,2004,2005,2006,2007,2008,2009,2010,2011,2012,2013,2014,2015,2016,2017,2018,2019],\"xaxis\":\"x\",\"y\":[69.17888873239352,68.69425395504503,68.20428023223003,67.70783465672588,67.20455503327344,66.18039667713586,65.66171446219656,65.1410156131078,64.61988170071459,64.09929199812272,63.58009913507098,63.062515260939776,62.54600823721228,61.514193980598264,60.99860921281789,60.48388827411067,58.95502953980012,58.448709244511775,57.9318740094935,57.37715068672898,56.73000409509331,55.841730773462345,54.908591021864105,53.9560240159198,53.02205480648546,52.13808787622714,51.29473736079191,50.56031808216843,49.90567707111837,49.32193589490317,48.805559524127915,48.35560280552183,47.978883109561,47.68949186338621,47.499245189549896,47.410705140031645,47.41932520243592,47.51003387356822,47.172849782186496,47.36238641884328,47.60549386731605,47.90534383973922,48.26942599111965,48.706753595235355,49.22051871439502,49.809018300389724,50.469713232677336,51.19659150784902,52.01313233650008,52.80156213069276,53.58290905774695,54.36673736815063,55.15593328521778,55.95087374736975,56.75058788581892,57.55332055333856,58.35694447962034,59.15919530520402,59.95768001930013,60.75027048126849,61.535113590017986,62.31067667992341,63.07571765727407,63.82915619095813,64.57039133129548,65.29918184314245,66.01544338458913,66.71918665497347,67.41028793921699,68.0885129613008],\"yaxis\":\"y\",\"type\":\"scatter\"},{\"hovertemplate\":\"Country=China\\u003cbr\\u003ex=%{x}\\u003cbr\\u003ey=%{y}\\u003cextra\\u003e\\u003c\\u002fextra\\u003e\",\"legendgroup\":\"China\",\"marker\":{\"color\":\"#00cc96\",\"symbol\":\"circle\"},\"mode\":\"markers\",\"name\":\"China\",\"orientation\":\"v\",\"showlegend\":true,\"x\":[1971,1972,1973,1974,1975,1976,1977,1979,1978,1980,1981,1982,1983,1984,1985,1986,1987,1988,1989,1990,1991,1992,1993,1994,1995,1996,1997,1998,1999,2000,2001,2002,2003,2004,2005,2006,2007,2008,2009,2010,2011,2012,2013,2014,2015,2016,2017,2018,2019],\"xaxis\":\"x\",\"y\":[100.0,70.58823529411765,64.28571428571429,60.0,57.14285714285714,82.6086956521739,91.66666666666666,90.0,100.0,90.9090909090909,95.0,84.61538461538461,91.30434782608695,84.21052631578947,88.0,90.0,95.0,94.44444444444444,100.0,100.0,100.0,100.0,83.33333333333334,100.0,80.0,100.0,100.0,100.0,85.71428571428571,100.0,100.0,83.33333333333334,100.0,100.0,100.0,88.88888888888889,100.0,76.92307692307693,91.66666666666666,85.71428571428571,88.88888888888889,75.0,100.0,81.81818181818183,87.5,71.42857142857143,80.0,83.33333333333334,68.75],\"yaxis\":\"y\",\"type\":\"scatter\"},{\"hovertemplate\":\"\\u003cb\\u003eLOWESS trendline\\u003c\\u002fb\\u003e\\u003cbr\\u003e\\u003cbr\\u003eCountry=China\\u003cbr\\u003ex=%{x}\\u003cbr\\u003ey=%{y} \\u003cb\\u003e(trend)\\u003c\\u002fb\\u003e\\u003cextra\\u003e\\u003c\\u002fextra\\u003e\",\"legendgroup\":\"China\",\"marker\":{\"color\":\"#00cc96\",\"symbol\":\"circle\"},\"mode\":\"lines\",\"name\":\"China\",\"showlegend\":false,\"x\":[1971,1972,1973,1974,1975,1976,1977,1978,1979,1980,1981,1982,1983,1984,1985,1986,1987,1988,1989,1990,1991,1992,1993,1994,1995,1996,1997,1998,1999,2000,2001,2002,2003,2004,2005,2006,2007,2008,2009,2010,2011,2012,2013,2014,2015,2016,2017,2018,2019],\"xaxis\":\"x\",\"y\":[75.03076110754913,76.27780362862012,77.50215916769599,78.70161173550851,79.87648276500188,81.02985807044584,82.16706436645396,83.29406302599226,84.4160363935723,85.53685323777293,86.65936529025389,87.78498356697834,88.91241443844623,90.03608880721728,91.13655458786538,92.151206344961,92.7696103284354,93.24768224394316,93.62081630054044,93.93906813532244,94.24158178447868,94.54268752429756,94.83977151129393,95.10083244694229,95.29248032178121,95.3879492919823,95.36952864485038,95.22333525784711,94.96198515303777,94.59913916688531,94.158476330788,93.65235018505545,93.09005722733251,92.48118954712233,91.62000069597721,90.72226584273282,89.80684632197327,88.87720876780105,87.93294350130358,86.97467765359666,86.00297508392427,85.0184017335822,84.02146703788483,83.013155817824,81.99346262273694,80.96210683635744,79.91852503104442,78.86306506129092,77.79610999162189],\"yaxis\":\"y\",\"type\":\"scatter\"}],                        {\"template\":{\"data\":{\"histogram2dcontour\":[{\"type\":\"histogram2dcontour\",\"colorbar\":{\"outlinewidth\":0,\"ticks\":\"\"},\"colorscale\":[[0.0,\"#0d0887\"],[0.1111111111111111,\"#46039f\"],[0.2222222222222222,\"#7201a8\"],[0.3333333333333333,\"#9c179e\"],[0.4444444444444444,\"#bd3786\"],[0.5555555555555556,\"#d8576b\"],[0.6666666666666666,\"#ed7953\"],[0.7777777777777778,\"#fb9f3a\"],[0.8888888888888888,\"#fdca26\"],[1.0,\"#f0f921\"]]}],\"choropleth\":[{\"type\":\"choropleth\",\"colorbar\":{\"outlinewidth\":0,\"ticks\":\"\"}}],\"histogram2d\":[{\"type\":\"histogram2d\",\"colorbar\":{\"outlinewidth\":0,\"ticks\":\"\"},\"colorscale\":[[0.0,\"#0d0887\"],[0.1111111111111111,\"#46039f\"],[0.2222222222222222,\"#7201a8\"],[0.3333333333333333,\"#9c179e\"],[0.4444444444444444,\"#bd3786\"],[0.5555555555555556,\"#d8576b\"],[0.6666666666666666,\"#ed7953\"],[0.7777777777777778,\"#fb9f3a\"],[0.8888888888888888,\"#fdca26\"],[1.0,\"#f0f921\"]]}],\"heatmap\":[{\"type\":\"heatmap\",\"colorbar\":{\"outlinewidth\":0,\"ticks\":\"\"},\"colorscale\":[[0.0,\"#0d0887\"],[0.1111111111111111,\"#46039f\"],[0.2222222222222222,\"#7201a8\"],[0.3333333333333333,\"#9c179e\"],[0.4444444444444444,\"#bd3786\"],[0.5555555555555556,\"#d8576b\"],[0.6666666666666666,\"#ed7953\"],[0.7777777777777778,\"#fb9f3a\"],[0.8888888888888888,\"#fdca26\"],[1.0,\"#f0f921\"]]}],\"heatmapgl\":[{\"type\":\"heatmapgl\",\"colorbar\":{\"outlinewidth\":0,\"ticks\":\"\"},\"colorscale\":[[0.0,\"#0d0887\"],[0.1111111111111111,\"#46039f\"],[0.2222222222222222,\"#7201a8\"],[0.3333333333333333,\"#9c179e\"],[0.4444444444444444,\"#bd3786\"],[0.5555555555555556,\"#d8576b\"],[0.6666666666666666,\"#ed7953\"],[0.7777777777777778,\"#fb9f3a\"],[0.8888888888888888,\"#fdca26\"],[1.0,\"#f0f921\"]]}],\"contourcarpet\":[{\"type\":\"contourcarpet\",\"colorbar\":{\"outlinewidth\":0,\"ticks\":\"\"}}],\"contour\":[{\"type\":\"contour\",\"colorbar\":{\"outlinewidth\":0,\"ticks\":\"\"},\"colorscale\":[[0.0,\"#0d0887\"],[0.1111111111111111,\"#46039f\"],[0.2222222222222222,\"#7201a8\"],[0.3333333333333333,\"#9c179e\"],[0.4444444444444444,\"#bd3786\"],[0.5555555555555556,\"#d8576b\"],[0.6666666666666666,\"#ed7953\"],[0.7777777777777778,\"#fb9f3a\"],[0.8888888888888888,\"#fdca26\"],[1.0,\"#f0f921\"]]}],\"surface\":[{\"type\":\"surface\",\"colorbar\":{\"outlinewidth\":0,\"ticks\":\"\"},\"colorscale\":[[0.0,\"#0d0887\"],[0.1111111111111111,\"#46039f\"],[0.2222222222222222,\"#7201a8\"],[0.3333333333333333,\"#9c179e\"],[0.4444444444444444,\"#bd3786\"],[0.5555555555555556,\"#d8576b\"],[0.6666666666666666,\"#ed7953\"],[0.7777777777777778,\"#fb9f3a\"],[0.8888888888888888,\"#fdca26\"],[1.0,\"#f0f921\"]]}],\"mesh3d\":[{\"type\":\"mesh3d\",\"colorbar\":{\"outlinewidth\":0,\"ticks\":\"\"}}],\"scatter\":[{\"fillpattern\":{\"fillmode\":\"overlay\",\"size\":10,\"solidity\":0.2},\"type\":\"scatter\"}],\"parcoords\":[{\"type\":\"parcoords\",\"line\":{\"colorbar\":{\"outlinewidth\":0,\"ticks\":\"\"}}}],\"scatterpolargl\":[{\"type\":\"scatterpolargl\",\"marker\":{\"colorbar\":{\"outlinewidth\":0,\"ticks\":\"\"}}}],\"bar\":[{\"error_x\":{\"color\":\"#2a3f5f\"},\"error_y\":{\"color\":\"#2a3f5f\"},\"marker\":{\"line\":{\"color\":\"#E5ECF6\",\"width\":0.5},\"pattern\":{\"fillmode\":\"overlay\",\"size\":10,\"solidity\":0.2}},\"type\":\"bar\"}],\"scattergeo\":[{\"type\":\"scattergeo\",\"marker\":{\"colorbar\":{\"outlinewidth\":0,\"ticks\":\"\"}}}],\"scatterpolar\":[{\"type\":\"scatterpolar\",\"marker\":{\"colorbar\":{\"outlinewidth\":0,\"ticks\":\"\"}}}],\"histogram\":[{\"marker\":{\"pattern\":{\"fillmode\":\"overlay\",\"size\":10,\"solidity\":0.2}},\"type\":\"histogram\"}],\"scattergl\":[{\"type\":\"scattergl\",\"marker\":{\"colorbar\":{\"outlinewidth\":0,\"ticks\":\"\"}}}],\"scatter3d\":[{\"type\":\"scatter3d\",\"line\":{\"colorbar\":{\"outlinewidth\":0,\"ticks\":\"\"}},\"marker\":{\"colorbar\":{\"outlinewidth\":0,\"ticks\":\"\"}}}],\"scattermapbox\":[{\"type\":\"scattermapbox\",\"marker\":{\"colorbar\":{\"outlinewidth\":0,\"ticks\":\"\"}}}],\"scatterternary\":[{\"type\":\"scatterternary\",\"marker\":{\"colorbar\":{\"outlinewidth\":0,\"ticks\":\"\"}}}],\"scattercarpet\":[{\"type\":\"scattercarpet\",\"marker\":{\"colorbar\":{\"outlinewidth\":0,\"ticks\":\"\"}}}],\"carpet\":[{\"aaxis\":{\"endlinecolor\":\"#2a3f5f\",\"gridcolor\":\"white\",\"linecolor\":\"white\",\"minorgridcolor\":\"white\",\"startlinecolor\":\"#2a3f5f\"},\"baxis\":{\"endlinecolor\":\"#2a3f5f\",\"gridcolor\":\"white\",\"linecolor\":\"white\",\"minorgridcolor\":\"white\",\"startlinecolor\":\"#2a3f5f\"},\"type\":\"carpet\"}],\"table\":[{\"cells\":{\"fill\":{\"color\":\"#EBF0F8\"},\"line\":{\"color\":\"white\"}},\"header\":{\"fill\":{\"color\":\"#C8D4E3\"},\"line\":{\"color\":\"white\"}},\"type\":\"table\"}],\"barpolar\":[{\"marker\":{\"line\":{\"color\":\"#E5ECF6\",\"width\":0.5},\"pattern\":{\"fillmode\":\"overlay\",\"size\":10,\"solidity\":0.2}},\"type\":\"barpolar\"}],\"pie\":[{\"automargin\":true,\"type\":\"pie\"}]},\"layout\":{\"autotypenumbers\":\"strict\",\"colorway\":[\"#636efa\",\"#EF553B\",\"#00cc96\",\"#ab63fa\",\"#FFA15A\",\"#19d3f3\",\"#FF6692\",\"#B6E880\",\"#FF97FF\",\"#FECB52\"],\"font\":{\"color\":\"#2a3f5f\"},\"hovermode\":\"closest\",\"hoverlabel\":{\"align\":\"left\"},\"paper_bgcolor\":\"white\",\"plot_bgcolor\":\"#E5ECF6\",\"polar\":{\"bgcolor\":\"#E5ECF6\",\"angularaxis\":{\"gridcolor\":\"white\",\"linecolor\":\"white\",\"ticks\":\"\"},\"radialaxis\":{\"gridcolor\":\"white\",\"linecolor\":\"white\",\"ticks\":\"\"}},\"ternary\":{\"bgcolor\":\"#E5ECF6\",\"aaxis\":{\"gridcolor\":\"white\",\"linecolor\":\"white\",\"ticks\":\"\"},\"baxis\":{\"gridcolor\":\"white\",\"linecolor\":\"white\",\"ticks\":\"\"},\"caxis\":{\"gridcolor\":\"white\",\"linecolor\":\"white\",\"ticks\":\"\"}},\"coloraxis\":{\"colorbar\":{\"outlinewidth\":0,\"ticks\":\"\"}},\"colorscale\":{\"sequential\":[[0.0,\"#0d0887\"],[0.1111111111111111,\"#46039f\"],[0.2222222222222222,\"#7201a8\"],[0.3333333333333333,\"#9c179e\"],[0.4444444444444444,\"#bd3786\"],[0.5555555555555556,\"#d8576b\"],[0.6666666666666666,\"#ed7953\"],[0.7777777777777778,\"#fb9f3a\"],[0.8888888888888888,\"#fdca26\"],[1.0,\"#f0f921\"]],\"sequentialminus\":[[0.0,\"#0d0887\"],[0.1111111111111111,\"#46039f\"],[0.2222222222222222,\"#7201a8\"],[0.3333333333333333,\"#9c179e\"],[0.4444444444444444,\"#bd3786\"],[0.5555555555555556,\"#d8576b\"],[0.6666666666666666,\"#ed7953\"],[0.7777777777777778,\"#fb9f3a\"],[0.8888888888888888,\"#fdca26\"],[1.0,\"#f0f921\"]],\"diverging\":[[0,\"#8e0152\"],[0.1,\"#c51b7d\"],[0.2,\"#de77ae\"],[0.3,\"#f1b6da\"],[0.4,\"#fde0ef\"],[0.5,\"#f7f7f7\"],[0.6,\"#e6f5d0\"],[0.7,\"#b8e186\"],[0.8,\"#7fbc41\"],[0.9,\"#4d9221\"],[1,\"#276419\"]]},\"xaxis\":{\"gridcolor\":\"white\",\"linecolor\":\"white\",\"ticks\":\"\",\"title\":{\"standoff\":15},\"zerolinecolor\":\"white\",\"automargin\":true,\"zerolinewidth\":2},\"yaxis\":{\"gridcolor\":\"white\",\"linecolor\":\"white\",\"ticks\":\"\",\"title\":{\"standoff\":15},\"zerolinecolor\":\"white\",\"automargin\":true,\"zerolinewidth\":2},\"scene\":{\"xaxis\":{\"backgroundcolor\":\"#E5ECF6\",\"gridcolor\":\"white\",\"linecolor\":\"white\",\"showbackground\":true,\"ticks\":\"\",\"zerolinecolor\":\"white\",\"gridwidth\":2},\"yaxis\":{\"backgroundcolor\":\"#E5ECF6\",\"gridcolor\":\"white\",\"linecolor\":\"white\",\"showbackground\":true,\"ticks\":\"\",\"zerolinecolor\":\"white\",\"gridwidth\":2},\"zaxis\":{\"backgroundcolor\":\"#E5ECF6\",\"gridcolor\":\"white\",\"linecolor\":\"white\",\"showbackground\":true,\"ticks\":\"\",\"zerolinecolor\":\"white\",\"gridwidth\":2}},\"shapedefaults\":{\"line\":{\"color\":\"#2a3f5f\"}},\"annotationdefaults\":{\"arrowcolor\":\"#2a3f5f\",\"arrowhead\":0,\"arrowwidth\":1},\"geo\":{\"bgcolor\":\"white\",\"landcolor\":\"#E5ECF6\",\"subunitcolor\":\"white\",\"showland\":true,\"showlakes\":true,\"lakecolor\":\"white\"},\"title\":{\"x\":0.05},\"mapbox\":{\"style\":\"light\"}}},\"xaxis\":{\"anchor\":\"y\",\"domain\":[0.0,1.0],\"title\":{\"text\":\"Year\"}},\"yaxis\":{\"anchor\":\"x\",\"domain\":[0.0,1.0],\"title\":{\"text\":\"% Yes\"}},\"legend\":{\"title\":{\"text\":\"Country\"},\"tracegroupgap\":0},\"margin\":{\"t\":60},\"title\":{\"text\":\"Economic development\\u003cbr\\u003e\",\"y\":0.9,\"x\":0.5,\"xanchor\":\"center\",\"yanchor\":\"top\"}},                        {\"responsive\": true}                    ).then(function(){\n",
       "                            \n",
       "var gd = document.getElementById('5f20a67c-c8ff-48ad-8cd8-d431dbec95ec');\n",
       "var x = new MutationObserver(function (mutations, observer) {{\n",
       "        var display = window.getComputedStyle(gd).display;\n",
       "        if (!display || display === 'none') {{\n",
       "            console.log([gd, 'removed!']);\n",
       "            Plotly.purge(gd);\n",
       "            observer.disconnect();\n",
       "        }}\n",
       "}});\n",
       "\n",
       "// Listen for the removal of the full notebook cells\n",
       "var notebookContainer = gd.closest('#notebook-container');\n",
       "if (notebookContainer) {{\n",
       "    x.observe(notebookContainer, {childList: true});\n",
       "}}\n",
       "\n",
       "// Listen for the clearing of the current output cell\n",
       "var outputEl = gd.closest('.output');\n",
       "if (outputEl) {{\n",
       "    x.observe(outputEl, {childList: true});\n",
       "}}\n",
       "\n",
       "                        })                };                });            </script>        </div>"
      ]
     },
     "metadata": {},
     "output_type": "display_data"
    },
    {
     "data": {
      "application/vnd.plotly.v1+json": {
       "config": {
        "plotlyServerURL": "https://plot.ly"
       },
       "data": [
        {
         "hovertemplate": "Country=Kazakhstan<br>x=%{x}<br>y=%{y}<extra></extra>",
         "legendgroup": "Kazakhstan",
         "marker": {
          "color": "#636efa",
          "symbol": "circle"
         },
         "mode": "markers",
         "name": "Kazakhstan",
         "orientation": "v",
         "showlegend": true,
         "type": "scatter",
         "x": [
          1992,
          1993,
          1994,
          1995,
          1996,
          1997,
          1998,
          1999,
          2000,
          2001,
          2002,
          2003,
          2004,
          2005,
          2006,
          2007,
          2008,
          2009,
          2010,
          2011,
          2012,
          2013,
          2014,
          2015,
          2016,
          2017,
          2018,
          2019
         ],
         "xaxis": "x",
         "y": [
          54.54545454545454,
          60,
          61.53846153846154,
          71.42857142857143,
          50,
          75,
          76.92307692307693,
          60,
          60,
          90,
          80,
          70,
          66.66666666666666,
          80,
          87.5,
          81.81818181818183,
          80,
          92.85714285714286,
          84.61538461538461,
          91.66666666666666,
          92.3076923076923,
          92.3076923076923,
          88.88888888888889,
          90,
          90.9090909090909,
          87.5,
          100,
          93.75
         ],
         "yaxis": "y"
        },
        {
         "hovertemplate": "<b>LOWESS trendline</b><br><br>Country=Kazakhstan<br>x=%{x}<br>y=%{y} <b>(trend)</b><extra></extra>",
         "legendgroup": "Kazakhstan",
         "marker": {
          "color": "#636efa",
          "symbol": "circle"
         },
         "mode": "lines",
         "name": "Kazakhstan",
         "showlegend": false,
         "type": "scatter",
         "x": [
          1992,
          1993,
          1994,
          1995,
          1996,
          1997,
          1998,
          1999,
          2000,
          2001,
          2002,
          2003,
          2004,
          2005,
          2006,
          2007,
          2008,
          2009,
          2010,
          2011,
          2012,
          2013,
          2014,
          2015,
          2016,
          2017,
          2018,
          2019
         ],
         "xaxis": "x",
         "y": [
          58.49227554852088,
          60.08213285960176,
          61.65232625624503,
          63.21193762532798,
          64.77021115016676,
          66.33044215278889,
          67.90319763241666,
          69.48783062096898,
          71.01840025820886,
          72.46735680391231,
          73.94228601572509,
          75.49284483352675,
          77.12710105530255,
          78.82000359681453,
          80.63965511895563,
          82.44261877712896,
          84.04337496705061,
          85.4701285798623,
          86.8029864275907,
          88.01535490548983,
          88.87735059575257,
          89.7696213341832,
          90.64936231463284,
          91.49986363174182,
          92.31858898252513,
          93.10932920724329,
          93.87995067840014,
          94.64172565862081
         ],
         "yaxis": "y"
        },
        {
         "hovertemplate": "Country=Canada<br>x=%{x}<br>y=%{y}<extra></extra>",
         "legendgroup": "Canada",
         "marker": {
          "color": "#EF553B",
          "symbol": "circle"
         },
         "mode": "markers",
         "name": "Canada",
         "orientation": "v",
         "showlegend": true,
         "type": "scatter",
         "x": [
          1946,
          1947,
          1948,
          1949,
          1950,
          1951,
          1952,
          1953,
          1954,
          1955,
          1957,
          1956,
          1959,
          1960,
          1961,
          1962,
          1963,
          1965,
          1966,
          1967,
          1968,
          1969,
          1970,
          1971,
          1972,
          1973,
          1974,
          1975,
          1976,
          1977,
          1978,
          1979,
          1980,
          1981,
          1982,
          1983,
          1984,
          1985,
          1986,
          1987,
          1988,
          1989,
          1990,
          1991,
          1992,
          1993,
          1994,
          1995,
          1996,
          1997,
          1998,
          1999,
          2000,
          2001,
          2002,
          2003,
          2004,
          2005,
          2006,
          2007,
          2008,
          2009,
          2010,
          2011,
          2012,
          2013,
          2014,
          2015,
          2016,
          2017,
          2018,
          2019
         ],
         "xaxis": "x",
         "y": [
          100,
          33.33333333333333,
          41.66666666666667,
          40,
          25,
          100,
          20,
          33.33333333333333,
          20,
          20,
          44.44444444444444,
          100,
          31.25,
          36.36363636363637,
          66.66666666666666,
          38.095238095238095,
          66.66666666666666,
          33.33333333333333,
          41.17647058823529,
          14.285714285714285,
          9.090909090909092,
          28.57142857142857,
          17.647058823529413,
          36.36363636363637,
          37.5,
          33.33333333333333,
          41.66666666666667,
          40.909090909090914,
          47.368421052631575,
          38.88888888888889,
          37.5,
          28.57142857142857,
          43.75,
          29.411764705882355,
          17.391304347826086,
          35.294117647058826,
          30.434782608695656,
          30.76923076923077,
          18.75,
          33.33333333333333,
          35.714285714285715,
          46.15384615384615,
          33.33333333333333,
          40,
          35.714285714285715,
          18.181818181818183,
          46.15384615384615,
          71.42857142857143,
          66.66666666666666,
          75,
          76.92307692307693,
          69.23076923076923,
          69.23076923076923,
          75,
          72.72727272727273,
          70,
          66.66666666666666,
          80,
          64.70588235294117,
          63.63636363636363,
          53.333333333333336,
          57.14285714285714,
          61.53846153846154,
          25,
          30.76923076923077,
          30.76923076923077,
          44.44444444444444,
          50,
          54.54545454545454,
          31.25,
          33.33333333333333,
          31.25
         ],
         "yaxis": "y"
        },
        {
         "hovertemplate": "<b>LOWESS trendline</b><br><br>Country=Canada<br>x=%{x}<br>y=%{y} <b>(trend)</b><extra></extra>",
         "legendgroup": "Canada",
         "marker": {
          "color": "#EF553B",
          "symbol": "circle"
         },
         "mode": "lines",
         "name": "Canada",
         "showlegend": false,
         "type": "scatter",
         "x": [
          1946,
          1947,
          1948,
          1949,
          1950,
          1951,
          1952,
          1953,
          1954,
          1955,
          1956,
          1957,
          1959,
          1960,
          1961,
          1962,
          1963,
          1965,
          1966,
          1967,
          1968,
          1969,
          1970,
          1971,
          1972,
          1973,
          1974,
          1975,
          1976,
          1977,
          1978,
          1979,
          1980,
          1981,
          1982,
          1983,
          1984,
          1985,
          1986,
          1987,
          1988,
          1989,
          1990,
          1991,
          1992,
          1993,
          1994,
          1995,
          1996,
          1997,
          1998,
          1999,
          2000,
          2001,
          2002,
          2003,
          2004,
          2005,
          2006,
          2007,
          2008,
          2009,
          2010,
          2011,
          2012,
          2013,
          2014,
          2015,
          2016,
          2017,
          2018,
          2019
         ],
         "xaxis": "x",
         "y": [
          33.321168624334035,
          33.37467150999246,
          33.42712383034848,
          33.47826463869397,
          33.52750234931248,
          33.57400494851287,
          33.617093093349084,
          33.65618187293875,
          33.6910289992732,
          33.72160089906461,
          33.748349663296345,
          33.77227169759128,
          33.816289608723984,
          33.83878801328359,
          33.86370067597993,
          33.892910900192206,
          33.92812177522281,
          34.02332273571116,
          34.086794000733015,
          34.1640973131021,
          34.258054949458234,
          34.3700555041715,
          34.490158017524315,
          34.49037385507267,
          34.46476102759826,
          34.420918395031556,
          34.37715589954829,
          34.36140351952848,
          34.40458562241074,
          34.5393384114043,
          34.79244400674681,
          35.18484909175219,
          35.727961797127854,
          36.42263998204279,
          37.26059515293905,
          38.23075379637013,
          39.31341501566439,
          40.47883170720382,
          41.69048147457738,
          42.91374109417501,
          43.86229863626698,
          45.08343489966132,
          46.251306673289996,
          47.350274174185344,
          48.37073561992038,
          49.30788273050141,
          50.16549435264904,
          50.95116463012742,
          51.6705474448645,
          51.77724058989525,
          51.75847850912987,
          51.71402767370599,
          51.683458602059666,
          51.67218297045439,
          51.67441194956015,
          51.68210360685872,
          51.68766158247578,
          51.68449913517181,
          51.66694852965913,
          51.62995567579147,
          51.569058993815396,
          51.480341575091344,
          51.36048916115572,
          51.20659662484354,
          51.016141742591415,
          50.787563762218184,
          50.52026138508249,
          50.21441053284126,
          49.87057266545272,
          49.48938661931794,
          49.0715052026422,
          48.61810558392032
         ],
         "yaxis": "y"
        },
        {
         "hovertemplate": "Country=China<br>x=%{x}<br>y=%{y}<extra></extra>",
         "legendgroup": "China",
         "marker": {
          "color": "#00cc96",
          "symbol": "circle"
         },
         "mode": "markers",
         "name": "China",
         "orientation": "v",
         "showlegend": true,
         "type": "scatter",
         "x": [
          1971,
          1972,
          1973,
          1974,
          1975,
          1976,
          1977,
          1978,
          1979,
          1980,
          1981,
          1982,
          1983,
          1984,
          1985,
          1986,
          1987,
          1988,
          1989,
          1990,
          1991,
          1992,
          1993,
          1994,
          1995,
          1996,
          1997,
          1998,
          1999,
          2000,
          2001,
          2002,
          2003,
          2004,
          2005,
          2006,
          2007,
          2008,
          2009,
          2010,
          2011,
          2012,
          2013,
          2014,
          2015,
          2016,
          2017,
          2018,
          2019
         ],
         "xaxis": "x",
         "y": [
          77.77777777777779,
          100,
          100,
          100,
          100,
          100,
          100,
          100,
          100,
          100,
          100,
          100,
          100,
          95.65217391304348,
          100,
          100,
          100,
          100,
          100,
          100,
          100,
          100,
          100,
          92.3076923076923,
          100,
          100,
          91.66666666666666,
          92.3076923076923,
          84.61538461538461,
          92.3076923076923,
          91.66666666666666,
          90.9090909090909,
          100,
          100,
          90,
          93.33333333333333,
          100,
          86.66666666666667,
          92.85714285714286,
          100,
          100,
          100,
          100,
          100,
          88.88888888888889,
          90.9090909090909,
          93.33333333333333,
          66.66666666666666,
          68.75
         ],
         "yaxis": "y"
        },
        {
         "hovertemplate": "<b>LOWESS trendline</b><br><br>Country=China<br>x=%{x}<br>y=%{y} <b>(trend)</b><extra></extra>",
         "legendgroup": "China",
         "marker": {
          "color": "#00cc96",
          "symbol": "circle"
         },
         "mode": "lines",
         "name": "China",
         "showlegend": false,
         "type": "scatter",
         "x": [
          1971,
          1972,
          1973,
          1974,
          1975,
          1976,
          1977,
          1978,
          1979,
          1980,
          1981,
          1982,
          1983,
          1984,
          1985,
          1986,
          1987,
          1988,
          1989,
          1990,
          1991,
          1992,
          1993,
          1994,
          1995,
          1996,
          1997,
          1998,
          1999,
          2000,
          2001,
          2002,
          2003,
          2004,
          2005,
          2006,
          2007,
          2008,
          2009,
          2010,
          2011,
          2012,
          2013,
          2014,
          2015,
          2016,
          2017,
          2018,
          2019
         ],
         "xaxis": "x",
         "y": [
          100.33417918573356,
          100.27787937832528,
          100.22029587774581,
          100.16125636573567,
          100.10060152058051,
          100.0381711391713,
          99.97378986723754,
          99.9072521092287,
          99.83830577276038,
          99.76663456953307,
          99.69183869865778,
          99.61341359763762,
          99.53072310414379,
          99.4429373946007,
          99.34900620415621,
          99.2475141017615,
          99.01896791664745,
          98.74227193765749,
          98.43310581227234,
          98.11228430936309,
          97.79089350009363,
          97.47656031713196,
          97.17687920617885,
          96.88722759322232,
          96.6025862436848,
          96.3279861368894,
          96.07209119505632,
          95.84271659456107,
          95.64746831863303,
          95.49120459127037,
          95.3691476674089,
          95.27101744693499,
          95.19113851157975,
          95.1333316471221,
          95.17405473125073,
          95.19475427251633,
          95.21137915476102,
          95.23094375393583,
          95.25616808142928,
          95.28882321722297,
          95.3298272483227,
          95.3786252231846,
          95.43346645360178,
          95.49171844419214,
          95.55004353369274,
          95.60489759769482,
          95.65407848725235,
          95.69677518555913,
          95.73297272462536
         ],
         "yaxis": "y"
        }
       ],
       "layout": {
        "autosize": true,
        "legend": {
         "title": {
          "text": "Country"
         },
         "tracegroupgap": 0
        },
        "margin": {
         "t": 60
        },
        "template": {
         "data": {
          "bar": [
           {
            "error_x": {
             "color": "#2a3f5f"
            },
            "error_y": {
             "color": "#2a3f5f"
            },
            "marker": {
             "line": {
              "color": "#E5ECF6",
              "width": 0.5
             },
             "pattern": {
              "fillmode": "overlay",
              "size": 10,
              "solidity": 0.2
             }
            },
            "type": "bar"
           }
          ],
          "barpolar": [
           {
            "marker": {
             "line": {
              "color": "#E5ECF6",
              "width": 0.5
             },
             "pattern": {
              "fillmode": "overlay",
              "size": 10,
              "solidity": 0.2
             }
            },
            "type": "barpolar"
           }
          ],
          "carpet": [
           {
            "aaxis": {
             "endlinecolor": "#2a3f5f",
             "gridcolor": "white",
             "linecolor": "white",
             "minorgridcolor": "white",
             "startlinecolor": "#2a3f5f"
            },
            "baxis": {
             "endlinecolor": "#2a3f5f",
             "gridcolor": "white",
             "linecolor": "white",
             "minorgridcolor": "white",
             "startlinecolor": "#2a3f5f"
            },
            "type": "carpet"
           }
          ],
          "choropleth": [
           {
            "colorbar": {
             "outlinewidth": 0,
             "ticks": ""
            },
            "type": "choropleth"
           }
          ],
          "contour": [
           {
            "colorbar": {
             "outlinewidth": 0,
             "ticks": ""
            },
            "colorscale": [
             [
              0,
              "#0d0887"
             ],
             [
              0.1111111111111111,
              "#46039f"
             ],
             [
              0.2222222222222222,
              "#7201a8"
             ],
             [
              0.3333333333333333,
              "#9c179e"
             ],
             [
              0.4444444444444444,
              "#bd3786"
             ],
             [
              0.5555555555555556,
              "#d8576b"
             ],
             [
              0.6666666666666666,
              "#ed7953"
             ],
             [
              0.7777777777777778,
              "#fb9f3a"
             ],
             [
              0.8888888888888888,
              "#fdca26"
             ],
             [
              1,
              "#f0f921"
             ]
            ],
            "type": "contour"
           }
          ],
          "contourcarpet": [
           {
            "colorbar": {
             "outlinewidth": 0,
             "ticks": ""
            },
            "type": "contourcarpet"
           }
          ],
          "heatmap": [
           {
            "colorbar": {
             "outlinewidth": 0,
             "ticks": ""
            },
            "colorscale": [
             [
              0,
              "#0d0887"
             ],
             [
              0.1111111111111111,
              "#46039f"
             ],
             [
              0.2222222222222222,
              "#7201a8"
             ],
             [
              0.3333333333333333,
              "#9c179e"
             ],
             [
              0.4444444444444444,
              "#bd3786"
             ],
             [
              0.5555555555555556,
              "#d8576b"
             ],
             [
              0.6666666666666666,
              "#ed7953"
             ],
             [
              0.7777777777777778,
              "#fb9f3a"
             ],
             [
              0.8888888888888888,
              "#fdca26"
             ],
             [
              1,
              "#f0f921"
             ]
            ],
            "type": "heatmap"
           }
          ],
          "heatmapgl": [
           {
            "colorbar": {
             "outlinewidth": 0,
             "ticks": ""
            },
            "colorscale": [
             [
              0,
              "#0d0887"
             ],
             [
              0.1111111111111111,
              "#46039f"
             ],
             [
              0.2222222222222222,
              "#7201a8"
             ],
             [
              0.3333333333333333,
              "#9c179e"
             ],
             [
              0.4444444444444444,
              "#bd3786"
             ],
             [
              0.5555555555555556,
              "#d8576b"
             ],
             [
              0.6666666666666666,
              "#ed7953"
             ],
             [
              0.7777777777777778,
              "#fb9f3a"
             ],
             [
              0.8888888888888888,
              "#fdca26"
             ],
             [
              1,
              "#f0f921"
             ]
            ],
            "type": "heatmapgl"
           }
          ],
          "histogram": [
           {
            "marker": {
             "pattern": {
              "fillmode": "overlay",
              "size": 10,
              "solidity": 0.2
             }
            },
            "type": "histogram"
           }
          ],
          "histogram2d": [
           {
            "colorbar": {
             "outlinewidth": 0,
             "ticks": ""
            },
            "colorscale": [
             [
              0,
              "#0d0887"
             ],
             [
              0.1111111111111111,
              "#46039f"
             ],
             [
              0.2222222222222222,
              "#7201a8"
             ],
             [
              0.3333333333333333,
              "#9c179e"
             ],
             [
              0.4444444444444444,
              "#bd3786"
             ],
             [
              0.5555555555555556,
              "#d8576b"
             ],
             [
              0.6666666666666666,
              "#ed7953"
             ],
             [
              0.7777777777777778,
              "#fb9f3a"
             ],
             [
              0.8888888888888888,
              "#fdca26"
             ],
             [
              1,
              "#f0f921"
             ]
            ],
            "type": "histogram2d"
           }
          ],
          "histogram2dcontour": [
           {
            "colorbar": {
             "outlinewidth": 0,
             "ticks": ""
            },
            "colorscale": [
             [
              0,
              "#0d0887"
             ],
             [
              0.1111111111111111,
              "#46039f"
             ],
             [
              0.2222222222222222,
              "#7201a8"
             ],
             [
              0.3333333333333333,
              "#9c179e"
             ],
             [
              0.4444444444444444,
              "#bd3786"
             ],
             [
              0.5555555555555556,
              "#d8576b"
             ],
             [
              0.6666666666666666,
              "#ed7953"
             ],
             [
              0.7777777777777778,
              "#fb9f3a"
             ],
             [
              0.8888888888888888,
              "#fdca26"
             ],
             [
              1,
              "#f0f921"
             ]
            ],
            "type": "histogram2dcontour"
           }
          ],
          "mesh3d": [
           {
            "colorbar": {
             "outlinewidth": 0,
             "ticks": ""
            },
            "type": "mesh3d"
           }
          ],
          "parcoords": [
           {
            "line": {
             "colorbar": {
              "outlinewidth": 0,
              "ticks": ""
             }
            },
            "type": "parcoords"
           }
          ],
          "pie": [
           {
            "automargin": true,
            "type": "pie"
           }
          ],
          "scatter": [
           {
            "fillpattern": {
             "fillmode": "overlay",
             "size": 10,
             "solidity": 0.2
            },
            "type": "scatter"
           }
          ],
          "scatter3d": [
           {
            "line": {
             "colorbar": {
              "outlinewidth": 0,
              "ticks": ""
             }
            },
            "marker": {
             "colorbar": {
              "outlinewidth": 0,
              "ticks": ""
             }
            },
            "type": "scatter3d"
           }
          ],
          "scattercarpet": [
           {
            "marker": {
             "colorbar": {
              "outlinewidth": 0,
              "ticks": ""
             }
            },
            "type": "scattercarpet"
           }
          ],
          "scattergeo": [
           {
            "marker": {
             "colorbar": {
              "outlinewidth": 0,
              "ticks": ""
             }
            },
            "type": "scattergeo"
           }
          ],
          "scattergl": [
           {
            "marker": {
             "colorbar": {
              "outlinewidth": 0,
              "ticks": ""
             }
            },
            "type": "scattergl"
           }
          ],
          "scattermapbox": [
           {
            "marker": {
             "colorbar": {
              "outlinewidth": 0,
              "ticks": ""
             }
            },
            "type": "scattermapbox"
           }
          ],
          "scatterpolar": [
           {
            "marker": {
             "colorbar": {
              "outlinewidth": 0,
              "ticks": ""
             }
            },
            "type": "scatterpolar"
           }
          ],
          "scatterpolargl": [
           {
            "marker": {
             "colorbar": {
              "outlinewidth": 0,
              "ticks": ""
             }
            },
            "type": "scatterpolargl"
           }
          ],
          "scatterternary": [
           {
            "marker": {
             "colorbar": {
              "outlinewidth": 0,
              "ticks": ""
             }
            },
            "type": "scatterternary"
           }
          ],
          "surface": [
           {
            "colorbar": {
             "outlinewidth": 0,
             "ticks": ""
            },
            "colorscale": [
             [
              0,
              "#0d0887"
             ],
             [
              0.1111111111111111,
              "#46039f"
             ],
             [
              0.2222222222222222,
              "#7201a8"
             ],
             [
              0.3333333333333333,
              "#9c179e"
             ],
             [
              0.4444444444444444,
              "#bd3786"
             ],
             [
              0.5555555555555556,
              "#d8576b"
             ],
             [
              0.6666666666666666,
              "#ed7953"
             ],
             [
              0.7777777777777778,
              "#fb9f3a"
             ],
             [
              0.8888888888888888,
              "#fdca26"
             ],
             [
              1,
              "#f0f921"
             ]
            ],
            "type": "surface"
           }
          ],
          "table": [
           {
            "cells": {
             "fill": {
              "color": "#EBF0F8"
             },
             "line": {
              "color": "white"
             }
            },
            "header": {
             "fill": {
              "color": "#C8D4E3"
             },
             "line": {
              "color": "white"
             }
            },
            "type": "table"
           }
          ]
         },
         "layout": {
          "annotationdefaults": {
           "arrowcolor": "#2a3f5f",
           "arrowhead": 0,
           "arrowwidth": 1
          },
          "autotypenumbers": "strict",
          "coloraxis": {
           "colorbar": {
            "outlinewidth": 0,
            "ticks": ""
           }
          },
          "colorscale": {
           "diverging": [
            [
             0,
             "#8e0152"
            ],
            [
             0.1,
             "#c51b7d"
            ],
            [
             0.2,
             "#de77ae"
            ],
            [
             0.3,
             "#f1b6da"
            ],
            [
             0.4,
             "#fde0ef"
            ],
            [
             0.5,
             "#f7f7f7"
            ],
            [
             0.6,
             "#e6f5d0"
            ],
            [
             0.7,
             "#b8e186"
            ],
            [
             0.8,
             "#7fbc41"
            ],
            [
             0.9,
             "#4d9221"
            ],
            [
             1,
             "#276419"
            ]
           ],
           "sequential": [
            [
             0,
             "#0d0887"
            ],
            [
             0.1111111111111111,
             "#46039f"
            ],
            [
             0.2222222222222222,
             "#7201a8"
            ],
            [
             0.3333333333333333,
             "#9c179e"
            ],
            [
             0.4444444444444444,
             "#bd3786"
            ],
            [
             0.5555555555555556,
             "#d8576b"
            ],
            [
             0.6666666666666666,
             "#ed7953"
            ],
            [
             0.7777777777777778,
             "#fb9f3a"
            ],
            [
             0.8888888888888888,
             "#fdca26"
            ],
            [
             1,
             "#f0f921"
            ]
           ],
           "sequentialminus": [
            [
             0,
             "#0d0887"
            ],
            [
             0.1111111111111111,
             "#46039f"
            ],
            [
             0.2222222222222222,
             "#7201a8"
            ],
            [
             0.3333333333333333,
             "#9c179e"
            ],
            [
             0.4444444444444444,
             "#bd3786"
            ],
            [
             0.5555555555555556,
             "#d8576b"
            ],
            [
             0.6666666666666666,
             "#ed7953"
            ],
            [
             0.7777777777777778,
             "#fb9f3a"
            ],
            [
             0.8888888888888888,
             "#fdca26"
            ],
            [
             1,
             "#f0f921"
            ]
           ]
          },
          "colorway": [
           "#636efa",
           "#EF553B",
           "#00cc96",
           "#ab63fa",
           "#FFA15A",
           "#19d3f3",
           "#FF6692",
           "#B6E880",
           "#FF97FF",
           "#FECB52"
          ],
          "font": {
           "color": "#2a3f5f"
          },
          "geo": {
           "bgcolor": "white",
           "lakecolor": "white",
           "landcolor": "#E5ECF6",
           "showlakes": true,
           "showland": true,
           "subunitcolor": "white"
          },
          "hoverlabel": {
           "align": "left"
          },
          "hovermode": "closest",
          "mapbox": {
           "style": "light"
          },
          "paper_bgcolor": "white",
          "plot_bgcolor": "#E5ECF6",
          "polar": {
           "angularaxis": {
            "gridcolor": "white",
            "linecolor": "white",
            "ticks": ""
           },
           "bgcolor": "#E5ECF6",
           "radialaxis": {
            "gridcolor": "white",
            "linecolor": "white",
            "ticks": ""
           }
          },
          "scene": {
           "xaxis": {
            "backgroundcolor": "#E5ECF6",
            "gridcolor": "white",
            "gridwidth": 2,
            "linecolor": "white",
            "showbackground": true,
            "ticks": "",
            "zerolinecolor": "white"
           },
           "yaxis": {
            "backgroundcolor": "#E5ECF6",
            "gridcolor": "white",
            "gridwidth": 2,
            "linecolor": "white",
            "showbackground": true,
            "ticks": "",
            "zerolinecolor": "white"
           },
           "zaxis": {
            "backgroundcolor": "#E5ECF6",
            "gridcolor": "white",
            "gridwidth": 2,
            "linecolor": "white",
            "showbackground": true,
            "ticks": "",
            "zerolinecolor": "white"
           }
          },
          "shapedefaults": {
           "line": {
            "color": "#2a3f5f"
           }
          },
          "ternary": {
           "aaxis": {
            "gridcolor": "white",
            "linecolor": "white",
            "ticks": ""
           },
           "baxis": {
            "gridcolor": "white",
            "linecolor": "white",
            "ticks": ""
           },
           "bgcolor": "#E5ECF6",
           "caxis": {
            "gridcolor": "white",
            "linecolor": "white",
            "ticks": ""
           }
          },
          "title": {
           "x": 0.05
          },
          "xaxis": {
           "automargin": true,
           "gridcolor": "white",
           "linecolor": "white",
           "ticks": "",
           "title": {
            "standoff": 15
           },
           "zerolinecolor": "white",
           "zerolinewidth": 2
          },
          "yaxis": {
           "automargin": true,
           "gridcolor": "white",
           "linecolor": "white",
           "ticks": "",
           "title": {
            "standoff": 15
           },
           "zerolinecolor": "white",
           "zerolinewidth": 2
          }
         }
        },
        "title": {
         "text": "Colonialism<br>",
         "x": 0.5,
         "xanchor": "center",
         "y": 0.9,
         "yanchor": "top"
        },
        "xaxis": {
         "anchor": "y",
         "autorange": true,
         "domain": [
          0,
          1
         ],
         "range": [
          1941.5457464936426,
          2023.4542535063574
         ],
         "title": {
          "text": "Year"
         },
         "type": "linear"
        },
        "yaxis": {
         "anchor": "x",
         "autorange": true,
         "domain": [
          0,
          1
         ],
         "range": [
          2.0520162252445724,
          107.03889286566452
         ],
         "title": {
          "text": "% Yes"
         },
         "type": "linear"
        }
       }
      },
      "image/png": "[encoded data removed]",
      "text/html": [
       "<div>                            <div id=\"e8872c46-d146-4e5f-be3a-40dfa3d5cc5f\" class=\"plotly-graph-div\" style=\"height:525px; width:100%;\"></div>            <script type=\"text/javascript\">                require([\"plotly\"], function(Plotly) {                    window.PLOTLYENV=window.PLOTLYENV || {};                                    if (document.getElementById(\"e8872c46-d146-4e5f-be3a-40dfa3d5cc5f\")) {                    Plotly.newPlot(                        \"e8872c46-d146-4e5f-be3a-40dfa3d5cc5f\",                        [{\"hovertemplate\":\"Country=Kazakhstan\\u003cbr\\u003ex=%{x}\\u003cbr\\u003ey=%{y}\\u003cextra\\u003e\\u003c\\u002fextra\\u003e\",\"legendgroup\":\"Kazakhstan\",\"marker\":{\"color\":\"#636efa\",\"symbol\":\"circle\"},\"mode\":\"markers\",\"name\":\"Kazakhstan\",\"orientation\":\"v\",\"showlegend\":true,\"x\":[1992,1993,1994,1995,1996,1997,1998,1999,2000,2001,2002,2003,2004,2005,2006,2007,2008,2009,2010,2011,2012,2013,2014,2015,2016,2017,2018,2019],\"xaxis\":\"x\",\"y\":[54.54545454545454,60.0,61.53846153846154,71.42857142857143,50.0,75.0,76.92307692307693,60.0,60.0,90.0,80.0,70.0,66.66666666666666,80.0,87.5,81.81818181818183,80.0,92.85714285714286,84.61538461538461,91.66666666666666,92.3076923076923,92.3076923076923,88.88888888888889,90.0,90.9090909090909,87.5,100.0,93.75],\"yaxis\":\"y\",\"type\":\"scatter\"},{\"hovertemplate\":\"\\u003cb\\u003eLOWESS trendline\\u003c\\u002fb\\u003e\\u003cbr\\u003e\\u003cbr\\u003eCountry=Kazakhstan\\u003cbr\\u003ex=%{x}\\u003cbr\\u003ey=%{y} \\u003cb\\u003e(trend)\\u003c\\u002fb\\u003e\\u003cextra\\u003e\\u003c\\u002fextra\\u003e\",\"legendgroup\":\"Kazakhstan\",\"marker\":{\"color\":\"#636efa\",\"symbol\":\"circle\"},\"mode\":\"lines\",\"name\":\"Kazakhstan\",\"showlegend\":false,\"x\":[1992,1993,1994,1995,1996,1997,1998,1999,2000,2001,2002,2003,2004,2005,2006,2007,2008,2009,2010,2011,2012,2013,2014,2015,2016,2017,2018,2019],\"xaxis\":\"x\",\"y\":[58.49227554852088,60.08213285960176,61.65232625624503,63.21193762532798,64.77021115016676,66.33044215278889,67.90319763241666,69.48783062096898,71.01840025820886,72.46735680391231,73.94228601572509,75.49284483352675,77.12710105530255,78.82000359681453,80.63965511895563,82.44261877712896,84.04337496705061,85.4701285798623,86.8029864275907,88.01535490548983,88.87735059575257,89.7696213341832,90.64936231463284,91.49986363174182,92.31858898252513,93.10932920724329,93.87995067840014,94.64172565862081],\"yaxis\":\"y\",\"type\":\"scatter\"},{\"hovertemplate\":\"Country=Canada\\u003cbr\\u003ex=%{x}\\u003cbr\\u003ey=%{y}\\u003cextra\\u003e\\u003c\\u002fextra\\u003e\",\"legendgroup\":\"Canada\",\"marker\":{\"color\":\"#EF553B\",\"symbol\":\"circle\"},\"mode\":\"markers\",\"name\":\"Canada\",\"orientation\":\"v\",\"showlegend\":true,\"x\":[1946,1947,1948,1949,1950,1951,1952,1953,1954,1955,1957,1956,1959,1960,1961,1962,1963,1965,1966,1967,1968,1969,1970,1971,1972,1973,1974,1975,1976,1977,1978,1979,1980,1981,1982,1983,1984,1985,1986,1987,1988,1989,1990,1991,1992,1993,1994,1995,1996,1997,1998,1999,2000,2001,2002,2003,2004,2005,2006,2007,2008,2009,2010,2011,2012,2013,2014,2015,2016,2017,2018,2019],\"xaxis\":\"x\",\"y\":[100.0,33.33333333333333,41.66666666666667,40.0,25.0,100.0,20.0,33.33333333333333,20.0,20.0,44.44444444444444,100.0,31.25,36.36363636363637,66.66666666666666,38.095238095238095,66.66666666666666,33.33333333333333,41.17647058823529,14.285714285714285,9.090909090909092,28.57142857142857,17.647058823529413,36.36363636363637,37.5,33.33333333333333,41.66666666666667,40.909090909090914,47.368421052631575,38.88888888888889,37.5,28.57142857142857,43.75,29.411764705882355,17.391304347826086,35.294117647058826,30.434782608695656,30.76923076923077,18.75,33.33333333333333,35.714285714285715,46.15384615384615,33.33333333333333,40.0,35.714285714285715,18.181818181818183,46.15384615384615,71.42857142857143,66.66666666666666,75.0,76.92307692307693,69.23076923076923,69.23076923076923,75.0,72.72727272727273,70.0,66.66666666666666,80.0,64.70588235294117,63.63636363636363,53.333333333333336,57.14285714285714,61.53846153846154,25.0,30.76923076923077,30.76923076923077,44.44444444444444,50.0,54.54545454545454,31.25,33.33333333333333,31.25],\"yaxis\":\"y\",\"type\":\"scatter\"},{\"hovertemplate\":\"\\u003cb\\u003eLOWESS trendline\\u003c\\u002fb\\u003e\\u003cbr\\u003e\\u003cbr\\u003eCountry=Canada\\u003cbr\\u003ex=%{x}\\u003cbr\\u003ey=%{y} \\u003cb\\u003e(trend)\\u003c\\u002fb\\u003e\\u003cextra\\u003e\\u003c\\u002fextra\\u003e\",\"legendgroup\":\"Canada\",\"marker\":{\"color\":\"#EF553B\",\"symbol\":\"circle\"},\"mode\":\"lines\",\"name\":\"Canada\",\"showlegend\":false,\"x\":[1946,1947,1948,1949,1950,1951,1952,1953,1954,1955,1956,1957,1959,1960,1961,1962,1963,1965,1966,1967,1968,1969,1970,1971,1972,1973,1974,1975,1976,1977,1978,1979,1980,1981,1982,1983,1984,1985,1986,1987,1988,1989,1990,1991,1992,1993,1994,1995,1996,1997,1998,1999,2000,2001,2002,2003,2004,2005,2006,2007,2008,2009,2010,2011,2012,2013,2014,2015,2016,2017,2018,2019],\"xaxis\":\"x\",\"y\":[33.321168624334035,33.37467150999246,33.42712383034848,33.47826463869397,33.52750234931248,33.57400494851287,33.617093093349084,33.65618187293875,33.6910289992732,33.72160089906461,33.748349663296345,33.77227169759128,33.816289608723984,33.83878801328359,33.86370067597993,33.892910900192206,33.92812177522281,34.02332273571116,34.086794000733015,34.1640973131021,34.258054949458234,34.3700555041715,34.490158017524315,34.49037385507267,34.46476102759826,34.420918395031556,34.37715589954829,34.36140351952848,34.40458562241074,34.5393384114043,34.79244400674681,35.18484909175219,35.727961797127854,36.42263998204279,37.26059515293905,38.23075379637013,39.31341501566439,40.47883170720382,41.69048147457738,42.91374109417501,43.86229863626698,45.08343489966132,46.251306673289996,47.350274174185344,48.37073561992038,49.30788273050141,50.16549435264904,50.95116463012742,51.6705474448645,51.77724058989525,51.75847850912987,51.71402767370599,51.683458602059666,51.67218297045439,51.67441194956015,51.68210360685872,51.68766158247578,51.68449913517181,51.66694852965913,51.62995567579147,51.569058993815396,51.480341575091344,51.36048916115572,51.20659662484354,51.016141742591415,50.787563762218184,50.52026138508249,50.21441053284126,49.87057266545272,49.48938661931794,49.0715052026422,48.61810558392032],\"yaxis\":\"y\",\"type\":\"scatter\"},{\"hovertemplate\":\"Country=China\\u003cbr\\u003ex=%{x}\\u003cbr\\u003ey=%{y}\\u003cextra\\u003e\\u003c\\u002fextra\\u003e\",\"legendgroup\":\"China\",\"marker\":{\"color\":\"#00cc96\",\"symbol\":\"circle\"},\"mode\":\"markers\",\"name\":\"China\",\"orientation\":\"v\",\"showlegend\":true,\"x\":[1971,1972,1973,1974,1975,1976,1977,1978,1979,1980,1981,1982,1983,1984,1985,1986,1987,1988,1989,1990,1991,1992,1993,1994,1995,1996,1997,1998,1999,2000,2001,2002,2003,2004,2005,2006,2007,2008,2009,2010,2011,2012,2013,2014,2015,2016,2017,2018,2019],\"xaxis\":\"x\",\"y\":[77.77777777777779,100.0,100.0,100.0,100.0,100.0,100.0,100.0,100.0,100.0,100.0,100.0,100.0,95.65217391304348,100.0,100.0,100.0,100.0,100.0,100.0,100.0,100.0,100.0,92.3076923076923,100.0,100.0,91.66666666666666,92.3076923076923,84.61538461538461,92.3076923076923,91.66666666666666,90.9090909090909,100.0,100.0,90.0,93.33333333333333,100.0,86.66666666666667,92.85714285714286,100.0,100.0,100.0,100.0,100.0,88.88888888888889,90.9090909090909,93.33333333333333,66.66666666666666,68.75],\"yaxis\":\"y\",\"type\":\"scatter\"},{\"hovertemplate\":\"\\u003cb\\u003eLOWESS trendline\\u003c\\u002fb\\u003e\\u003cbr\\u003e\\u003cbr\\u003eCountry=China\\u003cbr\\u003ex=%{x}\\u003cbr\\u003ey=%{y} \\u003cb\\u003e(trend)\\u003c\\u002fb\\u003e\\u003cextra\\u003e\\u003c\\u002fextra\\u003e\",\"legendgroup\":\"China\",\"marker\":{\"color\":\"#00cc96\",\"symbol\":\"circle\"},\"mode\":\"lines\",\"name\":\"China\",\"showlegend\":false,\"x\":[1971,1972,1973,1974,1975,1976,1977,1978,1979,1980,1981,1982,1983,1984,1985,1986,1987,1988,1989,1990,1991,1992,1993,1994,1995,1996,1997,1998,1999,2000,2001,2002,2003,2004,2005,2006,2007,2008,2009,2010,2011,2012,2013,2014,2015,2016,2017,2018,2019],\"xaxis\":\"x\",\"y\":[100.33417918573356,100.27787937832528,100.22029587774581,100.16125636573567,100.10060152058051,100.0381711391713,99.97378986723754,99.9072521092287,99.83830577276038,99.76663456953307,99.69183869865778,99.61341359763762,99.53072310414379,99.4429373946007,99.34900620415621,99.2475141017615,99.01896791664745,98.74227193765749,98.43310581227234,98.11228430936309,97.79089350009363,97.47656031713196,97.17687920617885,96.88722759322232,96.6025862436848,96.3279861368894,96.07209119505632,95.84271659456107,95.64746831863303,95.49120459127037,95.3691476674089,95.27101744693499,95.19113851157975,95.1333316471221,95.17405473125073,95.19475427251633,95.21137915476102,95.23094375393583,95.25616808142928,95.28882321722297,95.3298272483227,95.3786252231846,95.43346645360178,95.49171844419214,95.55004353369274,95.60489759769482,95.65407848725235,95.69677518555913,95.73297272462536],\"yaxis\":\"y\",\"type\":\"scatter\"}],                        {\"template\":{\"data\":{\"histogram2dcontour\":[{\"type\":\"histogram2dcontour\",\"colorbar\":{\"outlinewidth\":0,\"ticks\":\"\"},\"colorscale\":[[0.0,\"#0d0887\"],[0.1111111111111111,\"#46039f\"],[0.2222222222222222,\"#7201a8\"],[0.3333333333333333,\"#9c179e\"],[0.4444444444444444,\"#bd3786\"],[0.5555555555555556,\"#d8576b\"],[0.6666666666666666,\"#ed7953\"],[0.7777777777777778,\"#fb9f3a\"],[0.8888888888888888,\"#fdca26\"],[1.0,\"#f0f921\"]]}],\"choropleth\":[{\"type\":\"choropleth\",\"colorbar\":{\"outlinewidth\":0,\"ticks\":\"\"}}],\"histogram2d\":[{\"type\":\"histogram2d\",\"colorbar\":{\"outlinewidth\":0,\"ticks\":\"\"},\"colorscale\":[[0.0,\"#0d0887\"],[0.1111111111111111,\"#46039f\"],[0.2222222222222222,\"#7201a8\"],[0.3333333333333333,\"#9c179e\"],[0.4444444444444444,\"#bd3786\"],[0.5555555555555556,\"#d8576b\"],[0.6666666666666666,\"#ed7953\"],[0.7777777777777778,\"#fb9f3a\"],[0.8888888888888888,\"#fdca26\"],[1.0,\"#f0f921\"]]}],\"heatmap\":[{\"type\":\"heatmap\",\"colorbar\":{\"outlinewidth\":0,\"ticks\":\"\"},\"colorscale\":[[0.0,\"#0d0887\"],[0.1111111111111111,\"#46039f\"],[0.2222222222222222,\"#7201a8\"],[0.3333333333333333,\"#9c179e\"],[0.4444444444444444,\"#bd3786\"],[0.5555555555555556,\"#d8576b\"],[0.6666666666666666,\"#ed7953\"],[0.7777777777777778,\"#fb9f3a\"],[0.8888888888888888,\"#fdca26\"],[1.0,\"#f0f921\"]]}],\"heatmapgl\":[{\"type\":\"heatmapgl\",\"colorbar\":{\"outlinewidth\":0,\"ticks\":\"\"},\"colorscale\":[[0.0,\"#0d0887\"],[0.1111111111111111,\"#46039f\"],[0.2222222222222222,\"#7201a8\"],[0.3333333333333333,\"#9c179e\"],[0.4444444444444444,\"#bd3786\"],[0.5555555555555556,\"#d8576b\"],[0.6666666666666666,\"#ed7953\"],[0.7777777777777778,\"#fb9f3a\"],[0.8888888888888888,\"#fdca26\"],[1.0,\"#f0f921\"]]}],\"contourcarpet\":[{\"type\":\"contourcarpet\",\"colorbar\":{\"outlinewidth\":0,\"ticks\":\"\"}}],\"contour\":[{\"type\":\"contour\",\"colorbar\":{\"outlinewidth\":0,\"ticks\":\"\"},\"colorscale\":[[0.0,\"#0d0887\"],[0.1111111111111111,\"#46039f\"],[0.2222222222222222,\"#7201a8\"],[0.3333333333333333,\"#9c179e\"],[0.4444444444444444,\"#bd3786\"],[0.5555555555555556,\"#d8576b\"],[0.6666666666666666,\"#ed7953\"],[0.7777777777777778,\"#fb9f3a\"],[0.8888888888888888,\"#fdca26\"],[1.0,\"#f0f921\"]]}],\"surface\":[{\"type\":\"surface\",\"colorbar\":{\"outlinewidth\":0,\"ticks\":\"\"},\"colorscale\":[[0.0,\"#0d0887\"],[0.1111111111111111,\"#46039f\"],[0.2222222222222222,\"#7201a8\"],[0.3333333333333333,\"#9c179e\"],[0.4444444444444444,\"#bd3786\"],[0.5555555555555556,\"#d8576b\"],[0.6666666666666666,\"#ed7953\"],[0.7777777777777778,\"#fb9f3a\"],[0.8888888888888888,\"#fdca26\"],[1.0,\"#f0f921\"]]}],\"mesh3d\":[{\"type\":\"mesh3d\",\"colorbar\":{\"outlinewidth\":0,\"ticks\":\"\"}}],\"scatter\":[{\"fillpattern\":{\"fillmode\":\"overlay\",\"size\":10,\"solidity\":0.2},\"type\":\"scatter\"}],\"parcoords\":[{\"type\":\"parcoords\",\"line\":{\"colorbar\":{\"outlinewidth\":0,\"ticks\":\"\"}}}],\"scatterpolargl\":[{\"type\":\"scatterpolargl\",\"marker\":{\"colorbar\":{\"outlinewidth\":0,\"ticks\":\"\"}}}],\"bar\":[{\"error_x\":{\"color\":\"#2a3f5f\"},\"error_y\":{\"color\":\"#2a3f5f\"},\"marker\":{\"line\":{\"color\":\"#E5ECF6\",\"width\":0.5},\"pattern\":{\"fillmode\":\"overlay\",\"size\":10,\"solidity\":0.2}},\"type\":\"bar\"}],\"scattergeo\":[{\"type\":\"scattergeo\",\"marker\":{\"colorbar\":{\"outlinewidth\":0,\"ticks\":\"\"}}}],\"scatterpolar\":[{\"type\":\"scatterpolar\",\"marker\":{\"colorbar\":{\"outlinewidth\":0,\"ticks\":\"\"}}}],\"histogram\":[{\"marker\":{\"pattern\":{\"fillmode\":\"overlay\",\"size\":10,\"solidity\":0.2}},\"type\":\"histogram\"}],\"scattergl\":[{\"type\":\"scattergl\",\"marker\":{\"colorbar\":{\"outlinewidth\":0,\"ticks\":\"\"}}}],\"scatter3d\":[{\"type\":\"scatter3d\",\"line\":{\"colorbar\":{\"outlinewidth\":0,\"ticks\":\"\"}},\"marker\":{\"colorbar\":{\"outlinewidth\":0,\"ticks\":\"\"}}}],\"scattermapbox\":[{\"type\":\"scattermapbox\",\"marker\":{\"colorbar\":{\"outlinewidth\":0,\"ticks\":\"\"}}}],\"scatterternary\":[{\"type\":\"scatterternary\",\"marker\":{\"colorbar\":{\"outlinewidth\":0,\"ticks\":\"\"}}}],\"scattercarpet\":[{\"type\":\"scattercarpet\",\"marker\":{\"colorbar\":{\"outlinewidth\":0,\"ticks\":\"\"}}}],\"carpet\":[{\"aaxis\":{\"endlinecolor\":\"#2a3f5f\",\"gridcolor\":\"white\",\"linecolor\":\"white\",\"minorgridcolor\":\"white\",\"startlinecolor\":\"#2a3f5f\"},\"baxis\":{\"endlinecolor\":\"#2a3f5f\",\"gridcolor\":\"white\",\"linecolor\":\"white\",\"minorgridcolor\":\"white\",\"startlinecolor\":\"#2a3f5f\"},\"type\":\"carpet\"}],\"table\":[{\"cells\":{\"fill\":{\"color\":\"#EBF0F8\"},\"line\":{\"color\":\"white\"}},\"header\":{\"fill\":{\"color\":\"#C8D4E3\"},\"line\":{\"color\":\"white\"}},\"type\":\"table\"}],\"barpolar\":[{\"marker\":{\"line\":{\"color\":\"#E5ECF6\",\"width\":0.5},\"pattern\":{\"fillmode\":\"overlay\",\"size\":10,\"solidity\":0.2}},\"type\":\"barpolar\"}],\"pie\":[{\"automargin\":true,\"type\":\"pie\"}]},\"layout\":{\"autotypenumbers\":\"strict\",\"colorway\":[\"#636efa\",\"#EF553B\",\"#00cc96\",\"#ab63fa\",\"#FFA15A\",\"#19d3f3\",\"#FF6692\",\"#B6E880\",\"#FF97FF\",\"#FECB52\"],\"font\":{\"color\":\"#2a3f5f\"},\"hovermode\":\"closest\",\"hoverlabel\":{\"align\":\"left\"},\"paper_bgcolor\":\"white\",\"plot_bgcolor\":\"#E5ECF6\",\"polar\":{\"bgcolor\":\"#E5ECF6\",\"angularaxis\":{\"gridcolor\":\"white\",\"linecolor\":\"white\",\"ticks\":\"\"},\"radialaxis\":{\"gridcolor\":\"white\",\"linecolor\":\"white\",\"ticks\":\"\"}},\"ternary\":{\"bgcolor\":\"#E5ECF6\",\"aaxis\":{\"gridcolor\":\"white\",\"linecolor\":\"white\",\"ticks\":\"\"},\"baxis\":{\"gridcolor\":\"white\",\"linecolor\":\"white\",\"ticks\":\"\"},\"caxis\":{\"gridcolor\":\"white\",\"linecolor\":\"white\",\"ticks\":\"\"}},\"coloraxis\":{\"colorbar\":{\"outlinewidth\":0,\"ticks\":\"\"}},\"colorscale\":{\"sequential\":[[0.0,\"#0d0887\"],[0.1111111111111111,\"#46039f\"],[0.2222222222222222,\"#7201a8\"],[0.3333333333333333,\"#9c179e\"],[0.4444444444444444,\"#bd3786\"],[0.5555555555555556,\"#d8576b\"],[0.6666666666666666,\"#ed7953\"],[0.7777777777777778,\"#fb9f3a\"],[0.8888888888888888,\"#fdca26\"],[1.0,\"#f0f921\"]],\"sequentialminus\":[[0.0,\"#0d0887\"],[0.1111111111111111,\"#46039f\"],[0.2222222222222222,\"#7201a8\"],[0.3333333333333333,\"#9c179e\"],[0.4444444444444444,\"#bd3786\"],[0.5555555555555556,\"#d8576b\"],[0.6666666666666666,\"#ed7953\"],[0.7777777777777778,\"#fb9f3a\"],[0.8888888888888888,\"#fdca26\"],[1.0,\"#f0f921\"]],\"diverging\":[[0,\"#8e0152\"],[0.1,\"#c51b7d\"],[0.2,\"#de77ae\"],[0.3,\"#f1b6da\"],[0.4,\"#fde0ef\"],[0.5,\"#f7f7f7\"],[0.6,\"#e6f5d0\"],[0.7,\"#b8e186\"],[0.8,\"#7fbc41\"],[0.9,\"#4d9221\"],[1,\"#276419\"]]},\"xaxis\":{\"gridcolor\":\"white\",\"linecolor\":\"white\",\"ticks\":\"\",\"title\":{\"standoff\":15},\"zerolinecolor\":\"white\",\"automargin\":true,\"zerolinewidth\":2},\"yaxis\":{\"gridcolor\":\"white\",\"linecolor\":\"white\",\"ticks\":\"\",\"title\":{\"standoff\":15},\"zerolinecolor\":\"white\",\"automargin\":true,\"zerolinewidth\":2},\"scene\":{\"xaxis\":{\"backgroundcolor\":\"#E5ECF6\",\"gridcolor\":\"white\",\"linecolor\":\"white\",\"showbackground\":true,\"ticks\":\"\",\"zerolinecolor\":\"white\",\"gridwidth\":2},\"yaxis\":{\"backgroundcolor\":\"#E5ECF6\",\"gridcolor\":\"white\",\"linecolor\":\"white\",\"showbackground\":true,\"ticks\":\"\",\"zerolinecolor\":\"white\",\"gridwidth\":2},\"zaxis\":{\"backgroundcolor\":\"#E5ECF6\",\"gridcolor\":\"white\",\"linecolor\":\"white\",\"showbackground\":true,\"ticks\":\"\",\"zerolinecolor\":\"white\",\"gridwidth\":2}},\"shapedefaults\":{\"line\":{\"color\":\"#2a3f5f\"}},\"annotationdefaults\":{\"arrowcolor\":\"#2a3f5f\",\"arrowhead\":0,\"arrowwidth\":1},\"geo\":{\"bgcolor\":\"white\",\"landcolor\":\"#E5ECF6\",\"subunitcolor\":\"white\",\"showland\":true,\"showlakes\":true,\"lakecolor\":\"white\"},\"title\":{\"x\":0.05},\"mapbox\":{\"style\":\"light\"}}},\"xaxis\":{\"anchor\":\"y\",\"domain\":[0.0,1.0],\"title\":{\"text\":\"Year\"}},\"yaxis\":{\"anchor\":\"x\",\"domain\":[0.0,1.0],\"title\":{\"text\":\"% Yes\"}},\"legend\":{\"title\":{\"text\":\"Country\"},\"tracegroupgap\":0},\"margin\":{\"t\":60},\"title\":{\"text\":\"Colonialism\\u003cbr\\u003e\",\"y\":0.9,\"x\":0.5,\"xanchor\":\"center\",\"yanchor\":\"top\"}},                        {\"responsive\": true}                    ).then(function(){\n",
       "                            \n",
       "var gd = document.getElementById('e8872c46-d146-4e5f-be3a-40dfa3d5cc5f');\n",
       "var x = new MutationObserver(function (mutations, observer) {{\n",
       "        var display = window.getComputedStyle(gd).display;\n",
       "        if (!display || display === 'none') {{\n",
       "            console.log([gd, 'removed!']);\n",
       "            Plotly.purge(gd);\n",
       "            observer.disconnect();\n",
       "        }}\n",
       "}});\n",
       "\n",
       "// Listen for the removal of the full notebook cells\n",
       "var notebookContainer = gd.closest('#notebook-container');\n",
       "if (notebookContainer) {{\n",
       "    x.observe(notebookContainer, {childList: true});\n",
       "}}\n",
       "\n",
       "// Listen for the clearing of the current output cell\n",
       "var outputEl = gd.closest('.output');\n",
       "if (outputEl) {{\n",
       "    x.observe(outputEl, {childList: true});\n",
       "}}\n",
       "\n",
       "                        })                };                });            </script>        </div>"
      ]
     },
     "metadata": {},
     "output_type": "display_data"
    },
    {
     "data": {
      "application/vnd.plotly.v1+json": {
       "config": {
        "plotlyServerURL": "https://plot.ly"
       },
       "data": [
        {
         "hovertemplate": "Country=Kazakhstan<br>x=%{x}<br>y=%{y}<extra></extra>",
         "legendgroup": "Kazakhstan",
         "marker": {
          "color": "#636efa",
          "symbol": "circle"
         },
         "mode": "markers",
         "name": "Kazakhstan",
         "orientation": "v",
         "showlegend": true,
         "type": "scatter",
         "x": [
          1992,
          1993,
          1994,
          1995,
          1996,
          1997,
          1998,
          1999,
          2000,
          2001,
          2002,
          2003,
          2004,
          2005,
          2006,
          2007,
          2008,
          2009,
          2010,
          2011,
          2012,
          2013,
          2014,
          2015,
          2016,
          2017,
          2018,
          2019
         ],
         "xaxis": "x",
         "y": [
          88,
          80.95238095238095,
          84.21052631578947,
          73.68421052631578,
          85.71428571428571,
          90.9090909090909,
          95.65217391304348,
          50,
          73.33333333333333,
          82.6086956521739,
          80.95238095238095,
          84.21052631578947,
          94.73684210526315,
          93.33333333333333,
          94.73684210526315,
          94.73684210526315,
          94.11764705882352,
          93.75,
          93.75,
          100,
          100,
          100,
          100,
          100,
          92.3076923076923,
          100,
          100,
          100
         ],
         "yaxis": "y"
        },
        {
         "hovertemplate": "<b>LOWESS trendline</b><br><br>Country=Kazakhstan<br>x=%{x}<br>y=%{y} <b>(trend)</b><extra></extra>",
         "legendgroup": "Kazakhstan",
         "marker": {
          "color": "#636efa",
          "symbol": "circle"
         },
         "mode": "lines",
         "name": "Kazakhstan",
         "showlegend": false,
         "type": "scatter",
         "x": [
          1992,
          1993,
          1994,
          1995,
          1996,
          1997,
          1998,
          1999,
          2000,
          2001,
          2002,
          2003,
          2004,
          2005,
          2006,
          2007,
          2008,
          2009,
          2010,
          2011,
          2012,
          2013,
          2014,
          2015,
          2016,
          2017,
          2018,
          2019
         ],
         "xaxis": "x",
         "y": [
          83.85326998395549,
          84.1145288824063,
          84.38122891643214,
          84.65317526784625,
          84.93479022591676,
          85.24107665089592,
          85.59392701704417,
          86.01267451100881,
          86.51990135937952,
          87.34999387551363,
          88.05336784685517,
          88.63199805349441,
          89.26534971297525,
          90.28955079774153,
          91.67902041450378,
          93.14925799998342,
          94.49564928345568,
          95.5947635755209,
          96.4050046499987,
          96.98199267188411,
          97.38610069789102,
          97.82519043986235,
          98.27728050647153,
          98.72500494204363,
          99.15724823654426,
          99.56811332197145,
          99.95933377273619,
          100.3338519160108
         ],
         "yaxis": "y"
        },
        {
         "hovertemplate": "Country=Canada<br>x=%{x}<br>y=%{y}<extra></extra>",
         "legendgroup": "Canada",
         "marker": {
          "color": "#EF553B",
          "symbol": "circle"
         },
         "mode": "markers",
         "name": "Canada",
         "orientation": "v",
         "showlegend": true,
         "type": "scatter",
         "x": [
          1947,
          1948,
          1949,
          1950,
          1952,
          1957,
          1956,
          1961,
          1962,
          1963,
          1965,
          1967,
          1969,
          1970,
          1971,
          1972,
          1973,
          1974,
          1975,
          1976,
          1977,
          1978,
          1979,
          1980,
          1981,
          1982,
          1983,
          1984,
          1985,
          1986,
          1987,
          1988,
          1989,
          1990,
          1991,
          1992,
          1993,
          1994,
          1995,
          1996,
          1997,
          1998,
          1999,
          2000,
          2001,
          2002,
          2003,
          2004,
          2005,
          2006,
          2007,
          2008,
          2009,
          2010,
          2011,
          2012,
          2013,
          2014,
          2015,
          2016,
          2017,
          2018,
          2019
         ],
         "xaxis": "x",
         "y": [
          71.42857142857143,
          27.27272727272727,
          28.57142857142857,
          0,
          33.33333333333333,
          100,
          100,
          37.5,
          100,
          100,
          100,
          30.76923076923077,
          0,
          20,
          16.666666666666664,
          20,
          20,
          11.11111111111111,
          22.22222222222222,
          33.33333333333333,
          30.76923076923077,
          33.33333333333333,
          37.5,
          36.36363636363637,
          33.33333333333333,
          42.857142857142854,
          47.22222222222222,
          51.515151515151516,
          45.16129032258064,
          41.37931034482759,
          46.666666666666664,
          44.827586206896555,
          53.333333333333336,
          59.25925925925925,
          50,
          61.53846153846154,
          57.14285714285714,
          68.42105263157895,
          68.42105263157895,
          71.42857142857143,
          77.27272727272727,
          73.91304347826086,
          76.19047619047619,
          69.56521739130434,
          68,
          71.42857142857143,
          73.68421052631578,
          63.1578947368421,
          66.66666666666666,
          45,
          47.368421052631575,
          41.17647058823529,
          37.5,
          43.75,
          5.88235294117647,
          0,
          0,
          0,
          0,
          7.6923076923076925,
          5,
          0,
          7.142857142857142
         ],
         "yaxis": "y"
        },
        {
         "hovertemplate": "<b>LOWESS trendline</b><br><br>Country=Canada<br>x=%{x}<br>y=%{y} <b>(trend)</b><extra></extra>",
         "legendgroup": "Canada",
         "marker": {
          "color": "#EF553B",
          "symbol": "circle"
         },
         "mode": "lines",
         "name": "Canada",
         "showlegend": false,
         "type": "scatter",
         "x": [
          1947,
          1948,
          1949,
          1950,
          1952,
          1956,
          1957,
          1961,
          1962,
          1963,
          1965,
          1967,
          1969,
          1970,
          1971,
          1972,
          1973,
          1974,
          1975,
          1976,
          1977,
          1978,
          1979,
          1980,
          1981,
          1982,
          1983,
          1984,
          1985,
          1986,
          1987,
          1988,
          1989,
          1990,
          1991,
          1992,
          1993,
          1994,
          1995,
          1996,
          1997,
          1998,
          1999,
          2000,
          2001,
          2002,
          2003,
          2004,
          2005,
          2006,
          2007,
          2008,
          2009,
          2010,
          2011,
          2012,
          2013,
          2014,
          2015,
          2016,
          2017,
          2018,
          2019
         ],
         "xaxis": "x",
         "y": [
          30.04597028319084,
          29.91085043979306,
          29.786466498295393,
          29.672244042583767,
          29.473155148959144,
          29.192892904441845,
          29.14536887370909,
          29.010475623951734,
          28.977624384328035,
          28.93559253845908,
          28.785943059200072,
          28.441033921790993,
          27.697595651131422,
          27.152674841326537,
          26.65771376010058,
          26.55633618686792,
          27.239497065756293,
          28.146294412954383,
          29.238024673250113,
          30.491459046002635,
          31.878336119346958,
          33.176836160436466,
          34.57239272919978,
          36.268742782026074,
          38.053213389650324,
          39.83844899090064,
          41.777854309154705,
          43.72186912145816,
          45.64680396468214,
          47.62817613129827,
          49.50053181023304,
          51.261776657612344,
          53.1794047192708,
          54.69059108658439,
          55.98143223488678,
          57.02898127366466,
          57.81294865874294,
          58.31652020817787,
          58.52623871731631,
          58.4282090264624,
          58.011873151047716,
          57.27854927738095,
          56.24065205784084,
          53.717607750847584,
          51.13287626431437,
          48.608739920687896,
          46.1487271382538,
          43.72449966689246,
          41.30895682472688,
          38.8817917462115,
          36.428445524279795,
          33.938772854697106,
          31.40550819071423,
          28.823391758480117,
          26.188517413554283,
          23.497939544485906,
          20.75050429139165,
          17.94681235964499,
          15.088888800234203,
          12.17989197548738,
          9.223765004606639,
          6.224680943503611,
          3.1868718797765174
         ],
         "yaxis": "y"
        },
        {
         "hovertemplate": "Country=China<br>x=%{x}<br>y=%{y}<extra></extra>",
         "legendgroup": "China",
         "marker": {
          "color": "#00cc96",
          "symbol": "circle"
         },
         "mode": "markers",
         "name": "China",
         "orientation": "v",
         "showlegend": true,
         "type": "scatter",
         "x": [
          1971,
          1972,
          1973,
          1974,
          1975,
          1976,
          1977,
          1978,
          1979,
          1980,
          1981,
          1982,
          1983,
          1984,
          1985,
          1986,
          1987,
          1988,
          1989,
          1990,
          1991,
          1992,
          1993,
          1994,
          1995,
          1996,
          1997,
          1998,
          1999,
          2000,
          2001,
          2002,
          2003,
          2004,
          2005,
          2006,
          2007,
          2008,
          2009,
          2010,
          2011,
          2012,
          2013,
          2014,
          2015,
          2016,
          2017,
          2018,
          2019
         ],
         "xaxis": "x",
         "y": [
          100,
          80,
          100,
          100,
          100,
          100,
          100,
          100,
          100,
          100,
          100,
          100,
          100,
          100,
          100,
          100,
          100,
          100,
          100,
          100,
          100,
          100,
          100,
          100,
          100,
          100,
          100,
          100,
          100,
          100,
          100,
          100,
          94.73684210526315,
          100,
          100,
          100,
          100,
          100,
          100,
          100,
          100,
          100,
          100,
          100,
          100,
          92.3076923076923,
          95,
          100,
          100
         ],
         "yaxis": "y"
        },
        {
         "hovertemplate": "<b>LOWESS trendline</b><br><br>Country=China<br>x=%{x}<br>y=%{y} <b>(trend)</b><extra></extra>",
         "legendgroup": "China",
         "marker": {
          "color": "#00cc96",
          "symbol": "circle"
         },
         "mode": "lines",
         "name": "China",
         "showlegend": false,
         "type": "scatter",
         "x": [
          1971,
          1972,
          1973,
          1974,
          1975,
          1976,
          1977,
          1978,
          1979,
          1980,
          1981,
          1982,
          1983,
          1984,
          1985,
          1986,
          1987,
          1988,
          1989,
          1990,
          1991,
          1992,
          1993,
          1994,
          1995,
          1996,
          1997,
          1998,
          1999,
          2000,
          2001,
          2002,
          2003,
          2004,
          2005,
          2006,
          2007,
          2008,
          2009,
          2010,
          2011,
          2012,
          2013,
          2014,
          2015,
          2016,
          2017,
          2018,
          2019
         ],
         "xaxis": "x",
         "y": [
          100.00000000000163,
          99.999999999989,
          100.0000000000054,
          99.99999999999618,
          99.99999999999905,
          99.99999999999865,
          99.99999999999919,
          100.00000000000502,
          100.00000000000199,
          100.00000000000021,
          100.00000000000277,
          99.99999999999886,
          100.00000000000112,
          99.99999999999882,
          100.00000000000014,
          99.99999999999993,
          100.00000000000001,
          100.00000000000003,
          99.99999999999984,
          100.00000000000021,
          100.00000000000063,
          99.99999999999993,
          99.99999999999987,
          100.00000000000071,
          100.00000000000075,
          100.00000000000017,
          100.00000000000051,
          100.00000000000145,
          100.00000000000266,
          99.99999999999763,
          100.00000000000128,
          100.00000000000455,
          99.9999999999995,
          100.00000000000136,
          100.0000000000036,
          100.00000000000298,
          99.99999999999578,
          100.00000000000253,
          99.99999999999777,
          99.99999999999957,
          100.00000000000192,
          99.99999999999807,
          99.99999999999565,
          99.99999999999773,
          100.00000000000419,
          100.00000000001066,
          99.99999999999568,
          100.00000000000382,
          99.99999999999496
         ],
         "yaxis": "y"
        }
       ],
       "layout": {
        "autosize": true,
        "legend": {
         "title": {
          "text": "Country"
         },
         "tracegroupgap": 0
        },
        "margin": {
         "t": 60
        },
        "template": {
         "data": {
          "bar": [
           {
            "error_x": {
             "color": "#2a3f5f"
            },
            "error_y": {
             "color": "#2a3f5f"
            },
            "marker": {
             "line": {
              "color": "#E5ECF6",
              "width": 0.5
             },
             "pattern": {
              "fillmode": "overlay",
              "size": 10,
              "solidity": 0.2
             }
            },
            "type": "bar"
           }
          ],
          "barpolar": [
           {
            "marker": {
             "line": {
              "color": "#E5ECF6",
              "width": 0.5
             },
             "pattern": {
              "fillmode": "overlay",
              "size": 10,
              "solidity": 0.2
             }
            },
            "type": "barpolar"
           }
          ],
          "carpet": [
           {
            "aaxis": {
             "endlinecolor": "#2a3f5f",
             "gridcolor": "white",
             "linecolor": "white",
             "minorgridcolor": "white",
             "startlinecolor": "#2a3f5f"
            },
            "baxis": {
             "endlinecolor": "#2a3f5f",
             "gridcolor": "white",
             "linecolor": "white",
             "minorgridcolor": "white",
             "startlinecolor": "#2a3f5f"
            },
            "type": "carpet"
           }
          ],
          "choropleth": [
           {
            "colorbar": {
             "outlinewidth": 0,
             "ticks": ""
            },
            "type": "choropleth"
           }
          ],
          "contour": [
           {
            "colorbar": {
             "outlinewidth": 0,
             "ticks": ""
            },
            "colorscale": [
             [
              0,
              "#0d0887"
             ],
             [
              0.1111111111111111,
              "#46039f"
             ],
             [
              0.2222222222222222,
              "#7201a8"
             ],
             [
              0.3333333333333333,
              "#9c179e"
             ],
             [
              0.4444444444444444,
              "#bd3786"
             ],
             [
              0.5555555555555556,
              "#d8576b"
             ],
             [
              0.6666666666666666,
              "#ed7953"
             ],
             [
              0.7777777777777778,
              "#fb9f3a"
             ],
             [
              0.8888888888888888,
              "#fdca26"
             ],
             [
              1,
              "#f0f921"
             ]
            ],
            "type": "contour"
           }
          ],
          "contourcarpet": [
           {
            "colorbar": {
             "outlinewidth": 0,
             "ticks": ""
            },
            "type": "contourcarpet"
           }
          ],
          "heatmap": [
           {
            "colorbar": {
             "outlinewidth": 0,
             "ticks": ""
            },
            "colorscale": [
             [
              0,
              "#0d0887"
             ],
             [
              0.1111111111111111,
              "#46039f"
             ],
             [
              0.2222222222222222,
              "#7201a8"
             ],
             [
              0.3333333333333333,
              "#9c179e"
             ],
             [
              0.4444444444444444,
              "#bd3786"
             ],
             [
              0.5555555555555556,
              "#d8576b"
             ],
             [
              0.6666666666666666,
              "#ed7953"
             ],
             [
              0.7777777777777778,
              "#fb9f3a"
             ],
             [
              0.8888888888888888,
              "#fdca26"
             ],
             [
              1,
              "#f0f921"
             ]
            ],
            "type": "heatmap"
           }
          ],
          "heatmapgl": [
           {
            "colorbar": {
             "outlinewidth": 0,
             "ticks": ""
            },
            "colorscale": [
             [
              0,
              "#0d0887"
             ],
             [
              0.1111111111111111,
              "#46039f"
             ],
             [
              0.2222222222222222,
              "#7201a8"
             ],
             [
              0.3333333333333333,
              "#9c179e"
             ],
             [
              0.4444444444444444,
              "#bd3786"
             ],
             [
              0.5555555555555556,
              "#d8576b"
             ],
             [
              0.6666666666666666,
              "#ed7953"
             ],
             [
              0.7777777777777778,
              "#fb9f3a"
             ],
             [
              0.8888888888888888,
              "#fdca26"
             ],
             [
              1,
              "#f0f921"
             ]
            ],
            "type": "heatmapgl"
           }
          ],
          "histogram": [
           {
            "marker": {
             "pattern": {
              "fillmode": "overlay",
              "size": 10,
              "solidity": 0.2
             }
            },
            "type": "histogram"
           }
          ],
          "histogram2d": [
           {
            "colorbar": {
             "outlinewidth": 0,
             "ticks": ""
            },
            "colorscale": [
             [
              0,
              "#0d0887"
             ],
             [
              0.1111111111111111,
              "#46039f"
             ],
             [
              0.2222222222222222,
              "#7201a8"
             ],
             [
              0.3333333333333333,
              "#9c179e"
             ],
             [
              0.4444444444444444,
              "#bd3786"
             ],
             [
              0.5555555555555556,
              "#d8576b"
             ],
             [
              0.6666666666666666,
              "#ed7953"
             ],
             [
              0.7777777777777778,
              "#fb9f3a"
             ],
             [
              0.8888888888888888,
              "#fdca26"
             ],
             [
              1,
              "#f0f921"
             ]
            ],
            "type": "histogram2d"
           }
          ],
          "histogram2dcontour": [
           {
            "colorbar": {
             "outlinewidth": 0,
             "ticks": ""
            },
            "colorscale": [
             [
              0,
              "#0d0887"
             ],
             [
              0.1111111111111111,
              "#46039f"
             ],
             [
              0.2222222222222222,
              "#7201a8"
             ],
             [
              0.3333333333333333,
              "#9c179e"
             ],
             [
              0.4444444444444444,
              "#bd3786"
             ],
             [
              0.5555555555555556,
              "#d8576b"
             ],
             [
              0.6666666666666666,
              "#ed7953"
             ],
             [
              0.7777777777777778,
              "#fb9f3a"
             ],
             [
              0.8888888888888888,
              "#fdca26"
             ],
             [
              1,
              "#f0f921"
             ]
            ],
            "type": "histogram2dcontour"
           }
          ],
          "mesh3d": [
           {
            "colorbar": {
             "outlinewidth": 0,
             "ticks": ""
            },
            "type": "mesh3d"
           }
          ],
          "parcoords": [
           {
            "line": {
             "colorbar": {
              "outlinewidth": 0,
              "ticks": ""
             }
            },
            "type": "parcoords"
           }
          ],
          "pie": [
           {
            "automargin": true,
            "type": "pie"
           }
          ],
          "scatter": [
           {
            "fillpattern": {
             "fillmode": "overlay",
             "size": 10,
             "solidity": 0.2
            },
            "type": "scatter"
           }
          ],
          "scatter3d": [
           {
            "line": {
             "colorbar": {
              "outlinewidth": 0,
              "ticks": ""
             }
            },
            "marker": {
             "colorbar": {
              "outlinewidth": 0,
              "ticks": ""
             }
            },
            "type": "scatter3d"
           }
          ],
          "scattercarpet": [
           {
            "marker": {
             "colorbar": {
              "outlinewidth": 0,
              "ticks": ""
             }
            },
            "type": "scattercarpet"
           }
          ],
          "scattergeo": [
           {
            "marker": {
             "colorbar": {
              "outlinewidth": 0,
              "ticks": ""
             }
            },
            "type": "scattergeo"
           }
          ],
          "scattergl": [
           {
            "marker": {
             "colorbar": {
              "outlinewidth": 0,
              "ticks": ""
             }
            },
            "type": "scattergl"
           }
          ],
          "scattermapbox": [
           {
            "marker": {
             "colorbar": {
              "outlinewidth": 0,
              "ticks": ""
             }
            },
            "type": "scattermapbox"
           }
          ],
          "scatterpolar": [
           {
            "marker": {
             "colorbar": {
              "outlinewidth": 0,
              "ticks": ""
             }
            },
            "type": "scatterpolar"
           }
          ],
          "scatterpolargl": [
           {
            "marker": {
             "colorbar": {
              "outlinewidth": 0,
              "ticks": ""
             }
            },
            "type": "scatterpolargl"
           }
          ],
          "scatterternary": [
           {
            "marker": {
             "colorbar": {
              "outlinewidth": 0,
              "ticks": ""
             }
            },
            "type": "scatterternary"
           }
          ],
          "surface": [
           {
            "colorbar": {
             "outlinewidth": 0,
             "ticks": ""
            },
            "colorscale": [
             [
              0,
              "#0d0887"
             ],
             [
              0.1111111111111111,
              "#46039f"
             ],
             [
              0.2222222222222222,
              "#7201a8"
             ],
             [
              0.3333333333333333,
              "#9c179e"
             ],
             [
              0.4444444444444444,
              "#bd3786"
             ],
             [
              0.5555555555555556,
              "#d8576b"
             ],
             [
              0.6666666666666666,
              "#ed7953"
             ],
             [
              0.7777777777777778,
              "#fb9f3a"
             ],
             [
              0.8888888888888888,
              "#fdca26"
             ],
             [
              1,
              "#f0f921"
             ]
            ],
            "type": "surface"
           }
          ],
          "table": [
           {
            "cells": {
             "fill": {
              "color": "#EBF0F8"
             },
             "line": {
              "color": "white"
             }
            },
            "header": {
             "fill": {
              "color": "#C8D4E3"
             },
             "line": {
              "color": "white"
             }
            },
            "type": "table"
           }
          ]
         },
         "layout": {
          "annotationdefaults": {
           "arrowcolor": "#2a3f5f",
           "arrowhead": 0,
           "arrowwidth": 1
          },
          "autotypenumbers": "strict",
          "coloraxis": {
           "colorbar": {
            "outlinewidth": 0,
            "ticks": ""
           }
          },
          "colorscale": {
           "diverging": [
            [
             0,
             "#8e0152"
            ],
            [
             0.1,
             "#c51b7d"
            ],
            [
             0.2,
             "#de77ae"
            ],
            [
             0.3,
             "#f1b6da"
            ],
            [
             0.4,
             "#fde0ef"
            ],
            [
             0.5,
             "#f7f7f7"
            ],
            [
             0.6,
             "#e6f5d0"
            ],
            [
             0.7,
             "#b8e186"
            ],
            [
             0.8,
             "#7fbc41"
            ],
            [
             0.9,
             "#4d9221"
            ],
            [
             1,
             "#276419"
            ]
           ],
           "sequential": [
            [
             0,
             "#0d0887"
            ],
            [
             0.1111111111111111,
             "#46039f"
            ],
            [
             0.2222222222222222,
             "#7201a8"
            ],
            [
             0.3333333333333333,
             "#9c179e"
            ],
            [
             0.4444444444444444,
             "#bd3786"
            ],
            [
             0.5555555555555556,
             "#d8576b"
            ],
            [
             0.6666666666666666,
             "#ed7953"
            ],
            [
             0.7777777777777778,
             "#fb9f3a"
            ],
            [
             0.8888888888888888,
             "#fdca26"
            ],
            [
             1,
             "#f0f921"
            ]
           ],
           "sequentialminus": [
            [
             0,
             "#0d0887"
            ],
            [
             0.1111111111111111,
             "#46039f"
            ],
            [
             0.2222222222222222,
             "#7201a8"
            ],
            [
             0.3333333333333333,
             "#9c179e"
            ],
            [
             0.4444444444444444,
             "#bd3786"
            ],
            [
             0.5555555555555556,
             "#d8576b"
            ],
            [
             0.6666666666666666,
             "#ed7953"
            ],
            [
             0.7777777777777778,
             "#fb9f3a"
            ],
            [
             0.8888888888888888,
             "#fdca26"
            ],
            [
             1,
             "#f0f921"
            ]
           ]
          },
          "colorway": [
           "#636efa",
           "#EF553B",
           "#00cc96",
           "#ab63fa",
           "#FFA15A",
           "#19d3f3",
           "#FF6692",
           "#B6E880",
           "#FF97FF",
           "#FECB52"
          ],
          "font": {
           "color": "#2a3f5f"
          },
          "geo": {
           "bgcolor": "white",
           "lakecolor": "white",
           "landcolor": "#E5ECF6",
           "showlakes": true,
           "showland": true,
           "subunitcolor": "white"
          },
          "hoverlabel": {
           "align": "left"
          },
          "hovermode": "closest",
          "mapbox": {
           "style": "light"
          },
          "paper_bgcolor": "white",
          "plot_bgcolor": "#E5ECF6",
          "polar": {
           "angularaxis": {
            "gridcolor": "white",
            "linecolor": "white",
            "ticks": ""
           },
           "bgcolor": "#E5ECF6",
           "radialaxis": {
            "gridcolor": "white",
            "linecolor": "white",
            "ticks": ""
           }
          },
          "scene": {
           "xaxis": {
            "backgroundcolor": "#E5ECF6",
            "gridcolor": "white",
            "gridwidth": 2,
            "linecolor": "white",
            "showbackground": true,
            "ticks": "",
            "zerolinecolor": "white"
           },
           "yaxis": {
            "backgroundcolor": "#E5ECF6",
            "gridcolor": "white",
            "gridwidth": 2,
            "linecolor": "white",
            "showbackground": true,
            "ticks": "",
            "zerolinecolor": "white"
           },
           "zaxis": {
            "backgroundcolor": "#E5ECF6",
            "gridcolor": "white",
            "gridwidth": 2,
            "linecolor": "white",
            "showbackground": true,
            "ticks": "",
            "zerolinecolor": "white"
           }
          },
          "shapedefaults": {
           "line": {
            "color": "#2a3f5f"
           }
          },
          "ternary": {
           "aaxis": {
            "gridcolor": "white",
            "linecolor": "white",
            "ticks": ""
           },
           "baxis": {
            "gridcolor": "white",
            "linecolor": "white",
            "ticks": ""
           },
           "bgcolor": "#E5ECF6",
           "caxis": {
            "gridcolor": "white",
            "linecolor": "white",
            "ticks": ""
           }
          },
          "title": {
           "x": 0.05
          },
          "xaxis": {
           "automargin": true,
           "gridcolor": "white",
           "linecolor": "white",
           "ticks": "",
           "title": {
            "standoff": 15
           },
           "zerolinecolor": "white",
           "zerolinewidth": 2
          },
          "yaxis": {
           "automargin": true,
           "gridcolor": "white",
           "linecolor": "white",
           "ticks": "",
           "title": {
            "standoff": 15
           },
           "zerolinecolor": "white",
           "zerolinewidth": 2
          }
         }
        },
        "title": {
         "text": "Palestinian conflict<br>",
         "x": 0.5,
         "xanchor": "center",
         "y": 0.9,
         "yanchor": "top"
        },
        "xaxis": {
         "anchor": "y",
         "autorange": true,
         "domain": [
          0,
          1
         ],
         "range": [
          1942.6067636649627,
          2023.3932363350373
         ],
         "title": {
          "text": "Year"
         },
         "type": "linear"
        },
        "yaxis": {
         "anchor": "x",
         "autorange": true,
         "domain": [
          0,
          1
         ],
         "range": [
          -7.742782152230971,
          107.74278215223097
         ],
         "title": {
          "text": "% Yes"
         },
         "type": "linear"
        }
       }
      },
      "image/png": "[encoded data removed]",
      "text/html": [
       "<div>                            <div id=\"a8bca1a9-321a-4f19-bf22-64ef12c8d47f\" class=\"plotly-graph-div\" style=\"height:525px; width:100%;\"></div>            <script type=\"text/javascript\">                require([\"plotly\"], function(Plotly) {                    window.PLOTLYENV=window.PLOTLYENV || {};                                    if (document.getElementById(\"a8bca1a9-321a-4f19-bf22-64ef12c8d47f\")) {                    Plotly.newPlot(                        \"a8bca1a9-321a-4f19-bf22-64ef12c8d47f\",                        [{\"hovertemplate\":\"Country=Kazakhstan\\u003cbr\\u003ex=%{x}\\u003cbr\\u003ey=%{y}\\u003cextra\\u003e\\u003c\\u002fextra\\u003e\",\"legendgroup\":\"Kazakhstan\",\"marker\":{\"color\":\"#636efa\",\"symbol\":\"circle\"},\"mode\":\"markers\",\"name\":\"Kazakhstan\",\"orientation\":\"v\",\"showlegend\":true,\"x\":[1992,1993,1994,1995,1996,1997,1998,1999,2000,2001,2002,2003,2004,2005,2006,2007,2008,2009,2010,2011,2012,2013,2014,2015,2016,2017,2018,2019],\"xaxis\":\"x\",\"y\":[88.0,80.95238095238095,84.21052631578947,73.68421052631578,85.71428571428571,90.9090909090909,95.65217391304348,50.0,73.33333333333333,82.6086956521739,80.95238095238095,84.21052631578947,94.73684210526315,93.33333333333333,94.73684210526315,94.73684210526315,94.11764705882352,93.75,93.75,100.0,100.0,100.0,100.0,100.0,92.3076923076923,100.0,100.0,100.0],\"yaxis\":\"y\",\"type\":\"scatter\"},{\"hovertemplate\":\"\\u003cb\\u003eLOWESS trendline\\u003c\\u002fb\\u003e\\u003cbr\\u003e\\u003cbr\\u003eCountry=Kazakhstan\\u003cbr\\u003ex=%{x}\\u003cbr\\u003ey=%{y} \\u003cb\\u003e(trend)\\u003c\\u002fb\\u003e\\u003cextra\\u003e\\u003c\\u002fextra\\u003e\",\"legendgroup\":\"Kazakhstan\",\"marker\":{\"color\":\"#636efa\",\"symbol\":\"circle\"},\"mode\":\"lines\",\"name\":\"Kazakhstan\",\"showlegend\":false,\"x\":[1992,1993,1994,1995,1996,1997,1998,1999,2000,2001,2002,2003,2004,2005,2006,2007,2008,2009,2010,2011,2012,2013,2014,2015,2016,2017,2018,2019],\"xaxis\":\"x\",\"y\":[83.85326998395549,84.1145288824063,84.38122891643214,84.65317526784625,84.93479022591676,85.24107665089592,85.59392701704417,86.01267451100881,86.51990135937952,87.34999387551363,88.05336784685517,88.63199805349441,89.26534971297525,90.28955079774153,91.67902041450378,93.14925799998342,94.49564928345568,95.5947635755209,96.4050046499987,96.98199267188411,97.38610069789102,97.82519043986235,98.27728050647153,98.72500494204363,99.15724823654426,99.56811332197145,99.95933377273619,100.3338519160108],\"yaxis\":\"y\",\"type\":\"scatter\"},{\"hovertemplate\":\"Country=Canada\\u003cbr\\u003ex=%{x}\\u003cbr\\u003ey=%{y}\\u003cextra\\u003e\\u003c\\u002fextra\\u003e\",\"legendgroup\":\"Canada\",\"marker\":{\"color\":\"#EF553B\",\"symbol\":\"circle\"},\"mode\":\"markers\",\"name\":\"Canada\",\"orientation\":\"v\",\"showlegend\":true,\"x\":[1947,1948,1949,1950,1952,1957,1956,1961,1962,1963,1965,1967,1969,1970,1971,1972,1973,1974,1975,1976,1977,1978,1979,1980,1981,1982,1983,1984,1985,1986,1987,1988,1989,1990,1991,1992,1993,1994,1995,1996,1997,1998,1999,2000,2001,2002,2003,2004,2005,2006,2007,2008,2009,2010,2011,2012,2013,2014,2015,2016,2017,2018,2019],\"xaxis\":\"x\",\"y\":[71.42857142857143,27.27272727272727,28.57142857142857,0.0,33.33333333333333,100.0,100.0,37.5,100.0,100.0,100.0,30.76923076923077,0.0,20.0,16.666666666666664,20.0,20.0,11.11111111111111,22.22222222222222,33.33333333333333,30.76923076923077,33.33333333333333,37.5,36.36363636363637,33.33333333333333,42.857142857142854,47.22222222222222,51.515151515151516,45.16129032258064,41.37931034482759,46.666666666666664,44.827586206896555,53.333333333333336,59.25925925925925,50.0,61.53846153846154,57.14285714285714,68.42105263157895,68.42105263157895,71.42857142857143,77.27272727272727,73.91304347826086,76.19047619047619,69.56521739130434,68.0,71.42857142857143,73.68421052631578,63.1578947368421,66.66666666666666,45.0,47.368421052631575,41.17647058823529,37.5,43.75,5.88235294117647,0.0,0.0,0.0,0.0,7.6923076923076925,5.0,0.0,7.142857142857142],\"yaxis\":\"y\",\"type\":\"scatter\"},{\"hovertemplate\":\"\\u003cb\\u003eLOWESS trendline\\u003c\\u002fb\\u003e\\u003cbr\\u003e\\u003cbr\\u003eCountry=Canada\\u003cbr\\u003ex=%{x}\\u003cbr\\u003ey=%{y} \\u003cb\\u003e(trend)\\u003c\\u002fb\\u003e\\u003cextra\\u003e\\u003c\\u002fextra\\u003e\",\"legendgroup\":\"Canada\",\"marker\":{\"color\":\"#EF553B\",\"symbol\":\"circle\"},\"mode\":\"lines\",\"name\":\"Canada\",\"showlegend\":false,\"x\":[1947,1948,1949,1950,1952,1956,1957,1961,1962,1963,1965,1967,1969,1970,1971,1972,1973,1974,1975,1976,1977,1978,1979,1980,1981,1982,1983,1984,1985,1986,1987,1988,1989,1990,1991,1992,1993,1994,1995,1996,1997,1998,1999,2000,2001,2002,2003,2004,2005,2006,2007,2008,2009,2010,2011,2012,2013,2014,2015,2016,2017,2018,2019],\"xaxis\":\"x\",\"y\":[30.04597028319084,29.91085043979306,29.786466498295393,29.672244042583767,29.473155148959144,29.192892904441845,29.14536887370909,29.010475623951734,28.977624384328035,28.93559253845908,28.785943059200072,28.441033921790993,27.697595651131422,27.152674841326537,26.65771376010058,26.55633618686792,27.239497065756293,28.146294412954383,29.238024673250113,30.491459046002635,31.878336119346958,33.176836160436466,34.57239272919978,36.268742782026074,38.053213389650324,39.83844899090064,41.777854309154705,43.72186912145816,45.64680396468214,47.62817613129827,49.50053181023304,51.261776657612344,53.1794047192708,54.69059108658439,55.98143223488678,57.02898127366466,57.81294865874294,58.31652020817787,58.52623871731631,58.4282090264624,58.011873151047716,57.27854927738095,56.24065205784084,53.717607750847584,51.13287626431437,48.608739920687896,46.1487271382538,43.72449966689246,41.30895682472688,38.8817917462115,36.428445524279795,33.938772854697106,31.40550819071423,28.823391758480117,26.188517413554283,23.497939544485906,20.75050429139165,17.94681235964499,15.088888800234203,12.17989197548738,9.223765004606639,6.224680943503611,3.1868718797765174],\"yaxis\":\"y\",\"type\":\"scatter\"},{\"hovertemplate\":\"Country=China\\u003cbr\\u003ex=%{x}\\u003cbr\\u003ey=%{y}\\u003cextra\\u003e\\u003c\\u002fextra\\u003e\",\"legendgroup\":\"China\",\"marker\":{\"color\":\"#00cc96\",\"symbol\":\"circle\"},\"mode\":\"markers\",\"name\":\"China\",\"orientation\":\"v\",\"showlegend\":true,\"x\":[1971,1972,1973,1974,1975,1976,1977,1978,1979,1980,1981,1982,1983,1984,1985,1986,1987,1988,1989,1990,1991,1992,1993,1994,1995,1996,1997,1998,1999,2000,2001,2002,2003,2004,2005,2006,2007,2008,2009,2010,2011,2012,2013,2014,2015,2016,2017,2018,2019],\"xaxis\":\"x\",\"y\":[100.0,80.0,100.0,100.0,100.0,100.0,100.0,100.0,100.0,100.0,100.0,100.0,100.0,100.0,100.0,100.0,100.0,100.0,100.0,100.0,100.0,100.0,100.0,100.0,100.0,100.0,100.0,100.0,100.0,100.0,100.0,100.0,94.73684210526315,100.0,100.0,100.0,100.0,100.0,100.0,100.0,100.0,100.0,100.0,100.0,100.0,92.3076923076923,95.0,100.0,100.0],\"yaxis\":\"y\",\"type\":\"scatter\"},{\"hovertemplate\":\"\\u003cb\\u003eLOWESS trendline\\u003c\\u002fb\\u003e\\u003cbr\\u003e\\u003cbr\\u003eCountry=China\\u003cbr\\u003ex=%{x}\\u003cbr\\u003ey=%{y} \\u003cb\\u003e(trend)\\u003c\\u002fb\\u003e\\u003cextra\\u003e\\u003c\\u002fextra\\u003e\",\"legendgroup\":\"China\",\"marker\":{\"color\":\"#00cc96\",\"symbol\":\"circle\"},\"mode\":\"lines\",\"name\":\"China\",\"showlegend\":false,\"x\":[1971,1972,1973,1974,1975,1976,1977,1978,1979,1980,1981,1982,1983,1984,1985,1986,1987,1988,1989,1990,1991,1992,1993,1994,1995,1996,1997,1998,1999,2000,2001,2002,2003,2004,2005,2006,2007,2008,2009,2010,2011,2012,2013,2014,2015,2016,2017,2018,2019],\"xaxis\":\"x\",\"y\":[100.00000000000163,99.999999999989,100.0000000000054,99.99999999999618,99.99999999999905,99.99999999999865,99.99999999999919,100.00000000000502,100.00000000000199,100.00000000000021,100.00000000000277,99.99999999999886,100.00000000000112,99.99999999999882,100.00000000000014,99.99999999999993,100.00000000000001,100.00000000000003,99.99999999999984,100.00000000000021,100.00000000000063,99.99999999999993,99.99999999999987,100.00000000000071,100.00000000000075,100.00000000000017,100.00000000000051,100.00000000000145,100.00000000000266,99.99999999999763,100.00000000000128,100.00000000000455,99.9999999999995,100.00000000000136,100.0000000000036,100.00000000000298,99.99999999999578,100.00000000000253,99.99999999999777,99.99999999999957,100.00000000000192,99.99999999999807,99.99999999999565,99.99999999999773,100.00000000000419,100.00000000001066,99.99999999999568,100.00000000000382,99.99999999999496],\"yaxis\":\"y\",\"type\":\"scatter\"}],                        {\"template\":{\"data\":{\"histogram2dcontour\":[{\"type\":\"histogram2dcontour\",\"colorbar\":{\"outlinewidth\":0,\"ticks\":\"\"},\"colorscale\":[[0.0,\"#0d0887\"],[0.1111111111111111,\"#46039f\"],[0.2222222222222222,\"#7201a8\"],[0.3333333333333333,\"#9c179e\"],[0.4444444444444444,\"#bd3786\"],[0.5555555555555556,\"#d8576b\"],[0.6666666666666666,\"#ed7953\"],[0.7777777777777778,\"#fb9f3a\"],[0.8888888888888888,\"#fdca26\"],[1.0,\"#f0f921\"]]}],\"choropleth\":[{\"type\":\"choropleth\",\"colorbar\":{\"outlinewidth\":0,\"ticks\":\"\"}}],\"histogram2d\":[{\"type\":\"histogram2d\",\"colorbar\":{\"outlinewidth\":0,\"ticks\":\"\"},\"colorscale\":[[0.0,\"#0d0887\"],[0.1111111111111111,\"#46039f\"],[0.2222222222222222,\"#7201a8\"],[0.3333333333333333,\"#9c179e\"],[0.4444444444444444,\"#bd3786\"],[0.5555555555555556,\"#d8576b\"],[0.6666666666666666,\"#ed7953\"],[0.7777777777777778,\"#fb9f3a\"],[0.8888888888888888,\"#fdca26\"],[1.0,\"#f0f921\"]]}],\"heatmap\":[{\"type\":\"heatmap\",\"colorbar\":{\"outlinewidth\":0,\"ticks\":\"\"},\"colorscale\":[[0.0,\"#0d0887\"],[0.1111111111111111,\"#46039f\"],[0.2222222222222222,\"#7201a8\"],[0.3333333333333333,\"#9c179e\"],[0.4444444444444444,\"#bd3786\"],[0.5555555555555556,\"#d8576b\"],[0.6666666666666666,\"#ed7953\"],[0.7777777777777778,\"#fb9f3a\"],[0.8888888888888888,\"#fdca26\"],[1.0,\"#f0f921\"]]}],\"heatmapgl\":[{\"type\":\"heatmapgl\",\"colorbar\":{\"outlinewidth\":0,\"ticks\":\"\"},\"colorscale\":[[0.0,\"#0d0887\"],[0.1111111111111111,\"#46039f\"],[0.2222222222222222,\"#7201a8\"],[0.3333333333333333,\"#9c179e\"],[0.4444444444444444,\"#bd3786\"],[0.5555555555555556,\"#d8576b\"],[0.6666666666666666,\"#ed7953\"],[0.7777777777777778,\"#fb9f3a\"],[0.8888888888888888,\"#fdca26\"],[1.0,\"#f0f921\"]]}],\"contourcarpet\":[{\"type\":\"contourcarpet\",\"colorbar\":{\"outlinewidth\":0,\"ticks\":\"\"}}],\"contour\":[{\"type\":\"contour\",\"colorbar\":{\"outlinewidth\":0,\"ticks\":\"\"},\"colorscale\":[[0.0,\"#0d0887\"],[0.1111111111111111,\"#46039f\"],[0.2222222222222222,\"#7201a8\"],[0.3333333333333333,\"#9c179e\"],[0.4444444444444444,\"#bd3786\"],[0.5555555555555556,\"#d8576b\"],[0.6666666666666666,\"#ed7953\"],[0.7777777777777778,\"#fb9f3a\"],[0.8888888888888888,\"#fdca26\"],[1.0,\"#f0f921\"]]}],\"surface\":[{\"type\":\"surface\",\"colorbar\":{\"outlinewidth\":0,\"ticks\":\"\"},\"colorscale\":[[0.0,\"#0d0887\"],[0.1111111111111111,\"#46039f\"],[0.2222222222222222,\"#7201a8\"],[0.3333333333333333,\"#9c179e\"],[0.4444444444444444,\"#bd3786\"],[0.5555555555555556,\"#d8576b\"],[0.6666666666666666,\"#ed7953\"],[0.7777777777777778,\"#fb9f3a\"],[0.8888888888888888,\"#fdca26\"],[1.0,\"#f0f921\"]]}],\"mesh3d\":[{\"type\":\"mesh3d\",\"colorbar\":{\"outlinewidth\":0,\"ticks\":\"\"}}],\"scatter\":[{\"fillpattern\":{\"fillmode\":\"overlay\",\"size\":10,\"solidity\":0.2},\"type\":\"scatter\"}],\"parcoords\":[{\"type\":\"parcoords\",\"line\":{\"colorbar\":{\"outlinewidth\":0,\"ticks\":\"\"}}}],\"scatterpolargl\":[{\"type\":\"scatterpolargl\",\"marker\":{\"colorbar\":{\"outlinewidth\":0,\"ticks\":\"\"}}}],\"bar\":[{\"error_x\":{\"color\":\"#2a3f5f\"},\"error_y\":{\"color\":\"#2a3f5f\"},\"marker\":{\"line\":{\"color\":\"#E5ECF6\",\"width\":0.5},\"pattern\":{\"fillmode\":\"overlay\",\"size\":10,\"solidity\":0.2}},\"type\":\"bar\"}],\"scattergeo\":[{\"type\":\"scattergeo\",\"marker\":{\"colorbar\":{\"outlinewidth\":0,\"ticks\":\"\"}}}],\"scatterpolar\":[{\"type\":\"scatterpolar\",\"marker\":{\"colorbar\":{\"outlinewidth\":0,\"ticks\":\"\"}}}],\"histogram\":[{\"marker\":{\"pattern\":{\"fillmode\":\"overlay\",\"size\":10,\"solidity\":0.2}},\"type\":\"histogram\"}],\"scattergl\":[{\"type\":\"scattergl\",\"marker\":{\"colorbar\":{\"outlinewidth\":0,\"ticks\":\"\"}}}],\"scatter3d\":[{\"type\":\"scatter3d\",\"line\":{\"colorbar\":{\"outlinewidth\":0,\"ticks\":\"\"}},\"marker\":{\"colorbar\":{\"outlinewidth\":0,\"ticks\":\"\"}}}],\"scattermapbox\":[{\"type\":\"scattermapbox\",\"marker\":{\"colorbar\":{\"outlinewidth\":0,\"ticks\":\"\"}}}],\"scatterternary\":[{\"type\":\"scatterternary\",\"marker\":{\"colorbar\":{\"outlinewidth\":0,\"ticks\":\"\"}}}],\"scattercarpet\":[{\"type\":\"scattercarpet\",\"marker\":{\"colorbar\":{\"outlinewidth\":0,\"ticks\":\"\"}}}],\"carpet\":[{\"aaxis\":{\"endlinecolor\":\"#2a3f5f\",\"gridcolor\":\"white\",\"linecolor\":\"white\",\"minorgridcolor\":\"white\",\"startlinecolor\":\"#2a3f5f\"},\"baxis\":{\"endlinecolor\":\"#2a3f5f\",\"gridcolor\":\"white\",\"linecolor\":\"white\",\"minorgridcolor\":\"white\",\"startlinecolor\":\"#2a3f5f\"},\"type\":\"carpet\"}],\"table\":[{\"cells\":{\"fill\":{\"color\":\"#EBF0F8\"},\"line\":{\"color\":\"white\"}},\"header\":{\"fill\":{\"color\":\"#C8D4E3\"},\"line\":{\"color\":\"white\"}},\"type\":\"table\"}],\"barpolar\":[{\"marker\":{\"line\":{\"color\":\"#E5ECF6\",\"width\":0.5},\"pattern\":{\"fillmode\":\"overlay\",\"size\":10,\"solidity\":0.2}},\"type\":\"barpolar\"}],\"pie\":[{\"automargin\":true,\"type\":\"pie\"}]},\"layout\":{\"autotypenumbers\":\"strict\",\"colorway\":[\"#636efa\",\"#EF553B\",\"#00cc96\",\"#ab63fa\",\"#FFA15A\",\"#19d3f3\",\"#FF6692\",\"#B6E880\",\"#FF97FF\",\"#FECB52\"],\"font\":{\"color\":\"#2a3f5f\"},\"hovermode\":\"closest\",\"hoverlabel\":{\"align\":\"left\"},\"paper_bgcolor\":\"white\",\"plot_bgcolor\":\"#E5ECF6\",\"polar\":{\"bgcolor\":\"#E5ECF6\",\"angularaxis\":{\"gridcolor\":\"white\",\"linecolor\":\"white\",\"ticks\":\"\"},\"radialaxis\":{\"gridcolor\":\"white\",\"linecolor\":\"white\",\"ticks\":\"\"}},\"ternary\":{\"bgcolor\":\"#E5ECF6\",\"aaxis\":{\"gridcolor\":\"white\",\"linecolor\":\"white\",\"ticks\":\"\"},\"baxis\":{\"gridcolor\":\"white\",\"linecolor\":\"white\",\"ticks\":\"\"},\"caxis\":{\"gridcolor\":\"white\",\"linecolor\":\"white\",\"ticks\":\"\"}},\"coloraxis\":{\"colorbar\":{\"outlinewidth\":0,\"ticks\":\"\"}},\"colorscale\":{\"sequential\":[[0.0,\"#0d0887\"],[0.1111111111111111,\"#46039f\"],[0.2222222222222222,\"#7201a8\"],[0.3333333333333333,\"#9c179e\"],[0.4444444444444444,\"#bd3786\"],[0.5555555555555556,\"#d8576b\"],[0.6666666666666666,\"#ed7953\"],[0.7777777777777778,\"#fb9f3a\"],[0.8888888888888888,\"#fdca26\"],[1.0,\"#f0f921\"]],\"sequentialminus\":[[0.0,\"#0d0887\"],[0.1111111111111111,\"#46039f\"],[0.2222222222222222,\"#7201a8\"],[0.3333333333333333,\"#9c179e\"],[0.4444444444444444,\"#bd3786\"],[0.5555555555555556,\"#d8576b\"],[0.6666666666666666,\"#ed7953\"],[0.7777777777777778,\"#fb9f3a\"],[0.8888888888888888,\"#fdca26\"],[1.0,\"#f0f921\"]],\"diverging\":[[0,\"#8e0152\"],[0.1,\"#c51b7d\"],[0.2,\"#de77ae\"],[0.3,\"#f1b6da\"],[0.4,\"#fde0ef\"],[0.5,\"#f7f7f7\"],[0.6,\"#e6f5d0\"],[0.7,\"#b8e186\"],[0.8,\"#7fbc41\"],[0.9,\"#4d9221\"],[1,\"#276419\"]]},\"xaxis\":{\"gridcolor\":\"white\",\"linecolor\":\"white\",\"ticks\":\"\",\"title\":{\"standoff\":15},\"zerolinecolor\":\"white\",\"automargin\":true,\"zerolinewidth\":2},\"yaxis\":{\"gridcolor\":\"white\",\"linecolor\":\"white\",\"ticks\":\"\",\"title\":{\"standoff\":15},\"zerolinecolor\":\"white\",\"automargin\":true,\"zerolinewidth\":2},\"scene\":{\"xaxis\":{\"backgroundcolor\":\"#E5ECF6\",\"gridcolor\":\"white\",\"linecolor\":\"white\",\"showbackground\":true,\"ticks\":\"\",\"zerolinecolor\":\"white\",\"gridwidth\":2},\"yaxis\":{\"backgroundcolor\":\"#E5ECF6\",\"gridcolor\":\"white\",\"linecolor\":\"white\",\"showbackground\":true,\"ticks\":\"\",\"zerolinecolor\":\"white\",\"gridwidth\":2},\"zaxis\":{\"backgroundcolor\":\"#E5ECF6\",\"gridcolor\":\"white\",\"linecolor\":\"white\",\"showbackground\":true,\"ticks\":\"\",\"zerolinecolor\":\"white\",\"gridwidth\":2}},\"shapedefaults\":{\"line\":{\"color\":\"#2a3f5f\"}},\"annotationdefaults\":{\"arrowcolor\":\"#2a3f5f\",\"arrowhead\":0,\"arrowwidth\":1},\"geo\":{\"bgcolor\":\"white\",\"landcolor\":\"#E5ECF6\",\"subunitcolor\":\"white\",\"showland\":true,\"showlakes\":true,\"lakecolor\":\"white\"},\"title\":{\"x\":0.05},\"mapbox\":{\"style\":\"light\"}}},\"xaxis\":{\"anchor\":\"y\",\"domain\":[0.0,1.0],\"title\":{\"text\":\"Year\"}},\"yaxis\":{\"anchor\":\"x\",\"domain\":[0.0,1.0],\"title\":{\"text\":\"% Yes\"}},\"legend\":{\"title\":{\"text\":\"Country\"},\"tracegroupgap\":0},\"margin\":{\"t\":60},\"title\":{\"text\":\"Palestinian conflict\\u003cbr\\u003e\",\"y\":0.9,\"x\":0.5,\"xanchor\":\"center\",\"yanchor\":\"top\"}},                        {\"responsive\": true}                    ).then(function(){\n",
       "                            \n",
       "var gd = document.getElementById('a8bca1a9-321a-4f19-bf22-64ef12c8d47f');\n",
       "var x = new MutationObserver(function (mutations, observer) {{\n",
       "        var display = window.getComputedStyle(gd).display;\n",
       "        if (!display || display === 'none') {{\n",
       "            console.log([gd, 'removed!']);\n",
       "            Plotly.purge(gd);\n",
       "            observer.disconnect();\n",
       "        }}\n",
       "}});\n",
       "\n",
       "// Listen for the removal of the full notebook cells\n",
       "var notebookContainer = gd.closest('#notebook-container');\n",
       "if (notebookContainer) {{\n",
       "    x.observe(notebookContainer, {childList: true});\n",
       "}}\n",
       "\n",
       "// Listen for the clearing of the current output cell\n",
       "var outputEl = gd.closest('.output');\n",
       "if (outputEl) {{\n",
       "    x.observe(outputEl, {childList: true});\n",
       "}}\n",
       "\n",
       "                        })                };                });            </script>        </div>"
      ]
     },
     "metadata": {},
     "output_type": "display_data"
    },
    {
     "data": {
      "application/vnd.plotly.v1+json": {
       "config": {
        "plotlyServerURL": "https://plot.ly"
       },
       "data": [
        {
         "hovertemplate": "Country=Kazakhstan<br>x=%{x}<br>y=%{y}<extra></extra>",
         "legendgroup": "Kazakhstan",
         "marker": {
          "color": "#636efa",
          "symbol": "circle"
         },
         "mode": "markers",
         "name": "Kazakhstan",
         "orientation": "v",
         "showlegend": true,
         "type": "scatter",
         "x": [
          1992,
          1993,
          1994,
          1995,
          1996,
          1997,
          1998,
          1999,
          2000,
          2001,
          2002,
          2003,
          2004,
          2005,
          2006,
          2007,
          2008,
          2009,
          2010,
          2011,
          2012,
          2013,
          2014,
          2015,
          2016,
          2017,
          2018,
          2019
         ],
         "xaxis": "x",
         "y": [
          90.9090909090909,
          81.81818181818183,
          64.28571428571429,
          73.68421052631578,
          66.66666666666666,
          68.18181818181817,
          70.83333333333334,
          64.70588235294117,
          68.75,
          70.58823529411765,
          73.91304347826086,
          68.75,
          75,
          78.26086956521739,
          81.48148148148148,
          80,
          87.5,
          80,
          100,
          100,
          90.9090909090909,
          100,
          100,
          100,
          94.28571428571428,
          96.55172413793103,
          94.11764705882352,
          93.75
         ],
         "yaxis": "y"
        },
        {
         "hovertemplate": "<b>LOWESS trendline</b><br><br>Country=Kazakhstan<br>x=%{x}<br>y=%{y} <b>(trend)</b><extra></extra>",
         "legendgroup": "Kazakhstan",
         "marker": {
          "color": "#636efa",
          "symbol": "circle"
         },
         "mode": "lines",
         "name": "Kazakhstan",
         "showlegend": false,
         "type": "scatter",
         "x": [
          1992,
          1993,
          1994,
          1995,
          1996,
          1997,
          1998,
          1999,
          2000,
          2001,
          2002,
          2003,
          2004,
          2005,
          2006,
          2007,
          2008,
          2009,
          2010,
          2011,
          2012,
          2013,
          2014,
          2015,
          2016,
          2017,
          2018,
          2019
         ],
         "xaxis": "x",
         "y": [
          70.82572003387007,
          70.63441130066418,
          70.51644471071057,
          70.46235181912148,
          70.46542750462763,
          70.51649999128335,
          70.61303375268261,
          70.76587150792848,
          71.01794094863493,
          71.9342284513759,
          73.11817763958682,
          74.58081239781696,
          76.38659761815788,
          78.46563634896442,
          80.74645052800685,
          83.13676102233019,
          85.50225183882685,
          87.72215010995265,
          89.72315686530715,
          91.47288676715,
          92.46712410048131,
          93.44899316704337,
          94.42147486790721,
          95.35888003838335,
          96.24089062204969,
          97.05164021558824,
          97.78291470925525,
          98.43219317626846
         ],
         "yaxis": "y"
        },
        {
         "hovertemplate": "Country=Canada<br>x=%{x}<br>y=%{y}<extra></extra>",
         "legendgroup": "Canada",
         "marker": {
          "color": "#EF553B",
          "symbol": "circle"
         },
         "mode": "markers",
         "name": "Canada",
         "orientation": "v",
         "showlegend": true,
         "type": "scatter",
         "x": [
          1948,
          1949,
          1950,
          1954,
          1956,
          1957,
          1958,
          1959,
          1960,
          1961,
          1962,
          1963,
          1965,
          1966,
          1967,
          1968,
          1969,
          1970,
          1971,
          1972,
          1973,
          1974,
          1975,
          1976,
          1977,
          1979,
          1978,
          1980,
          1981,
          1982,
          1983,
          1984,
          1985,
          1986,
          1987,
          1988,
          1989,
          1990,
          1991,
          1992,
          1993,
          1994,
          1995,
          1996,
          1997,
          1998,
          1999,
          2000,
          2001,
          2002,
          2003,
          2004,
          2005,
          2006,
          2007,
          2008,
          2009,
          2010,
          2011,
          2012,
          2013,
          2014,
          2015,
          2016,
          2017,
          2018,
          2019
         ],
         "xaxis": "x",
         "y": [
          0,
          0,
          100,
          100,
          100,
          60,
          50,
          75,
          83.33333333333334,
          42.857142857142854,
          100,
          0,
          80,
          100,
          66.66666666666666,
          100,
          50,
          60,
          58.333333333333336,
          50,
          85.71428571428571,
          92.85714285714286,
          76.92307692307693,
          70,
          83.33333333333334,
          46.666666666666664,
          73.33333333333333,
          44.44444444444444,
          35.714285714285715,
          40.74074074074074,
          24.324324324324326,
          29.411764705882355,
          43.90243902439025,
          50,
          39.285714285714285,
          53.333333333333336,
          51.724137931034484,
          43.75,
          50,
          66.66666666666666,
          72.72727272727273,
          66.66666666666666,
          52.63157894736842,
          61.904761904761905,
          63.63636363636363,
          62.5,
          57.89473684210527,
          56.25,
          58.82352941176471,
          52.17391304347826,
          50,
          63.1578947368421,
          65.21739130434783,
          74.07407407407408,
          55.00000000000001,
          76,
          55.00000000000001,
          69.56521739130434,
          62.5,
          66.66666666666666,
          50,
          63.63636363636363,
          38.095238095238095,
          62.857142857142854,
          44.827586206896555,
          47.05882352941176,
          31.25
         ],
         "yaxis": "y"
        },
        {
         "hovertemplate": "<b>LOWESS trendline</b><br><br>Country=Canada<br>x=%{x}<br>y=%{y} <b>(trend)</b><extra></extra>",
         "legendgroup": "Canada",
         "marker": {
          "color": "#EF553B",
          "symbol": "circle"
         },
         "mode": "lines",
         "name": "Canada",
         "showlegend": false,
         "type": "scatter",
         "x": [
          1948,
          1949,
          1950,
          1954,
          1956,
          1957,
          1958,
          1959,
          1960,
          1961,
          1962,
          1963,
          1965,
          1966,
          1967,
          1968,
          1969,
          1970,
          1971,
          1972,
          1973,
          1974,
          1975,
          1976,
          1977,
          1978,
          1979,
          1980,
          1981,
          1982,
          1983,
          1984,
          1985,
          1986,
          1987,
          1988,
          1989,
          1990,
          1991,
          1992,
          1993,
          1994,
          1995,
          1996,
          1997,
          1998,
          1999,
          2000,
          2001,
          2002,
          2003,
          2004,
          2005,
          2006,
          2007,
          2008,
          2009,
          2010,
          2011,
          2012,
          2013,
          2014,
          2015,
          2016,
          2017,
          2018,
          2019
         ],
         "xaxis": "x",
         "y": [
          96.11481763962418,
          94.91075819989175,
          93.70757895085876,
          88.89194494588739,
          86.46814107121344,
          85.24652049990458,
          84.01507823913745,
          82.77202742684108,
          81.51678369912916,
          80.24943753356509,
          78.97052812082391,
          77.68161199507594,
          75.0806884333867,
          73.77363703646306,
          72.46676498761177,
          71.16424476164157,
          69.87185004781425,
          68.59690925998127,
          67.35014688325077,
          66.14477414845932,
          64.97902042355189,
          63.89618505013396,
          62.901191206787516,
          61.854549076095225,
          60.97255597816395,
          59.884177983752224,
          59.06688213164867,
          58.3338588278788,
          57.689559857501884,
          57.12361206079653,
          56.619418394065164,
          56.166528760345635,
          55.75569317409179,
          55.39257642161678,
          55.0851855272319,
          54.83750095664813,
          54.65293154646981,
          54.543547119250995,
          54.525209245543785,
          54.62147399355213,
          54.846226643563824,
          55.20184945263068,
          55.67269160313736,
          56.22616820734794,
          56.820160483868,
          57.40780316803489,
          57.619633482101804,
          57.708602293731865,
          57.72833725925589,
          57.706986233140924,
          57.65814123099637,
          57.5893074947428,
          57.50531812060528,
          57.40919797568861,
          57.302628318685755,
          57.18626008135312,
          57.06027834180578,
          56.924227581992966,
          56.777424312982234,
          56.61877357744738,
          56.44688654387754,
          56.260172108200365,
          56.057217472903815,
          55.83666016017464,
          55.597647910454675,
          55.33937375561023,
          55.06147583501008
         ],
         "yaxis": "y"
        },
        {
         "hovertemplate": "Country=China<br>x=%{x}<br>y=%{y}<extra></extra>",
         "legendgroup": "China",
         "marker": {
          "color": "#00cc96",
          "symbol": "circle"
         },
         "mode": "markers",
         "name": "China",
         "orientation": "v",
         "showlegend": true,
         "type": "scatter",
         "x": [
          1971,
          1972,
          1973,
          1974,
          1975,
          1976,
          1977,
          1979,
          1978,
          1980,
          1981,
          1982,
          1983,
          1984,
          1985,
          1986,
          1987,
          1988,
          1989,
          1990,
          1991,
          1992,
          1993,
          1994,
          1995,
          1996,
          1997,
          1998,
          1999,
          2000,
          2001,
          2002,
          2003,
          2004,
          2005,
          2006,
          2007,
          2008,
          2009,
          2010,
          2011,
          2012,
          2013,
          2014,
          2015,
          2016,
          2017,
          2018,
          2019
         ],
         "xaxis": "x",
         "y": [
          28.57142857142857,
          37.5,
          0,
          71.42857142857143,
          57.14285714285714,
          57.14285714285714,
          42.857142857142854,
          100,
          60,
          100,
          81.25,
          76.47058823529412,
          64,
          59.375,
          69.23076923076923,
          74.28571428571429,
          80.76923076923077,
          84,
          92.5925925925926,
          87.5,
          84.61538461538461,
          90.9090909090909,
          100,
          100,
          88.88888888888889,
          90.47619047619048,
          90.47619047619048,
          81.81818181818183,
          72.22222222222221,
          73.33333333333333,
          76.47058823529412,
          76.19047619047619,
          86.66666666666667,
          90,
          90.47619047619048,
          88.88888888888889,
          89.47368421052632,
          79.16666666666666,
          78.94736842105263,
          86.95652173913044,
          77.27272727272727,
          68.18181818181817,
          72.22222222222221,
          81.81818181818183,
          66.66666666666666,
          65.71428571428571,
          66.66666666666666,
          70.58823529411765,
          68.75
         ],
         "yaxis": "y"
        },
        {
         "hovertemplate": "<b>LOWESS trendline</b><br><br>Country=China<br>x=%{x}<br>y=%{y} <b>(trend)</b><extra></extra>",
         "legendgroup": "China",
         "marker": {
          "color": "#00cc96",
          "symbol": "circle"
         },
         "mode": "lines",
         "name": "China",
         "showlegend": false,
         "type": "scatter",
         "x": [
          1971,
          1972,
          1973,
          1974,
          1975,
          1976,
          1977,
          1978,
          1979,
          1980,
          1981,
          1982,
          1983,
          1984,
          1985,
          1986,
          1987,
          1988,
          1989,
          1990,
          1991,
          1992,
          1993,
          1994,
          1995,
          1996,
          1997,
          1998,
          1999,
          2000,
          2001,
          2002,
          2003,
          2004,
          2005,
          2006,
          2007,
          2008,
          2009,
          2010,
          2011,
          2012,
          2013,
          2014,
          2015,
          2016,
          2017,
          2018,
          2019
         ],
         "xaxis": "x",
         "y": [
          41.7483291414538,
          44.138874769832825,
          46.516156999092885,
          48.88391602828301,
          51.24604125992827,
          53.60440013786002,
          55.959151544365305,
          58.309671551044886,
          60.65639055085078,
          62.999579135951535,
          65.33889317274443,
          67.67242640870744,
          69.99326224983086,
          72.28495410719026,
          74.51242558898421,
          76.60501486302505,
          78.19628236872427,
          79.57012243504504,
          80.74578834658621,
          81.72031235027298,
          82.49503454783037,
          83.11438028208205,
          83.64673079869415,
          84.14351353869824,
          84.61414357764728,
          85.02974209200111,
          85.33367319594144,
          85.46208944114808,
          85.37843100188442,
          85.09067603795859,
          84.62159896432325,
          84.00012283106732,
          83.26229929556223,
          82.44979854896407,
          81.52597078025128,
          80.61686403456576,
          79.73317399363195,
          78.86726349489793,
          78.00980833971558,
          77.1536136954071,
          76.29313453650757,
          75.42342282583213,
          74.54078180900345,
          73.64323152650796,
          72.72957498633981,
          71.7984785953697,
          70.84963896488915,
          69.88394884254876,
          68.90300641259357
         ],
         "yaxis": "y"
        }
       ],
       "layout": {
        "autosize": true,
        "legend": {
         "title": {
          "text": "Country"
         },
         "tracegroupgap": 0
        },
        "margin": {
         "t": 60
        },
        "template": {
         "data": {
          "bar": [
           {
            "error_x": {
             "color": "#2a3f5f"
            },
            "error_y": {
             "color": "#2a3f5f"
            },
            "marker": {
             "line": {
              "color": "#E5ECF6",
              "width": 0.5
             },
             "pattern": {
              "fillmode": "overlay",
              "size": 10,
              "solidity": 0.2
             }
            },
            "type": "bar"
           }
          ],
          "barpolar": [
           {
            "marker": {
             "line": {
              "color": "#E5ECF6",
              "width": 0.5
             },
             "pattern": {
              "fillmode": "overlay",
              "size": 10,
              "solidity": 0.2
             }
            },
            "type": "barpolar"
           }
          ],
          "carpet": [
           {
            "aaxis": {
             "endlinecolor": "#2a3f5f",
             "gridcolor": "white",
             "linecolor": "white",
             "minorgridcolor": "white",
             "startlinecolor": "#2a3f5f"
            },
            "baxis": {
             "endlinecolor": "#2a3f5f",
             "gridcolor": "white",
             "linecolor": "white",
             "minorgridcolor": "white",
             "startlinecolor": "#2a3f5f"
            },
            "type": "carpet"
           }
          ],
          "choropleth": [
           {
            "colorbar": {
             "outlinewidth": 0,
             "ticks": ""
            },
            "type": "choropleth"
           }
          ],
          "contour": [
           {
            "colorbar": {
             "outlinewidth": 0,
             "ticks": ""
            },
            "colorscale": [
             [
              0,
              "#0d0887"
             ],
             [
              0.1111111111111111,
              "#46039f"
             ],
             [
              0.2222222222222222,
              "#7201a8"
             ],
             [
              0.3333333333333333,
              "#9c179e"
             ],
             [
              0.4444444444444444,
              "#bd3786"
             ],
             [
              0.5555555555555556,
              "#d8576b"
             ],
             [
              0.6666666666666666,
              "#ed7953"
             ],
             [
              0.7777777777777778,
              "#fb9f3a"
             ],
             [
              0.8888888888888888,
              "#fdca26"
             ],
             [
              1,
              "#f0f921"
             ]
            ],
            "type": "contour"
           }
          ],
          "contourcarpet": [
           {
            "colorbar": {
             "outlinewidth": 0,
             "ticks": ""
            },
            "type": "contourcarpet"
           }
          ],
          "heatmap": [
           {
            "colorbar": {
             "outlinewidth": 0,
             "ticks": ""
            },
            "colorscale": [
             [
              0,
              "#0d0887"
             ],
             [
              0.1111111111111111,
              "#46039f"
             ],
             [
              0.2222222222222222,
              "#7201a8"
             ],
             [
              0.3333333333333333,
              "#9c179e"
             ],
             [
              0.4444444444444444,
              "#bd3786"
             ],
             [
              0.5555555555555556,
              "#d8576b"
             ],
             [
              0.6666666666666666,
              "#ed7953"
             ],
             [
              0.7777777777777778,
              "#fb9f3a"
             ],
             [
              0.8888888888888888,
              "#fdca26"
             ],
             [
              1,
              "#f0f921"
             ]
            ],
            "type": "heatmap"
           }
          ],
          "heatmapgl": [
           {
            "colorbar": {
             "outlinewidth": 0,
             "ticks": ""
            },
            "colorscale": [
             [
              0,
              "#0d0887"
             ],
             [
              0.1111111111111111,
              "#46039f"
             ],
             [
              0.2222222222222222,
              "#7201a8"
             ],
             [
              0.3333333333333333,
              "#9c179e"
             ],
             [
              0.4444444444444444,
              "#bd3786"
             ],
             [
              0.5555555555555556,
              "#d8576b"
             ],
             [
              0.6666666666666666,
              "#ed7953"
             ],
             [
              0.7777777777777778,
              "#fb9f3a"
             ],
             [
              0.8888888888888888,
              "#fdca26"
             ],
             [
              1,
              "#f0f921"
             ]
            ],
            "type": "heatmapgl"
           }
          ],
          "histogram": [
           {
            "marker": {
             "pattern": {
              "fillmode": "overlay",
              "size": 10,
              "solidity": 0.2
             }
            },
            "type": "histogram"
           }
          ],
          "histogram2d": [
           {
            "colorbar": {
             "outlinewidth": 0,
             "ticks": ""
            },
            "colorscale": [
             [
              0,
              "#0d0887"
             ],
             [
              0.1111111111111111,
              "#46039f"
             ],
             [
              0.2222222222222222,
              "#7201a8"
             ],
             [
              0.3333333333333333,
              "#9c179e"
             ],
             [
              0.4444444444444444,
              "#bd3786"
             ],
             [
              0.5555555555555556,
              "#d8576b"
             ],
             [
              0.6666666666666666,
              "#ed7953"
             ],
             [
              0.7777777777777778,
              "#fb9f3a"
             ],
             [
              0.8888888888888888,
              "#fdca26"
             ],
             [
              1,
              "#f0f921"
             ]
            ],
            "type": "histogram2d"
           }
          ],
          "histogram2dcontour": [
           {
            "colorbar": {
             "outlinewidth": 0,
             "ticks": ""
            },
            "colorscale": [
             [
              0,
              "#0d0887"
             ],
             [
              0.1111111111111111,
              "#46039f"
             ],
             [
              0.2222222222222222,
              "#7201a8"
             ],
             [
              0.3333333333333333,
              "#9c179e"
             ],
             [
              0.4444444444444444,
              "#bd3786"
             ],
             [
              0.5555555555555556,
              "#d8576b"
             ],
             [
              0.6666666666666666,
              "#ed7953"
             ],
             [
              0.7777777777777778,
              "#fb9f3a"
             ],
             [
              0.8888888888888888,
              "#fdca26"
             ],
             [
              1,
              "#f0f921"
             ]
            ],
            "type": "histogram2dcontour"
           }
          ],
          "mesh3d": [
           {
            "colorbar": {
             "outlinewidth": 0,
             "ticks": ""
            },
            "type": "mesh3d"
           }
          ],
          "parcoords": [
           {
            "line": {
             "colorbar": {
              "outlinewidth": 0,
              "ticks": ""
             }
            },
            "type": "parcoords"
           }
          ],
          "pie": [
           {
            "automargin": true,
            "type": "pie"
           }
          ],
          "scatter": [
           {
            "fillpattern": {
             "fillmode": "overlay",
             "size": 10,
             "solidity": 0.2
            },
            "type": "scatter"
           }
          ],
          "scatter3d": [
           {
            "line": {
             "colorbar": {
              "outlinewidth": 0,
              "ticks": ""
             }
            },
            "marker": {
             "colorbar": {
              "outlinewidth": 0,
              "ticks": ""
             }
            },
            "type": "scatter3d"
           }
          ],
          "scattercarpet": [
           {
            "marker": {
             "colorbar": {
              "outlinewidth": 0,
              "ticks": ""
             }
            },
            "type": "scattercarpet"
           }
          ],
          "scattergeo": [
           {
            "marker": {
             "colorbar": {
              "outlinewidth": 0,
              "ticks": ""
             }
            },
            "type": "scattergeo"
           }
          ],
          "scattergl": [
           {
            "marker": {
             "colorbar": {
              "outlinewidth": 0,
              "ticks": ""
             }
            },
            "type": "scattergl"
           }
          ],
          "scattermapbox": [
           {
            "marker": {
             "colorbar": {
              "outlinewidth": 0,
              "ticks": ""
             }
            },
            "type": "scattermapbox"
           }
          ],
          "scatterpolar": [
           {
            "marker": {
             "colorbar": {
              "outlinewidth": 0,
              "ticks": ""
             }
            },
            "type": "scatterpolar"
           }
          ],
          "scatterpolargl": [
           {
            "marker": {
             "colorbar": {
              "outlinewidth": 0,
              "ticks": ""
             }
            },
            "type": "scatterpolargl"
           }
          ],
          "scatterternary": [
           {
            "marker": {
             "colorbar": {
              "outlinewidth": 0,
              "ticks": ""
             }
            },
            "type": "scatterternary"
           }
          ],
          "surface": [
           {
            "colorbar": {
             "outlinewidth": 0,
             "ticks": ""
            },
            "colorscale": [
             [
              0,
              "#0d0887"
             ],
             [
              0.1111111111111111,
              "#46039f"
             ],
             [
              0.2222222222222222,
              "#7201a8"
             ],
             [
              0.3333333333333333,
              "#9c179e"
             ],
             [
              0.4444444444444444,
              "#bd3786"
             ],
             [
              0.5555555555555556,
              "#d8576b"
             ],
             [
              0.6666666666666666,
              "#ed7953"
             ],
             [
              0.7777777777777778,
              "#fb9f3a"
             ],
             [
              0.8888888888888888,
              "#fdca26"
             ],
             [
              1,
              "#f0f921"
             ]
            ],
            "type": "surface"
           }
          ],
          "table": [
           {
            "cells": {
             "fill": {
              "color": "#EBF0F8"
             },
             "line": {
              "color": "white"
             }
            },
            "header": {
             "fill": {
              "color": "#C8D4E3"
             },
             "line": {
              "color": "white"
             }
            },
            "type": "table"
           }
          ]
         },
         "layout": {
          "annotationdefaults": {
           "arrowcolor": "#2a3f5f",
           "arrowhead": 0,
           "arrowwidth": 1
          },
          "autotypenumbers": "strict",
          "coloraxis": {
           "colorbar": {
            "outlinewidth": 0,
            "ticks": ""
           }
          },
          "colorscale": {
           "diverging": [
            [
             0,
             "#8e0152"
            ],
            [
             0.1,
             "#c51b7d"
            ],
            [
             0.2,
             "#de77ae"
            ],
            [
             0.3,
             "#f1b6da"
            ],
            [
             0.4,
             "#fde0ef"
            ],
            [
             0.5,
             "#f7f7f7"
            ],
            [
             0.6,
             "#e6f5d0"
            ],
            [
             0.7,
             "#b8e186"
            ],
            [
             0.8,
             "#7fbc41"
            ],
            [
             0.9,
             "#4d9221"
            ],
            [
             1,
             "#276419"
            ]
           ],
           "sequential": [
            [
             0,
             "#0d0887"
            ],
            [
             0.1111111111111111,
             "#46039f"
            ],
            [
             0.2222222222222222,
             "#7201a8"
            ],
            [
             0.3333333333333333,
             "#9c179e"
            ],
            [
             0.4444444444444444,
             "#bd3786"
            ],
            [
             0.5555555555555556,
             "#d8576b"
            ],
            [
             0.6666666666666666,
             "#ed7953"
            ],
            [
             0.7777777777777778,
             "#fb9f3a"
            ],
            [
             0.8888888888888888,
             "#fdca26"
            ],
            [
             1,
             "#f0f921"
            ]
           ],
           "sequentialminus": [
            [
             0,
             "#0d0887"
            ],
            [
             0.1111111111111111,
             "#46039f"
            ],
            [
             0.2222222222222222,
             "#7201a8"
            ],
            [
             0.3333333333333333,
             "#9c179e"
            ],
            [
             0.4444444444444444,
             "#bd3786"
            ],
            [
             0.5555555555555556,
             "#d8576b"
            ],
            [
             0.6666666666666666,
             "#ed7953"
            ],
            [
             0.7777777777777778,
             "#fb9f3a"
            ],
            [
             0.8888888888888888,
             "#fdca26"
            ],
            [
             1,
             "#f0f921"
            ]
           ]
          },
          "colorway": [
           "#636efa",
           "#EF553B",
           "#00cc96",
           "#ab63fa",
           "#FFA15A",
           "#19d3f3",
           "#FF6692",
           "#B6E880",
           "#FF97FF",
           "#FECB52"
          ],
          "font": {
           "color": "#2a3f5f"
          },
          "geo": {
           "bgcolor": "white",
           "lakecolor": "white",
           "landcolor": "#E5ECF6",
           "showlakes": true,
           "showland": true,
           "subunitcolor": "white"
          },
          "hoverlabel": {
           "align": "left"
          },
          "hovermode": "closest",
          "mapbox": {
           "style": "light"
          },
          "paper_bgcolor": "white",
          "plot_bgcolor": "#E5ECF6",
          "polar": {
           "angularaxis": {
            "gridcolor": "white",
            "linecolor": "white",
            "ticks": ""
           },
           "bgcolor": "#E5ECF6",
           "radialaxis": {
            "gridcolor": "white",
            "linecolor": "white",
            "ticks": ""
           }
          },
          "scene": {
           "xaxis": {
            "backgroundcolor": "#E5ECF6",
            "gridcolor": "white",
            "gridwidth": 2,
            "linecolor": "white",
            "showbackground": true,
            "ticks": "",
            "zerolinecolor": "white"
           },
           "yaxis": {
            "backgroundcolor": "#E5ECF6",
            "gridcolor": "white",
            "gridwidth": 2,
            "linecolor": "white",
            "showbackground": true,
            "ticks": "",
            "zerolinecolor": "white"
           },
           "zaxis": {
            "backgroundcolor": "#E5ECF6",
            "gridcolor": "white",
            "gridwidth": 2,
            "linecolor": "white",
            "showbackground": true,
            "ticks": "",
            "zerolinecolor": "white"
           }
          },
          "shapedefaults": {
           "line": {
            "color": "#2a3f5f"
           }
          },
          "ternary": {
           "aaxis": {
            "gridcolor": "white",
            "linecolor": "white",
            "ticks": ""
           },
           "baxis": {
            "gridcolor": "white",
            "linecolor": "white",
            "ticks": ""
           },
           "bgcolor": "#E5ECF6",
           "caxis": {
            "gridcolor": "white",
            "linecolor": "white",
            "ticks": ""
           }
          },
          "title": {
           "x": 0.05
          },
          "xaxis": {
           "automargin": true,
           "gridcolor": "white",
           "linecolor": "white",
           "ticks": "",
           "title": {
            "standoff": 15
           },
           "zerolinecolor": "white",
           "zerolinewidth": 2
          },
          "yaxis": {
           "automargin": true,
           "gridcolor": "white",
           "linecolor": "white",
           "ticks": "",
           "title": {
            "standoff": 15
           },
           "zerolinecolor": "white",
           "zerolinewidth": 2
          }
         }
        },
        "title": {
         "text": "Arms control and disarmament<br>",
         "x": 0.5,
         "xanchor": "center",
         "y": 0.9,
         "yanchor": "top"
        },
        "xaxis": {
         "anchor": "y",
         "autorange": true,
         "domain": [
          0,
          1
         ],
         "range": [
          1943.6677808362826,
          2023.3322191637174
         ],
         "title": {
          "text": "Year"
         },
         "type": "linear"
        },
        "yaxis": {
         "anchor": "x",
         "autorange": true,
         "domain": [
          0,
          1
         ],
         "range": [
          -7.742782152230971,
          107.74278215223097
         ],
         "title": {
          "text": "% Yes"
         },
         "type": "linear"
        }
       }
      },
      "image/png": "[encoded data removed]",
      "text/html": [
       "<div>                            <div id=\"f588d2ec-8aaa-44b4-99d9-692a7937742f\" class=\"plotly-graph-div\" style=\"height:525px; width:100%;\"></div>            <script type=\"text/javascript\">                require([\"plotly\"], function(Plotly) {                    window.PLOTLYENV=window.PLOTLYENV || {};                                    if (document.getElementById(\"f588d2ec-8aaa-44b4-99d9-692a7937742f\")) {                    Plotly.newPlot(                        \"f588d2ec-8aaa-44b4-99d9-692a7937742f\",                        [{\"hovertemplate\":\"Country=Kazakhstan\\u003cbr\\u003ex=%{x}\\u003cbr\\u003ey=%{y}\\u003cextra\\u003e\\u003c\\u002fextra\\u003e\",\"legendgroup\":\"Kazakhstan\",\"marker\":{\"color\":\"#636efa\",\"symbol\":\"circle\"},\"mode\":\"markers\",\"name\":\"Kazakhstan\",\"orientation\":\"v\",\"showlegend\":true,\"x\":[1992,1993,1994,1995,1996,1997,1998,1999,2000,2001,2002,2003,2004,2005,2006,2007,2008,2009,2010,2011,2012,2013,2014,2015,2016,2017,2018,2019],\"xaxis\":\"x\",\"y\":[90.9090909090909,81.81818181818183,64.28571428571429,73.68421052631578,66.66666666666666,68.18181818181817,70.83333333333334,64.70588235294117,68.75,70.58823529411765,73.91304347826086,68.75,75.0,78.26086956521739,81.48148148148148,80.0,87.5,80.0,100.0,100.0,90.9090909090909,100.0,100.0,100.0,94.28571428571428,96.55172413793103,94.11764705882352,93.75],\"yaxis\":\"y\",\"type\":\"scatter\"},{\"hovertemplate\":\"\\u003cb\\u003eLOWESS trendline\\u003c\\u002fb\\u003e\\u003cbr\\u003e\\u003cbr\\u003eCountry=Kazakhstan\\u003cbr\\u003ex=%{x}\\u003cbr\\u003ey=%{y} \\u003cb\\u003e(trend)\\u003c\\u002fb\\u003e\\u003cextra\\u003e\\u003c\\u002fextra\\u003e\",\"legendgroup\":\"Kazakhstan\",\"marker\":{\"color\":\"#636efa\",\"symbol\":\"circle\"},\"mode\":\"lines\",\"name\":\"Kazakhstan\",\"showlegend\":false,\"x\":[1992,1993,1994,1995,1996,1997,1998,1999,2000,2001,2002,2003,2004,2005,2006,2007,2008,2009,2010,2011,2012,2013,2014,2015,2016,2017,2018,2019],\"xaxis\":\"x\",\"y\":[70.82572003387007,70.63441130066418,70.51644471071057,70.46235181912148,70.46542750462763,70.51649999128335,70.61303375268261,70.76587150792848,71.01794094863493,71.9342284513759,73.11817763958682,74.58081239781696,76.38659761815788,78.46563634896442,80.74645052800685,83.13676102233019,85.50225183882685,87.72215010995265,89.72315686530715,91.47288676715,92.46712410048131,93.44899316704337,94.42147486790721,95.35888003838335,96.24089062204969,97.05164021558824,97.78291470925525,98.43219317626846],\"yaxis\":\"y\",\"type\":\"scatter\"},{\"hovertemplate\":\"Country=Canada\\u003cbr\\u003ex=%{x}\\u003cbr\\u003ey=%{y}\\u003cextra\\u003e\\u003c\\u002fextra\\u003e\",\"legendgroup\":\"Canada\",\"marker\":{\"color\":\"#EF553B\",\"symbol\":\"circle\"},\"mode\":\"markers\",\"name\":\"Canada\",\"orientation\":\"v\",\"showlegend\":true,\"x\":[1948,1949,1950,1954,1956,1957,1958,1959,1960,1961,1962,1963,1965,1966,1967,1968,1969,1970,1971,1972,1973,1974,1975,1976,1977,1979,1978,1980,1981,1982,1983,1984,1985,1986,1987,1988,1989,1990,1991,1992,1993,1994,1995,1996,1997,1998,1999,2000,2001,2002,2003,2004,2005,2006,2007,2008,2009,2010,2011,2012,2013,2014,2015,2016,2017,2018,2019],\"xaxis\":\"x\",\"y\":[0.0,0.0,100.0,100.0,100.0,60.0,50.0,75.0,83.33333333333334,42.857142857142854,100.0,0.0,80.0,100.0,66.66666666666666,100.0,50.0,60.0,58.333333333333336,50.0,85.71428571428571,92.85714285714286,76.92307692307693,70.0,83.33333333333334,46.666666666666664,73.33333333333333,44.44444444444444,35.714285714285715,40.74074074074074,24.324324324324326,29.411764705882355,43.90243902439025,50.0,39.285714285714285,53.333333333333336,51.724137931034484,43.75,50.0,66.66666666666666,72.72727272727273,66.66666666666666,52.63157894736842,61.904761904761905,63.63636363636363,62.5,57.89473684210527,56.25,58.82352941176471,52.17391304347826,50.0,63.1578947368421,65.21739130434783,74.07407407407408,55.00000000000001,76.0,55.00000000000001,69.56521739130434,62.5,66.66666666666666,50.0,63.63636363636363,38.095238095238095,62.857142857142854,44.827586206896555,47.05882352941176,31.25],\"yaxis\":\"y\",\"type\":\"scatter\"},{\"hovertemplate\":\"\\u003cb\\u003eLOWESS trendline\\u003c\\u002fb\\u003e\\u003cbr\\u003e\\u003cbr\\u003eCountry=Canada\\u003cbr\\u003ex=%{x}\\u003cbr\\u003ey=%{y} \\u003cb\\u003e(trend)\\u003c\\u002fb\\u003e\\u003cextra\\u003e\\u003c\\u002fextra\\u003e\",\"legendgroup\":\"Canada\",\"marker\":{\"color\":\"#EF553B\",\"symbol\":\"circle\"},\"mode\":\"lines\",\"name\":\"Canada\",\"showlegend\":false,\"x\":[1948,1949,1950,1954,1956,1957,1958,1959,1960,1961,1962,1963,1965,1966,1967,1968,1969,1970,1971,1972,1973,1974,1975,1976,1977,1978,1979,1980,1981,1982,1983,1984,1985,1986,1987,1988,1989,1990,1991,1992,1993,1994,1995,1996,1997,1998,1999,2000,2001,2002,2003,2004,2005,2006,2007,2008,2009,2010,2011,2012,2013,2014,2015,2016,2017,2018,2019],\"xaxis\":\"x\",\"y\":[96.11481763962418,94.91075819989175,93.70757895085876,88.89194494588739,86.46814107121344,85.24652049990458,84.01507823913745,82.77202742684108,81.51678369912916,80.24943753356509,78.97052812082391,77.68161199507594,75.0806884333867,73.77363703646306,72.46676498761177,71.16424476164157,69.87185004781425,68.59690925998127,67.35014688325077,66.14477414845932,64.97902042355189,63.89618505013396,62.901191206787516,61.854549076095225,60.97255597816395,59.884177983752224,59.06688213164867,58.3338588278788,57.689559857501884,57.12361206079653,56.619418394065164,56.166528760345635,55.75569317409179,55.39257642161678,55.0851855272319,54.83750095664813,54.65293154646981,54.543547119250995,54.525209245543785,54.62147399355213,54.846226643563824,55.20184945263068,55.67269160313736,56.22616820734794,56.820160483868,57.40780316803489,57.619633482101804,57.708602293731865,57.72833725925589,57.706986233140924,57.65814123099637,57.5893074947428,57.50531812060528,57.40919797568861,57.302628318685755,57.18626008135312,57.06027834180578,56.924227581992966,56.777424312982234,56.61877357744738,56.44688654387754,56.260172108200365,56.057217472903815,55.83666016017464,55.597647910454675,55.33937375561023,55.06147583501008],\"yaxis\":\"y\",\"type\":\"scatter\"},{\"hovertemplate\":\"Country=China\\u003cbr\\u003ex=%{x}\\u003cbr\\u003ey=%{y}\\u003cextra\\u003e\\u003c\\u002fextra\\u003e\",\"legendgroup\":\"China\",\"marker\":{\"color\":\"#00cc96\",\"symbol\":\"circle\"},\"mode\":\"markers\",\"name\":\"China\",\"orientation\":\"v\",\"showlegend\":true,\"x\":[1971,1972,1973,1974,1975,1976,1977,1979,1978,1980,1981,1982,1983,1984,1985,1986,1987,1988,1989,1990,1991,1992,1993,1994,1995,1996,1997,1998,1999,2000,2001,2002,2003,2004,2005,2006,2007,2008,2009,2010,2011,2012,2013,2014,2015,2016,2017,2018,2019],\"xaxis\":\"x\",\"y\":[28.57142857142857,37.5,0.0,71.42857142857143,57.14285714285714,57.14285714285714,42.857142857142854,100.0,60.0,100.0,81.25,76.47058823529412,64.0,59.375,69.23076923076923,74.28571428571429,80.76923076923077,84.0,92.5925925925926,87.5,84.61538461538461,90.9090909090909,100.0,100.0,88.88888888888889,90.47619047619048,90.47619047619048,81.81818181818183,72.22222222222221,73.33333333333333,76.47058823529412,76.19047619047619,86.66666666666667,90.0,90.47619047619048,88.88888888888889,89.47368421052632,79.16666666666666,78.94736842105263,86.95652173913044,77.27272727272727,68.18181818181817,72.22222222222221,81.81818181818183,66.66666666666666,65.71428571428571,66.66666666666666,70.58823529411765,68.75],\"yaxis\":\"y\",\"type\":\"scatter\"},{\"hovertemplate\":\"\\u003cb\\u003eLOWESS trendline\\u003c\\u002fb\\u003e\\u003cbr\\u003e\\u003cbr\\u003eCountry=China\\u003cbr\\u003ex=%{x}\\u003cbr\\u003ey=%{y} \\u003cb\\u003e(trend)\\u003c\\u002fb\\u003e\\u003cextra\\u003e\\u003c\\u002fextra\\u003e\",\"legendgroup\":\"China\",\"marker\":{\"color\":\"#00cc96\",\"symbol\":\"circle\"},\"mode\":\"lines\",\"name\":\"China\",\"showlegend\":false,\"x\":[1971,1972,1973,1974,1975,1976,1977,1978,1979,1980,1981,1982,1983,1984,1985,1986,1987,1988,1989,1990,1991,1992,1993,1994,1995,1996,1997,1998,1999,2000,2001,2002,2003,2004,2005,2006,2007,2008,2009,2010,2011,2012,2013,2014,2015,2016,2017,2018,2019],\"xaxis\":\"x\",\"y\":[41.7483291414538,44.138874769832825,46.516156999092885,48.88391602828301,51.24604125992827,53.60440013786002,55.959151544365305,58.309671551044886,60.65639055085078,62.999579135951535,65.33889317274443,67.67242640870744,69.99326224983086,72.28495410719026,74.51242558898421,76.60501486302505,78.19628236872427,79.57012243504504,80.74578834658621,81.72031235027298,82.49503454783037,83.11438028208205,83.64673079869415,84.14351353869824,84.61414357764728,85.02974209200111,85.33367319594144,85.46208944114808,85.37843100188442,85.09067603795859,84.62159896432325,84.00012283106732,83.26229929556223,82.44979854896407,81.52597078025128,80.61686403456576,79.73317399363195,78.86726349489793,78.00980833971558,77.1536136954071,76.29313453650757,75.42342282583213,74.54078180900345,73.64323152650796,72.72957498633981,71.7984785953697,70.84963896488915,69.88394884254876,68.90300641259357],\"yaxis\":\"y\",\"type\":\"scatter\"}],                        {\"template\":{\"data\":{\"histogram2dcontour\":[{\"type\":\"histogram2dcontour\",\"colorbar\":{\"outlinewidth\":0,\"ticks\":\"\"},\"colorscale\":[[0.0,\"#0d0887\"],[0.1111111111111111,\"#46039f\"],[0.2222222222222222,\"#7201a8\"],[0.3333333333333333,\"#9c179e\"],[0.4444444444444444,\"#bd3786\"],[0.5555555555555556,\"#d8576b\"],[0.6666666666666666,\"#ed7953\"],[0.7777777777777778,\"#fb9f3a\"],[0.8888888888888888,\"#fdca26\"],[1.0,\"#f0f921\"]]}],\"choropleth\":[{\"type\":\"choropleth\",\"colorbar\":{\"outlinewidth\":0,\"ticks\":\"\"}}],\"histogram2d\":[{\"type\":\"histogram2d\",\"colorbar\":{\"outlinewidth\":0,\"ticks\":\"\"},\"colorscale\":[[0.0,\"#0d0887\"],[0.1111111111111111,\"#46039f\"],[0.2222222222222222,\"#7201a8\"],[0.3333333333333333,\"#9c179e\"],[0.4444444444444444,\"#bd3786\"],[0.5555555555555556,\"#d8576b\"],[0.6666666666666666,\"#ed7953\"],[0.7777777777777778,\"#fb9f3a\"],[0.8888888888888888,\"#fdca26\"],[1.0,\"#f0f921\"]]}],\"heatmap\":[{\"type\":\"heatmap\",\"colorbar\":{\"outlinewidth\":0,\"ticks\":\"\"},\"colorscale\":[[0.0,\"#0d0887\"],[0.1111111111111111,\"#46039f\"],[0.2222222222222222,\"#7201a8\"],[0.3333333333333333,\"#9c179e\"],[0.4444444444444444,\"#bd3786\"],[0.5555555555555556,\"#d8576b\"],[0.6666666666666666,\"#ed7953\"],[0.7777777777777778,\"#fb9f3a\"],[0.8888888888888888,\"#fdca26\"],[1.0,\"#f0f921\"]]}],\"heatmapgl\":[{\"type\":\"heatmapgl\",\"colorbar\":{\"outlinewidth\":0,\"ticks\":\"\"},\"colorscale\":[[0.0,\"#0d0887\"],[0.1111111111111111,\"#46039f\"],[0.2222222222222222,\"#7201a8\"],[0.3333333333333333,\"#9c179e\"],[0.4444444444444444,\"#bd3786\"],[0.5555555555555556,\"#d8576b\"],[0.6666666666666666,\"#ed7953\"],[0.7777777777777778,\"#fb9f3a\"],[0.8888888888888888,\"#fdca26\"],[1.0,\"#f0f921\"]]}],\"contourcarpet\":[{\"type\":\"contourcarpet\",\"colorbar\":{\"outlinewidth\":0,\"ticks\":\"\"}}],\"contour\":[{\"type\":\"contour\",\"colorbar\":{\"outlinewidth\":0,\"ticks\":\"\"},\"colorscale\":[[0.0,\"#0d0887\"],[0.1111111111111111,\"#46039f\"],[0.2222222222222222,\"#7201a8\"],[0.3333333333333333,\"#9c179e\"],[0.4444444444444444,\"#bd3786\"],[0.5555555555555556,\"#d8576b\"],[0.6666666666666666,\"#ed7953\"],[0.7777777777777778,\"#fb9f3a\"],[0.8888888888888888,\"#fdca26\"],[1.0,\"#f0f921\"]]}],\"surface\":[{\"type\":\"surface\",\"colorbar\":{\"outlinewidth\":0,\"ticks\":\"\"},\"colorscale\":[[0.0,\"#0d0887\"],[0.1111111111111111,\"#46039f\"],[0.2222222222222222,\"#7201a8\"],[0.3333333333333333,\"#9c179e\"],[0.4444444444444444,\"#bd3786\"],[0.5555555555555556,\"#d8576b\"],[0.6666666666666666,\"#ed7953\"],[0.7777777777777778,\"#fb9f3a\"],[0.8888888888888888,\"#fdca26\"],[1.0,\"#f0f921\"]]}],\"mesh3d\":[{\"type\":\"mesh3d\",\"colorbar\":{\"outlinewidth\":0,\"ticks\":\"\"}}],\"scatter\":[{\"fillpattern\":{\"fillmode\":\"overlay\",\"size\":10,\"solidity\":0.2},\"type\":\"scatter\"}],\"parcoords\":[{\"type\":\"parcoords\",\"line\":{\"colorbar\":{\"outlinewidth\":0,\"ticks\":\"\"}}}],\"scatterpolargl\":[{\"type\":\"scatterpolargl\",\"marker\":{\"colorbar\":{\"outlinewidth\":0,\"ticks\":\"\"}}}],\"bar\":[{\"error_x\":{\"color\":\"#2a3f5f\"},\"error_y\":{\"color\":\"#2a3f5f\"},\"marker\":{\"line\":{\"color\":\"#E5ECF6\",\"width\":0.5},\"pattern\":{\"fillmode\":\"overlay\",\"size\":10,\"solidity\":0.2}},\"type\":\"bar\"}],\"scattergeo\":[{\"type\":\"scattergeo\",\"marker\":{\"colorbar\":{\"outlinewidth\":0,\"ticks\":\"\"}}}],\"scatterpolar\":[{\"type\":\"scatterpolar\",\"marker\":{\"colorbar\":{\"outlinewidth\":0,\"ticks\":\"\"}}}],\"histogram\":[{\"marker\":{\"pattern\":{\"fillmode\":\"overlay\",\"size\":10,\"solidity\":0.2}},\"type\":\"histogram\"}],\"scattergl\":[{\"type\":\"scattergl\",\"marker\":{\"colorbar\":{\"outlinewidth\":0,\"ticks\":\"\"}}}],\"scatter3d\":[{\"type\":\"scatter3d\",\"line\":{\"colorbar\":{\"outlinewidth\":0,\"ticks\":\"\"}},\"marker\":{\"colorbar\":{\"outlinewidth\":0,\"ticks\":\"\"}}}],\"scattermapbox\":[{\"type\":\"scattermapbox\",\"marker\":{\"colorbar\":{\"outlinewidth\":0,\"ticks\":\"\"}}}],\"scatterternary\":[{\"type\":\"scatterternary\",\"marker\":{\"colorbar\":{\"outlinewidth\":0,\"ticks\":\"\"}}}],\"scattercarpet\":[{\"type\":\"scattercarpet\",\"marker\":{\"colorbar\":{\"outlinewidth\":0,\"ticks\":\"\"}}}],\"carpet\":[{\"aaxis\":{\"endlinecolor\":\"#2a3f5f\",\"gridcolor\":\"white\",\"linecolor\":\"white\",\"minorgridcolor\":\"white\",\"startlinecolor\":\"#2a3f5f\"},\"baxis\":{\"endlinecolor\":\"#2a3f5f\",\"gridcolor\":\"white\",\"linecolor\":\"white\",\"minorgridcolor\":\"white\",\"startlinecolor\":\"#2a3f5f\"},\"type\":\"carpet\"}],\"table\":[{\"cells\":{\"fill\":{\"color\":\"#EBF0F8\"},\"line\":{\"color\":\"white\"}},\"header\":{\"fill\":{\"color\":\"#C8D4E3\"},\"line\":{\"color\":\"white\"}},\"type\":\"table\"}],\"barpolar\":[{\"marker\":{\"line\":{\"color\":\"#E5ECF6\",\"width\":0.5},\"pattern\":{\"fillmode\":\"overlay\",\"size\":10,\"solidity\":0.2}},\"type\":\"barpolar\"}],\"pie\":[{\"automargin\":true,\"type\":\"pie\"}]},\"layout\":{\"autotypenumbers\":\"strict\",\"colorway\":[\"#636efa\",\"#EF553B\",\"#00cc96\",\"#ab63fa\",\"#FFA15A\",\"#19d3f3\",\"#FF6692\",\"#B6E880\",\"#FF97FF\",\"#FECB52\"],\"font\":{\"color\":\"#2a3f5f\"},\"hovermode\":\"closest\",\"hoverlabel\":{\"align\":\"left\"},\"paper_bgcolor\":\"white\",\"plot_bgcolor\":\"#E5ECF6\",\"polar\":{\"bgcolor\":\"#E5ECF6\",\"angularaxis\":{\"gridcolor\":\"white\",\"linecolor\":\"white\",\"ticks\":\"\"},\"radialaxis\":{\"gridcolor\":\"white\",\"linecolor\":\"white\",\"ticks\":\"\"}},\"ternary\":{\"bgcolor\":\"#E5ECF6\",\"aaxis\":{\"gridcolor\":\"white\",\"linecolor\":\"white\",\"ticks\":\"\"},\"baxis\":{\"gridcolor\":\"white\",\"linecolor\":\"white\",\"ticks\":\"\"},\"caxis\":{\"gridcolor\":\"white\",\"linecolor\":\"white\",\"ticks\":\"\"}},\"coloraxis\":{\"colorbar\":{\"outlinewidth\":0,\"ticks\":\"\"}},\"colorscale\":{\"sequential\":[[0.0,\"#0d0887\"],[0.1111111111111111,\"#46039f\"],[0.2222222222222222,\"#7201a8\"],[0.3333333333333333,\"#9c179e\"],[0.4444444444444444,\"#bd3786\"],[0.5555555555555556,\"#d8576b\"],[0.6666666666666666,\"#ed7953\"],[0.7777777777777778,\"#fb9f3a\"],[0.8888888888888888,\"#fdca26\"],[1.0,\"#f0f921\"]],\"sequentialminus\":[[0.0,\"#0d0887\"],[0.1111111111111111,\"#46039f\"],[0.2222222222222222,\"#7201a8\"],[0.3333333333333333,\"#9c179e\"],[0.4444444444444444,\"#bd3786\"],[0.5555555555555556,\"#d8576b\"],[0.6666666666666666,\"#ed7953\"],[0.7777777777777778,\"#fb9f3a\"],[0.8888888888888888,\"#fdca26\"],[1.0,\"#f0f921\"]],\"diverging\":[[0,\"#8e0152\"],[0.1,\"#c51b7d\"],[0.2,\"#de77ae\"],[0.3,\"#f1b6da\"],[0.4,\"#fde0ef\"],[0.5,\"#f7f7f7\"],[0.6,\"#e6f5d0\"],[0.7,\"#b8e186\"],[0.8,\"#7fbc41\"],[0.9,\"#4d9221\"],[1,\"#276419\"]]},\"xaxis\":{\"gridcolor\":\"white\",\"linecolor\":\"white\",\"ticks\":\"\",\"title\":{\"standoff\":15},\"zerolinecolor\":\"white\",\"automargin\":true,\"zerolinewidth\":2},\"yaxis\":{\"gridcolor\":\"white\",\"linecolor\":\"white\",\"ticks\":\"\",\"title\":{\"standoff\":15},\"zerolinecolor\":\"white\",\"automargin\":true,\"zerolinewidth\":2},\"scene\":{\"xaxis\":{\"backgroundcolor\":\"#E5ECF6\",\"gridcolor\":\"white\",\"linecolor\":\"white\",\"showbackground\":true,\"ticks\":\"\",\"zerolinecolor\":\"white\",\"gridwidth\":2},\"yaxis\":{\"backgroundcolor\":\"#E5ECF6\",\"gridcolor\":\"white\",\"linecolor\":\"white\",\"showbackground\":true,\"ticks\":\"\",\"zerolinecolor\":\"white\",\"gridwidth\":2},\"zaxis\":{\"backgroundcolor\":\"#E5ECF6\",\"gridcolor\":\"white\",\"linecolor\":\"white\",\"showbackground\":true,\"ticks\":\"\",\"zerolinecolor\":\"white\",\"gridwidth\":2}},\"shapedefaults\":{\"line\":{\"color\":\"#2a3f5f\"}},\"annotationdefaults\":{\"arrowcolor\":\"#2a3f5f\",\"arrowhead\":0,\"arrowwidth\":1},\"geo\":{\"bgcolor\":\"white\",\"landcolor\":\"#E5ECF6\",\"subunitcolor\":\"white\",\"showland\":true,\"showlakes\":true,\"lakecolor\":\"white\"},\"title\":{\"x\":0.05},\"mapbox\":{\"style\":\"light\"}}},\"xaxis\":{\"anchor\":\"y\",\"domain\":[0.0,1.0],\"title\":{\"text\":\"Year\"}},\"yaxis\":{\"anchor\":\"x\",\"domain\":[0.0,1.0],\"title\":{\"text\":\"% Yes\"}},\"legend\":{\"title\":{\"text\":\"Country\"},\"tracegroupgap\":0},\"margin\":{\"t\":60},\"title\":{\"text\":\"Arms control and disarmament\\u003cbr\\u003e\",\"y\":0.9,\"x\":0.5,\"xanchor\":\"center\",\"yanchor\":\"top\"}},                        {\"responsive\": true}                    ).then(function(){\n",
       "                            \n",
       "var gd = document.getElementById('f588d2ec-8aaa-44b4-99d9-692a7937742f');\n",
       "var x = new MutationObserver(function (mutations, observer) {{\n",
       "        var display = window.getComputedStyle(gd).display;\n",
       "        if (!display || display === 'none') {{\n",
       "            console.log([gd, 'removed!']);\n",
       "            Plotly.purge(gd);\n",
       "            observer.disconnect();\n",
       "        }}\n",
       "}});\n",
       "\n",
       "// Listen for the removal of the full notebook cells\n",
       "var notebookContainer = gd.closest('#notebook-container');\n",
       "if (notebookContainer) {{\n",
       "    x.observe(notebookContainer, {childList: true});\n",
       "}}\n",
       "\n",
       "// Listen for the clearing of the current output cell\n",
       "var outputEl = gd.closest('.output');\n",
       "if (outputEl) {{\n",
       "    x.observe(outputEl, {childList: true});\n",
       "}}\n",
       "\n",
       "                        })                };                });            </script>        </div>"
      ]
     },
     "metadata": {},
     "output_type": "display_data"
    },
    {
     "data": {
      "application/vnd.plotly.v1+json": {
       "config": {
        "plotlyServerURL": "https://plot.ly"
       },
       "data": [
        {
         "hovertemplate": "Country=Kazakhstan<br>x=%{x}<br>y=%{y}<extra></extra>",
         "legendgroup": "Kazakhstan",
         "marker": {
          "color": "#636efa",
          "symbol": "circle"
         },
         "mode": "markers",
         "name": "Kazakhstan",
         "orientation": "v",
         "showlegend": true,
         "type": "scatter",
         "x": [
          1992,
          1993,
          1994,
          1995,
          1996,
          1997,
          1998,
          1999,
          2000,
          2001,
          2002,
          2003,
          2004,
          2005,
          2006,
          2007,
          2008,
          2009,
          2010,
          2011,
          2012,
          2013,
          2014,
          2015,
          2016,
          2017,
          2018,
          2019
         ],
         "xaxis": "x",
         "y": [
          77.77777777777779,
          80,
          50,
          72.72727272727273,
          58.333333333333336,
          69.23076923076923,
          63.1578947368421,
          61.53846153846154,
          71.42857142857143,
          71.42857142857143,
          75,
          73.33333333333333,
          75,
          75,
          73.33333333333333,
          73.33333333333333,
          73.33333333333333,
          78.94736842105263,
          100,
          100,
          90.47619047619048,
          100,
          100,
          100,
          100,
          100,
          100,
          100
         ],
         "yaxis": "y"
        },
        {
         "hovertemplate": "<b>LOWESS trendline</b><br><br>Country=Kazakhstan<br>x=%{x}<br>y=%{y} <b>(trend)</b><extra></extra>",
         "legendgroup": "Kazakhstan",
         "marker": {
          "color": "#636efa",
          "symbol": "circle"
         },
         "mode": "lines",
         "name": "Kazakhstan",
         "showlegend": false,
         "type": "scatter",
         "x": [
          1992,
          1993,
          1994,
          1995,
          1996,
          1997,
          1998,
          1999,
          2000,
          2001,
          2002,
          2003,
          2004,
          2005,
          2006,
          2007,
          2008,
          2009,
          2010,
          2011,
          2012,
          2013,
          2014,
          2015,
          2016,
          2017,
          2018,
          2019
         ],
         "xaxis": "x",
         "y": [
          71.29055545511136,
          70.92866072478128,
          70.65605466736683,
          70.45358242070198,
          70.29804816817015,
          70.15914383033329,
          70.01014026608172,
          69.83619022740332,
          69.77623766336735,
          70.4137571347544,
          71.28899328358571,
          72.43132721610513,
          73.9673541862211,
          75.85428762354906,
          78.01756517481793,
          80.31044252042744,
          82.6228467159242,
          84.93526294972973,
          87.25808612746869,
          89.6232798016179,
          91.67728184696287,
          93.70007701536181,
          95.70286463182879,
          97.66370264161577,
          99.56484544102003,
          101.39325981518576,
          103.1408175495906,
          104.80528404104294
         ],
         "yaxis": "y"
        },
        {
         "hovertemplate": "Country=Canada<br>x=%{x}<br>y=%{y}<extra></extra>",
         "legendgroup": "Canada",
         "marker": {
          "color": "#EF553B",
          "symbol": "circle"
         },
         "mode": "markers",
         "name": "Canada",
         "orientation": "v",
         "showlegend": true,
         "type": "scatter",
         "x": [
          1948,
          1949,
          1957,
          1958,
          1959,
          1960,
          1961,
          1962,
          1963,
          1965,
          1966,
          1967,
          1968,
          1969,
          1970,
          1971,
          1972,
          1973,
          1974,
          1975,
          1976,
          1977,
          1979,
          1978,
          1980,
          1981,
          1982,
          1983,
          1984,
          1985,
          1986,
          1987,
          1988,
          1989,
          1990,
          1991,
          1992,
          1993,
          1994,
          1995,
          1996,
          1997,
          1998,
          1999,
          2000,
          2001,
          2002,
          2003,
          2004,
          2005,
          2006,
          2007,
          2008,
          2009,
          2010,
          2011,
          2012,
          2013,
          2014,
          2015,
          2016,
          2017,
          2018,
          2019
         ],
         "xaxis": "x",
         "y": [
          0,
          0,
          66.66666666666666,
          50,
          88.88888888888889,
          100,
          37.5,
          100,
          50,
          100,
          100,
          66.66666666666666,
          80,
          100,
          100,
          40,
          75,
          100,
          91.66666666666666,
          83.33333333333334,
          80,
          80,
          38.88888888888889,
          73.33333333333333,
          29.411764705882355,
          15.789473684210526,
          26.923076923076923,
          31.25,
          32,
          32,
          37.5,
          40,
          38.095238095238095,
          40,
          47.05882352941176,
          36.36363636363637,
          40,
          40,
          40,
          45.45454545454545,
          41.66666666666667,
          61.53846153846154,
          52.63157894736842,
          50,
          57.14285714285714,
          57.14285714285714,
          55.00000000000001,
          46.666666666666664,
          66.66666666666666,
          56.25,
          56.25,
          46.666666666666664,
          46.666666666666664,
          57.89473684210527,
          66.66666666666666,
          57.89473684210527,
          66.66666666666666,
          33.33333333333333,
          50,
          26.31578947368421,
          50,
          26.923076923076923,
          31.25,
          29.411764705882355
         ],
         "yaxis": "y"
        },
        {
         "hovertemplate": "<b>LOWESS trendline</b><br><br>Country=Canada<br>x=%{x}<br>y=%{y} <b>(trend)</b><extra></extra>",
         "legendgroup": "Canada",
         "marker": {
          "color": "#EF553B",
          "symbol": "circle"
         },
         "mode": "lines",
         "name": "Canada",
         "showlegend": false,
         "type": "scatter",
         "x": [
          1948,
          1949,
          1957,
          1958,
          1959,
          1960,
          1961,
          1962,
          1963,
          1965,
          1966,
          1967,
          1968,
          1969,
          1970,
          1971,
          1972,
          1973,
          1974,
          1975,
          1976,
          1977,
          1978,
          1979,
          1980,
          1981,
          1982,
          1983,
          1984,
          1985,
          1986,
          1987,
          1988,
          1989,
          1990,
          1991,
          1992,
          1993,
          1994,
          1995,
          1996,
          1997,
          1998,
          1999,
          2000,
          2001,
          2002,
          2003,
          2004,
          2005,
          2006,
          2007,
          2008,
          2009,
          2010,
          2011,
          2012,
          2013,
          2014,
          2015,
          2016,
          2017,
          2018,
          2019
         ],
         "xaxis": "x",
         "y": [
          95.50854274741704,
          94.73615383035752,
          87.55796690026239,
          86.50309622662678,
          85.40643643330658,
          84.26897345754278,
          83.09193196234017,
          81.87633379135791,
          80.62459526974398,
          78.0252869909863,
          76.68735227080163,
          75.33060821341246,
          73.95970880829793,
          72.58026649238808,
          71.19851354250407,
          69.82019934385656,
          68.45030342783096,
          66.87852301862965,
          65.3453277421614,
          63.993680534958415,
          62.62894853466572,
          61.173412635482464,
          59.4924827842846,
          57.76413487193003,
          56.0737300493476,
          54.433475155469246,
          52.85686795176068,
          51.36637460792246,
          49.976476431956385,
          48.71185762222317,
          47.59287357369874,
          46.633822817726,
          45.848243680671935,
          45.250891421538675,
          44.84924422558697,
          44.649648778855756,
          44.663328601056314,
          44.902338867143094,
          45.344414182321536,
          45.94538694224995,
          46.64597540903122,
          47.38333061590417,
          48.092538211950306,
          48.7146596106869,
          48.82107226985702,
          48.784757481898495,
          48.68738208763239,
          48.56347783524643,
          48.42538114910964,
          48.27735454517625,
          48.12014880579132,
          47.95315436779556,
          47.775215963804534,
          47.585150282158864,
          47.38171784022726,
          47.16319769507245,
          46.92721593018559,
          46.670967691159355,
          46.39135716383657,
          46.08590881736411,
          45.75257969526668,
          45.39018130934508,
          44.997855798096126,
          44.57567816350267
         ],
         "yaxis": "y"
        },
        {
         "hovertemplate": "Country=China<br>x=%{x}<br>y=%{y}<extra></extra>",
         "legendgroup": "China",
         "marker": {
          "color": "#00cc96",
          "symbol": "circle"
         },
         "mode": "markers",
         "name": "China",
         "orientation": "v",
         "showlegend": true,
         "type": "scatter",
         "x": [
          1971,
          1972,
          1973,
          1974,
          1975,
          1976,
          1977,
          1979,
          1978,
          1980,
          1981,
          1982,
          1983,
          1984,
          1985,
          1986,
          1987,
          1988,
          1989,
          1990,
          1991,
          1992,
          1993,
          1994,
          1995,
          1996,
          1997,
          1998,
          1999,
          2000,
          2001,
          2002,
          2003,
          2004,
          2005,
          2006,
          2007,
          2008,
          2009,
          2010,
          2011,
          2012,
          2013,
          2014,
          2015,
          2016,
          2017,
          2018,
          2019
         ],
         "xaxis": "x",
         "y": [
          0,
          0,
          25,
          66.66666666666666,
          66.66666666666666,
          50,
          75,
          91.66666666666666,
          62.5,
          84.61538461538461,
          91.66666666666666,
          72.22222222222221,
          64,
          62.5,
          60.86956521739131,
          65.21739130434783,
          63.1578947368421,
          76.47058823529412,
          84.21052631578947,
          81.25,
          80,
          77.77777777777779,
          100,
          100,
          80,
          91.66666666666666,
          100,
          82.35294117647058,
          71.42857142857143,
          76.92307692307693,
          78.57142857142857,
          77.77777777777779,
          85.71428571428571,
          87.5,
          80,
          87.5,
          80,
          75,
          83.33333333333334,
          90.47619047619048,
          64.70588235294117,
          70,
          58.333333333333336,
          71.42857142857143,
          52.63157894736842,
          62.5,
          45.83333333333333,
          62.5,
          52.94117647058824
         ],
         "yaxis": "y"
        },
        {
         "hovertemplate": "<b>LOWESS trendline</b><br><br>Country=China<br>x=%{x}<br>y=%{y} <b>(trend)</b><extra></extra>",
         "legendgroup": "China",
         "marker": {
          "color": "#00cc96",
          "symbol": "circle"
         },
         "mode": "lines",
         "name": "China",
         "showlegend": false,
         "type": "scatter",
         "x": [
          1971,
          1972,
          1973,
          1974,
          1975,
          1976,
          1977,
          1978,
          1979,
          1980,
          1981,
          1982,
          1983,
          1984,
          1985,
          1986,
          1987,
          1988,
          1989,
          1990,
          1991,
          1992,
          1993,
          1994,
          1995,
          1996,
          1997,
          1998,
          1999,
          2000,
          2001,
          2002,
          2003,
          2004,
          2005,
          2006,
          2007,
          2008,
          2009,
          2010,
          2011,
          2012,
          2013,
          2014,
          2015,
          2016,
          2017,
          2018,
          2019
         ],
         "xaxis": "x",
         "y": [
          59.81647635882092,
          60.73903999648773,
          61.66179557450073,
          62.58627948459595,
          63.51572507352428,
          64.45312546180762,
          65.40155693202856,
          66.36646513120546,
          67.35284896590396,
          68.365738471632,
          69.40784130901626,
          70.47763351626962,
          71.5678144654212,
          72.6646461014099,
          73.74665777925082,
          74.780119919861,
          75.73322847737077,
          76.55152104412211,
          77.25452365401385,
          77.88031731538128,
          78.45827834355921,
          79.02496967349137,
          79.61249253768884,
          80.22198601020823,
          80.84883976745856,
          81.46207991467422,
          81.99251105843545,
          82.36026827113679,
          82.5021924701368,
          82.39247548699792,
          82.0243087305857,
          81.41057888660303,
          80.57423538235439,
          79.5528359353367,
          78.09184251677306,
          76.61002597258009,
          75.138835085807,
          73.67649795886547,
          72.21613437723788,
          70.75156090845672,
          69.27678302349585,
          67.78610064271861,
          66.27549454097914,
          64.74209981975751,
          63.184361548802904,
          61.60099200496575,
          59.99199405720335,
          58.35810184845029,
          56.7013990859974
         ],
         "yaxis": "y"
        }
       ],
       "layout": {
        "autosize": true,
        "legend": {
         "title": {
          "text": "Country"
         },
         "tracegroupgap": 0
        },
        "margin": {
         "t": 60
        },
        "template": {
         "data": {
          "bar": [
           {
            "error_x": {
             "color": "#2a3f5f"
            },
            "error_y": {
             "color": "#2a3f5f"
            },
            "marker": {
             "line": {
              "color": "#E5ECF6",
              "width": 0.5
             },
             "pattern": {
              "fillmode": "overlay",
              "size": 10,
              "solidity": 0.2
             }
            },
            "type": "bar"
           }
          ],
          "barpolar": [
           {
            "marker": {
             "line": {
              "color": "#E5ECF6",
              "width": 0.5
             },
             "pattern": {
              "fillmode": "overlay",
              "size": 10,
              "solidity": 0.2
             }
            },
            "type": "barpolar"
           }
          ],
          "carpet": [
           {
            "aaxis": {
             "endlinecolor": "#2a3f5f",
             "gridcolor": "white",
             "linecolor": "white",
             "minorgridcolor": "white",
             "startlinecolor": "#2a3f5f"
            },
            "baxis": {
             "endlinecolor": "#2a3f5f",
             "gridcolor": "white",
             "linecolor": "white",
             "minorgridcolor": "white",
             "startlinecolor": "#2a3f5f"
            },
            "type": "carpet"
           }
          ],
          "choropleth": [
           {
            "colorbar": {
             "outlinewidth": 0,
             "ticks": ""
            },
            "type": "choropleth"
           }
          ],
          "contour": [
           {
            "colorbar": {
             "outlinewidth": 0,
             "ticks": ""
            },
            "colorscale": [
             [
              0,
              "#0d0887"
             ],
             [
              0.1111111111111111,
              "#46039f"
             ],
             [
              0.2222222222222222,
              "#7201a8"
             ],
             [
              0.3333333333333333,
              "#9c179e"
             ],
             [
              0.4444444444444444,
              "#bd3786"
             ],
             [
              0.5555555555555556,
              "#d8576b"
             ],
             [
              0.6666666666666666,
              "#ed7953"
             ],
             [
              0.7777777777777778,
              "#fb9f3a"
             ],
             [
              0.8888888888888888,
              "#fdca26"
             ],
             [
              1,
              "#f0f921"
             ]
            ],
            "type": "contour"
           }
          ],
          "contourcarpet": [
           {
            "colorbar": {
             "outlinewidth": 0,
             "ticks": ""
            },
            "type": "contourcarpet"
           }
          ],
          "heatmap": [
           {
            "colorbar": {
             "outlinewidth": 0,
             "ticks": ""
            },
            "colorscale": [
             [
              0,
              "#0d0887"
             ],
             [
              0.1111111111111111,
              "#46039f"
             ],
             [
              0.2222222222222222,
              "#7201a8"
             ],
             [
              0.3333333333333333,
              "#9c179e"
             ],
             [
              0.4444444444444444,
              "#bd3786"
             ],
             [
              0.5555555555555556,
              "#d8576b"
             ],
             [
              0.6666666666666666,
              "#ed7953"
             ],
             [
              0.7777777777777778,
              "#fb9f3a"
             ],
             [
              0.8888888888888888,
              "#fdca26"
             ],
             [
              1,
              "#f0f921"
             ]
            ],
            "type": "heatmap"
           }
          ],
          "heatmapgl": [
           {
            "colorbar": {
             "outlinewidth": 0,
             "ticks": ""
            },
            "colorscale": [
             [
              0,
              "#0d0887"
             ],
             [
              0.1111111111111111,
              "#46039f"
             ],
             [
              0.2222222222222222,
              "#7201a8"
             ],
             [
              0.3333333333333333,
              "#9c179e"
             ],
             [
              0.4444444444444444,
              "#bd3786"
             ],
             [
              0.5555555555555556,
              "#d8576b"
             ],
             [
              0.6666666666666666,
              "#ed7953"
             ],
             [
              0.7777777777777778,
              "#fb9f3a"
             ],
             [
              0.8888888888888888,
              "#fdca26"
             ],
             [
              1,
              "#f0f921"
             ]
            ],
            "type": "heatmapgl"
           }
          ],
          "histogram": [
           {
            "marker": {
             "pattern": {
              "fillmode": "overlay",
              "size": 10,
              "solidity": 0.2
             }
            },
            "type": "histogram"
           }
          ],
          "histogram2d": [
           {
            "colorbar": {
             "outlinewidth": 0,
             "ticks": ""
            },
            "colorscale": [
             [
              0,
              "#0d0887"
             ],
             [
              0.1111111111111111,
              "#46039f"
             ],
             [
              0.2222222222222222,
              "#7201a8"
             ],
             [
              0.3333333333333333,
              "#9c179e"
             ],
             [
              0.4444444444444444,
              "#bd3786"
             ],
             [
              0.5555555555555556,
              "#d8576b"
             ],
             [
              0.6666666666666666,
              "#ed7953"
             ],
             [
              0.7777777777777778,
              "#fb9f3a"
             ],
             [
              0.8888888888888888,
              "#fdca26"
             ],
             [
              1,
              "#f0f921"
             ]
            ],
            "type": "histogram2d"
           }
          ],
          "histogram2dcontour": [
           {
            "colorbar": {
             "outlinewidth": 0,
             "ticks": ""
            },
            "colorscale": [
             [
              0,
              "#0d0887"
             ],
             [
              0.1111111111111111,
              "#46039f"
             ],
             [
              0.2222222222222222,
              "#7201a8"
             ],
             [
              0.3333333333333333,
              "#9c179e"
             ],
             [
              0.4444444444444444,
              "#bd3786"
             ],
             [
              0.5555555555555556,
              "#d8576b"
             ],
             [
              0.6666666666666666,
              "#ed7953"
             ],
             [
              0.7777777777777778,
              "#fb9f3a"
             ],
             [
              0.8888888888888888,
              "#fdca26"
             ],
             [
              1,
              "#f0f921"
             ]
            ],
            "type": "histogram2dcontour"
           }
          ],
          "mesh3d": [
           {
            "colorbar": {
             "outlinewidth": 0,
             "ticks": ""
            },
            "type": "mesh3d"
           }
          ],
          "parcoords": [
           {
            "line": {
             "colorbar": {
              "outlinewidth": 0,
              "ticks": ""
             }
            },
            "type": "parcoords"
           }
          ],
          "pie": [
           {
            "automargin": true,
            "type": "pie"
           }
          ],
          "scatter": [
           {
            "fillpattern": {
             "fillmode": "overlay",
             "size": 10,
             "solidity": 0.2
            },
            "type": "scatter"
           }
          ],
          "scatter3d": [
           {
            "line": {
             "colorbar": {
              "outlinewidth": 0,
              "ticks": ""
             }
            },
            "marker": {
             "colorbar": {
              "outlinewidth": 0,
              "ticks": ""
             }
            },
            "type": "scatter3d"
           }
          ],
          "scattercarpet": [
           {
            "marker": {
             "colorbar": {
              "outlinewidth": 0,
              "ticks": ""
             }
            },
            "type": "scattercarpet"
           }
          ],
          "scattergeo": [
           {
            "marker": {
             "colorbar": {
              "outlinewidth": 0,
              "ticks": ""
             }
            },
            "type": "scattergeo"
           }
          ],
          "scattergl": [
           {
            "marker": {
             "colorbar": {
              "outlinewidth": 0,
              "ticks": ""
             }
            },
            "type": "scattergl"
           }
          ],
          "scattermapbox": [
           {
            "marker": {
             "colorbar": {
              "outlinewidth": 0,
              "ticks": ""
             }
            },
            "type": "scattermapbox"
           }
          ],
          "scatterpolar": [
           {
            "marker": {
             "colorbar": {
              "outlinewidth": 0,
              "ticks": ""
             }
            },
            "type": "scatterpolar"
           }
          ],
          "scatterpolargl": [
           {
            "marker": {
             "colorbar": {
              "outlinewidth": 0,
              "ticks": ""
             }
            },
            "type": "scatterpolargl"
           }
          ],
          "scatterternary": [
           {
            "marker": {
             "colorbar": {
              "outlinewidth": 0,
              "ticks": ""
             }
            },
            "type": "scatterternary"
           }
          ],
          "surface": [
           {
            "colorbar": {
             "outlinewidth": 0,
             "ticks": ""
            },
            "colorscale": [
             [
              0,
              "#0d0887"
             ],
             [
              0.1111111111111111,
              "#46039f"
             ],
             [
              0.2222222222222222,
              "#7201a8"
             ],
             [
              0.3333333333333333,
              "#9c179e"
             ],
             [
              0.4444444444444444,
              "#bd3786"
             ],
             [
              0.5555555555555556,
              "#d8576b"
             ],
             [
              0.6666666666666666,
              "#ed7953"
             ],
             [
              0.7777777777777778,
              "#fb9f3a"
             ],
             [
              0.8888888888888888,
              "#fdca26"
             ],
             [
              1,
              "#f0f921"
             ]
            ],
            "type": "surface"
           }
          ],
          "table": [
           {
            "cells": {
             "fill": {
              "color": "#EBF0F8"
             },
             "line": {
              "color": "white"
             }
            },
            "header": {
             "fill": {
              "color": "#C8D4E3"
             },
             "line": {
              "color": "white"
             }
            },
            "type": "table"
           }
          ]
         },
         "layout": {
          "annotationdefaults": {
           "arrowcolor": "#2a3f5f",
           "arrowhead": 0,
           "arrowwidth": 1
          },
          "autotypenumbers": "strict",
          "coloraxis": {
           "colorbar": {
            "outlinewidth": 0,
            "ticks": ""
           }
          },
          "colorscale": {
           "diverging": [
            [
             0,
             "#8e0152"
            ],
            [
             0.1,
             "#c51b7d"
            ],
            [
             0.2,
             "#de77ae"
            ],
            [
             0.3,
             "#f1b6da"
            ],
            [
             0.4,
             "#fde0ef"
            ],
            [
             0.5,
             "#f7f7f7"
            ],
            [
             0.6,
             "#e6f5d0"
            ],
            [
             0.7,
             "#b8e186"
            ],
            [
             0.8,
             "#7fbc41"
            ],
            [
             0.9,
             "#4d9221"
            ],
            [
             1,
             "#276419"
            ]
           ],
           "sequential": [
            [
             0,
             "#0d0887"
            ],
            [
             0.1111111111111111,
             "#46039f"
            ],
            [
             0.2222222222222222,
             "#7201a8"
            ],
            [
             0.3333333333333333,
             "#9c179e"
            ],
            [
             0.4444444444444444,
             "#bd3786"
            ],
            [
             0.5555555555555556,
             "#d8576b"
            ],
            [
             0.6666666666666666,
             "#ed7953"
            ],
            [
             0.7777777777777778,
             "#fb9f3a"
            ],
            [
             0.8888888888888888,
             "#fdca26"
            ],
            [
             1,
             "#f0f921"
            ]
           ],
           "sequentialminus": [
            [
             0,
             "#0d0887"
            ],
            [
             0.1111111111111111,
             "#46039f"
            ],
            [
             0.2222222222222222,
             "#7201a8"
            ],
            [
             0.3333333333333333,
             "#9c179e"
            ],
            [
             0.4444444444444444,
             "#bd3786"
            ],
            [
             0.5555555555555556,
             "#d8576b"
            ],
            [
             0.6666666666666666,
             "#ed7953"
            ],
            [
             0.7777777777777778,
             "#fb9f3a"
            ],
            [
             0.8888888888888888,
             "#fdca26"
            ],
            [
             1,
             "#f0f921"
            ]
           ]
          },
          "colorway": [
           "#636efa",
           "#EF553B",
           "#00cc96",
           "#ab63fa",
           "#FFA15A",
           "#19d3f3",
           "#FF6692",
           "#B6E880",
           "#FF97FF",
           "#FECB52"
          ],
          "font": {
           "color": "#2a3f5f"
          },
          "geo": {
           "bgcolor": "white",
           "lakecolor": "white",
           "landcolor": "#E5ECF6",
           "showlakes": true,
           "showland": true,
           "subunitcolor": "white"
          },
          "hoverlabel": {
           "align": "left"
          },
          "hovermode": "closest",
          "mapbox": {
           "style": "light"
          },
          "paper_bgcolor": "white",
          "plot_bgcolor": "#E5ECF6",
          "polar": {
           "angularaxis": {
            "gridcolor": "white",
            "linecolor": "white",
            "ticks": ""
           },
           "bgcolor": "#E5ECF6",
           "radialaxis": {
            "gridcolor": "white",
            "linecolor": "white",
            "ticks": ""
           }
          },
          "scene": {
           "xaxis": {
            "backgroundcolor": "#E5ECF6",
            "gridcolor": "white",
            "gridwidth": 2,
            "linecolor": "white",
            "showbackground": true,
            "ticks": "",
            "zerolinecolor": "white"
           },
           "yaxis": {
            "backgroundcolor": "#E5ECF6",
            "gridcolor": "white",
            "gridwidth": 2,
            "linecolor": "white",
            "showbackground": true,
            "ticks": "",
            "zerolinecolor": "white"
           },
           "zaxis": {
            "backgroundcolor": "#E5ECF6",
            "gridcolor": "white",
            "gridwidth": 2,
            "linecolor": "white",
            "showbackground": true,
            "ticks": "",
            "zerolinecolor": "white"
           }
          },
          "shapedefaults": {
           "line": {
            "color": "#2a3f5f"
           }
          },
          "ternary": {
           "aaxis": {
            "gridcolor": "white",
            "linecolor": "white",
            "ticks": ""
           },
           "baxis": {
            "gridcolor": "white",
            "linecolor": "white",
            "ticks": ""
           },
           "bgcolor": "#E5ECF6",
           "caxis": {
            "gridcolor": "white",
            "linecolor": "white",
            "ticks": ""
           }
          },
          "title": {
           "x": 0.05
          },
          "xaxis": {
           "automargin": true,
           "gridcolor": "white",
           "linecolor": "white",
           "ticks": "",
           "title": {
            "standoff": 15
           },
           "zerolinecolor": "white",
           "zerolinewidth": 2
          },
          "yaxis": {
           "automargin": true,
           "gridcolor": "white",
           "linecolor": "white",
           "ticks": "",
           "title": {
            "standoff": 15
           },
           "zerolinecolor": "white",
           "zerolinewidth": 2
          }
         }
        },
        "title": {
         "text": "Nuclear weapons and nuclear material<br>",
         "x": 0.5,
         "xanchor": "center",
         "y": 0.9,
         "yanchor": "top"
        },
        "xaxis": {
         "anchor": "y",
         "autorange": true,
         "domain": [
          0,
          1
         ],
         "range": [
          1943.6677808362826,
          2023.3322191637174
         ],
         "title": {
          "text": "Year"
         },
         "type": "linear"
        },
        "yaxis": {
         "anchor": "x",
         "autorange": true,
         "domain": [
          0,
          1
         ],
         "range": [
          -7.958187591276104,
          110.74020360063868
         ],
         "title": {
          "text": "% Yes"
         },
         "type": "linear"
        }
       }
      },
      "image/png": "[encoded data removed]",
      "text/html": [
       "<div>                            <div id=\"1c8bdf4c-626a-4e60-b2bf-065a903bf447\" class=\"plotly-graph-div\" style=\"height:525px; width:100%;\"></div>            <script type=\"text/javascript\">                require([\"plotly\"], function(Plotly) {                    window.PLOTLYENV=window.PLOTLYENV || {};                                    if (document.getElementById(\"1c8bdf4c-626a-4e60-b2bf-065a903bf447\")) {                    Plotly.newPlot(                        \"1c8bdf4c-626a-4e60-b2bf-065a903bf447\",                        [{\"hovertemplate\":\"Country=Kazakhstan\\u003cbr\\u003ex=%{x}\\u003cbr\\u003ey=%{y}\\u003cextra\\u003e\\u003c\\u002fextra\\u003e\",\"legendgroup\":\"Kazakhstan\",\"marker\":{\"color\":\"#636efa\",\"symbol\":\"circle\"},\"mode\":\"markers\",\"name\":\"Kazakhstan\",\"orientation\":\"v\",\"showlegend\":true,\"x\":[1992,1993,1994,1995,1996,1997,1998,1999,2000,2001,2002,2003,2004,2005,2006,2007,2008,2009,2010,2011,2012,2013,2014,2015,2016,2017,2018,2019],\"xaxis\":\"x\",\"y\":[77.77777777777779,80.0,50.0,72.72727272727273,58.333333333333336,69.23076923076923,63.1578947368421,61.53846153846154,71.42857142857143,71.42857142857143,75.0,73.33333333333333,75.0,75.0,73.33333333333333,73.33333333333333,73.33333333333333,78.94736842105263,100.0,100.0,90.47619047619048,100.0,100.0,100.0,100.0,100.0,100.0,100.0],\"yaxis\":\"y\",\"type\":\"scatter\"},{\"hovertemplate\":\"\\u003cb\\u003eLOWESS trendline\\u003c\\u002fb\\u003e\\u003cbr\\u003e\\u003cbr\\u003eCountry=Kazakhstan\\u003cbr\\u003ex=%{x}\\u003cbr\\u003ey=%{y} \\u003cb\\u003e(trend)\\u003c\\u002fb\\u003e\\u003cextra\\u003e\\u003c\\u002fextra\\u003e\",\"legendgroup\":\"Kazakhstan\",\"marker\":{\"color\":\"#636efa\",\"symbol\":\"circle\"},\"mode\":\"lines\",\"name\":\"Kazakhstan\",\"showlegend\":false,\"x\":[1992,1993,1994,1995,1996,1997,1998,1999,2000,2001,2002,2003,2004,2005,2006,2007,2008,2009,2010,2011,2012,2013,2014,2015,2016,2017,2018,2019],\"xaxis\":\"x\",\"y\":[71.29055545511136,70.92866072478128,70.65605466736683,70.45358242070198,70.29804816817015,70.15914383033329,70.01014026608172,69.83619022740332,69.77623766336735,70.4137571347544,71.28899328358571,72.43132721610513,73.9673541862211,75.85428762354906,78.01756517481793,80.31044252042744,82.6228467159242,84.93526294972973,87.25808612746869,89.6232798016179,91.67728184696287,93.70007701536181,95.70286463182879,97.66370264161577,99.56484544102003,101.39325981518576,103.1408175495906,104.80528404104294],\"yaxis\":\"y\",\"type\":\"scatter\"},{\"hovertemplate\":\"Country=Canada\\u003cbr\\u003ex=%{x}\\u003cbr\\u003ey=%{y}\\u003cextra\\u003e\\u003c\\u002fextra\\u003e\",\"legendgroup\":\"Canada\",\"marker\":{\"color\":\"#EF553B\",\"symbol\":\"circle\"},\"mode\":\"markers\",\"name\":\"Canada\",\"orientation\":\"v\",\"showlegend\":true,\"x\":[1948,1949,1957,1958,1959,1960,1961,1962,1963,1965,1966,1967,1968,1969,1970,1971,1972,1973,1974,1975,1976,1977,1979,1978,1980,1981,1982,1983,1984,1985,1986,1987,1988,1989,1990,1991,1992,1993,1994,1995,1996,1997,1998,1999,2000,2001,2002,2003,2004,2005,2006,2007,2008,2009,2010,2011,2012,2013,2014,2015,2016,2017,2018,2019],\"xaxis\":\"x\",\"y\":[0.0,0.0,66.66666666666666,50.0,88.88888888888889,100.0,37.5,100.0,50.0,100.0,100.0,66.66666666666666,80.0,100.0,100.0,40.0,75.0,100.0,91.66666666666666,83.33333333333334,80.0,80.0,38.88888888888889,73.33333333333333,29.411764705882355,15.789473684210526,26.923076923076923,31.25,32.0,32.0,37.5,40.0,38.095238095238095,40.0,47.05882352941176,36.36363636363637,40.0,40.0,40.0,45.45454545454545,41.66666666666667,61.53846153846154,52.63157894736842,50.0,57.14285714285714,57.14285714285714,55.00000000000001,46.666666666666664,66.66666666666666,56.25,56.25,46.666666666666664,46.666666666666664,57.89473684210527,66.66666666666666,57.89473684210527,66.66666666666666,33.33333333333333,50.0,26.31578947368421,50.0,26.923076923076923,31.25,29.411764705882355],\"yaxis\":\"y\",\"type\":\"scatter\"},{\"hovertemplate\":\"\\u003cb\\u003eLOWESS trendline\\u003c\\u002fb\\u003e\\u003cbr\\u003e\\u003cbr\\u003eCountry=Canada\\u003cbr\\u003ex=%{x}\\u003cbr\\u003ey=%{y} \\u003cb\\u003e(trend)\\u003c\\u002fb\\u003e\\u003cextra\\u003e\\u003c\\u002fextra\\u003e\",\"legendgroup\":\"Canada\",\"marker\":{\"color\":\"#EF553B\",\"symbol\":\"circle\"},\"mode\":\"lines\",\"name\":\"Canada\",\"showlegend\":false,\"x\":[1948,1949,1957,1958,1959,1960,1961,1962,1963,1965,1966,1967,1968,1969,1970,1971,1972,1973,1974,1975,1976,1977,1978,1979,1980,1981,1982,1983,1984,1985,1986,1987,1988,1989,1990,1991,1992,1993,1994,1995,1996,1997,1998,1999,2000,2001,2002,2003,2004,2005,2006,2007,2008,2009,2010,2011,2012,2013,2014,2015,2016,2017,2018,2019],\"xaxis\":\"x\",\"y\":[95.50854274741704,94.73615383035752,87.55796690026239,86.50309622662678,85.40643643330658,84.26897345754278,83.09193196234017,81.87633379135791,80.62459526974398,78.0252869909863,76.68735227080163,75.33060821341246,73.95970880829793,72.58026649238808,71.19851354250407,69.82019934385656,68.45030342783096,66.87852301862965,65.3453277421614,63.993680534958415,62.62894853466572,61.173412635482464,59.4924827842846,57.76413487193003,56.0737300493476,54.433475155469246,52.85686795176068,51.36637460792246,49.976476431956385,48.71185762222317,47.59287357369874,46.633822817726,45.848243680671935,45.250891421538675,44.84924422558697,44.649648778855756,44.663328601056314,44.902338867143094,45.344414182321536,45.94538694224995,46.64597540903122,47.38333061590417,48.092538211950306,48.7146596106869,48.82107226985702,48.784757481898495,48.68738208763239,48.56347783524643,48.42538114910964,48.27735454517625,48.12014880579132,47.95315436779556,47.775215963804534,47.585150282158864,47.38171784022726,47.16319769507245,46.92721593018559,46.670967691159355,46.39135716383657,46.08590881736411,45.75257969526668,45.39018130934508,44.997855798096126,44.57567816350267],\"yaxis\":\"y\",\"type\":\"scatter\"},{\"hovertemplate\":\"Country=China\\u003cbr\\u003ex=%{x}\\u003cbr\\u003ey=%{y}\\u003cextra\\u003e\\u003c\\u002fextra\\u003e\",\"legendgroup\":\"China\",\"marker\":{\"color\":\"#00cc96\",\"symbol\":\"circle\"},\"mode\":\"markers\",\"name\":\"China\",\"orientation\":\"v\",\"showlegend\":true,\"x\":[1971,1972,1973,1974,1975,1976,1977,1979,1978,1980,1981,1982,1983,1984,1985,1986,1987,1988,1989,1990,1991,1992,1993,1994,1995,1996,1997,1998,1999,2000,2001,2002,2003,2004,2005,2006,2007,2008,2009,2010,2011,2012,2013,2014,2015,2016,2017,2018,2019],\"xaxis\":\"x\",\"y\":[0.0,0.0,25.0,66.66666666666666,66.66666666666666,50.0,75.0,91.66666666666666,62.5,84.61538461538461,91.66666666666666,72.22222222222221,64.0,62.5,60.86956521739131,65.21739130434783,63.1578947368421,76.47058823529412,84.21052631578947,81.25,80.0,77.77777777777779,100.0,100.0,80.0,91.66666666666666,100.0,82.35294117647058,71.42857142857143,76.92307692307693,78.57142857142857,77.77777777777779,85.71428571428571,87.5,80.0,87.5,80.0,75.0,83.33333333333334,90.47619047619048,64.70588235294117,70.0,58.333333333333336,71.42857142857143,52.63157894736842,62.5,45.83333333333333,62.5,52.94117647058824],\"yaxis\":\"y\",\"type\":\"scatter\"},{\"hovertemplate\":\"\\u003cb\\u003eLOWESS trendline\\u003c\\u002fb\\u003e\\u003cbr\\u003e\\u003cbr\\u003eCountry=China\\u003cbr\\u003ex=%{x}\\u003cbr\\u003ey=%{y} \\u003cb\\u003e(trend)\\u003c\\u002fb\\u003e\\u003cextra\\u003e\\u003c\\u002fextra\\u003e\",\"legendgroup\":\"China\",\"marker\":{\"color\":\"#00cc96\",\"symbol\":\"circle\"},\"mode\":\"lines\",\"name\":\"China\",\"showlegend\":false,\"x\":[1971,1972,1973,1974,1975,1976,1977,1978,1979,1980,1981,1982,1983,1984,1985,1986,1987,1988,1989,1990,1991,1992,1993,1994,1995,1996,1997,1998,1999,2000,2001,2002,2003,2004,2005,2006,2007,2008,2009,2010,2011,2012,2013,2014,2015,2016,2017,2018,2019],\"xaxis\":\"x\",\"y\":[59.81647635882092,60.73903999648773,61.66179557450073,62.58627948459595,63.51572507352428,64.45312546180762,65.40155693202856,66.36646513120546,67.35284896590396,68.365738471632,69.40784130901626,70.47763351626962,71.5678144654212,72.6646461014099,73.74665777925082,74.780119919861,75.73322847737077,76.55152104412211,77.25452365401385,77.88031731538128,78.45827834355921,79.02496967349137,79.61249253768884,80.22198601020823,80.84883976745856,81.46207991467422,81.99251105843545,82.36026827113679,82.5021924701368,82.39247548699792,82.0243087305857,81.41057888660303,80.57423538235439,79.5528359353367,78.09184251677306,76.61002597258009,75.138835085807,73.67649795886547,72.21613437723788,70.75156090845672,69.27678302349585,67.78610064271861,66.27549454097914,64.74209981975751,63.184361548802904,61.60099200496575,59.99199405720335,58.35810184845029,56.7013990859974],\"yaxis\":\"y\",\"type\":\"scatter\"}],                        {\"template\":{\"data\":{\"histogram2dcontour\":[{\"type\":\"histogram2dcontour\",\"colorbar\":{\"outlinewidth\":0,\"ticks\":\"\"},\"colorscale\":[[0.0,\"#0d0887\"],[0.1111111111111111,\"#46039f\"],[0.2222222222222222,\"#7201a8\"],[0.3333333333333333,\"#9c179e\"],[0.4444444444444444,\"#bd3786\"],[0.5555555555555556,\"#d8576b\"],[0.6666666666666666,\"#ed7953\"],[0.7777777777777778,\"#fb9f3a\"],[0.8888888888888888,\"#fdca26\"],[1.0,\"#f0f921\"]]}],\"choropleth\":[{\"type\":\"choropleth\",\"colorbar\":{\"outlinewidth\":0,\"ticks\":\"\"}}],\"histogram2d\":[{\"type\":\"histogram2d\",\"colorbar\":{\"outlinewidth\":0,\"ticks\":\"\"},\"colorscale\":[[0.0,\"#0d0887\"],[0.1111111111111111,\"#46039f\"],[0.2222222222222222,\"#7201a8\"],[0.3333333333333333,\"#9c179e\"],[0.4444444444444444,\"#bd3786\"],[0.5555555555555556,\"#d8576b\"],[0.6666666666666666,\"#ed7953\"],[0.7777777777777778,\"#fb9f3a\"],[0.8888888888888888,\"#fdca26\"],[1.0,\"#f0f921\"]]}],\"heatmap\":[{\"type\":\"heatmap\",\"colorbar\":{\"outlinewidth\":0,\"ticks\":\"\"},\"colorscale\":[[0.0,\"#0d0887\"],[0.1111111111111111,\"#46039f\"],[0.2222222222222222,\"#7201a8\"],[0.3333333333333333,\"#9c179e\"],[0.4444444444444444,\"#bd3786\"],[0.5555555555555556,\"#d8576b\"],[0.6666666666666666,\"#ed7953\"],[0.7777777777777778,\"#fb9f3a\"],[0.8888888888888888,\"#fdca26\"],[1.0,\"#f0f921\"]]}],\"heatmapgl\":[{\"type\":\"heatmapgl\",\"colorbar\":{\"outlinewidth\":0,\"ticks\":\"\"},\"colorscale\":[[0.0,\"#0d0887\"],[0.1111111111111111,\"#46039f\"],[0.2222222222222222,\"#7201a8\"],[0.3333333333333333,\"#9c179e\"],[0.4444444444444444,\"#bd3786\"],[0.5555555555555556,\"#d8576b\"],[0.6666666666666666,\"#ed7953\"],[0.7777777777777778,\"#fb9f3a\"],[0.8888888888888888,\"#fdca26\"],[1.0,\"#f0f921\"]]}],\"contourcarpet\":[{\"type\":\"contourcarpet\",\"colorbar\":{\"outlinewidth\":0,\"ticks\":\"\"}}],\"contour\":[{\"type\":\"contour\",\"colorbar\":{\"outlinewidth\":0,\"ticks\":\"\"},\"colorscale\":[[0.0,\"#0d0887\"],[0.1111111111111111,\"#46039f\"],[0.2222222222222222,\"#7201a8\"],[0.3333333333333333,\"#9c179e\"],[0.4444444444444444,\"#bd3786\"],[0.5555555555555556,\"#d8576b\"],[0.6666666666666666,\"#ed7953\"],[0.7777777777777778,\"#fb9f3a\"],[0.8888888888888888,\"#fdca26\"],[1.0,\"#f0f921\"]]}],\"surface\":[{\"type\":\"surface\",\"colorbar\":{\"outlinewidth\":0,\"ticks\":\"\"},\"colorscale\":[[0.0,\"#0d0887\"],[0.1111111111111111,\"#46039f\"],[0.2222222222222222,\"#7201a8\"],[0.3333333333333333,\"#9c179e\"],[0.4444444444444444,\"#bd3786\"],[0.5555555555555556,\"#d8576b\"],[0.6666666666666666,\"#ed7953\"],[0.7777777777777778,\"#fb9f3a\"],[0.8888888888888888,\"#fdca26\"],[1.0,\"#f0f921\"]]}],\"mesh3d\":[{\"type\":\"mesh3d\",\"colorbar\":{\"outlinewidth\":0,\"ticks\":\"\"}}],\"scatter\":[{\"fillpattern\":{\"fillmode\":\"overlay\",\"size\":10,\"solidity\":0.2},\"type\":\"scatter\"}],\"parcoords\":[{\"type\":\"parcoords\",\"line\":{\"colorbar\":{\"outlinewidth\":0,\"ticks\":\"\"}}}],\"scatterpolargl\":[{\"type\":\"scatterpolargl\",\"marker\":{\"colorbar\":{\"outlinewidth\":0,\"ticks\":\"\"}}}],\"bar\":[{\"error_x\":{\"color\":\"#2a3f5f\"},\"error_y\":{\"color\":\"#2a3f5f\"},\"marker\":{\"line\":{\"color\":\"#E5ECF6\",\"width\":0.5},\"pattern\":{\"fillmode\":\"overlay\",\"size\":10,\"solidity\":0.2}},\"type\":\"bar\"}],\"scattergeo\":[{\"type\":\"scattergeo\",\"marker\":{\"colorbar\":{\"outlinewidth\":0,\"ticks\":\"\"}}}],\"scatterpolar\":[{\"type\":\"scatterpolar\",\"marker\":{\"colorbar\":{\"outlinewidth\":0,\"ticks\":\"\"}}}],\"histogram\":[{\"marker\":{\"pattern\":{\"fillmode\":\"overlay\",\"size\":10,\"solidity\":0.2}},\"type\":\"histogram\"}],\"scattergl\":[{\"type\":\"scattergl\",\"marker\":{\"colorbar\":{\"outlinewidth\":0,\"ticks\":\"\"}}}],\"scatter3d\":[{\"type\":\"scatter3d\",\"line\":{\"colorbar\":{\"outlinewidth\":0,\"ticks\":\"\"}},\"marker\":{\"colorbar\":{\"outlinewidth\":0,\"ticks\":\"\"}}}],\"scattermapbox\":[{\"type\":\"scattermapbox\",\"marker\":{\"colorbar\":{\"outlinewidth\":0,\"ticks\":\"\"}}}],\"scatterternary\":[{\"type\":\"scatterternary\",\"marker\":{\"colorbar\":{\"outlinewidth\":0,\"ticks\":\"\"}}}],\"scattercarpet\":[{\"type\":\"scattercarpet\",\"marker\":{\"colorbar\":{\"outlinewidth\":0,\"ticks\":\"\"}}}],\"carpet\":[{\"aaxis\":{\"endlinecolor\":\"#2a3f5f\",\"gridcolor\":\"white\",\"linecolor\":\"white\",\"minorgridcolor\":\"white\",\"startlinecolor\":\"#2a3f5f\"},\"baxis\":{\"endlinecolor\":\"#2a3f5f\",\"gridcolor\":\"white\",\"linecolor\":\"white\",\"minorgridcolor\":\"white\",\"startlinecolor\":\"#2a3f5f\"},\"type\":\"carpet\"}],\"table\":[{\"cells\":{\"fill\":{\"color\":\"#EBF0F8\"},\"line\":{\"color\":\"white\"}},\"header\":{\"fill\":{\"color\":\"#C8D4E3\"},\"line\":{\"color\":\"white\"}},\"type\":\"table\"}],\"barpolar\":[{\"marker\":{\"line\":{\"color\":\"#E5ECF6\",\"width\":0.5},\"pattern\":{\"fillmode\":\"overlay\",\"size\":10,\"solidity\":0.2}},\"type\":\"barpolar\"}],\"pie\":[{\"automargin\":true,\"type\":\"pie\"}]},\"layout\":{\"autotypenumbers\":\"strict\",\"colorway\":[\"#636efa\",\"#EF553B\",\"#00cc96\",\"#ab63fa\",\"#FFA15A\",\"#19d3f3\",\"#FF6692\",\"#B6E880\",\"#FF97FF\",\"#FECB52\"],\"font\":{\"color\":\"#2a3f5f\"},\"hovermode\":\"closest\",\"hoverlabel\":{\"align\":\"left\"},\"paper_bgcolor\":\"white\",\"plot_bgcolor\":\"#E5ECF6\",\"polar\":{\"bgcolor\":\"#E5ECF6\",\"angularaxis\":{\"gridcolor\":\"white\",\"linecolor\":\"white\",\"ticks\":\"\"},\"radialaxis\":{\"gridcolor\":\"white\",\"linecolor\":\"white\",\"ticks\":\"\"}},\"ternary\":{\"bgcolor\":\"#E5ECF6\",\"aaxis\":{\"gridcolor\":\"white\",\"linecolor\":\"white\",\"ticks\":\"\"},\"baxis\":{\"gridcolor\":\"white\",\"linecolor\":\"white\",\"ticks\":\"\"},\"caxis\":{\"gridcolor\":\"white\",\"linecolor\":\"white\",\"ticks\":\"\"}},\"coloraxis\":{\"colorbar\":{\"outlinewidth\":0,\"ticks\":\"\"}},\"colorscale\":{\"sequential\":[[0.0,\"#0d0887\"],[0.1111111111111111,\"#46039f\"],[0.2222222222222222,\"#7201a8\"],[0.3333333333333333,\"#9c179e\"],[0.4444444444444444,\"#bd3786\"],[0.5555555555555556,\"#d8576b\"],[0.6666666666666666,\"#ed7953\"],[0.7777777777777778,\"#fb9f3a\"],[0.8888888888888888,\"#fdca26\"],[1.0,\"#f0f921\"]],\"sequentialminus\":[[0.0,\"#0d0887\"],[0.1111111111111111,\"#46039f\"],[0.2222222222222222,\"#7201a8\"],[0.3333333333333333,\"#9c179e\"],[0.4444444444444444,\"#bd3786\"],[0.5555555555555556,\"#d8576b\"],[0.6666666666666666,\"#ed7953\"],[0.7777777777777778,\"#fb9f3a\"],[0.8888888888888888,\"#fdca26\"],[1.0,\"#f0f921\"]],\"diverging\":[[0,\"#8e0152\"],[0.1,\"#c51b7d\"],[0.2,\"#de77ae\"],[0.3,\"#f1b6da\"],[0.4,\"#fde0ef\"],[0.5,\"#f7f7f7\"],[0.6,\"#e6f5d0\"],[0.7,\"#b8e186\"],[0.8,\"#7fbc41\"],[0.9,\"#4d9221\"],[1,\"#276419\"]]},\"xaxis\":{\"gridcolor\":\"white\",\"linecolor\":\"white\",\"ticks\":\"\",\"title\":{\"standoff\":15},\"zerolinecolor\":\"white\",\"automargin\":true,\"zerolinewidth\":2},\"yaxis\":{\"gridcolor\":\"white\",\"linecolor\":\"white\",\"ticks\":\"\",\"title\":{\"standoff\":15},\"zerolinecolor\":\"white\",\"automargin\":true,\"zerolinewidth\":2},\"scene\":{\"xaxis\":{\"backgroundcolor\":\"#E5ECF6\",\"gridcolor\":\"white\",\"linecolor\":\"white\",\"showbackground\":true,\"ticks\":\"\",\"zerolinecolor\":\"white\",\"gridwidth\":2},\"yaxis\":{\"backgroundcolor\":\"#E5ECF6\",\"gridcolor\":\"white\",\"linecolor\":\"white\",\"showbackground\":true,\"ticks\":\"\",\"zerolinecolor\":\"white\",\"gridwidth\":2},\"zaxis\":{\"backgroundcolor\":\"#E5ECF6\",\"gridcolor\":\"white\",\"linecolor\":\"white\",\"showbackground\":true,\"ticks\":\"\",\"zerolinecolor\":\"white\",\"gridwidth\":2}},\"shapedefaults\":{\"line\":{\"color\":\"#2a3f5f\"}},\"annotationdefaults\":{\"arrowcolor\":\"#2a3f5f\",\"arrowhead\":0,\"arrowwidth\":1},\"geo\":{\"bgcolor\":\"white\",\"landcolor\":\"#E5ECF6\",\"subunitcolor\":\"white\",\"showland\":true,\"showlakes\":true,\"lakecolor\":\"white\"},\"title\":{\"x\":0.05},\"mapbox\":{\"style\":\"light\"}}},\"xaxis\":{\"anchor\":\"y\",\"domain\":[0.0,1.0],\"title\":{\"text\":\"Year\"}},\"yaxis\":{\"anchor\":\"x\",\"domain\":[0.0,1.0],\"title\":{\"text\":\"% Yes\"}},\"legend\":{\"title\":{\"text\":\"Country\"},\"tracegroupgap\":0},\"margin\":{\"t\":60},\"title\":{\"text\":\"Nuclear weapons and nuclear material\\u003cbr\\u003e\",\"y\":0.9,\"x\":0.5,\"xanchor\":\"center\",\"yanchor\":\"top\"}},                        {\"responsive\": true}                    ).then(function(){\n",
       "                            \n",
       "var gd = document.getElementById('1c8bdf4c-626a-4e60-b2bf-065a903bf447');\n",
       "var x = new MutationObserver(function (mutations, observer) {{\n",
       "        var display = window.getComputedStyle(gd).display;\n",
       "        if (!display || display === 'none') {{\n",
       "            console.log([gd, 'removed!']);\n",
       "            Plotly.purge(gd);\n",
       "            observer.disconnect();\n",
       "        }}\n",
       "}});\n",
       "\n",
       "// Listen for the removal of the full notebook cells\n",
       "var notebookContainer = gd.closest('#notebook-container');\n",
       "if (notebookContainer) {{\n",
       "    x.observe(notebookContainer, {childList: true});\n",
       "}}\n",
       "\n",
       "// Listen for the clearing of the current output cell\n",
       "var outputEl = gd.closest('.output');\n",
       "if (outputEl) {{\n",
       "    x.observe(outputEl, {childList: true});\n",
       "}}\n",
       "\n",
       "                        })                };                });            </script>        </div>"
      ]
     },
     "metadata": {},
     "output_type": "display_data"
    }
   ],
   "source": [
    "def make_plot(countries,issue):\n",
    "    '''\n",
    "    A Python function that takes in the list of countries and issues and makes\n",
    "    a scatter plot of each issue with a trendline for each country.\n",
    "    '''\n",
    "    x_data = []\n",
    "    y_data = []\n",
    "    c_data = []\n",
    "    for cntry in countries:\n",
    "        my_group = c_groups.get_group((cntry,issue))\n",
    "        for y in my_group['year'].unique():\n",
    "            x_data.append(y)\n",
    "            tot_yes = sum(my_group[my_group['year']==y]['vote']=='yes')\n",
    "            percent_yes = tot_yes/len(my_group[my_group['year']==y])*100\n",
    "            y_data.append(percent_yes)\n",
    "            c_data.append(cntry)\n",
    "\n",
    "    fig = px.scatter(x=x_data, y=y_data,color=c_data,trendline=\"lowess\",labels={\"color\": \"Country\"})\n",
    "\n",
    "    fig.update_layout(\n",
    "        title={\n",
    "            'text': issue + '<br>',\n",
    "            'y':0.9,\n",
    "            'x':0.5,\n",
    "            'xanchor': 'center',\n",
    "            'yanchor': 'top'})\n",
    "    fig.update_yaxes(title_text=\"% Yes\")\n",
    "    fig.update_xaxes(title_text=\"Year\")\n",
    "    fig.show()\n",
    "    \n",
    "for iss in issues:\n",
    "    make_plot(countries,iss)"
   ]
  },
  {
   "cell_type": "markdown",
   "id": "130de118-e079-455c-9eb2-0eff64efca6a",
   "metadata": {},
   "source": [
    "### Problem 3\n",
    "\n",
    "Choose one of the graphs produced above (should match the lecture notes) and discuss what you see there:\n",
    "\n",
    "1. Which issue are you focusing on.\n",
    "2. What do the graph axis represent?\n",
    "3. Say in words how the United States votes have changed over time.\n",
    "4. How do the United States votes compare to the other countries?\n",
    "5. See if you can come up with one or two questions that interest you about the data in the graph."
   ]
  },
  {
   "cell_type": "markdown",
   "id": "de5b34d4-b795-43ac-a6e0-9c66680beb68",
   "metadata": {},
   "source": [
    "1. Nuclear weapons and nuclear material\n",
    "2. The x-axis represents the year, and the y-axis represents the percentage of UN members who voted yes on a given issue\n",
    "3. The United States' interest in the issue peaked around 1970, and since then has slowly progressed downward.\n",
    "4. Turkey seemed to peak around 1975, and has also slowly progressed downward over time, although maintaining a higher percentage overall than the U.S.  The United Kingdom has seen a general decrease in interest over the entirety of the time, lying somewhere between Turkey and the U.S.\n",
    "5. One question may be would be why both Turkey and the United States peak around a similar 5 year span and the United Kingdom's interest decreasing more than usual during that time as well (significant event in Cold War?).  "
   ]
  },
  {
   "cell_type": "markdown",
   "id": "4874978e-edb6-488a-a11e-6dd290b351cc",
   "metadata": {},
   "source": [
    "### Problem 4\n",
    "\n",
    "Now go back up to where we picked our three focus countries and choose some different ones. Rerun the analysis. If you want you could choose more than three countries. \n",
    "\n",
    "Discuss the graph for the same issue but with the new countries."
   ]
  },
  {
   "cell_type": "markdown",
   "id": "ed39a439-8ef9-4d66-9a84-4d1615f971b5",
   "metadata": {},
   "source": [
    "With the 3 countries being Canada, Kazakhstan, and China, one interesting feature of the graph would be absence of Kazakhstan and China in the first half of the graphs due to their creations after 1950.  Another would be the high interest of Kazakhstan on the issue, which correlates correctly to their opposition to nuclear weapons.  China appears to have peaked around 2000, and Canada appears to have decreased since 1950."
   ]
  },
  {
   "cell_type": "markdown",
   "id": "9fcce607-bfda-42a1-a556-a05c424dd6c9",
   "metadata": {},
   "source": [
    "--------------------------------\n",
    "### You are done with the homework... now what?\n",
    "--------------------------------\n",
    "\n",
    "1. Save your changes.\n",
    "2. In the Git tab, **Stage** your changed files - use the (+) button next to the file.\n",
    "3. **Commit** your changes by entering a summary and pushing commit.\n",
    "4. **Push** your changes using the cloud button.\n",
    "5. Check that your changes are on your GitHub repo (online)\n",
    "6. **TAKE THE DAILY QUIZ ON CANVAS** the quiz will ask you to copy and past the HTTPS link to your repo for the day.\n",
    "7. Come to class and get your questions answered.\n",
    "\n",
    "At the end of the week  you will submit your final versions of the homework on Canvas for grading. For this you can just drag and drop the HW.ipynb files into canvas. \n",
    "\n",
    "**IMPORTANT** If this is confusing this first week, don't worry, I can help you and I will be really flexible about these first few deadlines.\n"
   ]
  },
  {
   "cell_type": "code",
   "execution_count": null,
   "id": "f00c8fd3-9713-4a3c-906e-7db71731da15",
   "metadata": {},
   "outputs": [],
   "source": []
  }
 ],
 "metadata": {
  "kernelspec": {
   "display_name": "Python 3 (ipykernel)",
   "language": "python",
   "name": "python3"
  },
  "language_info": {
   "codemirror_mode": {
    "name": "ipython",
    "version": 3
   },
   "file_extension": ".py",
   "mimetype": "text/x-python",
   "name": "python",
   "nbconvert_exporter": "python",
   "pygments_lexer": "ipython3",
   "version": "3.12.2"
  }
 },
 "nbformat": 4,
 "nbformat_minor": 5
}
